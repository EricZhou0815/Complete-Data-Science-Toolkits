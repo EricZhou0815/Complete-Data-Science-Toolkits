{
 "cells": [
  {
   "cell_type": "markdown",
   "metadata": {},
   "source": [
    "## Evaluating Classification Metrics\n",
    "First, we'll try to build a model without cross-validation apply to it. Second, we'll use the same model with applying cross-validation and see if the accuracy score changed or not.\n",
    "\n",
    "### Main contents:\n",
    "### Training and testing on the same data\n",
    "  * Rewards overly complex models that \"overfit\" the training data and won't necessarily generalize\n",
    "#### Train/test split\n",
    "  * Split the dataset into two pieces, so that the model can be trained and tested on different data\n",
    "  * Better estimate of out-of-sample performance, but still a \"high variance\" estimate\n",
    "#### K-fold cross-validation\n",
    "  * Systematically create \"K\" train/test splits and average the results together\n",
    "  * Even better estimate of out-of-sample performance\n",
    "  * Runs \"K\" times slower than train/test split\n",
    "  \n",
    "### Model evaluation metrics\n",
    "##### Classification problems: Classification accuracy\n",
    "  * There are many more metrics, here we'll cover on classification metrics\n",
    "\n",
    "<img style=\"float:left;\" src=\"https://image.slidesharecdn.com/finalcustlingprofiling-160226163538/95/customer-linguistic-profiling-10-638.jpg?cb=1456504658\" width=600 height=300>"
   ]
  },
  {
   "cell_type": "code",
   "execution_count": 2,
   "metadata": {
    "ExecuteTime": {
     "end_time": "2017-11-25T18:02:16.894767Z",
     "start_time": "2017-11-25T18:02:16.890782Z"
    },
    "collapsed": true
   },
   "outputs": [],
   "source": [
    "import warnings\n",
    "warnings.filterwarnings('ignore')"
   ]
  },
  {
   "cell_type": "code",
   "execution_count": 3,
   "metadata": {
    "ExecuteTime": {
     "end_time": "2017-11-25T18:02:17.828265Z",
     "start_time": "2017-11-25T18:02:17.822276Z"
    }
   },
   "outputs": [],
   "source": [
    "# libraries we need\n",
    "import numpy as np\n",
    "from sklearn.datasets import load_iris\n",
    "from sklearn.cross_validation import train_test_split\n",
    "from sklearn.svm import SVC"
   ]
  },
  {
   "cell_type": "code",
   "execution_count": 4,
   "metadata": {
    "ExecuteTime": {
     "end_time": "2017-11-25T18:02:27.573278Z",
     "start_time": "2017-11-25T18:02:27.564287Z"
    }
   },
   "outputs": [
    {
     "name": "stdout",
     "output_type": "stream",
     "text": [
      "(150, 4)\n",
      "(150,)\n"
     ]
    }
   ],
   "source": [
    "# load iris dataset\n",
    "data_holder = load_iris()\n",
    "print(data_holder.data.shape)\n",
    "print(data_holder.target.shape)"
   ]
  },
  {
   "cell_type": "code",
   "execution_count": 5,
   "metadata": {
    "ExecuteTime": {
     "end_time": "2017-11-25T18:02:38.059786Z",
     "start_time": "2017-11-25T18:02:38.056787Z"
    },
    "collapsed": true
   },
   "outputs": [],
   "source": [
    "# set our X and y to data and target values\n",
    "X , y = data_holder.data, data_holder.target"
   ]
  },
  {
   "cell_type": "code",
   "execution_count": 6,
   "metadata": {
    "ExecuteTime": {
     "end_time": "2017-11-25T18:02:51.959796Z",
     "start_time": "2017-11-25T18:02:51.954793Z"
    },
    "collapsed": true
   },
   "outputs": [],
   "source": [
    "# let's split into 70/30: train=70% and test=30%\n",
    "X_train, X_test, y_train, y_test = train_test_split(X, y, test_size= .4, random_state = 0)"
   ]
  },
  {
   "cell_type": "code",
   "execution_count": 7,
   "metadata": {
    "ExecuteTime": {
     "end_time": "2017-11-25T18:03:02.847034Z",
     "start_time": "2017-11-25T18:03:02.838042Z"
    }
   },
   "outputs": [
    {
     "name": "stdout",
     "output_type": "stream",
     "text": [
      "X train shape:  (90, 4)\n",
      "X test shape:  (60, 4)\n",
      "\n",
      "y train shape:  (90,)\n",
      "y test shape:  (60,)\n"
     ]
    }
   ],
   "source": [
    "print(\"X train shape: \", X_train.shape)\n",
    "print(\"X test shape: \", X_test.shape)\n",
    "print()\n",
    "print(\"y train shape: \", y_train.shape)\n",
    "print(\"y test shape: \", y_test.shape)"
   ]
  },
  {
   "cell_type": "code",
   "execution_count": 8,
   "metadata": {
    "ExecuteTime": {
     "end_time": "2017-11-25T18:03:53.718053Z",
     "start_time": "2017-11-25T18:03:53.711066Z"
    },
    "collapsed": true
   },
   "outputs": [],
   "source": [
    "# we'll set it to some parameters, but we'll go through depth on parameter tuning later\n",
    "model = SVC(kernel='linear', C=1)\n",
    "# fit our training data\n",
    "model.fit(X_train, y_train)\n",
    "#let's predict \n",
    "pred = model.predict(X_test)"
   ]
  },
  {
   "cell_type": "markdown",
   "metadata": {},
   "source": [
    "### Accuracy Score\n",
    "Calling the accuracy_score class we can get the score of our model"
   ]
  },
  {
   "cell_type": "code",
   "execution_count": 10,
   "metadata": {
    "ExecuteTime": {
     "end_time": "2017-11-25T18:04:12.841730Z",
     "start_time": "2017-11-25T18:04:12.827703Z"
    }
   },
   "outputs": [
    {
     "data": {
      "text/plain": [
       "0.96666666666666667"
      ]
     },
     "execution_count": 10,
     "metadata": {},
     "output_type": "execute_result"
    }
   ],
   "source": [
    "#accuracy score\n",
    "from sklearn.metrics import accuracy_score\n",
    "accuracy_score(y_test, pred)"
   ]
  },
  {
   "cell_type": "code",
   "execution_count": 11,
   "metadata": {
    "ExecuteTime": {
     "end_time": "2017-11-25T18:05:20.282909Z",
     "start_time": "2017-11-25T18:05:20.279908Z"
    },
    "collapsed": true
   },
   "outputs": [],
   "source": [
    "# let's get our classification report"
   ]
  },
  {
   "cell_type": "markdown",
   "metadata": {},
   "source": [
    "### Classification Metrics\n",
    "Build a text report showing the main classification metrics"
   ]
  },
  {
   "cell_type": "code",
   "execution_count": 12,
   "metadata": {
    "ExecuteTime": {
     "end_time": "2017-11-25T18:05:24.353663Z",
     "start_time": "2017-11-25T18:05:24.347677Z"
    }
   },
   "outputs": [
    {
     "name": "stdout",
     "output_type": "stream",
     "text": [
      "             precision    recall  f1-score   support\n",
      "\n",
      "          0       1.00      1.00      1.00        16\n",
      "          1       0.96      0.96      0.96        23\n",
      "          2       0.95      0.95      0.95        21\n",
      "\n",
      "avg / total       0.97      0.97      0.97        60\n",
      "\n"
     ]
    }
   ],
   "source": [
    "#classification report\n",
    "from sklearn.metrics import classification_report\n",
    "print(classification_report(y_test, pred))"
   ]
  },
  {
   "cell_type": "markdown",
   "metadata": {},
   "source": [
    "### Confusion Matrix\n",
    "A confusion matrix is a table that is often used to describe the performance of a classification model (or \"classifier\") on a set of test data for which the true values are known."
   ]
  },
  {
   "cell_type": "code",
   "execution_count": 13,
   "metadata": {
    "ExecuteTime": {
     "end_time": "2017-11-25T18:07:54.803282Z",
     "start_time": "2017-11-25T18:07:54.796278Z"
    }
   },
   "outputs": [
    {
     "name": "stdout",
     "output_type": "stream",
     "text": [
      "[[16  0  0]\n",
      " [ 0 22  1]\n",
      " [ 0  1 20]]\n"
     ]
    }
   ],
   "source": [
    "#confusion matrix\n",
    "from sklearn.metrics import confusion_matrix\n",
    "print(confusion_matrix(y_test, pred))"
   ]
  },
  {
   "cell_type": "code",
   "execution_count": null,
   "metadata": {
    "collapsed": true
   },
   "outputs": [],
   "source": []
  },
  {
   "cell_type": "code",
   "execution_count": null,
   "metadata": {
    "collapsed": true
   },
   "outputs": [],
   "source": []
  }
 ],
 "metadata": {
  "kernelspec": {
   "display_name": "Python 3",
   "language": "python",
   "name": "python3"
  },
  "language_info": {
   "codemirror_mode": {
    "name": "ipython",
    "version": 3
   },
   "file_extension": ".py",
   "mimetype": "text/x-python",
   "name": "python",
   "nbconvert_exporter": "python",
   "pygments_lexer": "ipython3",
   "version": "3.6.3"
  },
  "toc": {
   "nav_menu": {},
   "number_sections": true,
   "sideBar": true,
   "skip_h1_title": false,
   "toc_cell": false,
   "toc_position": {},
   "toc_section_display": "block",
   "toc_window_display": false
  }
 },
 "nbformat": 4,
 "nbformat_minor": 2
}

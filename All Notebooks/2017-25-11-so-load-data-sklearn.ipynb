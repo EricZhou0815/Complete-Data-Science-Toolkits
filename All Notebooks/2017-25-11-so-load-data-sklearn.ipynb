{
 "cells": [
  {
   "cell_type": "markdown",
   "metadata": {},
   "source": [
    "## Loading Data in Sklearn\n",
    "You can load your data from different formats or you can use build on data from sklearn\n"
   ]
  },
  {
   "cell_type": "code",
   "execution_count": 7,
   "metadata": {
    "ExecuteTime": {
     "end_time": "2017-11-25T18:38:09.039305Z",
     "start_time": "2017-11-25T18:38:09.033299Z"
    },
    "collapsed": true
   },
   "outputs": [],
   "source": [
    "# we can just create random data\n",
    "import numpy as np \n",
    "X = np.random.random((11,5))\n",
    "y = np.array(['M','M','F','F','M','F','M','M','F','F','F'])\n",
    "X[X < 0.7] = 0"
   ]
  },
  {
   "cell_type": "code",
   "execution_count": 8,
   "metadata": {
    "ExecuteTime": {
     "end_time": "2017-11-25T18:38:09.796528Z",
     "start_time": "2017-11-25T18:38:09.791544Z"
    },
    "collapsed": true
   },
   "outputs": [],
   "source": [
    "#use model selection to split our data\n",
    "from sklearn.model_selection import train_test_split\n",
    "X_train, X_test, y_train, y_test = train_test_split(X, y, random_state=0)\n"
   ]
  },
  {
   "cell_type": "code",
   "execution_count": 10,
   "metadata": {
    "ExecuteTime": {
     "end_time": "2017-11-25T18:38:17.529999Z",
     "start_time": "2017-11-25T18:38:17.524011Z"
    }
   },
   "outputs": [
    {
     "data": {
      "text/plain": [
       "(8, 5)"
      ]
     },
     "execution_count": 10,
     "metadata": {},
     "output_type": "execute_result"
    }
   ],
   "source": [
    "X_train.shape"
   ]
  },
  {
   "cell_type": "code",
   "execution_count": 14,
   "metadata": {
    "ExecuteTime": {
     "end_time": "2017-11-25T18:38:53.205953Z",
     "start_time": "2017-11-25T18:38:53.199962Z"
    }
   },
   "outputs": [
    {
     "data": {
      "text/plain": [
       "(3, 5)"
      ]
     },
     "execution_count": 14,
     "metadata": {},
     "output_type": "execute_result"
    }
   ],
   "source": [
    "X_test.shape"
   ]
  },
  {
   "cell_type": "code",
   "execution_count": 12,
   "metadata": {
    "ExecuteTime": {
     "end_time": "2017-11-25T18:38:35.606842Z",
     "start_time": "2017-11-25T18:38:35.600856Z"
    }
   },
   "outputs": [
    {
     "data": {
      "text/plain": [
       "(8,)"
      ]
     },
     "execution_count": 12,
     "metadata": {},
     "output_type": "execute_result"
    }
   ],
   "source": [
    "y_train.shape"
   ]
  },
  {
   "cell_type": "code",
   "execution_count": 13,
   "metadata": {
    "ExecuteTime": {
     "end_time": "2017-11-25T18:38:43.888486Z",
     "start_time": "2017-11-25T18:38:43.882495Z"
    }
   },
   "outputs": [
    {
     "data": {
      "text/plain": [
       "(3,)"
      ]
     },
     "execution_count": 13,
     "metadata": {},
     "output_type": "execute_result"
    }
   ],
   "source": [
    "y_test.shape"
   ]
  },
  {
   "cell_type": "markdown",
   "metadata": {
    "ExecuteTime": {
     "end_time": "2017-11-25T18:39:12.554789Z",
     "start_time": "2017-11-25T18:39:12.550799Z"
    }
   },
   "source": [
    "### using datasets from sklearn"
   ]
  },
  {
   "cell_type": "code",
   "execution_count": 17,
   "metadata": {
    "ExecuteTime": {
     "end_time": "2017-11-25T18:39:52.494616Z",
     "start_time": "2017-11-25T18:39:52.491634Z"
    },
    "collapsed": true
   },
   "outputs": [],
   "source": [
    "import sklearn.datasets as data"
   ]
  },
  {
   "cell_type": "code",
   "execution_count": 22,
   "metadata": {
    "ExecuteTime": {
     "end_time": "2017-11-25T18:41:03.702444Z",
     "start_time": "2017-11-25T18:41:03.686441Z"
    },
    "collapsed": true
   },
   "outputs": [],
   "source": [
    "data??"
   ]
  },
  {
   "cell_type": "code",
   "execution_count": 25,
   "metadata": {
    "ExecuteTime": {
     "end_time": "2017-11-25T18:41:43.307933Z",
     "start_time": "2017-11-25T18:41:43.301937Z"
    }
   },
   "outputs": [
    {
     "data": {
      "text/plain": [
       "['clear_data_home',\n",
       " 'dump_svmlight_file',\n",
       " 'fetch_20newsgroups',\n",
       " 'fetch_20newsgroups_vectorized',\n",
       " 'fetch_lfw_pairs',\n",
       " 'fetch_lfw_people',\n",
       " 'fetch_mldata',\n",
       " 'fetch_olivetti_faces',\n",
       " 'fetch_species_distributions',\n",
       " 'fetch_california_housing',\n",
       " 'fetch_covtype',\n",
       " 'fetch_rcv1',\n",
       " 'fetch_kddcup99',\n",
       " 'get_data_home',\n",
       " 'load_boston',\n",
       " 'load_diabetes',\n",
       " 'load_digits',\n",
       " 'load_files',\n",
       " 'load_iris',\n",
       " 'load_breast_cancer',\n",
       " 'load_linnerud',\n",
       " 'load_mlcomp',\n",
       " 'load_sample_image',\n",
       " 'load_sample_images',\n",
       " 'load_svmlight_file',\n",
       " 'load_svmlight_files',\n",
       " 'load_wine',\n",
       " 'make_biclusters',\n",
       " 'make_blobs',\n",
       " 'make_circles',\n",
       " 'make_classification',\n",
       " 'make_checkerboard',\n",
       " 'make_friedman1',\n",
       " 'make_friedman2',\n",
       " 'make_friedman3',\n",
       " 'make_gaussian_quantiles',\n",
       " 'make_hastie_10_2',\n",
       " 'make_low_rank_matrix',\n",
       " 'make_moons',\n",
       " 'make_multilabel_classification',\n",
       " 'make_regression',\n",
       " 'make_s_curve',\n",
       " 'make_sparse_coded_signal',\n",
       " 'make_sparse_spd_matrix',\n",
       " 'make_sparse_uncorrelated',\n",
       " 'make_spd_matrix',\n",
       " 'make_swiss_roll',\n",
       " 'mldata_filename']"
      ]
     },
     "execution_count": 25,
     "metadata": {},
     "output_type": "execute_result"
    }
   ],
   "source": [
    "# print all datasets\n",
    "data.__all__ "
   ]
  },
  {
   "cell_type": "code",
   "execution_count": 21,
   "metadata": {
    "ExecuteTime": {
     "end_time": "2017-11-25T18:40:57.284634Z",
     "start_time": "2017-11-25T18:40:57.272627Z"
    },
    "collapsed": true
   },
   "outputs": [],
   "source": [
    "# we can get all of this data\n",
    "from sklearn.datasets import load_breast_cancer\n",
    "from sklearn.datasets import load_boston\n",
    "from sklearn.datasets import load_diabetes\n",
    "from sklearn.datasets import load_digits\n",
    "from sklearn.datasets import load_files\n",
    "from sklearn.datasets import load_iris\n",
    "from sklearn.datasets import load_linnerud\n",
    "from sklearn.datasets import load_sample_images\n",
    "from sklearn.datasets import load_sample_image\n",
    "from sklearn.datasets import load_wine"
   ]
  },
  {
   "cell_type": "code",
   "execution_count": 33,
   "metadata": {
    "ExecuteTime": {
     "end_time": "2017-11-25T18:44:03.702348Z",
     "start_time": "2017-11-25T18:44:03.677350Z"
    }
   },
   "outputs": [
    {
     "name": "stdout",
     "output_type": "stream",
     "text": [
      "load_breast_cancer (569, 30)\n",
      "load_breast_cancer (569,)\n"
     ]
    }
   ],
   "source": [
    "lbc = load_breast_cancer()\n",
    "print(\"load_breast_cancer\", lbc.data.shape)\n",
    "print(\"load_breast_cancer\", lbc.target.shape)"
   ]
  },
  {
   "cell_type": "code",
   "execution_count": 35,
   "metadata": {
    "ExecuteTime": {
     "end_time": "2017-11-25T18:44:39.468155Z",
     "start_time": "2017-11-25T18:44:39.454145Z"
    }
   },
   "outputs": [
    {
     "name": "stdout",
     "output_type": "stream",
     "text": [
      "load_boston:  (506, 13)\n",
      "load_boston:  (506,)\n"
     ]
    }
   ],
   "source": [
    "lb = load_boston()\n",
    "print(\"load_boston: \", lb.data.shape)\n",
    "print(\"load_boston: \", lb.target.shape)"
   ]
  },
  {
   "cell_type": "code",
   "execution_count": 36,
   "metadata": {
    "ExecuteTime": {
     "end_time": "2017-11-25T18:44:39.959111Z",
     "start_time": "2017-11-25T18:44:39.823885Z"
    }
   },
   "outputs": [
    {
     "name": "stdout",
     "output_type": "stream",
     "text": [
      "load_digits:  (1797, 64)\n",
      "load_digits:  (1797,)\n"
     ]
    }
   ],
   "source": [
    "ld = load_digits()\n",
    "print(\"load_digits: \", ld.data.shape)\n",
    "print(\"load_digits: \", ld.target.shape)"
   ]
  },
  {
   "cell_type": "code",
   "execution_count": 37,
   "metadata": {
    "ExecuteTime": {
     "end_time": "2017-11-25T18:45:04.153211Z",
     "start_time": "2017-11-25T18:45:04.144219Z"
    }
   },
   "outputs": [
    {
     "name": "stdout",
     "output_type": "stream",
     "text": [
      "load_iris:  (150, 4)\n",
      "load_iris:  (150,)\n"
     ]
    }
   ],
   "source": [
    "lr = load_iris()\n",
    "print(\"load_iris: \", lr.data.shape)\n",
    "print(\"load_iris: \", lr.target.shape)"
   ]
  },
  {
   "cell_type": "markdown",
   "metadata": {},
   "source": [
    "you can do more with it..."
   ]
  },
  {
   "cell_type": "code",
   "execution_count": null,
   "metadata": {
    "collapsed": true
   },
   "outputs": [],
   "source": []
  }
 ],
 "metadata": {
  "kernelspec": {
   "display_name": "Python 3",
   "language": "python",
   "name": "python3"
  },
  "language_info": {
   "codemirror_mode": {
    "name": "ipython",
    "version": 3
   },
   "file_extension": ".py",
   "mimetype": "text/x-python",
   "name": "python",
   "nbconvert_exporter": "python",
   "pygments_lexer": "ipython3",
   "version": "3.6.3"
  },
  "toc": {
   "nav_menu": {},
   "number_sections": true,
   "sideBar": true,
   "skip_h1_title": false,
   "toc_cell": false,
   "toc_position": {},
   "toc_section_display": "block",
   "toc_window_display": false
  }
 },
 "nbformat": 4,
 "nbformat_minor": 2
}

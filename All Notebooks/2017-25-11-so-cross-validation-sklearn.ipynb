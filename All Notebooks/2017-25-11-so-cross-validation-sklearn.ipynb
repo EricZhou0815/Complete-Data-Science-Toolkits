{
 "cells": [
  {
   "cell_type": "markdown",
   "metadata": {},
   "source": [
    "## Cross Validation\n",
    "First, we'll try to build a model without cross-validation apply to it. Second, we'll use the same model with applying cross-validation and see if the accuracy score changed or not.\n",
    "\n",
    "### Main contents:\n",
    "* Build Support-Vector-Machine without cross-validation\n",
    "* Apply the same model with cross-validation\n",
    "\n",
    "Note! We'll cover the metrics scores later\n",
    "\n",
    "<img style=\"float:left;\" src=\"https://cdn-images-1.medium.com/max/1600/1*J2B_bcbd1-s1kpWOu_FZrg.png\" width=700 height=300>"
   ]
  },
  {
   "cell_type": "code",
   "execution_count": 1,
   "metadata": {
    "ExecuteTime": {
     "end_time": "2017-11-25T17:34:26.119875Z",
     "start_time": "2017-11-25T17:34:26.113870Z"
    },
    "collapsed": true
   },
   "outputs": [],
   "source": [
    "# libraries we need\n",
    "import numpy as np\n",
    "from sklearn.datasets import load_iris\n",
    "from sklearn.cross_validation import train_test_split\n",
    "from sklearn.svm import SVC"
   ]
  },
  {
   "cell_type": "code",
   "execution_count": 4,
   "metadata": {
    "ExecuteTime": {
     "end_time": "2017-11-25T17:36:35.158846Z",
     "start_time": "2017-11-25T17:36:35.149853Z"
    }
   },
   "outputs": [
    {
     "name": "stdout",
     "output_type": "stream",
     "text": [
      "(150, 4)\n",
      "(150,)\n"
     ]
    }
   ],
   "source": [
    "# load iris dataset\n",
    "data_holder = load_iris()\n",
    "print(data_holder.data.shape)\n",
    "print(data_holder.target.shape)"
   ]
  },
  {
   "cell_type": "code",
   "execution_count": 6,
   "metadata": {
    "ExecuteTime": {
     "end_time": "2017-11-25T17:37:12.771328Z",
     "start_time": "2017-11-25T17:37:12.768325Z"
    },
    "collapsed": true
   },
   "outputs": [],
   "source": [
    "# set our X and y to data and target values\n",
    "X , y = data_holder.data, data_holder.target"
   ]
  },
  {
   "cell_type": "code",
   "execution_count": 13,
   "metadata": {
    "ExecuteTime": {
     "end_time": "2017-11-25T17:43:54.009602Z",
     "start_time": "2017-11-25T17:43:54.004617Z"
    },
    "collapsed": true
   },
   "outputs": [],
   "source": [
    "# split our data into train and test sets\n",
    "# let's split into 70/30: train=70% and test=30%\n",
    "X_train, X_test, y_train, y_test = train_test_split(X, y, test_size= .4, random_state = 0)"
   ]
  },
  {
   "cell_type": "code",
   "execution_count": 22,
   "metadata": {
    "ExecuteTime": {
     "end_time": "2017-11-25T18:03:10.307277Z",
     "start_time": "2017-11-25T18:03:10.300274Z"
    }
   },
   "outputs": [
    {
     "name": "stdout",
     "output_type": "stream",
     "text": [
      "X train shape:  (90, 4)\n",
      "X test shape:  (60, 4)\n",
      "\n",
      "y train shape:  (90,)\n",
      "y test shape:  (60,)\n"
     ]
    }
   ],
   "source": [
    "print(\"X train shape: \", X_train.shape)\n",
    "print(\"X test shape: \", X_test.shape)\n",
    "print()\n",
    "print(\"y train shape: \", y_train.shape)\n",
    "print(\"y test shape: \", y_test.shape)"
   ]
  },
  {
   "cell_type": "code",
   "execution_count": 16,
   "metadata": {
    "ExecuteTime": {
     "end_time": "2017-11-25T17:44:09.193938Z",
     "start_time": "2017-11-25T17:44:09.185934Z"
    }
   },
   "outputs": [
    {
     "name": "stdout",
     "output_type": "stream",
     "text": [
      "Score:  0.966666666667\n"
     ]
    }
   ],
   "source": [
    "# let's fit into our model, svc\n",
    "# we'll set it to some parameters, but we'll go through depth on parameter tuning later\n",
    "model = SVC(kernel='linear', C=1)\n",
    "# fit our training data\n",
    "model.fit(X_train, y_train)\n",
    "# print how our model is doing\n",
    "print(\"Score: \", model.score(X_test, y_test))"
   ]
  },
  {
   "cell_type": "markdown",
   "metadata": {},
   "source": [
    "As you can see our model scores 96% on our training data, we'll try to boost that accuracy score higher.\n",
    "\n",
    "### Computing cross-validated \n",
    "The simplest way to use cross-validation is to call the cross_val_score helper function on the estimator and the dataset."
   ]
  },
  {
   "cell_type": "code",
   "execution_count": 20,
   "metadata": {
    "ExecuteTime": {
     "end_time": "2017-11-25T17:51:08.004391Z",
     "start_time": "2017-11-25T17:51:07.986377Z"
    },
    "collapsed": true,
    "scrolled": true
   },
   "outputs": [],
   "source": [
    "# call cross-validation library\n",
    "from sklearn.model_selection import cross_val_score\n",
    "model = SVC(kernel='linear', C=1)\n",
    "\n",
    "# let's try it using cv\n",
    "scores = cross_val_score(model, X, y, cv=5)"
   ]
  },
  {
   "cell_type": "markdown",
   "metadata": {},
   "source": [
    "#### Evaluate Model\n",
    "Here is the output of our 5 KFold cross validation. Each value is the accuracy score of the support vector classifier when leaving out a different fold. There are three values because there are three folds. A higher accuracy score, the better."
   ]
  },
  {
   "cell_type": "code",
   "execution_count": 19,
   "metadata": {
    "ExecuteTime": {
     "end_time": "2017-11-25T17:51:04.881236Z",
     "start_time": "2017-11-25T17:51:04.875247Z"
    }
   },
   "outputs": [
    {
     "data": {
      "text/plain": [
       "array([ 0.96666667,  1.        ,  0.96666667,  0.96666667,  1.        ])"
      ]
     },
     "execution_count": 19,
     "metadata": {},
     "output_type": "execute_result"
    }
   ],
   "source": [
    "scores"
   ]
  },
  {
   "cell_type": "markdown",
   "metadata": {},
   "source": [
    "To get an good measure of the model's accuracy, we calculate the mean of the three scores. This is our measure of model accuracy."
   ]
  },
  {
   "cell_type": "code",
   "execution_count": 18,
   "metadata": {
    "ExecuteTime": {
     "end_time": "2017-11-25T17:48:57.262779Z",
     "start_time": "2017-11-25T17:48:57.257790Z"
    }
   },
   "outputs": [
    {
     "name": "stdout",
     "output_type": "stream",
     "text": [
      "Accuracy using CV:  0.98\n"
     ]
    }
   ],
   "source": [
    "# print mean score\n",
    "print(\"Accuracy using CV: \", scores.mean())"
   ]
  },
  {
   "cell_type": "markdown",
   "metadata": {
    "ExecuteTime": {
     "end_time": "2017-11-25T17:52:04.844415Z",
     "start_time": "2017-11-25T17:52:04.839431Z"
    }
   },
   "source": [
    "## I'll be updating more on this section!"
   ]
  },
  {
   "cell_type": "code",
   "execution_count": null,
   "metadata": {
    "collapsed": true
   },
   "outputs": [],
   "source": []
  }
 ],
 "metadata": {
  "kernelspec": {
   "display_name": "Python 3",
   "language": "python",
   "name": "python3"
  },
  "language_info": {
   "codemirror_mode": {
    "name": "ipython",
    "version": 3
   },
   "file_extension": ".py",
   "mimetype": "text/x-python",
   "name": "python",
   "nbconvert_exporter": "python",
   "pygments_lexer": "ipython3",
   "version": "3.6.3"
  },
  "toc": {
   "nav_menu": {},
   "number_sections": true,
   "sideBar": true,
   "skip_h1_title": false,
   "toc_cell": false,
   "toc_position": {},
   "toc_section_display": "block",
   "toc_window_display": false
  }
 },
 "nbformat": 4,
 "nbformat_minor": 2
}

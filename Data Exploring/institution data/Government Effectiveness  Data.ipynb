{
 "cells": [
  {
   "cell_type": "code",
   "execution_count": 99,
   "metadata": {
    "ExecuteTime": {
     "end_time": "2017-12-27T15:45:41.022815Z",
     "start_time": "2017-12-27T15:45:41.011790Z"
    }
   },
   "outputs": [],
   "source": [
    "import warnings\n",
    "warnings.filterwarnings('ignore')\n",
    "import numpy as np\n",
    "import pandas as pd\n",
    "import seaborn as sns\n",
    "import matplotlib.pyplot as plt\n",
    "%matplotlib inline\n",
    "\n",
    "# Some sklearn libraries "
   ]
  },
  {
   "cell_type": "code",
   "execution_count": 100,
   "metadata": {
    "ExecuteTime": {
     "end_time": "2017-12-27T15:45:41.779161Z",
     "start_time": "2017-12-27T15:45:41.757144Z"
    }
   },
   "outputs": [],
   "source": [
    "gov_data = pd.read_csv('data/government_effectiveness.csv', parse_dates=['Year'])"
   ]
  },
  {
   "cell_type": "code",
   "execution_count": 101,
   "metadata": {
    "ExecuteTime": {
     "end_time": "2017-12-27T15:45:42.506908Z",
     "start_time": "2017-12-27T15:45:42.488908Z"
    }
   },
   "outputs": [
    {
     "data": {
      "text/html": [
       "<div>\n",
       "<style>\n",
       "    .dataframe thead tr:only-child th {\n",
       "        text-align: right;\n",
       "    }\n",
       "\n",
       "    .dataframe thead th {\n",
       "        text-align: left;\n",
       "    }\n",
       "\n",
       "    .dataframe tbody tr th {\n",
       "        vertical-align: top;\n",
       "    }\n",
       "</style>\n",
       "<table border=\"1\" class=\"dataframe\">\n",
       "  <thead>\n",
       "    <tr style=\"text-align: right;\">\n",
       "      <th></th>\n",
       "      <th>Year</th>\n",
       "      <th>Country Name</th>\n",
       "      <th>Government Effectiveness: Estimate</th>\n",
       "      <th>Government Effectiveness: Number of Sources</th>\n",
       "      <th>Government Effectiveness: Percentile Rank</th>\n",
       "      <th>Government Effectiveness: Percentile Rank, Lower Bound of 90% Confidence Interval</th>\n",
       "      <th>Government Effectiveness: Percentile Rank, Upper Bound of 90% Confidence Interval</th>\n",
       "      <th>Government Effectiveness: Standard Error</th>\n",
       "    </tr>\n",
       "  </thead>\n",
       "  <tbody>\n",
       "    <tr>\n",
       "      <th>0</th>\n",
       "      <td>1996-01-01</td>\n",
       "      <td>Afghanistan</td>\n",
       "      <td>-2.175167</td>\n",
       "      <td>1.0</td>\n",
       "      <td>0.0</td>\n",
       "      <td>0.0</td>\n",
       "      <td>1.639344</td>\n",
       "      <td>0.187618</td>\n",
       "    </tr>\n",
       "    <tr>\n",
       "      <th>1</th>\n",
       "      <td>1998-01-01</td>\n",
       "      <td>Afghanistan</td>\n",
       "      <td>-2.135942</td>\n",
       "      <td>1.0</td>\n",
       "      <td>0.0</td>\n",
       "      <td>0.0</td>\n",
       "      <td>2.590674</td>\n",
       "      <td>0.310279</td>\n",
       "    </tr>\n",
       "    <tr>\n",
       "      <th>2</th>\n",
       "      <td>2000-01-01</td>\n",
       "      <td>Afghanistan</td>\n",
       "      <td>-2.231651</td>\n",
       "      <td>1.0</td>\n",
       "      <td>0.0</td>\n",
       "      <td>0.0</td>\n",
       "      <td>2.564103</td>\n",
       "      <td>0.343066</td>\n",
       "    </tr>\n",
       "  </tbody>\n",
       "</table>\n",
       "</div>"
      ],
      "text/plain": [
       "        Year Country Name  Government Effectiveness: Estimate  \\\n",
       "0 1996-01-01  Afghanistan                           -2.175167   \n",
       "1 1998-01-01  Afghanistan                           -2.135942   \n",
       "2 2000-01-01  Afghanistan                           -2.231651   \n",
       "\n",
       "   Government Effectiveness: Number of Sources  \\\n",
       "0                                          1.0   \n",
       "1                                          1.0   \n",
       "2                                          1.0   \n",
       "\n",
       "   Government Effectiveness: Percentile Rank  \\\n",
       "0                                        0.0   \n",
       "1                                        0.0   \n",
       "2                                        0.0   \n",
       "\n",
       "   Government Effectiveness: Percentile Rank, Lower Bound of 90% Confidence Interval  \\\n",
       "0                                                0.0                                   \n",
       "1                                                0.0                                   \n",
       "2                                                0.0                                   \n",
       "\n",
       "   Government Effectiveness: Percentile Rank, Upper Bound of 90% Confidence Interval  \\\n",
       "0                                           1.639344                                   \n",
       "1                                           2.590674                                   \n",
       "2                                           2.564103                                   \n",
       "\n",
       "   Government Effectiveness: Standard Error  \n",
       "0                                  0.187618  \n",
       "1                                  0.310279  \n",
       "2                                  0.343066  "
      ]
     },
     "execution_count": 101,
     "metadata": {},
     "output_type": "execute_result"
    }
   ],
   "source": [
    "gov_data.head(3)"
   ]
  },
  {
   "cell_type": "code",
   "execution_count": 102,
   "metadata": {
    "ExecuteTime": {
     "end_time": "2017-12-27T15:45:43.132533Z",
     "start_time": "2017-12-27T15:45:43.122526Z"
    }
   },
   "outputs": [
    {
     "name": "stdout",
     "output_type": "stream",
     "text": [
      "<class 'pandas.core.frame.DataFrame'>\n",
      "RangeIndex: 3852 entries, 0 to 3851\n",
      "Data columns (total 8 columns):\n",
      "Year                                                                                 3852 non-null datetime64[ns]\n",
      "Country Name                                                                         3852 non-null object\n",
      "Government Effectiveness: Estimate                                                   3680 non-null float64\n",
      "Government Effectiveness: Number of Sources                                          3680 non-null float64\n",
      "Government Effectiveness: Percentile Rank                                            3680 non-null float64\n",
      "Government Effectiveness: Percentile Rank, Lower Bound of 90% Confidence Interval    3680 non-null float64\n",
      "Government Effectiveness: Percentile Rank, Upper Bound of 90% Confidence Interval    3680 non-null float64\n",
      "Government Effectiveness: Standard Error                                             3680 non-null float64\n",
      "dtypes: datetime64[ns](1), float64(6), object(1)\n",
      "memory usage: 240.8+ KB\n"
     ]
    }
   ],
   "source": [
    "gov_data.info()"
   ]
  },
  {
   "cell_type": "code",
   "execution_count": 103,
   "metadata": {
    "ExecuteTime": {
     "end_time": "2017-12-27T15:45:44.949624Z",
     "start_time": "2017-12-27T15:45:44.750695Z"
    }
   },
   "outputs": [
    {
     "data": {
      "text/plain": [
       "<matplotlib.axes._subplots.AxesSubplot at 0x1e8d6870390>"
      ]
     },
     "execution_count": 103,
     "metadata": {},
     "output_type": "execute_result"
    },
    {
     "data": {
      "image/png": "[encoded data removed]",
      "text/plain": [
       "<matplotlib.figure.Figure at 0x1e8d692b550>"
      ]
     },
     "metadata": {},
     "output_type": "display_data"
    }
   ],
   "source": [
    "sns.heatmap(gov_data.isnull(), yticklabels=False, cbar=False, cmap='viridis')"
   ]
  },
  {
   "cell_type": "code",
   "execution_count": 104,
   "metadata": {
    "ExecuteTime": {
     "end_time": "2017-12-27T15:45:46.858662Z",
     "start_time": "2017-12-27T15:45:46.852654Z"
    }
   },
   "outputs": [
    {
     "data": {
      "text/plain": [
       "Index(['Year', 'Country Name', 'Government Effectiveness: Estimate',\n",
       "       'Government Effectiveness: Number of Sources',\n",
       "       'Government Effectiveness: Percentile Rank',\n",
       "       'Government Effectiveness: Percentile Rank, Lower Bound of 90% Confidence Interval',\n",
       "       'Government Effectiveness: Percentile Rank, Upper Bound of 90% Confidence Interval',\n",
       "       'Government Effectiveness: Standard Error'],\n",
       "      dtype='object')"
      ]
     },
     "execution_count": 104,
     "metadata": {},
     "output_type": "execute_result"
    }
   ],
   "source": [
    "gov_data.columns"
   ]
  },
  {
   "cell_type": "code",
   "execution_count": 105,
   "metadata": {
    "ExecuteTime": {
     "end_time": "2017-12-27T15:45:48.463445Z",
     "start_time": "2017-12-27T15:45:48.458461Z"
    },
    "collapsed": true
   },
   "outputs": [],
   "source": [
    "copy_gov = gov_data.copy()"
   ]
  },
  {
   "cell_type": "code",
   "execution_count": 106,
   "metadata": {
    "ExecuteTime": {
     "end_time": "2017-12-27T15:45:48.933901Z",
     "start_time": "2017-12-27T15:45:48.927897Z"
    }
   },
   "outputs": [],
   "source": [
    "copy_gov = copy_gov.rename(columns={'Government Effectiveness: Estimate': 'GE: Estimate',\n",
    "                         'Government Effectiveness: Number of Sources': 'GE: Number of Sources',\n",
    "                         'Government Effectiveness: Percentile Rank': 'GE: Percentile Rank',\n",
    "                         'Government Effectiveness: Percentile Rank, Lower Bound of 90% Confidence Interval': 'GE: Lower Bound 90%',\n",
    "                         'Government Effectiveness: Percentile Rank, Upper Bound of 90% Confidence Interval': 'GE: Upper Bound 90%',\n",
    "                         'Government Effectiveness: Standard Error': 'GE: Standard Error'})"
   ]
  },
  {
   "cell_type": "code",
   "execution_count": 107,
   "metadata": {
    "ExecuteTime": {
     "end_time": "2017-12-27T15:45:54.417536Z",
     "start_time": "2017-12-27T15:45:54.403522Z"
    }
   },
   "outputs": [
    {
     "data": {
      "text/html": [
       "<div>\n",
       "<style>\n",
       "    .dataframe thead tr:only-child th {\n",
       "        text-align: right;\n",
       "    }\n",
       "\n",
       "    .dataframe thead th {\n",
       "        text-align: left;\n",
       "    }\n",
       "\n",
       "    .dataframe tbody tr th {\n",
       "        vertical-align: top;\n",
       "    }\n",
       "</style>\n",
       "<table border=\"1\" class=\"dataframe\">\n",
       "  <thead>\n",
       "    <tr style=\"text-align: right;\">\n",
       "      <th></th>\n",
       "      <th>Year</th>\n",
       "      <th>Country Name</th>\n",
       "      <th>GE: Estimate</th>\n",
       "      <th>GE: Number of Sources</th>\n",
       "      <th>GE: Percentile Rank</th>\n",
       "      <th>GE: Lower Bound 90%</th>\n",
       "      <th>GE: Upper Bound 90%</th>\n",
       "      <th>GE: Standard Error</th>\n",
       "    </tr>\n",
       "  </thead>\n",
       "  <tbody>\n",
       "    <tr>\n",
       "      <th>0</th>\n",
       "      <td>1996-01-01</td>\n",
       "      <td>Afghanistan</td>\n",
       "      <td>-2.175167</td>\n",
       "      <td>1.0</td>\n",
       "      <td>0.000000</td>\n",
       "      <td>0.000000</td>\n",
       "      <td>1.639344</td>\n",
       "      <td>0.187618</td>\n",
       "    </tr>\n",
       "    <tr>\n",
       "      <th>1</th>\n",
       "      <td>1998-01-01</td>\n",
       "      <td>Afghanistan</td>\n",
       "      <td>-2.135942</td>\n",
       "      <td>1.0</td>\n",
       "      <td>0.000000</td>\n",
       "      <td>0.000000</td>\n",
       "      <td>2.590674</td>\n",
       "      <td>0.310279</td>\n",
       "    </tr>\n",
       "    <tr>\n",
       "      <th>2</th>\n",
       "      <td>2000-01-01</td>\n",
       "      <td>Afghanistan</td>\n",
       "      <td>-2.231651</td>\n",
       "      <td>1.0</td>\n",
       "      <td>0.000000</td>\n",
       "      <td>0.000000</td>\n",
       "      <td>2.564103</td>\n",
       "      <td>0.343066</td>\n",
       "    </tr>\n",
       "    <tr>\n",
       "      <th>3</th>\n",
       "      <td>2002-01-01</td>\n",
       "      <td>Afghanistan</td>\n",
       "      <td>-1.567973</td>\n",
       "      <td>2.0</td>\n",
       "      <td>2.040816</td>\n",
       "      <td>0.000000</td>\n",
       "      <td>9.183674</td>\n",
       "      <td>0.262548</td>\n",
       "    </tr>\n",
       "    <tr>\n",
       "      <th>4</th>\n",
       "      <td>2003-01-01</td>\n",
       "      <td>Afghanistan</td>\n",
       "      <td>-1.082488</td>\n",
       "      <td>2.0</td>\n",
       "      <td>11.734694</td>\n",
       "      <td>1.530612</td>\n",
       "      <td>32.142857</td>\n",
       "      <td>0.306744</td>\n",
       "    </tr>\n",
       "  </tbody>\n",
       "</table>\n",
       "</div>"
      ],
      "text/plain": [
       "        Year Country Name  GE: Estimate  GE: Number of Sources  \\\n",
       "0 1996-01-01  Afghanistan     -2.175167                    1.0   \n",
       "1 1998-01-01  Afghanistan     -2.135942                    1.0   \n",
       "2 2000-01-01  Afghanistan     -2.231651                    1.0   \n",
       "3 2002-01-01  Afghanistan     -1.567973                    2.0   \n",
       "4 2003-01-01  Afghanistan     -1.082488                    2.0   \n",
       "\n",
       "   GE: Percentile Rank  GE: Lower Bound 90%  GE: Upper Bound 90%  \\\n",
       "0             0.000000             0.000000             1.639344   \n",
       "1             0.000000             0.000000             2.590674   \n",
       "2             0.000000             0.000000             2.564103   \n",
       "3             2.040816             0.000000             9.183674   \n",
       "4            11.734694             1.530612            32.142857   \n",
       "\n",
       "   GE: Standard Error  \n",
       "0            0.187618  \n",
       "1            0.310279  \n",
       "2            0.343066  \n",
       "3            0.262548  \n",
       "4            0.306744  "
      ]
     },
     "execution_count": 107,
     "metadata": {},
     "output_type": "execute_result"
    }
   ],
   "source": [
    "copy_gov.head()"
   ]
  },
  {
   "cell_type": "code",
   "execution_count": 125,
   "metadata": {
    "ExecuteTime": {
     "end_time": "2017-12-27T15:51:01.199731Z",
     "start_time": "2017-12-27T15:51:01.190725Z"
    },
    "collapsed": true
   },
   "outputs": [],
   "source": [
    "Africa_countries = [\"Angola\", \"Gabon\", \"Nigeria\", \"Benin\", \"Gambia, The\", \"Rwanda\", \"Guinea-Bissau\",\"Botswana\", \n",
    "       \"Ghana\", \"São Tomé and Principe\", \"Burkina Faso\", \"Guinea\", \"Senegal\", \"Burundi\", \"Seychelles\", \n",
    "       \"Cabo Verde\", \"Kenya\", \"Sierra Leone\", \"Cameroon\", \"Lesotho\", \"Somalia\", \"Central African Republic\", \n",
    "       \"Liberia\", \"South Africa\", \"Chad\", \"Madagascar\", \"Comoros\", \"Malawi\", \"Sudan\", \"Congo, Dem. Rep.\", \n",
    "       \"Mali\", \"Swaziland\", \"Congo, Rep\", \"Mauritania\", \"Tanzania\", \"Côte d'Ivoire\", \"Mauritius\", \"Togo\", \n",
    "       \"Equatorial Guinea\", \"Mozambique\", \"Uganda\", \"Eritrea\" \"Namibia\", \"Zambia\", \"Ethiopia\", \"Niger\", \"Zimbabwe\"]\n",
    "copy_gov = copy_gov[copy_gov['Country Name'].isin(Africa_countries)]"
   ]
  },
  {
   "cell_type": "code",
   "execution_count": 126,
   "metadata": {
    "ExecuteTime": {
     "end_time": "2017-12-27T15:51:08.288552Z",
     "start_time": "2017-12-27T15:51:08.271540Z"
    }
   },
   "outputs": [
    {
     "data": {
      "text/html": [
       "<div>\n",
       "<style>\n",
       "    .dataframe thead tr:only-child th {\n",
       "        text-align: right;\n",
       "    }\n",
       "\n",
       "    .dataframe thead th {\n",
       "        text-align: left;\n",
       "    }\n",
       "\n",
       "    .dataframe tbody tr th {\n",
       "        vertical-align: top;\n",
       "    }\n",
       "</style>\n",
       "<table border=\"1\" class=\"dataframe\">\n",
       "  <thead>\n",
       "    <tr style=\"text-align: right;\">\n",
       "      <th></th>\n",
       "      <th>Year</th>\n",
       "      <th>Country Name</th>\n",
       "      <th>GE: Estimate</th>\n",
       "      <th>GE: Number of Sources</th>\n",
       "      <th>GE: Percentile Rank</th>\n",
       "      <th>GE: Lower Bound 90%</th>\n",
       "      <th>GE: Upper Bound 90%</th>\n",
       "      <th>GE: Standard Error</th>\n",
       "    </tr>\n",
       "  </thead>\n",
       "  <tbody>\n",
       "    <tr>\n",
       "      <th>90</th>\n",
       "      <td>1996-01-01</td>\n",
       "      <td>Angola</td>\n",
       "      <td>-0.859940</td>\n",
       "      <td>3.0</td>\n",
       "      <td>21.311476</td>\n",
       "      <td>12.021858</td>\n",
       "      <td>33.333332</td>\n",
       "      <td>0.173904</td>\n",
       "    </tr>\n",
       "    <tr>\n",
       "      <th>91</th>\n",
       "      <td>1998-01-01</td>\n",
       "      <td>Angola</td>\n",
       "      <td>-1.341783</td>\n",
       "      <td>5.0</td>\n",
       "      <td>5.699482</td>\n",
       "      <td>2.590674</td>\n",
       "      <td>13.989637</td>\n",
       "      <td>0.203155</td>\n",
       "    </tr>\n",
       "    <tr>\n",
       "      <th>92</th>\n",
       "      <td>2000-01-01</td>\n",
       "      <td>Angola</td>\n",
       "      <td>-1.462310</td>\n",
       "      <td>5.0</td>\n",
       "      <td>3.589744</td>\n",
       "      <td>2.051282</td>\n",
       "      <td>10.256411</td>\n",
       "      <td>0.211237</td>\n",
       "    </tr>\n",
       "    <tr>\n",
       "      <th>93</th>\n",
       "      <td>2002-01-01</td>\n",
       "      <td>Angola</td>\n",
       "      <td>-1.238857</td>\n",
       "      <td>6.0</td>\n",
       "      <td>8.163265</td>\n",
       "      <td>2.040816</td>\n",
       "      <td>13.775510</td>\n",
       "      <td>0.186934</td>\n",
       "    </tr>\n",
       "    <tr>\n",
       "      <th>94</th>\n",
       "      <td>2003-01-01</td>\n",
       "      <td>Angola</td>\n",
       "      <td>-1.156531</td>\n",
       "      <td>7.0</td>\n",
       "      <td>9.183674</td>\n",
       "      <td>3.571429</td>\n",
       "      <td>18.877550</td>\n",
       "      <td>0.177603</td>\n",
       "    </tr>\n",
       "  </tbody>\n",
       "</table>\n",
       "</div>"
      ],
      "text/plain": [
       "         Year Country Name  GE: Estimate  GE: Number of Sources  \\\n",
       "90 1996-01-01       Angola     -0.859940                    3.0   \n",
       "91 1998-01-01       Angola     -1.341783                    5.0   \n",
       "92 2000-01-01       Angola     -1.462310                    5.0   \n",
       "93 2002-01-01       Angola     -1.238857                    6.0   \n",
       "94 2003-01-01       Angola     -1.156531                    7.0   \n",
       "\n",
       "    GE: Percentile Rank  GE: Lower Bound 90%  GE: Upper Bound 90%  \\\n",
       "90            21.311476            12.021858            33.333332   \n",
       "91             5.699482             2.590674            13.989637   \n",
       "92             3.589744             2.051282            10.256411   \n",
       "93             8.163265             2.040816            13.775510   \n",
       "94             9.183674             3.571429            18.877550   \n",
       "\n",
       "    GE: Standard Error  \n",
       "90            0.173904  \n",
       "91            0.203155  \n",
       "92            0.211237  \n",
       "93            0.186934  \n",
       "94            0.177603  "
      ]
     },
     "execution_count": 126,
     "metadata": {},
     "output_type": "execute_result"
    }
   ],
   "source": [
    "copy_gov.head()"
   ]
  },
  {
   "cell_type": "code",
   "execution_count": 198,
   "metadata": {
    "ExecuteTime": {
     "end_time": "2017-12-27T16:17:27.755071Z",
     "start_time": "2017-12-27T16:17:27.749082Z"
    },
    "collapsed": true
   },
   "outputs": [],
   "source": [
    "def mean_estimate(df, country):\n",
    "    df[df['Country Name'] == country].mean()\n",
    "    return df"
   ]
  },
  {
   "cell_type": "code",
   "execution_count": 200,
   "metadata": {
    "ExecuteTime": {
     "end_time": "2017-12-27T16:17:40.644920Z",
     "start_time": "2017-12-27T16:17:40.641918Z"
    }
   },
   "outputs": [],
   "source": [
    "#mean_estimate(copy_gov, \"Somalia\")"
   ]
  },
  {
   "cell_type": "code",
   "execution_count": 193,
   "metadata": {
    "ExecuteTime": {
     "end_time": "2017-12-27T16:16:16.798229Z",
     "start_time": "2017-12-27T16:16:16.790219Z"
    }
   },
   "outputs": [],
   "source": [
    "holder = copy_gov[copy_gov['Country Name'] == 'Somalia'].mean()"
   ]
  },
  {
   "cell_type": "code",
   "execution_count": 201,
   "metadata": {
    "ExecuteTime": {
     "end_time": "2017-12-27T16:20:14.197195Z",
     "start_time": "2017-12-27T16:20:14.190689Z"
    }
   },
   "outputs": [
    {
     "data": {
      "text/plain": [
       "GE: Estimate            -2.140949\n",
       "GE: Number of Sources    5.333333\n",
       "GE: Percentile Rank      0.399803\n",
       "GE: Lower Bound 90%      0.028345\n",
       "GE: Upper Bound 90%      1.410370\n",
       "GE: Standard Error       0.229954\n",
       "dtype: float64"
      ]
     },
     "execution_count": 201,
     "metadata": {},
     "output_type": "execute_result"
    }
   ],
   "source": [
    "holder"
   ]
  },
  {
   "cell_type": "code",
   "execution_count": null,
   "metadata": {
    "collapsed": true
   },
   "outputs": [],
   "source": []
  },
  {
   "cell_type": "code",
   "execution_count": 188,
   "metadata": {
    "ExecuteTime": {
     "end_time": "2017-12-27T16:04:48.955791Z",
     "start_time": "2017-12-27T16:04:48.944784Z"
    }
   },
   "outputs": [
    {
     "data": {
      "text/plain": [
       "True   -571.176463\n",
       "Name: GE: Estimate, dtype: float64"
      ]
     },
     "execution_count": 188,
     "metadata": {},
     "output_type": "execute_result"
    }
   ],
   "source": [
    "#mask = copy_gov['Country Name'] == \"Somalia\" \n",
    "copy_gov.groupby(lambda x: x != 'Somalia')['GE: Estimate'].sum()"
   ]
  },
  {
   "cell_type": "code",
   "execution_count": null,
   "metadata": {
    "collapsed": true
   },
   "outputs": [],
   "source": []
  },
  {
   "cell_type": "code",
   "execution_count": null,
   "metadata": {
    "collapsed": true
   },
   "outputs": [],
   "source": []
  }
 ],
 "metadata": {
  "kernelspec": {
   "display_name": "Python 3",
   "language": "python",
   "name": "python3"
  },
  "language_info": {
   "codemirror_mode": {
    "name": "ipython",
    "version": 3
   },
   "file_extension": ".py",
   "mimetype": "text/x-python",
   "name": "python",
   "nbconvert_exporter": "python",
   "pygments_lexer": "ipython3",
   "version": "3.6.3"
  },
  "latex_envs": {
   "LaTeX_envs_menu_present": true,
   "autoclose": false,
   "autocomplete": true,
   "bibliofile": "biblio.bib",
   "cite_by": "apalike",
   "current_citInitial": 1,
   "eqLabelWithNumbers": true,
   "eqNumInitial": 1,
   "hotkeys": {
    "equation": "Ctrl-E",
    "itemize": "Ctrl-I"
   },
   "labels_anchors": false,
   "latex_user_defs": false,
   "report_style_numbering": false,
   "user_envs_cfg": false
  },
  "nbTranslate": {
   "displayLangs": [
    "*"
   ],
   "hotkey": "alt-t",
   "langInMainMenu": true,
   "sourceLang": "en",
   "targetLang": "fr",
   "useGoogleTranslate": true
  },
  "toc": {
   "nav_menu": {},
   "number_sections": true,
   "sideBar": true,
   "skip_h1_title": false,
   "toc_cell": false,
   "toc_position": {},
   "toc_section_display": "block",
   "toc_window_display": false
  },
  "varInspector": {
   "cols": {
    "lenName": 16,
    "lenType": 16,
    "lenVar": 40
   },
   "kernels_config": {
    "python": {
     "delete_cmd_postfix": "",
     "delete_cmd_prefix": "del ",
     "library": "var_list.py",
     "varRefreshCmd": "print(var_dic_list())"
    },
    "r": {
     "delete_cmd_postfix": ") ",
     "delete_cmd_prefix": "rm(",
     "library": "var_list.r",
     "varRefreshCmd": "cat(var_dic_list()) "
    }
   },
   "types_to_exclude": [
    "module",
    "function",
    "builtin_function_or_method",
    "instance",
    "_Feature"
   ],
   "window_display": false
  }
 },
 "nbformat": 4,
 "nbformat_minor": 2
}

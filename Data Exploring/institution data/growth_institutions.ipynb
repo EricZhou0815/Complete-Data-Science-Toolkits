{
 "cells": [
  {
   "cell_type": "code",
   "execution_count": null,
   "metadata": {
    "code_folding": [],
    "collapsed": true
   },
   "outputs": [],
   "source": [
    "# Overall goal is to load the 4 disparate datasets and merge them into one\n",
    "# then I need to create regions column for comparison and analysis\n",
    "# then I need to come up with a road map on what we can do with the data"
   ]
  },
  {
   "cell_type": "code",
   "execution_count": 2,
   "metadata": {
    "ExecuteTime": {
     "end_time": "2017-12-31T22:51:11.398893Z",
     "start_time": "2017-12-31T22:50:56.219215Z"
    },
    "hide_input": false
   },
   "outputs": [],
   "source": [
    "import pandas as pd\n",
    "import seaborn as sns\n",
    "import matplotlib.pyplot as plt\n",
    "import sys\n",
    "import warnings\n",
    "warnings.filterwarnings('ignore')\n",
    "from IPython.display import display\n"
   ]
  },
  {
   "cell_type": "code",
   "execution_count": 3,
   "metadata": {
    "ExecuteTime": {
     "end_time": "2017-12-31T22:51:22.301684Z",
     "start_time": "2017-12-31T22:51:22.295680Z"
    }
   },
   "outputs": [],
   "source": [
    "# create directory\n",
    "\n",
    "# import pathlib\n",
    "# path = pathlib.Path(r'C:\\Users\\Mohamed Ahmed Warsam\\Desktop\\Material\\WORKING DIRECTORY\\Governance_Growth').mkdir(parents=True, # exist_ok=True) \n",
    "\n",
    "#import os\n",
    "#path = os.chdir(r'C:\\Users\\Mohamed Ahmed Warsam\\Desktop\\PythonScripts')\n",
    "datapath1 = 'data/p4v2016.xls'\n",
    "datapath2 = 'gdp_per_capita.xlsx'"
   ]
  },
  {
   "cell_type": "code",
   "execution_count": 4,
   "metadata": {
    "ExecuteTime": {
     "end_time": "2017-12-31T22:51:26.444830Z",
     "start_time": "2017-12-31T22:51:24.099532Z"
    }
   },
   "outputs": [],
   "source": [
    "# load the two dataframes\n",
    "\n",
    "data1 = pd.read_excel(datapath1, sheetname=0)\n",
    "data2 = pd.read_excel(datapath2, sheetname=0)\n"
   ]
  },
  {
   "cell_type": "code",
   "execution_count": 5,
   "metadata": {
    "ExecuteTime": {
     "end_time": "2017-12-31T22:51:28.703965Z",
     "start_time": "2017-12-31T22:51:28.668443Z"
    }
   },
   "outputs": [
    {
     "data": {
      "text/html": [
       "<div>\n",
       "<style>\n",
       "    .dataframe thead tr:only-child th {\n",
       "        text-align: right;\n",
       "    }\n",
       "\n",
       "    .dataframe thead th {\n",
       "        text-align: left;\n",
       "    }\n",
       "\n",
       "    .dataframe tbody tr th {\n",
       "        vertical-align: top;\n",
       "    }\n",
       "</style>\n",
       "<table border=\"1\" class=\"dataframe\">\n",
       "  <thead>\n",
       "    <tr style=\"text-align: right;\">\n",
       "      <th></th>\n",
       "      <th>cyear</th>\n",
       "      <th>ccode</th>\n",
       "      <th>scode</th>\n",
       "      <th>country</th>\n",
       "      <th>year</th>\n",
       "      <th>flag</th>\n",
       "      <th>fragment</th>\n",
       "      <th>democ</th>\n",
       "      <th>autoc</th>\n",
       "      <th>polity</th>\n",
       "      <th>...</th>\n",
       "      <th>interim</th>\n",
       "      <th>bmonth</th>\n",
       "      <th>bday</th>\n",
       "      <th>byear</th>\n",
       "      <th>bprec</th>\n",
       "      <th>post</th>\n",
       "      <th>change</th>\n",
       "      <th>d4</th>\n",
       "      <th>sf</th>\n",
       "      <th>regtrans</th>\n",
       "    </tr>\n",
       "  </thead>\n",
       "  <tbody>\n",
       "    <tr>\n",
       "      <th>0</th>\n",
       "      <td>7001800</td>\n",
       "      <td>700</td>\n",
       "      <td>AFG</td>\n",
       "      <td>Afghanistan</td>\n",
       "      <td>1800</td>\n",
       "      <td>0</td>\n",
       "      <td>NaN</td>\n",
       "      <td>1</td>\n",
       "      <td>7</td>\n",
       "      <td>-6</td>\n",
       "      <td>...</td>\n",
       "      <td>NaN</td>\n",
       "      <td>1.0</td>\n",
       "      <td>1.0</td>\n",
       "      <td>1800.0</td>\n",
       "      <td>1.0</td>\n",
       "      <td>-6.0</td>\n",
       "      <td>88.0</td>\n",
       "      <td>1.0</td>\n",
       "      <td>NaN</td>\n",
       "      <td>NaN</td>\n",
       "    </tr>\n",
       "    <tr>\n",
       "      <th>1</th>\n",
       "      <td>7001801</td>\n",
       "      <td>700</td>\n",
       "      <td>AFG</td>\n",
       "      <td>Afghanistan</td>\n",
       "      <td>1801</td>\n",
       "      <td>0</td>\n",
       "      <td>NaN</td>\n",
       "      <td>1</td>\n",
       "      <td>7</td>\n",
       "      <td>-6</td>\n",
       "      <td>...</td>\n",
       "      <td>NaN</td>\n",
       "      <td>NaN</td>\n",
       "      <td>NaN</td>\n",
       "      <td>NaN</td>\n",
       "      <td>NaN</td>\n",
       "      <td>NaN</td>\n",
       "      <td>NaN</td>\n",
       "      <td>NaN</td>\n",
       "      <td>NaN</td>\n",
       "      <td>NaN</td>\n",
       "    </tr>\n",
       "    <tr>\n",
       "      <th>2</th>\n",
       "      <td>7001802</td>\n",
       "      <td>700</td>\n",
       "      <td>AFG</td>\n",
       "      <td>Afghanistan</td>\n",
       "      <td>1802</td>\n",
       "      <td>0</td>\n",
       "      <td>NaN</td>\n",
       "      <td>1</td>\n",
       "      <td>7</td>\n",
       "      <td>-6</td>\n",
       "      <td>...</td>\n",
       "      <td>NaN</td>\n",
       "      <td>NaN</td>\n",
       "      <td>NaN</td>\n",
       "      <td>NaN</td>\n",
       "      <td>NaN</td>\n",
       "      <td>NaN</td>\n",
       "      <td>NaN</td>\n",
       "      <td>NaN</td>\n",
       "      <td>NaN</td>\n",
       "      <td>NaN</td>\n",
       "    </tr>\n",
       "    <tr>\n",
       "      <th>3</th>\n",
       "      <td>7001803</td>\n",
       "      <td>700</td>\n",
       "      <td>AFG</td>\n",
       "      <td>Afghanistan</td>\n",
       "      <td>1803</td>\n",
       "      <td>0</td>\n",
       "      <td>NaN</td>\n",
       "      <td>1</td>\n",
       "      <td>7</td>\n",
       "      <td>-6</td>\n",
       "      <td>...</td>\n",
       "      <td>NaN</td>\n",
       "      <td>NaN</td>\n",
       "      <td>NaN</td>\n",
       "      <td>NaN</td>\n",
       "      <td>NaN</td>\n",
       "      <td>NaN</td>\n",
       "      <td>NaN</td>\n",
       "      <td>NaN</td>\n",
       "      <td>NaN</td>\n",
       "      <td>NaN</td>\n",
       "    </tr>\n",
       "    <tr>\n",
       "      <th>4</th>\n",
       "      <td>7001804</td>\n",
       "      <td>700</td>\n",
       "      <td>AFG</td>\n",
       "      <td>Afghanistan</td>\n",
       "      <td>1804</td>\n",
       "      <td>0</td>\n",
       "      <td>NaN</td>\n",
       "      <td>1</td>\n",
       "      <td>7</td>\n",
       "      <td>-6</td>\n",
       "      <td>...</td>\n",
       "      <td>NaN</td>\n",
       "      <td>NaN</td>\n",
       "      <td>NaN</td>\n",
       "      <td>NaN</td>\n",
       "      <td>NaN</td>\n",
       "      <td>NaN</td>\n",
       "      <td>NaN</td>\n",
       "      <td>NaN</td>\n",
       "      <td>NaN</td>\n",
       "      <td>NaN</td>\n",
       "    </tr>\n",
       "  </tbody>\n",
       "</table>\n",
       "<p>5 rows × 36 columns</p>\n",
       "</div>"
      ],
      "text/plain": [
       "     cyear  ccode scode      country  year  flag  fragment  democ  autoc  \\\n",
       "0  7001800    700   AFG  Afghanistan  1800     0       NaN      1      7   \n",
       "1  7001801    700   AFG  Afghanistan  1801     0       NaN      1      7   \n",
       "2  7001802    700   AFG  Afghanistan  1802     0       NaN      1      7   \n",
       "3  7001803    700   AFG  Afghanistan  1803     0       NaN      1      7   \n",
       "4  7001804    700   AFG  Afghanistan  1804     0       NaN      1      7   \n",
       "\n",
       "   polity    ...     interim  bmonth  bday   byear  bprec  post  change   d4  \\\n",
       "0      -6    ...         NaN     1.0   1.0  1800.0    1.0  -6.0    88.0  1.0   \n",
       "1      -6    ...         NaN     NaN   NaN     NaN    NaN   NaN     NaN  NaN   \n",
       "2      -6    ...         NaN     NaN   NaN     NaN    NaN   NaN     NaN  NaN   \n",
       "3      -6    ...         NaN     NaN   NaN     NaN    NaN   NaN     NaN  NaN   \n",
       "4      -6    ...         NaN     NaN   NaN     NaN    NaN   NaN     NaN  NaN   \n",
       "\n",
       "   sf  regtrans  \n",
       "0 NaN       NaN  \n",
       "1 NaN       NaN  \n",
       "2 NaN       NaN  \n",
       "3 NaN       NaN  \n",
       "4 NaN       NaN  \n",
       "\n",
       "[5 rows x 36 columns]"
      ]
     },
     "metadata": {},
     "output_type": "display_data"
    },
    {
     "data": {
      "text/html": [
       "<div>\n",
       "<style>\n",
       "    .dataframe thead tr:only-child th {\n",
       "        text-align: right;\n",
       "    }\n",
       "\n",
       "    .dataframe thead th {\n",
       "        text-align: left;\n",
       "    }\n",
       "\n",
       "    .dataframe tbody tr th {\n",
       "        vertical-align: top;\n",
       "    }\n",
       "</style>\n",
       "<table border=\"1\" class=\"dataframe\">\n",
       "  <thead>\n",
       "    <tr style=\"text-align: right;\">\n",
       "      <th></th>\n",
       "      <th>Country</th>\n",
       "      <th>Currency</th>\n",
       "      <th>Year</th>\n",
       "      <th>Per capita GDP</th>\n",
       "    </tr>\n",
       "  </thead>\n",
       "  <tbody>\n",
       "    <tr>\n",
       "      <th>0</th>\n",
       "      <td>Afghanistan</td>\n",
       "      <td>US$</td>\n",
       "      <td>1970</td>\n",
       "      <td>157.258461</td>\n",
       "    </tr>\n",
       "    <tr>\n",
       "      <th>1</th>\n",
       "      <td>Afghanistan</td>\n",
       "      <td>US$</td>\n",
       "      <td>1971</td>\n",
       "      <td>160.443153</td>\n",
       "    </tr>\n",
       "    <tr>\n",
       "      <th>2</th>\n",
       "      <td>Afghanistan</td>\n",
       "      <td>US$</td>\n",
       "      <td>1972</td>\n",
       "      <td>136.175612</td>\n",
       "    </tr>\n",
       "    <tr>\n",
       "      <th>3</th>\n",
       "      <td>Afghanistan</td>\n",
       "      <td>US$</td>\n",
       "      <td>1973</td>\n",
       "      <td>144.173945</td>\n",
       "    </tr>\n",
       "    <tr>\n",
       "      <th>4</th>\n",
       "      <td>Afghanistan</td>\n",
       "      <td>US$</td>\n",
       "      <td>1974</td>\n",
       "      <td>175.027098</td>\n",
       "    </tr>\n",
       "  </tbody>\n",
       "</table>\n",
       "</div>"
      ],
      "text/plain": [
       "       Country Currency  Year  Per capita GDP\n",
       "0  Afghanistan      US$  1970      157.258461\n",
       "1  Afghanistan      US$  1971      160.443153\n",
       "2  Afghanistan      US$  1972      136.175612\n",
       "3  Afghanistan      US$  1973      144.173945\n",
       "4  Afghanistan      US$  1974      175.027098"
      ]
     },
     "metadata": {},
     "output_type": "display_data"
    }
   ],
   "source": [
    "# display the two dataframes\n",
    "\n",
    "display(data1.head())\n",
    "display(data2.head())"
   ]
  },
  {
   "cell_type": "code",
   "execution_count": 6,
   "metadata": {
    "ExecuteTime": {
     "end_time": "2017-12-31T22:51:30.991615Z",
     "start_time": "2017-12-31T22:51:30.986610Z"
    }
   },
   "outputs": [],
   "source": [
    "# Motivation for paper is to show there was a change at some point in the mid 1990s\n",
    "# load the polity IV data (PolityIV.xlsx) spanning 1970 to now and the GDP per capita (gdp_per_capita.xlsx)\n",
    "# merge the data and group by region column and use mean method to get\n",
    "# 1) mean democracy score plotted with average gdp per capita to replicate the chart in Green (2013)\n",
    "# remember that some countries and years have nan values\n",
    "# strategy to overcome this is to first create a list where the polity variables are notnull\n",
    "# and then use the index attribute to select the Year column for those rows to subset the dataframe in this way\n",
    "\n"
   ]
  },
  {
   "cell_type": "code",
   "execution_count": 7,
   "metadata": {
    "ExecuteTime": {
     "end_time": "2017-12-31T22:51:32.757290Z",
     "start_time": "2017-12-31T22:51:32.747283Z"
    }
   },
   "outputs": [],
   "source": [
    "# first define the year and region lists\n",
    "\n",
    "timerange1 = [1970, 1971, 1972, 1973, 1974, 1975, 1976, 1977, 1978, 1979, 1980, 1981, 1982, 1983, 1984, 1985, 1986, 1987, 1988, 1989, 1990, 1991, 1992, 1993, 1994, 1995, 1996, 1997, 1998, 2000, 2001, 2002, 2003, 2004, 2005, 2006, 2007,\n",
    "            2008, 2009, 2010, 2011, 2012, 2013, 2013, 2014, 2015]\n",
    "\n"
   ]
  },
  {
   "cell_type": "code",
   "execution_count": 8,
   "metadata": {
    "ExecuteTime": {
     "end_time": "2017-12-31T22:51:33.297585Z",
     "start_time": "2017-12-31T22:51:33.290079Z"
    }
   },
   "outputs": [],
   "source": [
    "# first define the year and region lists\n",
    "\n",
    "# filter dataset by region - Africa\n",
    "\n",
    "SSA1 = [\"Angola\", \"Gabon\", \"Nigeria\", \"Benin\", \"Gambia, The\", \"Rwanda\", \"Guinea-Bissau\",\n",
    "   \"Botswana\", \"Ghana\", \"São Tomé and Principe\", \"Burkina Faso\", \"Guinea\", \"Senegal\", \"Burundi\", \"Seychelles\", \"Cabo Verde\", \"Kenya\", \"Sierra Leone\", \"Cameroon\", \"Lesotho\", \"Somalia\", \"Central African Republic\", \"Liberia\", \"South Africa\", \"Chad\", \"Madagascar\", \"Comoros\", \"Malawi\", \"Sudan\", \"Congo, Dem. Rep.\", \"Mali\", \"Swaziland\", \"Congo, Rep\", \"Mauritania\", \"Tanzania\", \"Côte d'Ivoire\", \"Mauritius\", \"Togo\", \"Equatorial Guinea\", \"Mozambique\", \"Uganda\", \"Eritrea\" \"Namibia\", \"Zambia\", \"Ethiopia\", \"Niger\", \"Zimbabwe\"]\n",
    "\n"
   ]
  },
  {
   "cell_type": "code",
   "execution_count": 10,
   "metadata": {
    "ExecuteTime": {
     "end_time": "2017-12-31T22:52:29.470680Z",
     "start_time": "2017-12-31T22:52:29.460173Z"
    }
   },
   "outputs": [],
   "source": [
    "data1 = data1.rename(columns={'country': 'Country', 'year': 'Year'})"
   ]
  },
  {
   "cell_type": "code",
   "execution_count": 11,
   "metadata": {
    "ExecuteTime": {
     "end_time": "2017-12-31T22:52:31.716942Z",
     "start_time": "2017-12-31T22:52:31.684422Z"
    }
   },
   "outputs": [
    {
     "data": {
      "text/html": [
       "<div>\n",
       "<style>\n",
       "    .dataframe thead tr:only-child th {\n",
       "        text-align: right;\n",
       "    }\n",
       "\n",
       "    .dataframe thead th {\n",
       "        text-align: left;\n",
       "    }\n",
       "\n",
       "    .dataframe tbody tr th {\n",
       "        vertical-align: top;\n",
       "    }\n",
       "</style>\n",
       "<table border=\"1\" class=\"dataframe\">\n",
       "  <thead>\n",
       "    <tr style=\"text-align: right;\">\n",
       "      <th></th>\n",
       "      <th>cyear</th>\n",
       "      <th>ccode</th>\n",
       "      <th>scode</th>\n",
       "      <th>Country</th>\n",
       "      <th>Year</th>\n",
       "      <th>flag</th>\n",
       "      <th>fragment</th>\n",
       "      <th>democ</th>\n",
       "      <th>autoc</th>\n",
       "      <th>polity</th>\n",
       "      <th>...</th>\n",
       "      <th>interim</th>\n",
       "      <th>bmonth</th>\n",
       "      <th>bday</th>\n",
       "      <th>byear</th>\n",
       "      <th>bprec</th>\n",
       "      <th>post</th>\n",
       "      <th>change</th>\n",
       "      <th>d4</th>\n",
       "      <th>sf</th>\n",
       "      <th>regtrans</th>\n",
       "    </tr>\n",
       "  </thead>\n",
       "  <tbody>\n",
       "    <tr>\n",
       "      <th>170</th>\n",
       "      <td>7001970</td>\n",
       "      <td>700</td>\n",
       "      <td>AFG</td>\n",
       "      <td>Afghanistan</td>\n",
       "      <td>1970</td>\n",
       "      <td>0</td>\n",
       "      <td>NaN</td>\n",
       "      <td>0</td>\n",
       "      <td>7</td>\n",
       "      <td>-7</td>\n",
       "      <td>...</td>\n",
       "      <td>NaN</td>\n",
       "      <td>NaN</td>\n",
       "      <td>NaN</td>\n",
       "      <td>NaN</td>\n",
       "      <td>NaN</td>\n",
       "      <td>NaN</td>\n",
       "      <td>NaN</td>\n",
       "      <td>NaN</td>\n",
       "      <td>NaN</td>\n",
       "      <td>NaN</td>\n",
       "    </tr>\n",
       "    <tr>\n",
       "      <th>171</th>\n",
       "      <td>7001971</td>\n",
       "      <td>700</td>\n",
       "      <td>AFG</td>\n",
       "      <td>Afghanistan</td>\n",
       "      <td>1971</td>\n",
       "      <td>0</td>\n",
       "      <td>NaN</td>\n",
       "      <td>0</td>\n",
       "      <td>7</td>\n",
       "      <td>-7</td>\n",
       "      <td>...</td>\n",
       "      <td>NaN</td>\n",
       "      <td>NaN</td>\n",
       "      <td>NaN</td>\n",
       "      <td>NaN</td>\n",
       "      <td>NaN</td>\n",
       "      <td>NaN</td>\n",
       "      <td>NaN</td>\n",
       "      <td>NaN</td>\n",
       "      <td>NaN</td>\n",
       "      <td>NaN</td>\n",
       "    </tr>\n",
       "    <tr>\n",
       "      <th>172</th>\n",
       "      <td>7001972</td>\n",
       "      <td>700</td>\n",
       "      <td>AFG</td>\n",
       "      <td>Afghanistan</td>\n",
       "      <td>1972</td>\n",
       "      <td>0</td>\n",
       "      <td>NaN</td>\n",
       "      <td>0</td>\n",
       "      <td>7</td>\n",
       "      <td>-7</td>\n",
       "      <td>...</td>\n",
       "      <td>NaN</td>\n",
       "      <td>NaN</td>\n",
       "      <td>NaN</td>\n",
       "      <td>NaN</td>\n",
       "      <td>NaN</td>\n",
       "      <td>NaN</td>\n",
       "      <td>NaN</td>\n",
       "      <td>NaN</td>\n",
       "      <td>NaN</td>\n",
       "      <td>NaN</td>\n",
       "    </tr>\n",
       "    <tr>\n",
       "      <th>173</th>\n",
       "      <td>7001973</td>\n",
       "      <td>700</td>\n",
       "      <td>AFG</td>\n",
       "      <td>Afghanistan</td>\n",
       "      <td>1973</td>\n",
       "      <td>0</td>\n",
       "      <td>NaN</td>\n",
       "      <td>0</td>\n",
       "      <td>7</td>\n",
       "      <td>-7</td>\n",
       "      <td>...</td>\n",
       "      <td>NaN</td>\n",
       "      <td>NaN</td>\n",
       "      <td>NaN</td>\n",
       "      <td>NaN</td>\n",
       "      <td>NaN</td>\n",
       "      <td>NaN</td>\n",
       "      <td>NaN</td>\n",
       "      <td>NaN</td>\n",
       "      <td>NaN</td>\n",
       "      <td>NaN</td>\n",
       "    </tr>\n",
       "    <tr>\n",
       "      <th>174</th>\n",
       "      <td>7001974</td>\n",
       "      <td>700</td>\n",
       "      <td>AFG</td>\n",
       "      <td>Afghanistan</td>\n",
       "      <td>1974</td>\n",
       "      <td>0</td>\n",
       "      <td>NaN</td>\n",
       "      <td>0</td>\n",
       "      <td>7</td>\n",
       "      <td>-7</td>\n",
       "      <td>...</td>\n",
       "      <td>NaN</td>\n",
       "      <td>NaN</td>\n",
       "      <td>NaN</td>\n",
       "      <td>NaN</td>\n",
       "      <td>NaN</td>\n",
       "      <td>NaN</td>\n",
       "      <td>NaN</td>\n",
       "      <td>NaN</td>\n",
       "      <td>NaN</td>\n",
       "      <td>NaN</td>\n",
       "    </tr>\n",
       "  </tbody>\n",
       "</table>\n",
       "<p>5 rows × 36 columns</p>\n",
       "</div>"
      ],
      "text/plain": [
       "       cyear  ccode scode      Country  Year  flag  fragment  democ  autoc  \\\n",
       "170  7001970    700   AFG  Afghanistan  1970     0       NaN      0      7   \n",
       "171  7001971    700   AFG  Afghanistan  1971     0       NaN      0      7   \n",
       "172  7001972    700   AFG  Afghanistan  1972     0       NaN      0      7   \n",
       "173  7001973    700   AFG  Afghanistan  1973     0       NaN      0      7   \n",
       "174  7001974    700   AFG  Afghanistan  1974     0       NaN      0      7   \n",
       "\n",
       "     polity    ...     interim  bmonth  bday  byear  bprec  post  change  d4  \\\n",
       "170      -7    ...         NaN     NaN   NaN    NaN    NaN   NaN     NaN NaN   \n",
       "171      -7    ...         NaN     NaN   NaN    NaN    NaN   NaN     NaN NaN   \n",
       "172      -7    ...         NaN     NaN   NaN    NaN    NaN   NaN     NaN NaN   \n",
       "173      -7    ...         NaN     NaN   NaN    NaN    NaN   NaN     NaN NaN   \n",
       "174      -7    ...         NaN     NaN   NaN    NaN    NaN   NaN     NaN NaN   \n",
       "\n",
       "     sf  regtrans  \n",
       "170 NaN       NaN  \n",
       "171 NaN       NaN  \n",
       "172 NaN       NaN  \n",
       "173 NaN       NaN  \n",
       "174 NaN       NaN  \n",
       "\n",
       "[5 rows x 36 columns]"
      ]
     },
     "execution_count": 11,
     "metadata": {},
     "output_type": "execute_result"
    }
   ],
   "source": [
    "# limit time range in polity IV series\n",
    "\n",
    "data1final = data1[(data1['Year'].isin(timerange1))]\n",
    "data1final.head()"
   ]
  },
  {
   "cell_type": "code",
   "execution_count": 12,
   "metadata": {
    "ExecuteTime": {
     "end_time": "2017-12-31T22:52:38.709829Z",
     "start_time": "2017-12-31T22:52:38.685812Z"
    }
   },
   "outputs": [
    {
     "data": {
      "text/html": [
       "<div>\n",
       "<style>\n",
       "    .dataframe thead tr:only-child th {\n",
       "        text-align: right;\n",
       "    }\n",
       "\n",
       "    .dataframe thead th {\n",
       "        text-align: left;\n",
       "    }\n",
       "\n",
       "    .dataframe tbody tr th {\n",
       "        vertical-align: top;\n",
       "    }\n",
       "</style>\n",
       "<table border=\"1\" class=\"dataframe\">\n",
       "  <thead>\n",
       "    <tr style=\"text-align: right;\">\n",
       "      <th></th>\n",
       "      <th>cyear</th>\n",
       "      <th>ccode</th>\n",
       "      <th>scode</th>\n",
       "      <th>Country</th>\n",
       "      <th>Year</th>\n",
       "      <th>flag</th>\n",
       "      <th>fragment</th>\n",
       "      <th>democ</th>\n",
       "      <th>autoc</th>\n",
       "      <th>polity</th>\n",
       "      <th>...</th>\n",
       "      <th>interim</th>\n",
       "      <th>bmonth</th>\n",
       "      <th>bday</th>\n",
       "      <th>byear</th>\n",
       "      <th>bprec</th>\n",
       "      <th>post</th>\n",
       "      <th>change</th>\n",
       "      <th>d4</th>\n",
       "      <th>sf</th>\n",
       "      <th>regtrans</th>\n",
       "    </tr>\n",
       "  </thead>\n",
       "  <tbody>\n",
       "    <tr>\n",
       "      <th>0</th>\n",
       "      <td>7001800</td>\n",
       "      <td>700</td>\n",
       "      <td>AFG</td>\n",
       "      <td>Afghanistan</td>\n",
       "      <td>1800</td>\n",
       "      <td>0</td>\n",
       "      <td>NaN</td>\n",
       "      <td>1</td>\n",
       "      <td>7</td>\n",
       "      <td>-6</td>\n",
       "      <td>...</td>\n",
       "      <td>NaN</td>\n",
       "      <td>1.0</td>\n",
       "      <td>1.0</td>\n",
       "      <td>1800.0</td>\n",
       "      <td>1.0</td>\n",
       "      <td>-6.0</td>\n",
       "      <td>88.0</td>\n",
       "      <td>1.0</td>\n",
       "      <td>NaN</td>\n",
       "      <td>NaN</td>\n",
       "    </tr>\n",
       "    <tr>\n",
       "      <th>1</th>\n",
       "      <td>7001801</td>\n",
       "      <td>700</td>\n",
       "      <td>AFG</td>\n",
       "      <td>Afghanistan</td>\n",
       "      <td>1801</td>\n",
       "      <td>0</td>\n",
       "      <td>NaN</td>\n",
       "      <td>1</td>\n",
       "      <td>7</td>\n",
       "      <td>-6</td>\n",
       "      <td>...</td>\n",
       "      <td>NaN</td>\n",
       "      <td>NaN</td>\n",
       "      <td>NaN</td>\n",
       "      <td>NaN</td>\n",
       "      <td>NaN</td>\n",
       "      <td>NaN</td>\n",
       "      <td>NaN</td>\n",
       "      <td>NaN</td>\n",
       "      <td>NaN</td>\n",
       "      <td>NaN</td>\n",
       "    </tr>\n",
       "    <tr>\n",
       "      <th>2</th>\n",
       "      <td>7001802</td>\n",
       "      <td>700</td>\n",
       "      <td>AFG</td>\n",
       "      <td>Afghanistan</td>\n",
       "      <td>1802</td>\n",
       "      <td>0</td>\n",
       "      <td>NaN</td>\n",
       "      <td>1</td>\n",
       "      <td>7</td>\n",
       "      <td>-6</td>\n",
       "      <td>...</td>\n",
       "      <td>NaN</td>\n",
       "      <td>NaN</td>\n",
       "      <td>NaN</td>\n",
       "      <td>NaN</td>\n",
       "      <td>NaN</td>\n",
       "      <td>NaN</td>\n",
       "      <td>NaN</td>\n",
       "      <td>NaN</td>\n",
       "      <td>NaN</td>\n",
       "      <td>NaN</td>\n",
       "    </tr>\n",
       "  </tbody>\n",
       "</table>\n",
       "<p>3 rows × 36 columns</p>\n",
       "</div>"
      ],
      "text/plain": [
       "     cyear  ccode scode      Country  Year  flag  fragment  democ  autoc  \\\n",
       "0  7001800    700   AFG  Afghanistan  1800     0       NaN      1      7   \n",
       "1  7001801    700   AFG  Afghanistan  1801     0       NaN      1      7   \n",
       "2  7001802    700   AFG  Afghanistan  1802     0       NaN      1      7   \n",
       "\n",
       "   polity    ...     interim  bmonth  bday   byear  bprec  post  change   d4  \\\n",
       "0      -6    ...         NaN     1.0   1.0  1800.0    1.0  -6.0    88.0  1.0   \n",
       "1      -6    ...         NaN     NaN   NaN     NaN    NaN   NaN     NaN  NaN   \n",
       "2      -6    ...         NaN     NaN   NaN     NaN    NaN   NaN     NaN  NaN   \n",
       "\n",
       "   sf  regtrans  \n",
       "0 NaN       NaN  \n",
       "1 NaN       NaN  \n",
       "2 NaN       NaN  \n",
       "\n",
       "[3 rows x 36 columns]"
      ]
     },
     "execution_count": 12,
     "metadata": {},
     "output_type": "execute_result"
    }
   ],
   "source": [
    "data1.head(3)"
   ]
  },
  {
   "cell_type": "code",
   "execution_count": 13,
   "metadata": {
    "ExecuteTime": {
     "end_time": "2017-12-31T22:52:41.398943Z",
     "start_time": "2017-12-31T22:52:41.387952Z"
    },
    "scrolled": true
   },
   "outputs": [
    {
     "data": {
      "text/html": [
       "<div>\n",
       "<style>\n",
       "    .dataframe thead tr:only-child th {\n",
       "        text-align: right;\n",
       "    }\n",
       "\n",
       "    .dataframe thead th {\n",
       "        text-align: left;\n",
       "    }\n",
       "\n",
       "    .dataframe tbody tr th {\n",
       "        vertical-align: top;\n",
       "    }\n",
       "</style>\n",
       "<table border=\"1\" class=\"dataframe\">\n",
       "  <thead>\n",
       "    <tr style=\"text-align: right;\">\n",
       "      <th></th>\n",
       "      <th>Country</th>\n",
       "      <th>Currency</th>\n",
       "      <th>Year</th>\n",
       "      <th>Per capita GDP</th>\n",
       "    </tr>\n",
       "  </thead>\n",
       "  <tbody>\n",
       "    <tr>\n",
       "      <th>0</th>\n",
       "      <td>Afghanistan</td>\n",
       "      <td>US$</td>\n",
       "      <td>1970</td>\n",
       "      <td>157.258461</td>\n",
       "    </tr>\n",
       "    <tr>\n",
       "      <th>1</th>\n",
       "      <td>Afghanistan</td>\n",
       "      <td>US$</td>\n",
       "      <td>1971</td>\n",
       "      <td>160.443153</td>\n",
       "    </tr>\n",
       "    <tr>\n",
       "      <th>2</th>\n",
       "      <td>Afghanistan</td>\n",
       "      <td>US$</td>\n",
       "      <td>1972</td>\n",
       "      <td>136.175612</td>\n",
       "    </tr>\n",
       "    <tr>\n",
       "      <th>3</th>\n",
       "      <td>Afghanistan</td>\n",
       "      <td>US$</td>\n",
       "      <td>1973</td>\n",
       "      <td>144.173945</td>\n",
       "    </tr>\n",
       "    <tr>\n",
       "      <th>4</th>\n",
       "      <td>Afghanistan</td>\n",
       "      <td>US$</td>\n",
       "      <td>1974</td>\n",
       "      <td>175.027098</td>\n",
       "    </tr>\n",
       "  </tbody>\n",
       "</table>\n",
       "</div>"
      ],
      "text/plain": [
       "       Country Currency  Year  Per capita GDP\n",
       "0  Afghanistan      US$  1970      157.258461\n",
       "1  Afghanistan      US$  1971      160.443153\n",
       "2  Afghanistan      US$  1972      136.175612\n",
       "3  Afghanistan      US$  1973      144.173945\n",
       "4  Afghanistan      US$  1974      175.027098"
      ]
     },
     "execution_count": 13,
     "metadata": {},
     "output_type": "execute_result"
    }
   ],
   "source": [
    "data2.head()"
   ]
  },
  {
   "cell_type": "code",
   "execution_count": 15,
   "metadata": {
    "ExecuteTime": {
     "end_time": "2017-12-31T22:52:54.139148Z",
     "start_time": "2017-12-31T22:52:54.065093Z"
    }
   },
   "outputs": [],
   "source": [
    "# merging the two dataframes\n",
    "mergedf = pd.merge(left=data2, right=data1final, how='left', on=['Country', 'Year'])"
   ]
  },
  {
   "cell_type": "code",
   "execution_count": 16,
   "metadata": {
    "ExecuteTime": {
     "end_time": "2017-12-31T22:52:58.547939Z",
     "start_time": "2017-12-31T22:52:58.534944Z"
    }
   },
   "outputs": [],
   "source": [
    "# make sure we have the right date range and countries\n",
    "mergedf1 = mergedf[(mergedf['Year'].isin(timerange1)) & (mergedf['Country'].isin(SSA1))]"
   ]
  },
  {
   "cell_type": "code",
   "execution_count": 50,
   "metadata": {
    "ExecuteTime": {
     "end_time": "2017-12-31T23:32:47.237439Z",
     "start_time": "2017-12-31T23:32:47.231453Z"
    }
   },
   "outputs": [
    {
     "data": {
      "text/plain": [
       "40"
      ]
     },
     "execution_count": 50,
     "metadata": {},
     "output_type": "execute_result"
    }
   ],
   "source": [
    "mergedf1['Country'].nunique()"
   ]
  },
  {
   "cell_type": "code",
   "execution_count": 49,
   "metadata": {
    "ExecuteTime": {
     "end_time": "2017-12-31T23:19:04.949079Z",
     "start_time": "2017-12-31T23:19:04.914035Z"
    }
   },
   "outputs": [
    {
     "data": {
      "text/html": [
       "<div>\n",
       "<style>\n",
       "    .dataframe thead tr:only-child th {\n",
       "        text-align: right;\n",
       "    }\n",
       "\n",
       "    .dataframe thead th {\n",
       "        text-align: left;\n",
       "    }\n",
       "\n",
       "    .dataframe tbody tr th {\n",
       "        vertical-align: top;\n",
       "    }\n",
       "</style>\n",
       "<table border=\"1\" class=\"dataframe\">\n",
       "  <thead>\n",
       "    <tr style=\"text-align: right;\">\n",
       "      <th></th>\n",
       "      <th>Country</th>\n",
       "      <th>Currency</th>\n",
       "      <th>Year</th>\n",
       "      <th>Per capita GDP</th>\n",
       "      <th>cyear</th>\n",
       "      <th>ccode</th>\n",
       "      <th>scode</th>\n",
       "      <th>flag</th>\n",
       "      <th>fragment</th>\n",
       "      <th>democ</th>\n",
       "      <th>...</th>\n",
       "      <th>interim</th>\n",
       "      <th>bmonth</th>\n",
       "      <th>bday</th>\n",
       "      <th>byear</th>\n",
       "      <th>bprec</th>\n",
       "      <th>post</th>\n",
       "      <th>change</th>\n",
       "      <th>d4</th>\n",
       "      <th>sf</th>\n",
       "      <th>regtrans</th>\n",
       "    </tr>\n",
       "  </thead>\n",
       "  <tbody>\n",
       "    <tr>\n",
       "      <th>276</th>\n",
       "      <td>Angola</td>\n",
       "      <td>US$</td>\n",
       "      <td>1970</td>\n",
       "      <td>604.189952</td>\n",
       "      <td>NaN</td>\n",
       "      <td>NaN</td>\n",
       "      <td>NaN</td>\n",
       "      <td>NaN</td>\n",
       "      <td>NaN</td>\n",
       "      <td>NaN</td>\n",
       "      <td>...</td>\n",
       "      <td>NaN</td>\n",
       "      <td>NaN</td>\n",
       "      <td>NaN</td>\n",
       "      <td>NaN</td>\n",
       "      <td>NaN</td>\n",
       "      <td>NaN</td>\n",
       "      <td>NaN</td>\n",
       "      <td>NaN</td>\n",
       "      <td>NaN</td>\n",
       "      <td>NaN</td>\n",
       "    </tr>\n",
       "    <tr>\n",
       "      <th>277</th>\n",
       "      <td>Angola</td>\n",
       "      <td>US$</td>\n",
       "      <td>1971</td>\n",
       "      <td>622.501779</td>\n",
       "      <td>NaN</td>\n",
       "      <td>NaN</td>\n",
       "      <td>NaN</td>\n",
       "      <td>NaN</td>\n",
       "      <td>NaN</td>\n",
       "      <td>NaN</td>\n",
       "      <td>...</td>\n",
       "      <td>NaN</td>\n",
       "      <td>NaN</td>\n",
       "      <td>NaN</td>\n",
       "      <td>NaN</td>\n",
       "      <td>NaN</td>\n",
       "      <td>NaN</td>\n",
       "      <td>NaN</td>\n",
       "      <td>NaN</td>\n",
       "      <td>NaN</td>\n",
       "      <td>NaN</td>\n",
       "    </tr>\n",
       "    <tr>\n",
       "      <th>278</th>\n",
       "      <td>Angola</td>\n",
       "      <td>US$</td>\n",
       "      <td>1972</td>\n",
       "      <td>622.704067</td>\n",
       "      <td>NaN</td>\n",
       "      <td>NaN</td>\n",
       "      <td>NaN</td>\n",
       "      <td>NaN</td>\n",
       "      <td>NaN</td>\n",
       "      <td>NaN</td>\n",
       "      <td>...</td>\n",
       "      <td>NaN</td>\n",
       "      <td>NaN</td>\n",
       "      <td>NaN</td>\n",
       "      <td>NaN</td>\n",
       "      <td>NaN</td>\n",
       "      <td>NaN</td>\n",
       "      <td>NaN</td>\n",
       "      <td>NaN</td>\n",
       "      <td>NaN</td>\n",
       "      <td>NaN</td>\n",
       "    </tr>\n",
       "    <tr>\n",
       "      <th>279</th>\n",
       "      <td>Angola</td>\n",
       "      <td>US$</td>\n",
       "      <td>1973</td>\n",
       "      <td>743.128379</td>\n",
       "      <td>NaN</td>\n",
       "      <td>NaN</td>\n",
       "      <td>NaN</td>\n",
       "      <td>NaN</td>\n",
       "      <td>NaN</td>\n",
       "      <td>NaN</td>\n",
       "      <td>...</td>\n",
       "      <td>NaN</td>\n",
       "      <td>NaN</td>\n",
       "      <td>NaN</td>\n",
       "      <td>NaN</td>\n",
       "      <td>NaN</td>\n",
       "      <td>NaN</td>\n",
       "      <td>NaN</td>\n",
       "      <td>NaN</td>\n",
       "      <td>NaN</td>\n",
       "      <td>NaN</td>\n",
       "    </tr>\n",
       "    <tr>\n",
       "      <th>280</th>\n",
       "      <td>Angola</td>\n",
       "      <td>US$</td>\n",
       "      <td>1974</td>\n",
       "      <td>812.704326</td>\n",
       "      <td>NaN</td>\n",
       "      <td>NaN</td>\n",
       "      <td>NaN</td>\n",
       "      <td>NaN</td>\n",
       "      <td>NaN</td>\n",
       "      <td>NaN</td>\n",
       "      <td>...</td>\n",
       "      <td>NaN</td>\n",
       "      <td>NaN</td>\n",
       "      <td>NaN</td>\n",
       "      <td>NaN</td>\n",
       "      <td>NaN</td>\n",
       "      <td>NaN</td>\n",
       "      <td>NaN</td>\n",
       "      <td>NaN</td>\n",
       "      <td>NaN</td>\n",
       "      <td>NaN</td>\n",
       "    </tr>\n",
       "  </tbody>\n",
       "</table>\n",
       "<p>5 rows × 38 columns</p>\n",
       "</div>"
      ],
      "text/plain": [
       "    Country Currency  Year  Per capita GDP  cyear  ccode scode  flag  \\\n",
       "276  Angola      US$  1970      604.189952    NaN    NaN   NaN   NaN   \n",
       "277  Angola      US$  1971      622.501779    NaN    NaN   NaN   NaN   \n",
       "278  Angola      US$  1972      622.704067    NaN    NaN   NaN   NaN   \n",
       "279  Angola      US$  1973      743.128379    NaN    NaN   NaN   NaN   \n",
       "280  Angola      US$  1974      812.704326    NaN    NaN   NaN   NaN   \n",
       "\n",
       "     fragment  democ    ...     interim  bmonth  bday  byear  bprec  post  \\\n",
       "276       NaN    NaN    ...         NaN     NaN   NaN    NaN    NaN   NaN   \n",
       "277       NaN    NaN    ...         NaN     NaN   NaN    NaN    NaN   NaN   \n",
       "278       NaN    NaN    ...         NaN     NaN   NaN    NaN    NaN   NaN   \n",
       "279       NaN    NaN    ...         NaN     NaN   NaN    NaN    NaN   NaN   \n",
       "280       NaN    NaN    ...         NaN     NaN   NaN    NaN    NaN   NaN   \n",
       "\n",
       "     change  d4  sf  regtrans  \n",
       "276     NaN NaN NaN       NaN  \n",
       "277     NaN NaN NaN       NaN  \n",
       "278     NaN NaN NaN       NaN  \n",
       "279     NaN NaN NaN       NaN  \n",
       "280     NaN NaN NaN       NaN  \n",
       "\n",
       "[5 rows x 38 columns]"
      ]
     },
     "metadata": {},
     "output_type": "display_data"
    },
    {
     "name": "stdout",
     "output_type": "stream",
     "text": [
      "<class 'pandas.core.frame.DataFrame'>\n",
      "Int64Index: 1744 entries, 276 to 10548\n",
      "Data columns (total 38 columns):\n",
      "Country           1744 non-null object\n",
      "Currency          1744 non-null object\n",
      "Year              1744 non-null int64\n",
      "Per capita GDP    1744 non-null float64\n",
      "cyear             1586 non-null float64\n",
      "ccode             1586 non-null float64\n",
      "scode             1586 non-null object\n",
      "flag              1586 non-null float64\n",
      "fragment          580 non-null float64\n",
      "democ             1586 non-null float64\n",
      "autoc             1586 non-null float64\n",
      "polity            1586 non-null float64\n",
      "polity2           1584 non-null float64\n",
      "durable           1586 non-null float64\n",
      "xrreg             1586 non-null float64\n",
      "xrcomp            1586 non-null float64\n",
      "xropen            1586 non-null float64\n",
      "xconst            1586 non-null float64\n",
      "parreg            1586 non-null float64\n",
      "parcomp           1586 non-null float64\n",
      "exrec             1586 non-null float64\n",
      "exconst           1586 non-null float64\n",
      "polcomp           1586 non-null float64\n",
      "prior             200 non-null float64\n",
      "emonth            209 non-null float64\n",
      "eday              209 non-null float64\n",
      "eyear             209 non-null float64\n",
      "eprec             209 non-null float64\n",
      "interim           155 non-null float64\n",
      "bmonth            169 non-null float64\n",
      "bday              169 non-null float64\n",
      "byear             169 non-null float64\n",
      "bprec             169 non-null float64\n",
      "post              167 non-null float64\n",
      "change            265 non-null float64\n",
      "d4                164 non-null float64\n",
      "sf                56 non-null float64\n",
      "regtrans          278 non-null float64\n",
      "dtypes: float64(34), int64(1), object(3)\n",
      "memory usage: 531.4+ KB\n"
     ]
    },
    {
     "data": {
      "text/plain": [
       "None"
      ]
     },
     "metadata": {},
     "output_type": "display_data"
    }
   ],
   "source": [
    "# check mergedf1\n",
    "display(mergedf1.head())\n",
    "display(mergedf1.info())"
   ]
  },
  {
   "cell_type": "code",
   "execution_count": 18,
   "metadata": {
    "ExecuteTime": {
     "end_time": "2017-12-31T22:53:12.932130Z",
     "start_time": "2017-12-31T22:53:12.927626Z"
    }
   },
   "outputs": [],
   "source": [
    "# add a region column SSA\n",
    "# drop rows for which we have no data for either of the two variables\n",
    "# groupby region and year and calculate mean GDP in an array\n",
    "# plot this against mean democracy score\n",
    "# subset the dataframe for countries that have nonnull institutional variables\n",
    "# come up with as many plots as possible\n",
    "# create a subset dataframe with year, mean gdp and mean democracy score"
   ]
  },
  {
   "cell_type": "code",
   "execution_count": 19,
   "metadata": {
    "ExecuteTime": {
     "end_time": "2017-12-31T22:53:16.467759Z",
     "start_time": "2017-12-31T22:53:16.462753Z"
    }
   },
   "outputs": [],
   "source": [
    "# final df\n",
    "findf = mergedf1.copy()\n",
    "findf.index = pd.RangeIndex(len(findf.index))"
   ]
  },
  {
   "cell_type": "code",
   "execution_count": 20,
   "metadata": {
    "ExecuteTime": {
     "end_time": "2017-12-31T22:53:19.379583Z",
     "start_time": "2017-12-31T22:53:19.337554Z"
    }
   },
   "outputs": [
    {
     "data": {
      "text/html": [
       "<div>\n",
       "<style>\n",
       "    .dataframe thead tr:only-child th {\n",
       "        text-align: right;\n",
       "    }\n",
       "\n",
       "    .dataframe thead th {\n",
       "        text-align: left;\n",
       "    }\n",
       "\n",
       "    .dataframe tbody tr th {\n",
       "        vertical-align: top;\n",
       "    }\n",
       "</style>\n",
       "<table border=\"1\" class=\"dataframe\">\n",
       "  <thead>\n",
       "    <tr style=\"text-align: right;\">\n",
       "      <th></th>\n",
       "      <th>Country</th>\n",
       "      <th>Currency</th>\n",
       "      <th>Year</th>\n",
       "      <th>Per capita GDP</th>\n",
       "      <th>cyear</th>\n",
       "      <th>ccode</th>\n",
       "      <th>scode</th>\n",
       "      <th>flag</th>\n",
       "      <th>fragment</th>\n",
       "      <th>democ</th>\n",
       "      <th>...</th>\n",
       "      <th>interim</th>\n",
       "      <th>bmonth</th>\n",
       "      <th>bday</th>\n",
       "      <th>byear</th>\n",
       "      <th>bprec</th>\n",
       "      <th>post</th>\n",
       "      <th>change</th>\n",
       "      <th>d4</th>\n",
       "      <th>sf</th>\n",
       "      <th>regtrans</th>\n",
       "    </tr>\n",
       "  </thead>\n",
       "  <tbody>\n",
       "    <tr>\n",
       "      <th>0</th>\n",
       "      <td>Angola</td>\n",
       "      <td>US$</td>\n",
       "      <td>1970</td>\n",
       "      <td>604.189952</td>\n",
       "      <td>NaN</td>\n",
       "      <td>NaN</td>\n",
       "      <td>NaN</td>\n",
       "      <td>NaN</td>\n",
       "      <td>NaN</td>\n",
       "      <td>NaN</td>\n",
       "      <td>...</td>\n",
       "      <td>NaN</td>\n",
       "      <td>NaN</td>\n",
       "      <td>NaN</td>\n",
       "      <td>NaN</td>\n",
       "      <td>NaN</td>\n",
       "      <td>NaN</td>\n",
       "      <td>NaN</td>\n",
       "      <td>NaN</td>\n",
       "      <td>NaN</td>\n",
       "      <td>NaN</td>\n",
       "    </tr>\n",
       "    <tr>\n",
       "      <th>1</th>\n",
       "      <td>Angola</td>\n",
       "      <td>US$</td>\n",
       "      <td>1971</td>\n",
       "      <td>622.501779</td>\n",
       "      <td>NaN</td>\n",
       "      <td>NaN</td>\n",
       "      <td>NaN</td>\n",
       "      <td>NaN</td>\n",
       "      <td>NaN</td>\n",
       "      <td>NaN</td>\n",
       "      <td>...</td>\n",
       "      <td>NaN</td>\n",
       "      <td>NaN</td>\n",
       "      <td>NaN</td>\n",
       "      <td>NaN</td>\n",
       "      <td>NaN</td>\n",
       "      <td>NaN</td>\n",
       "      <td>NaN</td>\n",
       "      <td>NaN</td>\n",
       "      <td>NaN</td>\n",
       "      <td>NaN</td>\n",
       "    </tr>\n",
       "    <tr>\n",
       "      <th>2</th>\n",
       "      <td>Angola</td>\n",
       "      <td>US$</td>\n",
       "      <td>1972</td>\n",
       "      <td>622.704067</td>\n",
       "      <td>NaN</td>\n",
       "      <td>NaN</td>\n",
       "      <td>NaN</td>\n",
       "      <td>NaN</td>\n",
       "      <td>NaN</td>\n",
       "      <td>NaN</td>\n",
       "      <td>...</td>\n",
       "      <td>NaN</td>\n",
       "      <td>NaN</td>\n",
       "      <td>NaN</td>\n",
       "      <td>NaN</td>\n",
       "      <td>NaN</td>\n",
       "      <td>NaN</td>\n",
       "      <td>NaN</td>\n",
       "      <td>NaN</td>\n",
       "      <td>NaN</td>\n",
       "      <td>NaN</td>\n",
       "    </tr>\n",
       "    <tr>\n",
       "      <th>3</th>\n",
       "      <td>Angola</td>\n",
       "      <td>US$</td>\n",
       "      <td>1973</td>\n",
       "      <td>743.128379</td>\n",
       "      <td>NaN</td>\n",
       "      <td>NaN</td>\n",
       "      <td>NaN</td>\n",
       "      <td>NaN</td>\n",
       "      <td>NaN</td>\n",
       "      <td>NaN</td>\n",
       "      <td>...</td>\n",
       "      <td>NaN</td>\n",
       "      <td>NaN</td>\n",
       "      <td>NaN</td>\n",
       "      <td>NaN</td>\n",
       "      <td>NaN</td>\n",
       "      <td>NaN</td>\n",
       "      <td>NaN</td>\n",
       "      <td>NaN</td>\n",
       "      <td>NaN</td>\n",
       "      <td>NaN</td>\n",
       "    </tr>\n",
       "    <tr>\n",
       "      <th>4</th>\n",
       "      <td>Angola</td>\n",
       "      <td>US$</td>\n",
       "      <td>1974</td>\n",
       "      <td>812.704326</td>\n",
       "      <td>NaN</td>\n",
       "      <td>NaN</td>\n",
       "      <td>NaN</td>\n",
       "      <td>NaN</td>\n",
       "      <td>NaN</td>\n",
       "      <td>NaN</td>\n",
       "      <td>...</td>\n",
       "      <td>NaN</td>\n",
       "      <td>NaN</td>\n",
       "      <td>NaN</td>\n",
       "      <td>NaN</td>\n",
       "      <td>NaN</td>\n",
       "      <td>NaN</td>\n",
       "      <td>NaN</td>\n",
       "      <td>NaN</td>\n",
       "      <td>NaN</td>\n",
       "      <td>NaN</td>\n",
       "    </tr>\n",
       "    <tr>\n",
       "      <th>5</th>\n",
       "      <td>Angola</td>\n",
       "      <td>US$</td>\n",
       "      <td>1975</td>\n",
       "      <td>583.542745</td>\n",
       "      <td>5401975.0</td>\n",
       "      <td>540.0</td>\n",
       "      <td>ANG</td>\n",
       "      <td>0.0</td>\n",
       "      <td>NaN</td>\n",
       "      <td>0.0</td>\n",
       "      <td>...</td>\n",
       "      <td>NaN</td>\n",
       "      <td>11.0</td>\n",
       "      <td>11.0</td>\n",
       "      <td>1975.0</td>\n",
       "      <td>1.0</td>\n",
       "      <td>-7.0</td>\n",
       "      <td>99.0</td>\n",
       "      <td>1.0</td>\n",
       "      <td>NaN</td>\n",
       "      <td>99.0</td>\n",
       "    </tr>\n",
       "    <tr>\n",
       "      <th>6</th>\n",
       "      <td>Angola</td>\n",
       "      <td>US$</td>\n",
       "      <td>1976</td>\n",
       "      <td>545.366469</td>\n",
       "      <td>5401976.0</td>\n",
       "      <td>540.0</td>\n",
       "      <td>ANG</td>\n",
       "      <td>0.0</td>\n",
       "      <td>NaN</td>\n",
       "      <td>0.0</td>\n",
       "      <td>...</td>\n",
       "      <td>NaN</td>\n",
       "      <td>NaN</td>\n",
       "      <td>NaN</td>\n",
       "      <td>NaN</td>\n",
       "      <td>NaN</td>\n",
       "      <td>NaN</td>\n",
       "      <td>NaN</td>\n",
       "      <td>NaN</td>\n",
       "      <td>NaN</td>\n",
       "      <td>NaN</td>\n",
       "    </tr>\n",
       "    <tr>\n",
       "      <th>7</th>\n",
       "      <td>Angola</td>\n",
       "      <td>US$</td>\n",
       "      <td>1977</td>\n",
       "      <td>579.128062</td>\n",
       "      <td>5401977.0</td>\n",
       "      <td>540.0</td>\n",
       "      <td>ANG</td>\n",
       "      <td>0.0</td>\n",
       "      <td>NaN</td>\n",
       "      <td>0.0</td>\n",
       "      <td>...</td>\n",
       "      <td>NaN</td>\n",
       "      <td>NaN</td>\n",
       "      <td>NaN</td>\n",
       "      <td>NaN</td>\n",
       "      <td>NaN</td>\n",
       "      <td>NaN</td>\n",
       "      <td>NaN</td>\n",
       "      <td>NaN</td>\n",
       "      <td>NaN</td>\n",
       "      <td>NaN</td>\n",
       "    </tr>\n",
       "    <tr>\n",
       "      <th>8</th>\n",
       "      <td>Angola</td>\n",
       "      <td>US$</td>\n",
       "      <td>1978</td>\n",
       "      <td>627.885755</td>\n",
       "      <td>5401978.0</td>\n",
       "      <td>540.0</td>\n",
       "      <td>ANG</td>\n",
       "      <td>0.0</td>\n",
       "      <td>NaN</td>\n",
       "      <td>0.0</td>\n",
       "      <td>...</td>\n",
       "      <td>NaN</td>\n",
       "      <td>NaN</td>\n",
       "      <td>NaN</td>\n",
       "      <td>NaN</td>\n",
       "      <td>NaN</td>\n",
       "      <td>NaN</td>\n",
       "      <td>NaN</td>\n",
       "      <td>NaN</td>\n",
       "      <td>NaN</td>\n",
       "      <td>NaN</td>\n",
       "    </tr>\n",
       "    <tr>\n",
       "      <th>9</th>\n",
       "      <td>Angola</td>\n",
       "      <td>US$</td>\n",
       "      <td>1979</td>\n",
       "      <td>676.503871</td>\n",
       "      <td>5401979.0</td>\n",
       "      <td>540.0</td>\n",
       "      <td>ANG</td>\n",
       "      <td>0.0</td>\n",
       "      <td>NaN</td>\n",
       "      <td>0.0</td>\n",
       "      <td>...</td>\n",
       "      <td>NaN</td>\n",
       "      <td>NaN</td>\n",
       "      <td>NaN</td>\n",
       "      <td>NaN</td>\n",
       "      <td>NaN</td>\n",
       "      <td>NaN</td>\n",
       "      <td>NaN</td>\n",
       "      <td>NaN</td>\n",
       "      <td>NaN</td>\n",
       "      <td>NaN</td>\n",
       "    </tr>\n",
       "  </tbody>\n",
       "</table>\n",
       "<p>10 rows × 38 columns</p>\n",
       "</div>"
      ],
      "text/plain": [
       "  Country Currency  Year  Per capita GDP      cyear  ccode scode  flag  \\\n",
       "0  Angola      US$  1970      604.189952        NaN    NaN   NaN   NaN   \n",
       "1  Angola      US$  1971      622.501779        NaN    NaN   NaN   NaN   \n",
       "2  Angola      US$  1972      622.704067        NaN    NaN   NaN   NaN   \n",
       "3  Angola      US$  1973      743.128379        NaN    NaN   NaN   NaN   \n",
       "4  Angola      US$  1974      812.704326        NaN    NaN   NaN   NaN   \n",
       "5  Angola      US$  1975      583.542745  5401975.0  540.0   ANG   0.0   \n",
       "6  Angola      US$  1976      545.366469  5401976.0  540.0   ANG   0.0   \n",
       "7  Angola      US$  1977      579.128062  5401977.0  540.0   ANG   0.0   \n",
       "8  Angola      US$  1978      627.885755  5401978.0  540.0   ANG   0.0   \n",
       "9  Angola      US$  1979      676.503871  5401979.0  540.0   ANG   0.0   \n",
       "\n",
       "   fragment  democ    ...     interim  bmonth  bday   byear  bprec  post  \\\n",
       "0       NaN    NaN    ...         NaN     NaN   NaN     NaN    NaN   NaN   \n",
       "1       NaN    NaN    ...         NaN     NaN   NaN     NaN    NaN   NaN   \n",
       "2       NaN    NaN    ...         NaN     NaN   NaN     NaN    NaN   NaN   \n",
       "3       NaN    NaN    ...         NaN     NaN   NaN     NaN    NaN   NaN   \n",
       "4       NaN    NaN    ...         NaN     NaN   NaN     NaN    NaN   NaN   \n",
       "5       NaN    0.0    ...         NaN    11.0  11.0  1975.0    1.0  -7.0   \n",
       "6       NaN    0.0    ...         NaN     NaN   NaN     NaN    NaN   NaN   \n",
       "7       NaN    0.0    ...         NaN     NaN   NaN     NaN    NaN   NaN   \n",
       "8       NaN    0.0    ...         NaN     NaN   NaN     NaN    NaN   NaN   \n",
       "9       NaN    0.0    ...         NaN     NaN   NaN     NaN    NaN   NaN   \n",
       "\n",
       "   change   d4  sf  regtrans  \n",
       "0     NaN  NaN NaN       NaN  \n",
       "1     NaN  NaN NaN       NaN  \n",
       "2     NaN  NaN NaN       NaN  \n",
       "3     NaN  NaN NaN       NaN  \n",
       "4     NaN  NaN NaN       NaN  \n",
       "5    99.0  1.0 NaN      99.0  \n",
       "6     NaN  NaN NaN       NaN  \n",
       "7     NaN  NaN NaN       NaN  \n",
       "8     NaN  NaN NaN       NaN  \n",
       "9     NaN  NaN NaN       NaN  \n",
       "\n",
       "[10 rows x 38 columns]"
      ]
     },
     "execution_count": 20,
     "metadata": {},
     "output_type": "execute_result"
    }
   ],
   "source": [
    "# create region column\n",
    "findf.head(10)"
   ]
  },
  {
   "cell_type": "code",
   "execution_count": 21,
   "metadata": {
    "ExecuteTime": {
     "end_time": "2017-12-31T22:53:28.321637Z",
     "start_time": "2017-12-31T22:53:28.317152Z"
    }
   },
   "outputs": [],
   "source": [
    "# we want a column 'Region'\n",
    "findf['Region'] = 'SSA'"
   ]
  },
  {
   "cell_type": "code",
   "execution_count": 23,
   "metadata": {
    "ExecuteTime": {
     "end_time": "2017-12-31T22:53:49.199166Z",
     "start_time": "2017-12-31T22:53:49.180152Z"
    }
   },
   "outputs": [
    {
     "name": "stdout",
     "output_type": "stream",
     "text": [
      "<class 'pandas.core.frame.DataFrame'>\n",
      "RangeIndex: 1744 entries, 0 to 1743\n",
      "Data columns (total 39 columns):\n",
      "Country           1744 non-null object\n",
      "Currency          1744 non-null object\n",
      "Year              1744 non-null int64\n",
      "Per capita GDP    1744 non-null float64\n",
      "cyear             1586 non-null float64\n",
      "ccode             1586 non-null float64\n",
      "scode             1586 non-null object\n",
      "flag              1586 non-null float64\n",
      "fragment          580 non-null float64\n",
      "democ             1586 non-null float64\n",
      "autoc             1586 non-null float64\n",
      "polity            1586 non-null float64\n",
      "polity2           1584 non-null float64\n",
      "durable           1586 non-null float64\n",
      "xrreg             1586 non-null float64\n",
      "xrcomp            1586 non-null float64\n",
      "xropen            1586 non-null float64\n",
      "xconst            1586 non-null float64\n",
      "parreg            1586 non-null float64\n",
      "parcomp           1586 non-null float64\n",
      "exrec             1586 non-null float64\n",
      "exconst           1586 non-null float64\n",
      "polcomp           1586 non-null float64\n",
      "prior             200 non-null float64\n",
      "emonth            209 non-null float64\n",
      "eday              209 non-null float64\n",
      "eyear             209 non-null float64\n",
      "eprec             209 non-null float64\n",
      "interim           155 non-null float64\n",
      "bmonth            169 non-null float64\n",
      "bday              169 non-null float64\n",
      "byear             169 non-null float64\n",
      "bprec             169 non-null float64\n",
      "post              167 non-null float64\n",
      "change            265 non-null float64\n",
      "d4                164 non-null float64\n",
      "sf                56 non-null float64\n",
      "regtrans          278 non-null float64\n",
      "Region            1744 non-null category\n",
      "dtypes: category(1), float64(34), int64(1), object(3)\n",
      "memory usage: 519.6+ KB\n"
     ]
    },
    {
     "data": {
      "text/plain": [
       "None"
      ]
     },
     "metadata": {},
     "output_type": "display_data"
    }
   ],
   "source": [
    "# check findf\n",
    "findf['Region'] = findf['Region'].astype('category')\n",
    "display(findf.info())"
   ]
  },
  {
   "cell_type": "code",
   "execution_count": 24,
   "metadata": {
    "ExecuteTime": {
     "end_time": "2017-12-31T22:53:54.871325Z",
     "start_time": "2017-12-31T22:53:54.866821Z"
    }
   },
   "outputs": [],
   "source": [
    "# define sns.set()\n",
    "sns.set(style=\"darkgrid\")"
   ]
  },
  {
   "cell_type": "code",
   "execution_count": 25,
   "metadata": {
    "ExecuteTime": {
     "end_time": "2017-12-31T22:53:57.188068Z",
     "start_time": "2017-12-31T22:53:57.161049Z"
    }
   },
   "outputs": [
    {
     "data": {
      "text/html": [
       "<div>\n",
       "<style>\n",
       "    .dataframe thead tr:only-child th {\n",
       "        text-align: right;\n",
       "    }\n",
       "\n",
       "    .dataframe thead th {\n",
       "        text-align: left;\n",
       "    }\n",
       "\n",
       "    .dataframe tbody tr th {\n",
       "        vertical-align: top;\n",
       "    }\n",
       "</style>\n",
       "<table border=\"1\" class=\"dataframe\">\n",
       "  <thead>\n",
       "    <tr style=\"text-align: right;\">\n",
       "      <th></th>\n",
       "      <th>Country</th>\n",
       "      <th>Currency</th>\n",
       "      <th>Year</th>\n",
       "      <th>Per capita GDP</th>\n",
       "      <th>cyear</th>\n",
       "      <th>ccode</th>\n",
       "      <th>scode</th>\n",
       "      <th>flag</th>\n",
       "      <th>fragment</th>\n",
       "      <th>democ</th>\n",
       "      <th>...</th>\n",
       "      <th>bmonth</th>\n",
       "      <th>bday</th>\n",
       "      <th>byear</th>\n",
       "      <th>bprec</th>\n",
       "      <th>post</th>\n",
       "      <th>change</th>\n",
       "      <th>d4</th>\n",
       "      <th>sf</th>\n",
       "      <th>regtrans</th>\n",
       "      <th>Region</th>\n",
       "    </tr>\n",
       "  </thead>\n",
       "  <tbody>\n",
       "    <tr>\n",
       "      <th>0</th>\n",
       "      <td>Angola</td>\n",
       "      <td>US$</td>\n",
       "      <td>1970</td>\n",
       "      <td>604.189952</td>\n",
       "      <td>NaN</td>\n",
       "      <td>NaN</td>\n",
       "      <td>NaN</td>\n",
       "      <td>NaN</td>\n",
       "      <td>NaN</td>\n",
       "      <td>NaN</td>\n",
       "      <td>...</td>\n",
       "      <td>NaN</td>\n",
       "      <td>NaN</td>\n",
       "      <td>NaN</td>\n",
       "      <td>NaN</td>\n",
       "      <td>NaN</td>\n",
       "      <td>NaN</td>\n",
       "      <td>NaN</td>\n",
       "      <td>NaN</td>\n",
       "      <td>NaN</td>\n",
       "      <td>SSA</td>\n",
       "    </tr>\n",
       "    <tr>\n",
       "      <th>1</th>\n",
       "      <td>Angola</td>\n",
       "      <td>US$</td>\n",
       "      <td>1971</td>\n",
       "      <td>622.501779</td>\n",
       "      <td>NaN</td>\n",
       "      <td>NaN</td>\n",
       "      <td>NaN</td>\n",
       "      <td>NaN</td>\n",
       "      <td>NaN</td>\n",
       "      <td>NaN</td>\n",
       "      <td>...</td>\n",
       "      <td>NaN</td>\n",
       "      <td>NaN</td>\n",
       "      <td>NaN</td>\n",
       "      <td>NaN</td>\n",
       "      <td>NaN</td>\n",
       "      <td>NaN</td>\n",
       "      <td>NaN</td>\n",
       "      <td>NaN</td>\n",
       "      <td>NaN</td>\n",
       "      <td>SSA</td>\n",
       "    </tr>\n",
       "    <tr>\n",
       "      <th>2</th>\n",
       "      <td>Angola</td>\n",
       "      <td>US$</td>\n",
       "      <td>1972</td>\n",
       "      <td>622.704067</td>\n",
       "      <td>NaN</td>\n",
       "      <td>NaN</td>\n",
       "      <td>NaN</td>\n",
       "      <td>NaN</td>\n",
       "      <td>NaN</td>\n",
       "      <td>NaN</td>\n",
       "      <td>...</td>\n",
       "      <td>NaN</td>\n",
       "      <td>NaN</td>\n",
       "      <td>NaN</td>\n",
       "      <td>NaN</td>\n",
       "      <td>NaN</td>\n",
       "      <td>NaN</td>\n",
       "      <td>NaN</td>\n",
       "      <td>NaN</td>\n",
       "      <td>NaN</td>\n",
       "      <td>SSA</td>\n",
       "    </tr>\n",
       "    <tr>\n",
       "      <th>3</th>\n",
       "      <td>Angola</td>\n",
       "      <td>US$</td>\n",
       "      <td>1973</td>\n",
       "      <td>743.128379</td>\n",
       "      <td>NaN</td>\n",
       "      <td>NaN</td>\n",
       "      <td>NaN</td>\n",
       "      <td>NaN</td>\n",
       "      <td>NaN</td>\n",
       "      <td>NaN</td>\n",
       "      <td>...</td>\n",
       "      <td>NaN</td>\n",
       "      <td>NaN</td>\n",
       "      <td>NaN</td>\n",
       "      <td>NaN</td>\n",
       "      <td>NaN</td>\n",
       "      <td>NaN</td>\n",
       "      <td>NaN</td>\n",
       "      <td>NaN</td>\n",
       "      <td>NaN</td>\n",
       "      <td>SSA</td>\n",
       "    </tr>\n",
       "    <tr>\n",
       "      <th>4</th>\n",
       "      <td>Angola</td>\n",
       "      <td>US$</td>\n",
       "      <td>1974</td>\n",
       "      <td>812.704326</td>\n",
       "      <td>NaN</td>\n",
       "      <td>NaN</td>\n",
       "      <td>NaN</td>\n",
       "      <td>NaN</td>\n",
       "      <td>NaN</td>\n",
       "      <td>NaN</td>\n",
       "      <td>...</td>\n",
       "      <td>NaN</td>\n",
       "      <td>NaN</td>\n",
       "      <td>NaN</td>\n",
       "      <td>NaN</td>\n",
       "      <td>NaN</td>\n",
       "      <td>NaN</td>\n",
       "      <td>NaN</td>\n",
       "      <td>NaN</td>\n",
       "      <td>NaN</td>\n",
       "      <td>SSA</td>\n",
       "    </tr>\n",
       "  </tbody>\n",
       "</table>\n",
       "<p>5 rows × 39 columns</p>\n",
       "</div>"
      ],
      "text/plain": [
       "  Country Currency  Year  Per capita GDP  cyear  ccode scode  flag  fragment  \\\n",
       "0  Angola      US$  1970      604.189952    NaN    NaN   NaN   NaN       NaN   \n",
       "1  Angola      US$  1971      622.501779    NaN    NaN   NaN   NaN       NaN   \n",
       "2  Angola      US$  1972      622.704067    NaN    NaN   NaN   NaN       NaN   \n",
       "3  Angola      US$  1973      743.128379    NaN    NaN   NaN   NaN       NaN   \n",
       "4  Angola      US$  1974      812.704326    NaN    NaN   NaN   NaN       NaN   \n",
       "\n",
       "   democ   ...    bmonth  bday  byear  bprec  post  change  d4  sf  regtrans  \\\n",
       "0    NaN   ...       NaN   NaN    NaN    NaN   NaN     NaN NaN NaN       NaN   \n",
       "1    NaN   ...       NaN   NaN    NaN    NaN   NaN     NaN NaN NaN       NaN   \n",
       "2    NaN   ...       NaN   NaN    NaN    NaN   NaN     NaN NaN NaN       NaN   \n",
       "3    NaN   ...       NaN   NaN    NaN    NaN   NaN     NaN NaN NaN       NaN   \n",
       "4    NaN   ...       NaN   NaN    NaN    NaN   NaN     NaN NaN NaN       NaN   \n",
       "\n",
       "   Region  \n",
       "0     SSA  \n",
       "1     SSA  \n",
       "2     SSA  \n",
       "3     SSA  \n",
       "4     SSA  \n",
       "\n",
       "[5 rows x 39 columns]"
      ]
     },
     "execution_count": 25,
     "metadata": {},
     "output_type": "execute_result"
    }
   ],
   "source": [
    "findf.head()"
   ]
  },
  {
   "cell_type": "code",
   "execution_count": 38,
   "metadata": {
    "ExecuteTime": {
     "end_time": "2017-12-31T22:56:46.135838Z",
     "start_time": "2017-12-31T22:56:46.129832Z"
    }
   },
   "outputs": [],
   "source": [
    "# do the group and plot the time series object\n",
    "meangdpc = findf.groupby(['Year', 'Region'])['Per capita GDP']\n",
    "#meandemoc = findf.groupby(['Year', 'Region'])['democ']"
   ]
  },
  {
   "cell_type": "code",
   "execution_count": 39,
   "metadata": {
    "ExecuteTime": {
     "end_time": "2017-12-31T22:56:46.980164Z",
     "start_time": "2017-12-31T22:56:46.964172Z"
    }
   },
   "outputs": [
    {
     "data": {
      "text/plain": [
       "Series([], Name: Per capita GDP, dtype: int64)"
      ]
     },
     "execution_count": 39,
     "metadata": {},
     "output_type": "execute_result"
    }
   ],
   "source": [
    "meangdpc.size()"
   ]
  },
  {
   "cell_type": "code",
   "execution_count": 40,
   "metadata": {
    "ExecuteTime": {
     "end_time": "2017-12-31T22:56:49.980667Z",
     "start_time": "2017-12-31T22:56:49.976663Z"
    }
   },
   "outputs": [],
   "source": [
    "findf['Year'] = pd.to_datetime(findf['Year'],format='%Y%m%d', errors='coerce')"
   ]
  },
  {
   "cell_type": "code",
   "execution_count": 41,
   "metadata": {
    "ExecuteTime": {
     "end_time": "2017-12-31T22:56:50.362856Z",
     "start_time": "2017-12-31T22:56:50.359868Z"
    }
   },
   "outputs": [],
   "source": [
    "#findf['Year'].apply(lambda x: x[:5])"
   ]
  },
  {
   "cell_type": "code",
   "execution_count": 42,
   "metadata": {
    "ExecuteTime": {
     "end_time": "2017-12-31T22:56:50.746959Z",
     "start_time": "2017-12-31T22:56:50.716937Z"
    }
   },
   "outputs": [
    {
     "data": {
      "text/html": [
       "<div>\n",
       "<style>\n",
       "    .dataframe thead tr:only-child th {\n",
       "        text-align: right;\n",
       "    }\n",
       "\n",
       "    .dataframe thead th {\n",
       "        text-align: left;\n",
       "    }\n",
       "\n",
       "    .dataframe tbody tr th {\n",
       "        vertical-align: top;\n",
       "    }\n",
       "</style>\n",
       "<table border=\"1\" class=\"dataframe\">\n",
       "  <thead>\n",
       "    <tr style=\"text-align: right;\">\n",
       "      <th></th>\n",
       "      <th>Country</th>\n",
       "      <th>Currency</th>\n",
       "      <th>Year</th>\n",
       "      <th>Per capita GDP</th>\n",
       "      <th>cyear</th>\n",
       "      <th>ccode</th>\n",
       "      <th>scode</th>\n",
       "      <th>flag</th>\n",
       "      <th>fragment</th>\n",
       "      <th>democ</th>\n",
       "      <th>...</th>\n",
       "      <th>bmonth</th>\n",
       "      <th>bday</th>\n",
       "      <th>byear</th>\n",
       "      <th>bprec</th>\n",
       "      <th>post</th>\n",
       "      <th>change</th>\n",
       "      <th>d4</th>\n",
       "      <th>sf</th>\n",
       "      <th>regtrans</th>\n",
       "      <th>Region</th>\n",
       "    </tr>\n",
       "  </thead>\n",
       "  <tbody>\n",
       "    <tr>\n",
       "      <th>0</th>\n",
       "      <td>Angola</td>\n",
       "      <td>US$</td>\n",
       "      <td>NaT</td>\n",
       "      <td>604.189952</td>\n",
       "      <td>NaN</td>\n",
       "      <td>NaN</td>\n",
       "      <td>NaN</td>\n",
       "      <td>NaN</td>\n",
       "      <td>NaN</td>\n",
       "      <td>NaN</td>\n",
       "      <td>...</td>\n",
       "      <td>NaN</td>\n",
       "      <td>NaN</td>\n",
       "      <td>NaN</td>\n",
       "      <td>NaN</td>\n",
       "      <td>NaN</td>\n",
       "      <td>NaN</td>\n",
       "      <td>NaN</td>\n",
       "      <td>NaN</td>\n",
       "      <td>NaN</td>\n",
       "      <td>SSA</td>\n",
       "    </tr>\n",
       "    <tr>\n",
       "      <th>1</th>\n",
       "      <td>Angola</td>\n",
       "      <td>US$</td>\n",
       "      <td>NaT</td>\n",
       "      <td>622.501779</td>\n",
       "      <td>NaN</td>\n",
       "      <td>NaN</td>\n",
       "      <td>NaN</td>\n",
       "      <td>NaN</td>\n",
       "      <td>NaN</td>\n",
       "      <td>NaN</td>\n",
       "      <td>...</td>\n",
       "      <td>NaN</td>\n",
       "      <td>NaN</td>\n",
       "      <td>NaN</td>\n",
       "      <td>NaN</td>\n",
       "      <td>NaN</td>\n",
       "      <td>NaN</td>\n",
       "      <td>NaN</td>\n",
       "      <td>NaN</td>\n",
       "      <td>NaN</td>\n",
       "      <td>SSA</td>\n",
       "    </tr>\n",
       "    <tr>\n",
       "      <th>2</th>\n",
       "      <td>Angola</td>\n",
       "      <td>US$</td>\n",
       "      <td>NaT</td>\n",
       "      <td>622.704067</td>\n",
       "      <td>NaN</td>\n",
       "      <td>NaN</td>\n",
       "      <td>NaN</td>\n",
       "      <td>NaN</td>\n",
       "      <td>NaN</td>\n",
       "      <td>NaN</td>\n",
       "      <td>...</td>\n",
       "      <td>NaN</td>\n",
       "      <td>NaN</td>\n",
       "      <td>NaN</td>\n",
       "      <td>NaN</td>\n",
       "      <td>NaN</td>\n",
       "      <td>NaN</td>\n",
       "      <td>NaN</td>\n",
       "      <td>NaN</td>\n",
       "      <td>NaN</td>\n",
       "      <td>SSA</td>\n",
       "    </tr>\n",
       "    <tr>\n",
       "      <th>3</th>\n",
       "      <td>Angola</td>\n",
       "      <td>US$</td>\n",
       "      <td>NaT</td>\n",
       "      <td>743.128379</td>\n",
       "      <td>NaN</td>\n",
       "      <td>NaN</td>\n",
       "      <td>NaN</td>\n",
       "      <td>NaN</td>\n",
       "      <td>NaN</td>\n",
       "      <td>NaN</td>\n",
       "      <td>...</td>\n",
       "      <td>NaN</td>\n",
       "      <td>NaN</td>\n",
       "      <td>NaN</td>\n",
       "      <td>NaN</td>\n",
       "      <td>NaN</td>\n",
       "      <td>NaN</td>\n",
       "      <td>NaN</td>\n",
       "      <td>NaN</td>\n",
       "      <td>NaN</td>\n",
       "      <td>SSA</td>\n",
       "    </tr>\n",
       "    <tr>\n",
       "      <th>4</th>\n",
       "      <td>Angola</td>\n",
       "      <td>US$</td>\n",
       "      <td>NaT</td>\n",
       "      <td>812.704326</td>\n",
       "      <td>NaN</td>\n",
       "      <td>NaN</td>\n",
       "      <td>NaN</td>\n",
       "      <td>NaN</td>\n",
       "      <td>NaN</td>\n",
       "      <td>NaN</td>\n",
       "      <td>...</td>\n",
       "      <td>NaN</td>\n",
       "      <td>NaN</td>\n",
       "      <td>NaN</td>\n",
       "      <td>NaN</td>\n",
       "      <td>NaN</td>\n",
       "      <td>NaN</td>\n",
       "      <td>NaN</td>\n",
       "      <td>NaN</td>\n",
       "      <td>NaN</td>\n",
       "      <td>SSA</td>\n",
       "    </tr>\n",
       "  </tbody>\n",
       "</table>\n",
       "<p>5 rows × 39 columns</p>\n",
       "</div>"
      ],
      "text/plain": [
       "  Country Currency Year  Per capita GDP  cyear  ccode scode  flag  fragment  \\\n",
       "0  Angola      US$  NaT      604.189952    NaN    NaN   NaN   NaN       NaN   \n",
       "1  Angola      US$  NaT      622.501779    NaN    NaN   NaN   NaN       NaN   \n",
       "2  Angola      US$  NaT      622.704067    NaN    NaN   NaN   NaN       NaN   \n",
       "3  Angola      US$  NaT      743.128379    NaN    NaN   NaN   NaN       NaN   \n",
       "4  Angola      US$  NaT      812.704326    NaN    NaN   NaN   NaN       NaN   \n",
       "\n",
       "   democ   ...    bmonth  bday  byear  bprec  post  change  d4  sf  regtrans  \\\n",
       "0    NaN   ...       NaN   NaN    NaN    NaN   NaN     NaN NaN NaN       NaN   \n",
       "1    NaN   ...       NaN   NaN    NaN    NaN   NaN     NaN NaN NaN       NaN   \n",
       "2    NaN   ...       NaN   NaN    NaN    NaN   NaN     NaN NaN NaN       NaN   \n",
       "3    NaN   ...       NaN   NaN    NaN    NaN   NaN     NaN NaN NaN       NaN   \n",
       "4    NaN   ...       NaN   NaN    NaN    NaN   NaN     NaN NaN NaN       NaN   \n",
       "\n",
       "   Region  \n",
       "0     SSA  \n",
       "1     SSA  \n",
       "2     SSA  \n",
       "3     SSA  \n",
       "4     SSA  \n",
       "\n",
       "[5 rows x 39 columns]"
      ]
     },
     "execution_count": 42,
     "metadata": {},
     "output_type": "execute_result"
    }
   ],
   "source": [
    "findf.head()"
   ]
  },
  {
   "cell_type": "code",
   "execution_count": 43,
   "metadata": {
    "ExecuteTime": {
     "end_time": "2017-12-31T22:56:53.202916Z",
     "start_time": "2017-12-31T22:56:53.198913Z"
    }
   },
   "outputs": [],
   "source": [
    "#findf['Region']"
   ]
  },
  {
   "cell_type": "code",
   "execution_count": 44,
   "metadata": {
    "ExecuteTime": {
     "end_time": "2017-12-31T22:56:53.991468Z",
     "start_time": "2017-12-31T22:56:53.987473Z"
    }
   },
   "outputs": [],
   "source": [
    "#findf.groupby(['Country', pd.Grouper(key='Year', freq='D')])['Per capita GDP'].mean()"
   ]
  },
  {
   "cell_type": "code",
   "execution_count": 45,
   "metadata": {
    "ExecuteTime": {
     "end_time": "2017-12-31T22:56:54.457992Z",
     "start_time": "2017-12-31T22:56:54.454989Z"
    }
   },
   "outputs": [],
   "source": [
    "import numpy as np"
   ]
  },
  {
   "cell_type": "code",
   "execution_count": 46,
   "metadata": {
    "ExecuteTime": {
     "end_time": "2017-12-31T22:56:55.253947Z",
     "start_time": "2017-12-31T22:56:55.245941Z"
    }
   },
   "outputs": [
    {
     "data": {
      "text/plain": [
       "Series([], Name: Per capita GDP, dtype: float64)"
      ]
     },
     "execution_count": 46,
     "metadata": {},
     "output_type": "execute_result"
    }
   ],
   "source": [
    "findf.groupby(['Region', 'Year'])['Per capita GDP'].agg(np.mean)"
   ]
  },
  {
   "cell_type": "code",
   "execution_count": null,
   "metadata": {
    "ExecuteTime": {
     "end_time": "2017-12-31T22:57:05.682666Z",
     "start_time": "2017-12-31T22:57:05.675661Z"
    }
   },
   "outputs": [],
   "source": []
  },
  {
   "cell_type": "code",
   "execution_count": null,
   "metadata": {},
   "outputs": [],
   "source": []
  },
  {
   "cell_type": "code",
   "execution_count": null,
   "metadata": {
    "collapsed": true
   },
   "outputs": [],
   "source": [
    "# useful subsetting technique\n",
    "# ValidVisitorIDs = convdf1['cs.visitor_id'].unique().tolist()\n",
    "# resultdf = df[df['cs.visitor_id'].isin(ValidVisitorIDs)]\n",
    "# drop rows when meandf1[(meandf1['Polity2'].notnull()) & (len(meandf1['Country']) != len(findf['Year']))]\n",
    "\n",
    "'''\n",
    "units = meandf1['Country'].tolist()\n",
    "\n",
    "for c in units:\n",
    "    if meandf1['Polity2'].notnull() & len(meandf1['Country']) != len(findf['Year']):\n",
    "        meandf1.drop(c, axis=0)\n",
    "    else:\n",
    "        pass\n",
    "'''\n",
    "\n"
   ]
  },
  {
   "cell_type": "code",
   "execution_count": null,
   "metadata": {
    "collapsed": true
   },
   "outputs": [],
   "source": [
    "# WORKING WITH MEAN DF \n",
    "# df[(df['cs.visitor_id'] == vid) & (df['cs.evar59'].notnull())]\n",
    "meandf1 = findf[['Country', 'Year', 'Per capita GDP', 'Polity2']]\n",
    "#else:\n",
    "#pass\n",
    "\n",
    "# meandf1 = findf[(findf['Per capita GDP'].notnull()) & (findf['Polity2'].notnull())]\n",
    "\n"
   ]
  },
  {
   "cell_type": "code",
   "execution_count": null,
   "metadata": {
    "collapsed": true
   },
   "outputs": [],
   "source": [
    "# investigate meandf\n",
    "\n",
    "meandf1.index = pd.RangeIndex(len(meandf1.index))\n",
    "\n",
    "display(meandf1.head(100))\n",
    "display(meandf1.tail(100))\n",
    "print(meandf1.shape)\n",
    "meandf1.info()\n"
   ]
  },
  {
   "cell_type": "code",
   "execution_count": null,
   "metadata": {
    "collapsed": true
   },
   "outputs": [],
   "source": [
    "# region column SSA\n",
    "# create a list for each country and loop through it creating column meandf1['Region'] = 'SSA'\n",
    "\n",
    "\n",
    "\n"
   ]
  },
  {
   "cell_type": "code",
   "execution_count": null,
   "metadata": {
    "collapsed": true
   },
   "outputs": [],
   "source": [
    "# drop countries where polity2 is null in any year\n",
    "\n",
    "dropc = findf1[findf1['Polity2'].isnull()].tolist()"
   ]
  },
  {
   "cell_type": "code",
   "execution_count": null,
   "metadata": {
    "collapsed": true
   },
   "outputs": [],
   "source": []
  },
  {
   "cell_type": "code",
   "execution_count": null,
   "metadata": {
    "collapsed": true
   },
   "outputs": [],
   "source": []
  },
  {
   "cell_type": "code",
   "execution_count": null,
   "metadata": {
    "collapsed": true,
    "hide_input": false
   },
   "outputs": [],
   "source": [
    "# load growth module and reshape\n",
    "# file = r'C:\\Users\\Mohamed Ahmed Warsam\\Desktop\\Material\\WORKING DIRECTORY\\Governance_Growth\\Governance.xlsx'\n",
    "\n",
    "data1 = pd.read_excel(datapath, sheetname=0)\n",
    "display (data1.head())"
   ]
  },
  {
   "cell_type": "code",
   "execution_count": null,
   "metadata": {
    "collapsed": true
   },
   "outputs": [],
   "source": [
    "# reshape and cleaning 1\n",
    "\n",
    "melt_data = data1.melt(id_vars=['Country Name', 'Country Code', 'Indicator Name', 'Indicator Code'], var_name=\"Year\")\n",
    "melt_data.tail()"
   ]
  },
  {
   "cell_type": "code",
   "execution_count": null,
   "metadata": {
    "collapsed": true
   },
   "outputs": [],
   "source": [
    "# reshape and cleaning 2\n",
    "\n",
    "melt_data = melt_data[['Country Name', 'Country Code', 'Indicator Name', 'Indicator Code', 'Year', 'value']]\n",
    "#melt_data.pivot(index='Country Name', columns='Indicator Name', values='value')\n",
    "copy_melt = melt_data.copy()\n"
   ]
  },
  {
   "cell_type": "code",
   "execution_count": null,
   "metadata": {
    "collapsed": true
   },
   "outputs": [],
   "source": [
    "# reshape and cleaning 3\n",
    "\n",
    "copy_melt = pd.pivot_table(copy_melt, values = 'value', index=['Country Name', 'Country Code','Year'], columns = 'Indicator Name').reset_index()\n",
    "#copy_melt.index = piv_data['Year']\n",
    "copy_melt.head()\n",
    "\n"
   ]
  },
  {
   "cell_type": "code",
   "execution_count": null,
   "metadata": {
    "collapsed": true
   },
   "outputs": [],
   "source": [
    "# dropping columns that are not needed\n",
    "# dropping the \"number of sources\", \"lower bound and upper bound\", and \"standard error\"\n",
    "# ideally you would automate this task by selecting all columns with the string estimate, and lower, upper\n",
    "\n",
    "display (copy_melt.columns)\n",
    "\n",
    "selection = ['Country Name', 'Country Code', 'Year', 'Control of Corruption: Estimate', 'Control of Corruption: Percentile Rank', 'Government Effectiveness: Estimate', 'Government Effectiveness: Percentile Rank', 'Political Stability and Absence of Violence/Terrorism: Estimate', 'Political Stability and Absence of Violence/Terrorism: Percentile Rank', 'Regulatory Quality: Estimate', 'Regulatory Quality: Percentile Rank', 'Rule of Law: Estimate', 'Rule of Law: Percentile Rank', 'Voice and Accountability: Estimate', 'Voice and Accountability: Percentile Rank']\n",
    "\n",
    "display (selection)\n",
    "display (type(selection))"
   ]
  },
  {
   "cell_type": "code",
   "execution_count": null,
   "metadata": {
    "collapsed": true
   },
   "outputs": [],
   "source": [
    "govdf = copy_melt[selection]\n",
    "display(govdf.head())\n",
    "print(govdf.shape)"
   ]
  },
  {
   "cell_type": "code",
   "execution_count": null,
   "metadata": {
    "collapsed": true
   },
   "outputs": [],
   "source": [
    "# inspect the regions and subset fingovdf to get the final dataset for merging\n",
    "\n"
   ]
  },
  {
   "cell_type": "code",
   "execution_count": null,
   "metadata": {
    "collapsed": true
   },
   "outputs": [],
   "source": []
  },
  {
   "cell_type": "code",
   "execution_count": null,
   "metadata": {
    "collapsed": true
   },
   "outputs": [],
   "source": []
  },
  {
   "cell_type": "code",
   "execution_count": null,
   "metadata": {
    "collapsed": true
   },
   "outputs": [],
   "source": [
    "# inspecting null entries visually\n",
    "\n",
    "plt.figure(figsize=(12,8))\n",
    "sns.heatmap(copy_melt.isnull(), yticklabels=False, cbar=False, cmap='viridis')"
   ]
  },
  {
   "cell_type": "code",
   "execution_count": null,
   "metadata": {
    "collapsed": true
   },
   "outputs": [],
   "source": []
  },
  {
   "cell_type": "code",
   "execution_count": null,
   "metadata": {
    "collapsed": true
   },
   "outputs": [],
   "source": [
    "# same to the growth dataset\n",
    "# load data\n",
    "\n",
    "file2 = r'C:\\Users\\Mohamed Ahmed Warsam\\Desktop\\Material\\WORKING DIRECTORY\\Governance_Growth\\Development.xlsx'\n",
    "data2 = pd.read_excel(file2, sheetname=0)\n",
    "display (data2.head())"
   ]
  },
  {
   "cell_type": "code",
   "execution_count": null,
   "metadata": {
    "collapsed": true
   },
   "outputs": [],
   "source": [
    "# reshape and cleaning 1\n",
    "\n",
    "melt_data2 = data2.melt(id_vars=['Country Name', 'Country Code', 'Indicator Name', 'Indicator Code'], var_name=\"Year\")\n",
    "melt_data2.tail()"
   ]
  },
  {
   "cell_type": "code",
   "execution_count": null,
   "metadata": {
    "collapsed": true
   },
   "outputs": [],
   "source": [
    "# reshape and cleaning 2\n",
    "\n",
    "melt_data2 = melt_data2[['Country Name', 'Country Code', 'Indicator Name', 'Indicator Code', 'Year', 'value']]\n",
    "#melt_data.pivot(index='Country Name', columns='Indicator Name', values='value')\n",
    "copy_melt2 = melt_data2.copy()\n"
   ]
  },
  {
   "cell_type": "code",
   "execution_count": null,
   "metadata": {
    "collapsed": true
   },
   "outputs": [],
   "source": [
    "# reshape and cleaning 3\n",
    "\n",
    "copy_melt2 = pd.pivot_table(copy_melt2, values = 'value', index=['Country Name', 'Country Code','Year'], columns = 'Indicator Name').reset_index()\n",
    "#copy_melt.index = piv_data['Year']\n",
    "copy_melt2.head()\n"
   ]
  },
  {
   "cell_type": "code",
   "execution_count": null,
   "metadata": {
    "collapsed": true
   },
   "outputs": [],
   "source": [
    "# shape \n",
    "\n",
    "display(copy_melt2.shape)\n",
    "print(copy_melt2.info())"
   ]
  },
  {
   "cell_type": "code",
   "execution_count": null,
   "metadata": {
    "collapsed": true
   },
   "outputs": [],
   "source": [
    "# download as excel file\n",
    "\n",
    "# Create a Pandas Excel writer using XlsxWriter as the engine.\n",
    "writer = pd.ExcelWriter('pandas_simple1.xlsx', engine='xlsxwriter')\n",
    "\n",
    "# Convert the dataframe to an XlsxWriter Excel object.\n",
    "copy_melt2.to_excel(writer, sheet_name='Sheet1')\n",
    "\n",
    "# Close the Pandas Excel writer and output the Excel file.\n",
    "writer.save()"
   ]
  },
  {
   "cell_type": "code",
   "execution_count": null,
   "metadata": {
    "collapsed": true
   },
   "outputs": [],
   "source": [
    "# filter dataset by region - Africa\n",
    "\n",
    "SSA = [\"Angola\", \"Gabon\", \"Nigeria\", \"Benin\", \"Gambia, The\", \"Rwanda\", \"Guinea-Bissau\",\n",
    "   \"Botswana\", \"Ghana\", \"São Tomé and Principe\", \"Burkina Faso\", \"Guinea\", \"Senegal\", \"Burundi\", \"Seychelles\", \"Cabo Verde\", \"Kenya\", \"Sierra Leone\", \"Cameroon\", \"Lesotho\", \"Somalia\", \"Central African Republic\", \"Liberia\", \"South Africa\", \"Chad\", \"Madagascar\", \"Comoros\", \"Malawi\", \"Sudan\", \"Congo, Dem. Rep.\", \"Mali\", \"Swaziland\", \"Congo, Rep\", \"Mauritania\", \"Tanzania\", \"Côte d'Ivoire\", \"Mauritius\", \"Togo\", \"Equatorial Guinea\", \"Mozambique\", \"Uganda\", \"Eritrea\" \"Namibia\", \"Zambia\", \"Ethiopia\", \"Niger\", \"Zimbabwe\"]\n",
    "\n"
   ]
  },
  {
   "cell_type": "code",
   "execution_count": null,
   "metadata": {
    "collapsed": true
   },
   "outputs": [],
   "source": [
    "# filter dataset by region - SSA filtering\n",
    "\n",
    "ssa_melt = copy_melt2[copy_melt2['Country Name'].isin(SSA)]\n",
    "\n"
   ]
  },
  {
   "cell_type": "code",
   "execution_count": null,
   "metadata": {
    "collapsed": true
   },
   "outputs": [],
   "source": [
    "# Export ssa_melt\n",
    "\n",
    "# Create a Pandas Excel writer using XlsxWriter as the engine.\n",
    "writer = pd.ExcelWriter('dev_indicators_ssa.xlsx', engine='xlsxwriter')\n",
    "\n",
    "# Convert the dataframe to an XlsxWriter Excel object.\n",
    "ssa_melt.to_excel(writer, sheet_name='Sheet1')\n",
    "\n",
    "# Close the Pandas Excel writer and output the Excel file.\n",
    "writer.save()"
   ]
  },
  {
   "cell_type": "code",
   "execution_count": null,
   "metadata": {
    "collapsed": true
   },
   "outputs": [],
   "source": [
    "# filter dataset by region - LATIN AMERICA AND THE CARIBBEAN\n",
    "\n",
    "LATC = [\"Paraguay\", \"Argentina\", \"Peru\", \"Dominican Republic\", \"Ecuador\", \"El Salvador\", \"Bolivia\", \"Guatemala\",\n",
    "\"Brazil\", \"Haiti\",\"Honduras\", \"Chile\", \"Jamaica\", \"Colombia\", \"Mexico\", \"Uruguay\", \"Costa Rica\", \"Nicaragua\", \"Venezuela, RB\", \"Cuba\", \"Panama\"]\n",
    "\n"
   ]
  },
  {
   "cell_type": "code",
   "execution_count": null,
   "metadata": {
    "collapsed": true
   },
   "outputs": [],
   "source": [
    "# filter dataset by region - EAST ASIA AND PACIFIC \n",
    "\n",
    "EAP = [\"Philippines\", \"Lao PDR\", \"Brunei Darussalam\", \"Cambodia\", \"Malaysia\", \"Thailand\", \"Mongolia\", \"Myanmar\", \"Papua New Guinea\", \"Indonesia\",\"Vietnam\"]\n",
    "\n",
    "\n"
   ]
  },
  {
   "cell_type": "code",
   "execution_count": null,
   "metadata": {
    "collapsed": true
   },
   "outputs": [],
   "source": [
    "# Now get the dataset ready \n",
    "# merge PolityIV with development indicators for SSA and timerange\n",
    "\n",
    "timerange = [1990, 1991, 1992, 1993, 1994, 1995, 1996, 1997, 1998, 2000, 2001, 2002, 2003, 2004, 2005, 2006, 2007,\n",
    "            2008, 2009, 2010, 2011, 2012, 2013, 2013, 2014, 2015, 2016]"
   ]
  },
  {
   "cell_type": "code",
   "execution_count": null,
   "metadata": {
    "collapsed": true
   },
   "outputs": [],
   "source": []
  },
  {
   "cell_type": "code",
   "execution_count": null,
   "metadata": {
    "collapsed": true
   },
   "outputs": [],
   "source": [
    "resultdf = df[df['cs.visitor_id'].isin(by_year)]"
   ]
  },
  {
   "cell_type": "code",
   "execution_count": null,
   "metadata": {
    "collapsed": true
   },
   "outputs": [],
   "source": [
    "resultdf2 = "
   ]
  },
  {
   "cell_type": "code",
   "execution_count": null,
   "metadata": {
    "collapsed": true
   },
   "outputs": [],
   "source": [
    "finaldf = df[(df['year'].isin(time_range)) & (df['country'].isin(Africa_countries))]"
   ]
  },
  {
   "cell_type": "code",
   "execution_count": null,
   "metadata": {
    "collapsed": true
   },
   "outputs": [],
   "source": []
  },
  {
   "cell_type": "code",
   "execution_count": null,
   "metadata": {
    "collapsed": true
   },
   "outputs": [],
   "source": [
    "\n",
    "\n"
   ]
  },
  {
   "cell_type": "code",
   "execution_count": null,
   "metadata": {
    "collapsed": true
   },
   "outputs": [],
   "source": [
    "pd.merge?"
   ]
  },
  {
   "cell_type": "code",
   "execution_count": null,
   "metadata": {
    "collapsed": true
   },
   "outputs": [],
   "source": []
  },
  {
   "cell_type": "code",
   "execution_count": null,
   "metadata": {
    "collapsed": true
   },
   "outputs": [],
   "source": []
  },
  {
   "cell_type": "code",
   "execution_count": null,
   "metadata": {
    "collapsed": true
   },
   "outputs": [],
   "source": []
  },
  {
   "cell_type": "code",
   "execution_count": null,
   "metadata": {
    "collapsed": true
   },
   "outputs": [],
   "source": []
  }
 ],
 "metadata": {
  "kernelspec": {
   "display_name": "Python 3",
   "language": "python",
   "name": "python3"
  },
  "language_info": {
   "codemirror_mode": {
    "name": "ipython",
    "version": 3
   },
   "file_extension": ".py",
   "mimetype": "text/x-python",
   "name": "python",
   "nbconvert_exporter": "python",
   "pygments_lexer": "ipython3",
   "version": "3.6.3"
  },
  "latex_envs": {
   "LaTeX_envs_menu_present": true,
   "autoclose": false,
   "autocomplete": true,
   "bibliofile": "biblio.bib",
   "cite_by": "apalike",
   "current_citInitial": 1,
   "eqLabelWithNumbers": true,
   "eqNumInitial": 1,
   "hotkeys": {
    "equation": "Ctrl-E",
    "itemize": "Ctrl-I"
   },
   "labels_anchors": false,
   "latex_user_defs": false,
   "report_style_numbering": true,
   "user_envs_cfg": false
  },
  "nbTranslate": {
   "displayLangs": [
    "*"
   ],
   "hotkey": "alt-t",
   "langInMainMenu": true,
   "sourceLang": "en",
   "targetLang": "fr",
   "useGoogleTranslate": true
  },
  "toc": {
   "nav_menu": {},
   "number_sections": true,
   "sideBar": true,
   "skip_h1_title": false,
   "toc_cell": false,
   "toc_position": {},
   "toc_section_display": "block",
   "toc_window_display": false
  },
  "varInspector": {
   "cols": {
    "lenName": 16,
    "lenType": 16,
    "lenVar": 40
   },
   "kernels_config": {
    "python": {
     "delete_cmd_postfix": "",
     "delete_cmd_prefix": "del ",
     "library": "var_list.py",
     "varRefreshCmd": "print(var_dic_list())"
    },
    "r": {
     "delete_cmd_postfix": ") ",
     "delete_cmd_prefix": "rm(",
     "library": "var_list.r",
     "varRefreshCmd": "cat(var_dic_list()) "
    }
   },
   "types_to_exclude": [
    "module",
    "function",
    "builtin_function_or_method",
    "instance",
    "_Feature"
   ],
   "window_display": false
  }
 },
 "nbformat": 4,
 "nbformat_minor": 2
}

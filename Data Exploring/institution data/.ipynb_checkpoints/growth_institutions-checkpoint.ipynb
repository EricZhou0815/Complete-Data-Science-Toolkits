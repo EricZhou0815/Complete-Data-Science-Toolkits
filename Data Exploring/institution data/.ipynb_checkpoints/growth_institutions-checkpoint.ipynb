{
 "cells": [
  {
   "cell_type": "code",
   "execution_count": null,
   "metadata": {
    "code_folding": [],
    "collapsed": true
   },
   "outputs": [],
   "source": [
    "# Overall goal is to load the 4 disparate datasets and merge them into one\n",
    "# then I need to create regions column for comparison and analysis\n",
    "# then I need to come up with a road map on what we can do with the data"
   ]
  },
  {
   "cell_type": "code",
   "execution_count": 1,
   "metadata": {
    "ExecuteTime": {
     "end_time": "2017-12-30T21:56:07.354021Z",
     "start_time": "2017-12-30T21:55:39.803693Z"
    },
    "hide_input": false
   },
   "outputs": [],
   "source": [
    "import pandas as pd\n",
    "import seaborn as sns\n",
    "import matplotlib.pyplot as plt\n",
    "import sys\n",
    "import warnings\n",
    "warnings.filterwarnings('ignore')\n",
    "from IPython.display import display\n"
   ]
  },
  {
   "cell_type": "code",
   "execution_count": 2,
   "metadata": {
    "ExecuteTime": {
     "end_time": "2017-12-30T21:57:22.960557Z",
     "start_time": "2017-12-30T21:57:22.951051Z"
    }
   },
   "outputs": [],
   "source": [
    "# create directory\n",
    "\n",
    "# import pathlib\n",
    "# path = pathlib.Path(r'C:\\Users\\Mohamed Ahmed Warsam\\Desktop\\Material\\WORKING DIRECTORY\\Governance_Growth').mkdir(parents=True, # exist_ok=True) \n",
    "\n",
    "#import os\n",
    "#path = os.chdir(r'C:\\Users\\Mohamed Ahmed Warsam\\Desktop\\PythonScripts')\n",
    "datapath1 = 'data/p4v2016.xlsx'\n",
    "datapath2 = 'gdp_per_capita.xlsx'"
   ]
  },
  {
   "cell_type": "code",
   "execution_count": 3,
   "metadata": {
    "ExecuteTime": {
     "end_time": "2017-12-30T21:57:25.916868Z",
     "start_time": "2017-12-30T21:57:25.340325Z"
    }
   },
   "outputs": [
    {
     "ename": "FileNotFoundError",
     "evalue": "[Errno 2] No such file or directory: 'data/p4v2016.xlsx'",
     "output_type": "error",
     "traceback": [
      "\u001b[1;31m---------------------------------------------------------------------------\u001b[0m",
      "\u001b[1;31mFileNotFoundError\u001b[0m                         Traceback (most recent call last)",
      "\u001b[1;32m<ipython-input-3-bfcf50334ab1>\u001b[0m in \u001b[0;36m<module>\u001b[1;34m()\u001b[0m\n\u001b[0;32m      1\u001b[0m \u001b[1;31m# load the two dataframes\u001b[0m\u001b[1;33m\u001b[0m\u001b[1;33m\u001b[0m\u001b[0m\n\u001b[0;32m      2\u001b[0m \u001b[1;33m\u001b[0m\u001b[0m\n\u001b[1;32m----> 3\u001b[1;33m \u001b[0mdata1\u001b[0m \u001b[1;33m=\u001b[0m \u001b[0mpd\u001b[0m\u001b[1;33m.\u001b[0m\u001b[0mread_excel\u001b[0m\u001b[1;33m(\u001b[0m\u001b[0mdatapath1\u001b[0m\u001b[1;33m,\u001b[0m \u001b[0msheetname\u001b[0m\u001b[1;33m=\u001b[0m\u001b[1;36m0\u001b[0m\u001b[1;33m)\u001b[0m\u001b[1;33m\u001b[0m\u001b[0m\n\u001b[0m\u001b[0;32m      4\u001b[0m \u001b[0mdata2\u001b[0m \u001b[1;33m=\u001b[0m \u001b[0mpd\u001b[0m\u001b[1;33m.\u001b[0m\u001b[0mread_excel\u001b[0m\u001b[1;33m(\u001b[0m\u001b[0mdatapath2\u001b[0m\u001b[1;33m,\u001b[0m \u001b[0msheetname\u001b[0m\u001b[1;33m=\u001b[0m\u001b[1;36m0\u001b[0m\u001b[1;33m)\u001b[0m\u001b[1;33m\u001b[0m\u001b[0m\n",
      "\u001b[1;32m~\\Anaconda3\\lib\\site-packages\\pandas\\io\\excel.py\u001b[0m in \u001b[0;36mread_excel\u001b[1;34m(io, sheetname, header, skiprows, skip_footer, index_col, names, parse_cols, parse_dates, date_parser, na_values, thousands, convert_float, has_index_names, converters, dtype, true_values, false_values, engine, squeeze, **kwds)\u001b[0m\n\u001b[0;32m    201\u001b[0m \u001b[1;33m\u001b[0m\u001b[0m\n\u001b[0;32m    202\u001b[0m     \u001b[1;32mif\u001b[0m \u001b[1;32mnot\u001b[0m \u001b[0misinstance\u001b[0m\u001b[1;33m(\u001b[0m\u001b[0mio\u001b[0m\u001b[1;33m,\u001b[0m \u001b[0mExcelFile\u001b[0m\u001b[1;33m)\u001b[0m\u001b[1;33m:\u001b[0m\u001b[1;33m\u001b[0m\u001b[0m\n\u001b[1;32m--> 203\u001b[1;33m         \u001b[0mio\u001b[0m \u001b[1;33m=\u001b[0m \u001b[0mExcelFile\u001b[0m\u001b[1;33m(\u001b[0m\u001b[0mio\u001b[0m\u001b[1;33m,\u001b[0m \u001b[0mengine\u001b[0m\u001b[1;33m=\u001b[0m\u001b[0mengine\u001b[0m\u001b[1;33m)\u001b[0m\u001b[1;33m\u001b[0m\u001b[0m\n\u001b[0m\u001b[0;32m    204\u001b[0m \u001b[1;33m\u001b[0m\u001b[0m\n\u001b[0;32m    205\u001b[0m     return io._parse_excel(\n",
      "\u001b[1;32m~\\Anaconda3\\lib\\site-packages\\pandas\\io\\excel.py\u001b[0m in \u001b[0;36m__init__\u001b[1;34m(self, io, **kwds)\u001b[0m\n\u001b[0;32m    258\u001b[0m             \u001b[0mself\u001b[0m\u001b[1;33m.\u001b[0m\u001b[0mbook\u001b[0m \u001b[1;33m=\u001b[0m \u001b[0mxlrd\u001b[0m\u001b[1;33m.\u001b[0m\u001b[0mopen_workbook\u001b[0m\u001b[1;33m(\u001b[0m\u001b[0mfile_contents\u001b[0m\u001b[1;33m=\u001b[0m\u001b[0mdata\u001b[0m\u001b[1;33m)\u001b[0m\u001b[1;33m\u001b[0m\u001b[0m\n\u001b[0;32m    259\u001b[0m         \u001b[1;32melif\u001b[0m \u001b[0misinstance\u001b[0m\u001b[1;33m(\u001b[0m\u001b[0mio\u001b[0m\u001b[1;33m,\u001b[0m \u001b[0mcompat\u001b[0m\u001b[1;33m.\u001b[0m\u001b[0mstring_types\u001b[0m\u001b[1;33m)\u001b[0m\u001b[1;33m:\u001b[0m\u001b[1;33m\u001b[0m\u001b[0m\n\u001b[1;32m--> 260\u001b[1;33m             \u001b[0mself\u001b[0m\u001b[1;33m.\u001b[0m\u001b[0mbook\u001b[0m \u001b[1;33m=\u001b[0m \u001b[0mxlrd\u001b[0m\u001b[1;33m.\u001b[0m\u001b[0mopen_workbook\u001b[0m\u001b[1;33m(\u001b[0m\u001b[0mio\u001b[0m\u001b[1;33m)\u001b[0m\u001b[1;33m\u001b[0m\u001b[0m\n\u001b[0m\u001b[0;32m    261\u001b[0m         \u001b[1;32melse\u001b[0m\u001b[1;33m:\u001b[0m\u001b[1;33m\u001b[0m\u001b[0m\n\u001b[0;32m    262\u001b[0m             raise ValueError('Must explicitly set engine if not passing in'\n",
      "\u001b[1;32m~\\Anaconda3\\lib\\site-packages\\xlrd\\__init__.py\u001b[0m in \u001b[0;36mopen_workbook\u001b[1;34m(filename, logfile, verbosity, use_mmap, file_contents, encoding_override, formatting_info, on_demand, ragged_rows)\u001b[0m\n\u001b[0;32m    114\u001b[0m         \u001b[0mpeek\u001b[0m \u001b[1;33m=\u001b[0m \u001b[0mfile_contents\u001b[0m\u001b[1;33m[\u001b[0m\u001b[1;33m:\u001b[0m\u001b[0mpeeksz\u001b[0m\u001b[1;33m]\u001b[0m\u001b[1;33m\u001b[0m\u001b[0m\n\u001b[0;32m    115\u001b[0m     \u001b[1;32melse\u001b[0m\u001b[1;33m:\u001b[0m\u001b[1;33m\u001b[0m\u001b[0m\n\u001b[1;32m--> 116\u001b[1;33m         \u001b[1;32mwith\u001b[0m \u001b[0mopen\u001b[0m\u001b[1;33m(\u001b[0m\u001b[0mfilename\u001b[0m\u001b[1;33m,\u001b[0m \u001b[1;34m\"rb\"\u001b[0m\u001b[1;33m)\u001b[0m \u001b[1;32mas\u001b[0m \u001b[0mf\u001b[0m\u001b[1;33m:\u001b[0m\u001b[1;33m\u001b[0m\u001b[0m\n\u001b[0m\u001b[0;32m    117\u001b[0m             \u001b[0mpeek\u001b[0m \u001b[1;33m=\u001b[0m \u001b[0mf\u001b[0m\u001b[1;33m.\u001b[0m\u001b[0mread\u001b[0m\u001b[1;33m(\u001b[0m\u001b[0mpeeksz\u001b[0m\u001b[1;33m)\u001b[0m\u001b[1;33m\u001b[0m\u001b[0m\n\u001b[0;32m    118\u001b[0m     \u001b[1;32mif\u001b[0m \u001b[0mpeek\u001b[0m \u001b[1;33m==\u001b[0m \u001b[1;34mb\"PK\\x03\\x04\"\u001b[0m\u001b[1;33m:\u001b[0m \u001b[1;31m# a ZIP file\u001b[0m\u001b[1;33m\u001b[0m\u001b[0m\n",
      "\u001b[1;31mFileNotFoundError\u001b[0m: [Errno 2] No such file or directory: 'data/p4v2016.xlsx'"
     ]
    }
   ],
   "source": [
    "# load the two dataframes\n",
    "\n",
    "data1 = pd.read_excel(datapath1, sheetname=0)\n",
    "data2 = pd.read_excel(datapath2, sheetname=0)\n"
   ]
  },
  {
   "cell_type": "code",
   "execution_count": 5,
   "metadata": {},
   "outputs": [
    {
     "data": {
      "text/html": [
       "<div>\n",
       "<style>\n",
       "    .dataframe thead tr:only-child th {\n",
       "        text-align: right;\n",
       "    }\n",
       "\n",
       "    .dataframe thead th {\n",
       "        text-align: left;\n",
       "    }\n",
       "\n",
       "    .dataframe tbody tr th {\n",
       "        vertical-align: top;\n",
       "    }\n",
       "</style>\n",
       "<table border=\"1\" class=\"dataframe\">\n",
       "  <thead>\n",
       "    <tr style=\"text-align: right;\">\n",
       "      <th></th>\n",
       "      <th>Country</th>\n",
       "      <th>Year</th>\n",
       "      <th>Flag</th>\n",
       "      <th>Fragment</th>\n",
       "      <th>Democ</th>\n",
       "      <th>Autoc</th>\n",
       "      <th>Polity</th>\n",
       "      <th>Polity2</th>\n",
       "      <th>Durable</th>\n",
       "      <th>Xrreg</th>\n",
       "      <th>Xrcomp</th>\n",
       "      <th>Xropen</th>\n",
       "      <th>Xconst</th>\n",
       "    </tr>\n",
       "  </thead>\n",
       "  <tbody>\n",
       "    <tr>\n",
       "      <th>0</th>\n",
       "      <td>Afghanistan</td>\n",
       "      <td>1800</td>\n",
       "      <td>0</td>\n",
       "      <td>NaN</td>\n",
       "      <td>1</td>\n",
       "      <td>7</td>\n",
       "      <td>-6</td>\n",
       "      <td>-6.0</td>\n",
       "      <td>NaN</td>\n",
       "      <td>3</td>\n",
       "      <td>1</td>\n",
       "      <td>1</td>\n",
       "      <td>1</td>\n",
       "    </tr>\n",
       "    <tr>\n",
       "      <th>1</th>\n",
       "      <td>Afghanistan</td>\n",
       "      <td>1801</td>\n",
       "      <td>0</td>\n",
       "      <td>NaN</td>\n",
       "      <td>1</td>\n",
       "      <td>7</td>\n",
       "      <td>-6</td>\n",
       "      <td>-6.0</td>\n",
       "      <td>NaN</td>\n",
       "      <td>3</td>\n",
       "      <td>1</td>\n",
       "      <td>1</td>\n",
       "      <td>1</td>\n",
       "    </tr>\n",
       "    <tr>\n",
       "      <th>2</th>\n",
       "      <td>Afghanistan</td>\n",
       "      <td>1802</td>\n",
       "      <td>0</td>\n",
       "      <td>NaN</td>\n",
       "      <td>1</td>\n",
       "      <td>7</td>\n",
       "      <td>-6</td>\n",
       "      <td>-6.0</td>\n",
       "      <td>NaN</td>\n",
       "      <td>3</td>\n",
       "      <td>1</td>\n",
       "      <td>1</td>\n",
       "      <td>1</td>\n",
       "    </tr>\n",
       "    <tr>\n",
       "      <th>3</th>\n",
       "      <td>Afghanistan</td>\n",
       "      <td>1803</td>\n",
       "      <td>0</td>\n",
       "      <td>NaN</td>\n",
       "      <td>1</td>\n",
       "      <td>7</td>\n",
       "      <td>-6</td>\n",
       "      <td>-6.0</td>\n",
       "      <td>NaN</td>\n",
       "      <td>3</td>\n",
       "      <td>1</td>\n",
       "      <td>1</td>\n",
       "      <td>1</td>\n",
       "    </tr>\n",
       "    <tr>\n",
       "      <th>4</th>\n",
       "      <td>Afghanistan</td>\n",
       "      <td>1804</td>\n",
       "      <td>0</td>\n",
       "      <td>NaN</td>\n",
       "      <td>1</td>\n",
       "      <td>7</td>\n",
       "      <td>-6</td>\n",
       "      <td>-6.0</td>\n",
       "      <td>NaN</td>\n",
       "      <td>3</td>\n",
       "      <td>1</td>\n",
       "      <td>1</td>\n",
       "      <td>1</td>\n",
       "    </tr>\n",
       "  </tbody>\n",
       "</table>\n",
       "</div>"
      ],
      "text/plain": [
       "       Country  Year  Flag  Fragment  Democ  Autoc  Polity  Polity2  Durable  \\\n",
       "0  Afghanistan  1800     0       NaN      1      7      -6     -6.0      NaN   \n",
       "1  Afghanistan  1801     0       NaN      1      7      -6     -6.0      NaN   \n",
       "2  Afghanistan  1802     0       NaN      1      7      -6     -6.0      NaN   \n",
       "3  Afghanistan  1803     0       NaN      1      7      -6     -6.0      NaN   \n",
       "4  Afghanistan  1804     0       NaN      1      7      -6     -6.0      NaN   \n",
       "\n",
       "   Xrreg  Xrcomp  Xropen  Xconst  \n",
       "0      3       1       1       1  \n",
       "1      3       1       1       1  \n",
       "2      3       1       1       1  \n",
       "3      3       1       1       1  \n",
       "4      3       1       1       1  "
      ]
     },
     "metadata": {},
     "output_type": "display_data"
    },
    {
     "data": {
      "text/html": [
       "<div>\n",
       "<style>\n",
       "    .dataframe thead tr:only-child th {\n",
       "        text-align: right;\n",
       "    }\n",
       "\n",
       "    .dataframe thead th {\n",
       "        text-align: left;\n",
       "    }\n",
       "\n",
       "    .dataframe tbody tr th {\n",
       "        vertical-align: top;\n",
       "    }\n",
       "</style>\n",
       "<table border=\"1\" class=\"dataframe\">\n",
       "  <thead>\n",
       "    <tr style=\"text-align: right;\">\n",
       "      <th></th>\n",
       "      <th>Country</th>\n",
       "      <th>Currency</th>\n",
       "      <th>Year</th>\n",
       "      <th>Per capita GDP</th>\n",
       "    </tr>\n",
       "  </thead>\n",
       "  <tbody>\n",
       "    <tr>\n",
       "      <th>0</th>\n",
       "      <td>Afghanistan</td>\n",
       "      <td>US$</td>\n",
       "      <td>1970</td>\n",
       "      <td>157.258461</td>\n",
       "    </tr>\n",
       "    <tr>\n",
       "      <th>1</th>\n",
       "      <td>Afghanistan</td>\n",
       "      <td>US$</td>\n",
       "      <td>1971</td>\n",
       "      <td>160.443153</td>\n",
       "    </tr>\n",
       "    <tr>\n",
       "      <th>2</th>\n",
       "      <td>Afghanistan</td>\n",
       "      <td>US$</td>\n",
       "      <td>1972</td>\n",
       "      <td>136.175612</td>\n",
       "    </tr>\n",
       "    <tr>\n",
       "      <th>3</th>\n",
       "      <td>Afghanistan</td>\n",
       "      <td>US$</td>\n",
       "      <td>1973</td>\n",
       "      <td>144.173945</td>\n",
       "    </tr>\n",
       "    <tr>\n",
       "      <th>4</th>\n",
       "      <td>Afghanistan</td>\n",
       "      <td>US$</td>\n",
       "      <td>1974</td>\n",
       "      <td>175.027098</td>\n",
       "    </tr>\n",
       "  </tbody>\n",
       "</table>\n",
       "</div>"
      ],
      "text/plain": [
       "       Country Currency  Year  Per capita GDP\n",
       "0  Afghanistan      US$  1970      157.258461\n",
       "1  Afghanistan      US$  1971      160.443153\n",
       "2  Afghanistan      US$  1972      136.175612\n",
       "3  Afghanistan      US$  1973      144.173945\n",
       "4  Afghanistan      US$  1974      175.027098"
      ]
     },
     "metadata": {},
     "output_type": "display_data"
    }
   ],
   "source": [
    "# display the two dataframes\n",
    "\n",
    "display(data1.head())\n",
    "display(data2.head())"
   ]
  },
  {
   "cell_type": "code",
   "execution_count": null,
   "metadata": {
    "collapsed": true
   },
   "outputs": [],
   "source": [
    "# Motivation for paper is to show there was a change at some point in the mid 1990s\n",
    "# load the polity IV data (PolityIV.xlsx) spanning 1970 to now and the GDP per capita (gdp_per_capita.xlsx)\n",
    "# merge the data and group by region column and use mean method to get\n",
    "# 1) mean democracy score plotted with average gdp per capita to replicate the chart in Green (2013)\n",
    "# remember that some countries and years have nan values\n",
    "# strategy to overcome this is to first create a list where the polity variables are notnull\n",
    "# and then use the index attribute to select the Year column for those rows to subset the dataframe in this way\n",
    "\n"
   ]
  },
  {
   "cell_type": "code",
   "execution_count": 6,
   "metadata": {
    "collapsed": true
   },
   "outputs": [],
   "source": [
    "# first define the year and region lists\n",
    "\n",
    "timerange1 = [1970, 1971, 1972, 1973, 1974, 1975, 1976, 1977, 1978, 1979, 1980, 1981, 1982, 1983, 1984, 1985, 1986, 1987, 1988, 1989, 1990, 1991, 1992, 1993, 1994, 1995, 1996, 1997, 1998, 2000, 2001, 2002, 2003, 2004, 2005, 2006, 2007,\n",
    "            2008, 2009, 2010, 2011, 2012, 2013, 2013, 2014, 2015]\n",
    "\n"
   ]
  },
  {
   "cell_type": "code",
   "execution_count": 7,
   "metadata": {
    "collapsed": true
   },
   "outputs": [],
   "source": [
    "# first define the year and region lists\n",
    "\n",
    "# filter dataset by region - Africa\n",
    "\n",
    "SSA1 = [\"Angola\", \"Gabon\", \"Nigeria\", \"Benin\", \"Gambia, The\", \"Rwanda\", \"Guinea-Bissau\",\n",
    "   \"Botswana\", \"Ghana\", \"São Tomé and Principe\", \"Burkina Faso\", \"Guinea\", \"Senegal\", \"Burundi\", \"Seychelles\", \"Cabo Verde\", \"Kenya\", \"Sierra Leone\", \"Cameroon\", \"Lesotho\", \"Somalia\", \"Central African Republic\", \"Liberia\", \"South Africa\", \"Chad\", \"Madagascar\", \"Comoros\", \"Malawi\", \"Sudan\", \"Congo, Dem. Rep.\", \"Mali\", \"Swaziland\", \"Congo, Rep\", \"Mauritania\", \"Tanzania\", \"Côte d'Ivoire\", \"Mauritius\", \"Togo\", \"Equatorial Guinea\", \"Mozambique\", \"Uganda\", \"Eritrea\" \"Namibia\", \"Zambia\", \"Ethiopia\", \"Niger\", \"Zimbabwe\"]\n",
    "\n"
   ]
  },
  {
   "cell_type": "code",
   "execution_count": 8,
   "metadata": {
    "collapsed": true
   },
   "outputs": [],
   "source": [
    "# limit time range in polity IV series\n",
    "\n",
    "data1final = data1[(data1['Year'].isin(timerange1))]\n",
    "\n"
   ]
  },
  {
   "cell_type": "code",
   "execution_count": 9,
   "metadata": {
    "collapsed": true
   },
   "outputs": [],
   "source": [
    "# merging the two dataframes\n",
    "\n",
    "mergedf = pd.merge(left=data2, right=data1final, how='left', on=['Country', 'Year'])\n",
    "\n"
   ]
  },
  {
   "cell_type": "code",
   "execution_count": 10,
   "metadata": {
    "collapsed": true
   },
   "outputs": [],
   "source": [
    "# make sure we have the right date range and countries\n",
    "\n",
    "mergedf1 = mergedf[(mergedf['Year'].isin(timerange1)) & (mergedf['Country'].isin(SSA1))]\n"
   ]
  },
  {
   "cell_type": "code",
   "execution_count": 11,
   "metadata": {},
   "outputs": [
    {
     "data": {
      "text/html": [
       "<div>\n",
       "<style>\n",
       "    .dataframe thead tr:only-child th {\n",
       "        text-align: right;\n",
       "    }\n",
       "\n",
       "    .dataframe thead th {\n",
       "        text-align: left;\n",
       "    }\n",
       "\n",
       "    .dataframe tbody tr th {\n",
       "        vertical-align: top;\n",
       "    }\n",
       "</style>\n",
       "<table border=\"1\" class=\"dataframe\">\n",
       "  <thead>\n",
       "    <tr style=\"text-align: right;\">\n",
       "      <th></th>\n",
       "      <th>Country</th>\n",
       "      <th>Currency</th>\n",
       "      <th>Year</th>\n",
       "      <th>Per capita GDP</th>\n",
       "      <th>Flag</th>\n",
       "      <th>Fragment</th>\n",
       "      <th>Democ</th>\n",
       "      <th>Autoc</th>\n",
       "      <th>Polity</th>\n",
       "      <th>Polity2</th>\n",
       "      <th>Durable</th>\n",
       "      <th>Xrreg</th>\n",
       "      <th>Xrcomp</th>\n",
       "      <th>Xropen</th>\n",
       "      <th>Xconst</th>\n",
       "    </tr>\n",
       "  </thead>\n",
       "  <tbody>\n",
       "    <tr>\n",
       "      <th>276</th>\n",
       "      <td>Angola</td>\n",
       "      <td>US$</td>\n",
       "      <td>1970</td>\n",
       "      <td>604.189952</td>\n",
       "      <td>NaN</td>\n",
       "      <td>NaN</td>\n",
       "      <td>NaN</td>\n",
       "      <td>NaN</td>\n",
       "      <td>NaN</td>\n",
       "      <td>NaN</td>\n",
       "      <td>NaN</td>\n",
       "      <td>NaN</td>\n",
       "      <td>NaN</td>\n",
       "      <td>NaN</td>\n",
       "      <td>NaN</td>\n",
       "    </tr>\n",
       "    <tr>\n",
       "      <th>277</th>\n",
       "      <td>Angola</td>\n",
       "      <td>US$</td>\n",
       "      <td>1971</td>\n",
       "      <td>622.501779</td>\n",
       "      <td>NaN</td>\n",
       "      <td>NaN</td>\n",
       "      <td>NaN</td>\n",
       "      <td>NaN</td>\n",
       "      <td>NaN</td>\n",
       "      <td>NaN</td>\n",
       "      <td>NaN</td>\n",
       "      <td>NaN</td>\n",
       "      <td>NaN</td>\n",
       "      <td>NaN</td>\n",
       "      <td>NaN</td>\n",
       "    </tr>\n",
       "    <tr>\n",
       "      <th>278</th>\n",
       "      <td>Angola</td>\n",
       "      <td>US$</td>\n",
       "      <td>1972</td>\n",
       "      <td>622.704067</td>\n",
       "      <td>NaN</td>\n",
       "      <td>NaN</td>\n",
       "      <td>NaN</td>\n",
       "      <td>NaN</td>\n",
       "      <td>NaN</td>\n",
       "      <td>NaN</td>\n",
       "      <td>NaN</td>\n",
       "      <td>NaN</td>\n",
       "      <td>NaN</td>\n",
       "      <td>NaN</td>\n",
       "      <td>NaN</td>\n",
       "    </tr>\n",
       "    <tr>\n",
       "      <th>279</th>\n",
       "      <td>Angola</td>\n",
       "      <td>US$</td>\n",
       "      <td>1973</td>\n",
       "      <td>743.128379</td>\n",
       "      <td>NaN</td>\n",
       "      <td>NaN</td>\n",
       "      <td>NaN</td>\n",
       "      <td>NaN</td>\n",
       "      <td>NaN</td>\n",
       "      <td>NaN</td>\n",
       "      <td>NaN</td>\n",
       "      <td>NaN</td>\n",
       "      <td>NaN</td>\n",
       "      <td>NaN</td>\n",
       "      <td>NaN</td>\n",
       "    </tr>\n",
       "    <tr>\n",
       "      <th>280</th>\n",
       "      <td>Angola</td>\n",
       "      <td>US$</td>\n",
       "      <td>1974</td>\n",
       "      <td>812.704326</td>\n",
       "      <td>NaN</td>\n",
       "      <td>NaN</td>\n",
       "      <td>NaN</td>\n",
       "      <td>NaN</td>\n",
       "      <td>NaN</td>\n",
       "      <td>NaN</td>\n",
       "      <td>NaN</td>\n",
       "      <td>NaN</td>\n",
       "      <td>NaN</td>\n",
       "      <td>NaN</td>\n",
       "      <td>NaN</td>\n",
       "    </tr>\n",
       "  </tbody>\n",
       "</table>\n",
       "</div>"
      ],
      "text/plain": [
       "    Country Currency  Year  Per capita GDP  Flag  Fragment  Democ  Autoc  \\\n",
       "276  Angola      US$  1970      604.189952   NaN       NaN    NaN    NaN   \n",
       "277  Angola      US$  1971      622.501779   NaN       NaN    NaN    NaN   \n",
       "278  Angola      US$  1972      622.704067   NaN       NaN    NaN    NaN   \n",
       "279  Angola      US$  1973      743.128379   NaN       NaN    NaN    NaN   \n",
       "280  Angola      US$  1974      812.704326   NaN       NaN    NaN    NaN   \n",
       "\n",
       "     Polity  Polity2  Durable  Xrreg  Xrcomp  Xropen  Xconst  \n",
       "276     NaN      NaN      NaN    NaN     NaN     NaN     NaN  \n",
       "277     NaN      NaN      NaN    NaN     NaN     NaN     NaN  \n",
       "278     NaN      NaN      NaN    NaN     NaN     NaN     NaN  \n",
       "279     NaN      NaN      NaN    NaN     NaN     NaN     NaN  \n",
       "280     NaN      NaN      NaN    NaN     NaN     NaN     NaN  "
      ]
     },
     "metadata": {},
     "output_type": "display_data"
    },
    {
     "name": "stdout",
     "output_type": "stream",
     "text": [
      "<class 'pandas.core.frame.DataFrame'>\n",
      "Int64Index: 1744 entries, 276 to 10548\n",
      "Data columns (total 15 columns):\n",
      "Country           1744 non-null object\n",
      "Currency          1744 non-null object\n",
      "Year              1744 non-null int64\n",
      "Per capita GDP    1744 non-null float64\n",
      "Flag              1586 non-null float64\n",
      "Fragment          580 non-null float64\n",
      "Democ             1586 non-null float64\n",
      "Autoc             1586 non-null float64\n",
      "Polity            1586 non-null float64\n",
      "Polity2           1584 non-null float64\n",
      "Durable           1586 non-null float64\n",
      "Xrreg             1586 non-null float64\n",
      "Xrcomp            1586 non-null float64\n",
      "Xropen            1586 non-null float64\n",
      "Xconst            1586 non-null float64\n",
      "dtypes: float64(12), int64(1), object(2)\n",
      "memory usage: 218.0+ KB\n"
     ]
    },
    {
     "data": {
      "text/plain": [
       "None"
      ]
     },
     "metadata": {},
     "output_type": "display_data"
    }
   ],
   "source": [
    "# check mergedf1\n",
    "\n",
    "display(mergedf1.head())\n",
    "display(mergedf1.info())"
   ]
  },
  {
   "cell_type": "code",
   "execution_count": null,
   "metadata": {
    "collapsed": true
   },
   "outputs": [],
   "source": [
    "# add a region column SSA\n",
    "# drop rows for which we have no data for either of the two variables\n",
    "# groupby region and year and calculate mean GDP in an array\n",
    "# plot this against mean democracy score\n",
    "# subset the dataframe for countries that have nonnull institutional variables\n",
    "# come up with as many plots as possible\n",
    "# create a subset dataframe with year, mean gdp and mean democracy score\n",
    "\n",
    "\n"
   ]
  },
  {
   "cell_type": "code",
   "execution_count": 12,
   "metadata": {
    "collapsed": true
   },
   "outputs": [],
   "source": [
    "# final df\n",
    "\n",
    "findf = mergedf1.copy()\n",
    "findf.index = pd.RangeIndex(len(findf.index))\n"
   ]
  },
  {
   "cell_type": "code",
   "execution_count": 13,
   "metadata": {},
   "outputs": [
    {
     "name": "stdout",
     "output_type": "stream",
     "text": [
      "  Country Currency  Year  Per capita GDP  Flag  Fragment  Democ  Autoc  \\\n",
      "0  Angola      US$  1970      604.189952   NaN       NaN    NaN    NaN   \n",
      "1  Angola      US$  1971      622.501779   NaN       NaN    NaN    NaN   \n",
      "2  Angola      US$  1972      622.704067   NaN       NaN    NaN    NaN   \n",
      "3  Angola      US$  1973      743.128379   NaN       NaN    NaN    NaN   \n",
      "4  Angola      US$  1974      812.704326   NaN       NaN    NaN    NaN   \n",
      "5  Angola      US$  1975      583.542745   0.0       NaN    0.0    7.0   \n",
      "6  Angola      US$  1976      545.366469   0.0       NaN    0.0    7.0   \n",
      "7  Angola      US$  1977      579.128062   0.0       NaN    0.0    7.0   \n",
      "8  Angola      US$  1978      627.885755   0.0       NaN    0.0    7.0   \n",
      "9  Angola      US$  1979      676.503871   0.0       NaN    0.0    7.0   \n",
      "\n",
      "   Polity  Polity2  Durable  Xrreg  Xrcomp  Xropen  Xconst  \n",
      "0     NaN      NaN      NaN    NaN     NaN     NaN     NaN  \n",
      "1     NaN      NaN      NaN    NaN     NaN     NaN     NaN  \n",
      "2     NaN      NaN      NaN    NaN     NaN     NaN     NaN  \n",
      "3     NaN      NaN      NaN    NaN     NaN     NaN     NaN  \n",
      "4     NaN      NaN      NaN    NaN     NaN     NaN     NaN  \n",
      "5    -7.0     -7.0      0.0    2.0     1.0     4.0     3.0  \n",
      "6    -7.0     -7.0      1.0    2.0     1.0     4.0     3.0  \n",
      "7    -7.0     -7.0      2.0    2.0     1.0     4.0     3.0  \n",
      "8    -7.0     -7.0      3.0    2.0     1.0     4.0     3.0  \n",
      "9    -7.0     -7.0      4.0    2.0     1.0     4.0     3.0  \n"
     ]
    }
   ],
   "source": [
    "# create region column\n",
    "\n",
    "print(findf.head(10))"
   ]
  },
  {
   "cell_type": "code",
   "execution_count": 14,
   "metadata": {
    "collapsed": true
   },
   "outputs": [],
   "source": [
    "# we want a column 'Region'\n",
    "\n",
    "findf['Region'] = 'SSA'\n"
   ]
  },
  {
   "cell_type": "code",
   "execution_count": 18,
   "metadata": {},
   "outputs": [
    {
     "name": "stdout",
     "output_type": "stream",
     "text": [
      "<class 'pandas.core.frame.DataFrame'>\n",
      "RangeIndex: 1744 entries, 0 to 1743\n",
      "Data columns (total 16 columns):\n",
      "Country           1744 non-null object\n",
      "Currency          1744 non-null object\n",
      "Year              1744 non-null int64\n",
      "Per capita GDP    1744 non-null float64\n",
      "Flag              1586 non-null float64\n",
      "Fragment          580 non-null float64\n",
      "Democ             1586 non-null float64\n",
      "Autoc             1586 non-null float64\n",
      "Polity            1586 non-null float64\n",
      "Polity2           1584 non-null float64\n",
      "Durable           1586 non-null float64\n",
      "Xrreg             1586 non-null float64\n",
      "Xrcomp            1586 non-null float64\n",
      "Xropen            1586 non-null float64\n",
      "Xconst            1586 non-null float64\n",
      "Region            1744 non-null category\n",
      "dtypes: category(1), float64(12), int64(1), object(2)\n",
      "memory usage: 206.2+ KB\n"
     ]
    },
    {
     "data": {
      "text/plain": [
       "None"
      ]
     },
     "metadata": {},
     "output_type": "display_data"
    }
   ],
   "source": [
    "# check findf\n",
    "\n",
    "display(findf.info())\n",
    "\n",
    "findf['Region'] = findf['Region'].astype('category')\n"
   ]
  },
  {
   "cell_type": "code",
   "execution_count": null,
   "metadata": {
    "collapsed": true
   },
   "outputs": [],
   "source": [
    "# define sns.set()\n",
    "sns.set(style=\"darkgrid\")\n"
   ]
  },
  {
   "cell_type": "code",
   "execution_count": 20,
   "metadata": {},
   "outputs": [],
   "source": [
    "# do the group and plot the time series object\n",
    "\n",
    "meangdpc = findf.groupby(['Year', 'Region'])['Per capita GDP'].mean()\n",
    "\n",
    "meandemoc = findf.groupby(['Year', 'Region'])['Democ'].mean()\n",
    "\n"
   ]
  },
  {
   "cell_type": "code",
   "execution_count": null,
   "metadata": {
    "collapsed": true
   },
   "outputs": [],
   "source": [
    "# plotting time series object\n",
    "\n",
    "sns.tsplot(data=findf, time=\"Year\", unit=\"subject\",\n",
    "           condition=\"ROI\", value=[meangdpc, meandemoc]\"BOLD signal\")\n",
    "\n",
    "\n"
   ]
  },
  {
   "cell_type": "code",
   "execution_count": null,
   "metadata": {
    "collapsed": true
   },
   "outputs": [],
   "source": [
    "# useful subsetting technique\n",
    "# ValidVisitorIDs = convdf1['cs.visitor_id'].unique().tolist()\n",
    "# resultdf = df[df['cs.visitor_id'].isin(ValidVisitorIDs)]\n",
    "# drop rows when meandf1[(meandf1['Polity2'].notnull()) & (len(meandf1['Country']) != len(findf['Year']))]\n",
    "\n",
    "'''\n",
    "units = meandf1['Country'].tolist()\n",
    "\n",
    "for c in units:\n",
    "    if meandf1['Polity2'].notnull() & len(meandf1['Country']) != len(findf['Year']):\n",
    "        meandf1.drop(c, axis=0)\n",
    "    else:\n",
    "        pass\n",
    "'''\n",
    "\n"
   ]
  },
  {
   "cell_type": "code",
   "execution_count": null,
   "metadata": {
    "collapsed": true
   },
   "outputs": [],
   "source": [
    "# WORKING WITH MEAN DF \n",
    "# df[(df['cs.visitor_id'] == vid) & (df['cs.evar59'].notnull())]\n",
    "meandf1 = findf[['Country', 'Year', 'Per capita GDP', 'Polity2']]\n",
    "#else:\n",
    "#pass\n",
    "\n",
    "# meandf1 = findf[(findf['Per capita GDP'].notnull()) & (findf['Polity2'].notnull())]\n",
    "\n"
   ]
  },
  {
   "cell_type": "code",
   "execution_count": null,
   "metadata": {
    "collapsed": true
   },
   "outputs": [],
   "source": [
    "# investigate meandf\n",
    "\n",
    "meandf1.index = pd.RangeIndex(len(meandf1.index))\n",
    "\n",
    "display(meandf1.head(100))\n",
    "display(meandf1.tail(100))\n",
    "print(meandf1.shape)\n",
    "meandf1.info()\n"
   ]
  },
  {
   "cell_type": "code",
   "execution_count": null,
   "metadata": {
    "collapsed": true
   },
   "outputs": [],
   "source": [
    "# region column SSA\n",
    "# create a list for each country and loop through it creating column meandf1['Region'] = 'SSA'\n",
    "\n",
    "\n",
    "\n"
   ]
  },
  {
   "cell_type": "code",
   "execution_count": null,
   "metadata": {
    "collapsed": true
   },
   "outputs": [],
   "source": [
    "# drop countries where polity2 is null in any year\n",
    "\n",
    "dropc = findf1[findf1['Polity2'].isnull()].tolist()"
   ]
  },
  {
   "cell_type": "code",
   "execution_count": null,
   "metadata": {
    "collapsed": true
   },
   "outputs": [],
   "source": []
  },
  {
   "cell_type": "code",
   "execution_count": null,
   "metadata": {
    "collapsed": true
   },
   "outputs": [],
   "source": []
  },
  {
   "cell_type": "code",
   "execution_count": null,
   "metadata": {
    "collapsed": true,
    "hide_input": false
   },
   "outputs": [],
   "source": [
    "# load growth module and reshape\n",
    "# file = r'C:\\Users\\Mohamed Ahmed Warsam\\Desktop\\Material\\WORKING DIRECTORY\\Governance_Growth\\Governance.xlsx'\n",
    "\n",
    "data1 = pd.read_excel(datapath, sheetname=0)\n",
    "display (data1.head())"
   ]
  },
  {
   "cell_type": "code",
   "execution_count": null,
   "metadata": {
    "collapsed": true
   },
   "outputs": [],
   "source": [
    "# reshape and cleaning 1\n",
    "\n",
    "melt_data = data1.melt(id_vars=['Country Name', 'Country Code', 'Indicator Name', 'Indicator Code'], var_name=\"Year\")\n",
    "melt_data.tail()"
   ]
  },
  {
   "cell_type": "code",
   "execution_count": null,
   "metadata": {
    "collapsed": true
   },
   "outputs": [],
   "source": [
    "# reshape and cleaning 2\n",
    "\n",
    "melt_data = melt_data[['Country Name', 'Country Code', 'Indicator Name', 'Indicator Code', 'Year', 'value']]\n",
    "#melt_data.pivot(index='Country Name', columns='Indicator Name', values='value')\n",
    "copy_melt = melt_data.copy()\n"
   ]
  },
  {
   "cell_type": "code",
   "execution_count": null,
   "metadata": {
    "collapsed": true
   },
   "outputs": [],
   "source": [
    "# reshape and cleaning 3\n",
    "\n",
    "copy_melt = pd.pivot_table(copy_melt, values = 'value', index=['Country Name', 'Country Code','Year'], columns = 'Indicator Name').reset_index()\n",
    "#copy_melt.index = piv_data['Year']\n",
    "copy_melt.head()\n",
    "\n"
   ]
  },
  {
   "cell_type": "code",
   "execution_count": null,
   "metadata": {
    "collapsed": true
   },
   "outputs": [],
   "source": [
    "# dropping columns that are not needed\n",
    "# dropping the \"number of sources\", \"lower bound and upper bound\", and \"standard error\"\n",
    "# ideally you would automate this task by selecting all columns with the string estimate, and lower, upper\n",
    "\n",
    "display (copy_melt.columns)\n",
    "\n",
    "selection = ['Country Name', 'Country Code', 'Year', 'Control of Corruption: Estimate', 'Control of Corruption: Percentile Rank', 'Government Effectiveness: Estimate', 'Government Effectiveness: Percentile Rank', 'Political Stability and Absence of Violence/Terrorism: Estimate', 'Political Stability and Absence of Violence/Terrorism: Percentile Rank', 'Regulatory Quality: Estimate', 'Regulatory Quality: Percentile Rank', 'Rule of Law: Estimate', 'Rule of Law: Percentile Rank', 'Voice and Accountability: Estimate', 'Voice and Accountability: Percentile Rank']\n",
    "\n",
    "display (selection)\n",
    "display (type(selection))"
   ]
  },
  {
   "cell_type": "code",
   "execution_count": null,
   "metadata": {
    "collapsed": true
   },
   "outputs": [],
   "source": [
    "govdf = copy_melt[selection]\n",
    "display(govdf.head())\n",
    "print(govdf.shape)"
   ]
  },
  {
   "cell_type": "code",
   "execution_count": null,
   "metadata": {
    "collapsed": true
   },
   "outputs": [],
   "source": [
    "# inspect the regions and subset fingovdf to get the final dataset for merging\n",
    "\n"
   ]
  },
  {
   "cell_type": "code",
   "execution_count": null,
   "metadata": {
    "collapsed": true
   },
   "outputs": [],
   "source": []
  },
  {
   "cell_type": "code",
   "execution_count": null,
   "metadata": {
    "collapsed": true
   },
   "outputs": [],
   "source": []
  },
  {
   "cell_type": "code",
   "execution_count": null,
   "metadata": {
    "collapsed": true
   },
   "outputs": [],
   "source": [
    "# inspecting null entries visually\n",
    "\n",
    "plt.figure(figsize=(12,8))\n",
    "sns.heatmap(copy_melt.isnull(), yticklabels=False, cbar=False, cmap='viridis')"
   ]
  },
  {
   "cell_type": "code",
   "execution_count": null,
   "metadata": {
    "collapsed": true
   },
   "outputs": [],
   "source": []
  },
  {
   "cell_type": "code",
   "execution_count": null,
   "metadata": {
    "collapsed": true
   },
   "outputs": [],
   "source": [
    "# same to the growth dataset\n",
    "# load data\n",
    "\n",
    "file2 = r'C:\\Users\\Mohamed Ahmed Warsam\\Desktop\\Material\\WORKING DIRECTORY\\Governance_Growth\\Development.xlsx'\n",
    "data2 = pd.read_excel(file2, sheetname=0)\n",
    "display (data2.head())"
   ]
  },
  {
   "cell_type": "code",
   "execution_count": null,
   "metadata": {
    "collapsed": true
   },
   "outputs": [],
   "source": [
    "# reshape and cleaning 1\n",
    "\n",
    "melt_data2 = data2.melt(id_vars=['Country Name', 'Country Code', 'Indicator Name', 'Indicator Code'], var_name=\"Year\")\n",
    "melt_data2.tail()"
   ]
  },
  {
   "cell_type": "code",
   "execution_count": null,
   "metadata": {
    "collapsed": true
   },
   "outputs": [],
   "source": [
    "# reshape and cleaning 2\n",
    "\n",
    "melt_data2 = melt_data2[['Country Name', 'Country Code', 'Indicator Name', 'Indicator Code', 'Year', 'value']]\n",
    "#melt_data.pivot(index='Country Name', columns='Indicator Name', values='value')\n",
    "copy_melt2 = melt_data2.copy()\n"
   ]
  },
  {
   "cell_type": "code",
   "execution_count": null,
   "metadata": {
    "collapsed": true
   },
   "outputs": [],
   "source": [
    "# reshape and cleaning 3\n",
    "\n",
    "copy_melt2 = pd.pivot_table(copy_melt2, values = 'value', index=['Country Name', 'Country Code','Year'], columns = 'Indicator Name').reset_index()\n",
    "#copy_melt.index = piv_data['Year']\n",
    "copy_melt2.head()\n"
   ]
  },
  {
   "cell_type": "code",
   "execution_count": null,
   "metadata": {
    "collapsed": true
   },
   "outputs": [],
   "source": [
    "# shape \n",
    "\n",
    "display(copy_melt2.shape)\n",
    "print(copy_melt2.info())"
   ]
  },
  {
   "cell_type": "code",
   "execution_count": null,
   "metadata": {
    "collapsed": true
   },
   "outputs": [],
   "source": [
    "# download as excel file\n",
    "\n",
    "# Create a Pandas Excel writer using XlsxWriter as the engine.\n",
    "writer = pd.ExcelWriter('pandas_simple1.xlsx', engine='xlsxwriter')\n",
    "\n",
    "# Convert the dataframe to an XlsxWriter Excel object.\n",
    "copy_melt2.to_excel(writer, sheet_name='Sheet1')\n",
    "\n",
    "# Close the Pandas Excel writer and output the Excel file.\n",
    "writer.save()"
   ]
  },
  {
   "cell_type": "code",
   "execution_count": null,
   "metadata": {
    "collapsed": true
   },
   "outputs": [],
   "source": [
    "# filter dataset by region - Africa\n",
    "\n",
    "SSA = [\"Angola\", \"Gabon\", \"Nigeria\", \"Benin\", \"Gambia, The\", \"Rwanda\", \"Guinea-Bissau\",\n",
    "   \"Botswana\", \"Ghana\", \"São Tomé and Principe\", \"Burkina Faso\", \"Guinea\", \"Senegal\", \"Burundi\", \"Seychelles\", \"Cabo Verde\", \"Kenya\", \"Sierra Leone\", \"Cameroon\", \"Lesotho\", \"Somalia\", \"Central African Republic\", \"Liberia\", \"South Africa\", \"Chad\", \"Madagascar\", \"Comoros\", \"Malawi\", \"Sudan\", \"Congo, Dem. Rep.\", \"Mali\", \"Swaziland\", \"Congo, Rep\", \"Mauritania\", \"Tanzania\", \"Côte d'Ivoire\", \"Mauritius\", \"Togo\", \"Equatorial Guinea\", \"Mozambique\", \"Uganda\", \"Eritrea\" \"Namibia\", \"Zambia\", \"Ethiopia\", \"Niger\", \"Zimbabwe\"]\n",
    "\n"
   ]
  },
  {
   "cell_type": "code",
   "execution_count": null,
   "metadata": {
    "collapsed": true
   },
   "outputs": [],
   "source": [
    "# filter dataset by region - SSA filtering\n",
    "\n",
    "ssa_melt = copy_melt2[copy_melt2['Country Name'].isin(SSA)]\n",
    "\n"
   ]
  },
  {
   "cell_type": "code",
   "execution_count": null,
   "metadata": {
    "collapsed": true
   },
   "outputs": [],
   "source": [
    "# Export ssa_melt\n",
    "\n",
    "# Create a Pandas Excel writer using XlsxWriter as the engine.\n",
    "writer = pd.ExcelWriter('dev_indicators_ssa.xlsx', engine='xlsxwriter')\n",
    "\n",
    "# Convert the dataframe to an XlsxWriter Excel object.\n",
    "ssa_melt.to_excel(writer, sheet_name='Sheet1')\n",
    "\n",
    "# Close the Pandas Excel writer and output the Excel file.\n",
    "writer.save()"
   ]
  },
  {
   "cell_type": "code",
   "execution_count": null,
   "metadata": {
    "collapsed": true
   },
   "outputs": [],
   "source": [
    "# filter dataset by region - LATIN AMERICA AND THE CARIBBEAN\n",
    "\n",
    "LATC = [\"Paraguay\", \"Argentina\", \"Peru\", \"Dominican Republic\", \"Ecuador\", \"El Salvador\", \"Bolivia\", \"Guatemala\",\n",
    "\"Brazil\", \"Haiti\",\"Honduras\", \"Chile\", \"Jamaica\", \"Colombia\", \"Mexico\", \"Uruguay\", \"Costa Rica\", \"Nicaragua\", \"Venezuela, RB\", \"Cuba\", \"Panama\"]\n",
    "\n"
   ]
  },
  {
   "cell_type": "code",
   "execution_count": null,
   "metadata": {
    "collapsed": true
   },
   "outputs": [],
   "source": [
    "# filter dataset by region - EAST ASIA AND PACIFIC \n",
    "\n",
    "EAP = [\"Philippines\", \"Lao PDR\", \"Brunei Darussalam\", \"Cambodia\", \"Malaysia\", \"Thailand\", \"Mongolia\", \"Myanmar\", \"Papua New Guinea\", \"Indonesia\",\"Vietnam\"]\n",
    "\n",
    "\n"
   ]
  },
  {
   "cell_type": "code",
   "execution_count": null,
   "metadata": {
    "collapsed": true
   },
   "outputs": [],
   "source": [
    "# Now get the dataset ready \n",
    "# merge PolityIV with development indicators for SSA and timerange\n",
    "\n",
    "timerange = [1990, 1991, 1992, 1993, 1994, 1995, 1996, 1997, 1998, 2000, 2001, 2002, 2003, 2004, 2005, 2006, 2007,\n",
    "            2008, 2009, 2010, 2011, 2012, 2013, 2013, 2014, 2015, 2016]"
   ]
  },
  {
   "cell_type": "code",
   "execution_count": null,
   "metadata": {
    "collapsed": true
   },
   "outputs": [],
   "source": []
  },
  {
   "cell_type": "code",
   "execution_count": null,
   "metadata": {
    "collapsed": true
   },
   "outputs": [],
   "source": [
    "resultdf = df[df['cs.visitor_id'].isin(by_year)]"
   ]
  },
  {
   "cell_type": "code",
   "execution_count": null,
   "metadata": {
    "collapsed": true
   },
   "outputs": [],
   "source": [
    "resultdf2 = "
   ]
  },
  {
   "cell_type": "code",
   "execution_count": null,
   "metadata": {
    "collapsed": true
   },
   "outputs": [],
   "source": [
    "finaldf = df[(df['year'].isin(time_range)) & (df['country'].isin(Africa_countries))]"
   ]
  },
  {
   "cell_type": "code",
   "execution_count": null,
   "metadata": {
    "collapsed": true
   },
   "outputs": [],
   "source": []
  },
  {
   "cell_type": "code",
   "execution_count": null,
   "metadata": {
    "collapsed": true
   },
   "outputs": [],
   "source": [
    "\n",
    "\n"
   ]
  },
  {
   "cell_type": "code",
   "execution_count": null,
   "metadata": {
    "collapsed": true
   },
   "outputs": [],
   "source": [
    "pd.merge?"
   ]
  },
  {
   "cell_type": "code",
   "execution_count": null,
   "metadata": {
    "collapsed": true
   },
   "outputs": [],
   "source": []
  },
  {
   "cell_type": "code",
   "execution_count": null,
   "metadata": {
    "collapsed": true
   },
   "outputs": [],
   "source": []
  },
  {
   "cell_type": "code",
   "execution_count": null,
   "metadata": {
    "collapsed": true
   },
   "outputs": [],
   "source": []
  },
  {
   "cell_type": "code",
   "execution_count": null,
   "metadata": {
    "collapsed": true
   },
   "outputs": [],
   "source": []
  }
 ],
 "metadata": {
  "kernelspec": {
   "display_name": "Python 3",
   "language": "python",
   "name": "python3"
  },
  "language_info": {
   "codemirror_mode": {
    "name": "ipython",
    "version": 3
   },
   "file_extension": ".py",
   "mimetype": "text/x-python",
   "name": "python",
   "nbconvert_exporter": "python",
   "pygments_lexer": "ipython3",
   "version": "3.6.3"
  },
  "latex_envs": {
   "LaTeX_envs_menu_present": true,
   "autoclose": false,
   "autocomplete": true,
   "bibliofile": "biblio.bib",
   "cite_by": "apalike",
   "current_citInitial": 1,
   "eqLabelWithNumbers": true,
   "eqNumInitial": 1,
   "hotkeys": {
    "equation": "Ctrl-E",
    "itemize": "Ctrl-I"
   },
   "labels_anchors": false,
   "latex_user_defs": false,
   "report_style_numbering": true,
   "user_envs_cfg": false
  },
  "nbTranslate": {
   "displayLangs": [
    "*"
   ],
   "hotkey": "alt-t",
   "langInMainMenu": true,
   "sourceLang": "en",
   "targetLang": "fr",
   "useGoogleTranslate": true
  },
  "toc": {
   "nav_menu": {},
   "number_sections": true,
   "sideBar": true,
   "skip_h1_title": false,
   "toc_cell": false,
   "toc_position": {},
   "toc_section_display": "block",
   "toc_window_display": false
  },
  "varInspector": {
   "cols": {
    "lenName": 16,
    "lenType": 16,
    "lenVar": 40
   },
   "kernels_config": {
    "python": {
     "delete_cmd_postfix": "",
     "delete_cmd_prefix": "del ",
     "library": "var_list.py",
     "varRefreshCmd": "print(var_dic_list())"
    },
    "r": {
     "delete_cmd_postfix": ") ",
     "delete_cmd_prefix": "rm(",
     "library": "var_list.r",
     "varRefreshCmd": "cat(var_dic_list()) "
    }
   },
   "types_to_exclude": [
    "module",
    "function",
    "builtin_function_or_method",
    "instance",
    "_Feature"
   ],
   "window_display": false
  }
 },
 "nbformat": 4,
 "nbformat_minor": 2
}

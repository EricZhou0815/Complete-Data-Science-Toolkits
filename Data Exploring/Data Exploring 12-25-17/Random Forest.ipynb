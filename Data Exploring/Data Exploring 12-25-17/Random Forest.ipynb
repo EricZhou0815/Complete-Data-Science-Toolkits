{
 "cells": [
  {
   "cell_type": "code",
   "execution_count": 1,
   "metadata": {
    "ExecuteTime": {
     "end_time": "2017-12-23T17:24:29.895483Z",
     "start_time": "2017-12-23T17:23:17.450544Z"
    },
    "collapsed": true
   },
   "outputs": [],
   "source": [
    "import warnings\n",
    "warnings.filterwarnings('ignore')\n",
    "import pandas as pd\n",
    "import matplotlib.pyplot as plt\n",
    "%matplotlib inline\n",
    "import seaborn as sns\n",
    "path = \"data/kc_house_data.csv\""
   ]
  },
  {
   "cell_type": "code",
   "execution_count": 2,
   "metadata": {
    "ExecuteTime": {
     "end_time": "2017-12-23T17:24:48.920055Z",
     "start_time": "2017-12-23T17:24:48.758277Z"
    },
    "collapsed": true
   },
   "outputs": [],
   "source": [
    "df = pd.read_csv(path, parse_dates=[\"date\"])"
   ]
  },
  {
   "cell_type": "code",
   "execution_count": 3,
   "metadata": {
    "ExecuteTime": {
     "end_time": "2017-12-23T17:24:49.900863Z",
     "start_time": "2017-12-23T17:24:49.869839Z"
    }
   },
   "outputs": [
    {
     "data": {
      "text/html": [
       "<div>\n",
       "<style>\n",
       "    .dataframe thead tr:only-child th {\n",
       "        text-align: right;\n",
       "    }\n",
       "\n",
       "    .dataframe thead th {\n",
       "        text-align: left;\n",
       "    }\n",
       "\n",
       "    .dataframe tbody tr th {\n",
       "        vertical-align: top;\n",
       "    }\n",
       "</style>\n",
       "<table border=\"1\" class=\"dataframe\">\n",
       "  <thead>\n",
       "    <tr style=\"text-align: right;\">\n",
       "      <th></th>\n",
       "      <th>id</th>\n",
       "      <th>date</th>\n",
       "      <th>price</th>\n",
       "      <th>bedrooms</th>\n",
       "      <th>bathrooms</th>\n",
       "      <th>sqft_living</th>\n",
       "      <th>sqft_lot</th>\n",
       "      <th>floors</th>\n",
       "      <th>waterfront</th>\n",
       "      <th>view</th>\n",
       "      <th>...</th>\n",
       "      <th>grade</th>\n",
       "      <th>sqft_above</th>\n",
       "      <th>sqft_basement</th>\n",
       "      <th>yr_built</th>\n",
       "      <th>yr_renovated</th>\n",
       "      <th>zipcode</th>\n",
       "      <th>lat</th>\n",
       "      <th>long</th>\n",
       "      <th>sqft_living15</th>\n",
       "      <th>sqft_lot15</th>\n",
       "    </tr>\n",
       "  </thead>\n",
       "  <tbody>\n",
       "    <tr>\n",
       "      <th>0</th>\n",
       "      <td>7129300520</td>\n",
       "      <td>2014-10-13</td>\n",
       "      <td>221900.0</td>\n",
       "      <td>3</td>\n",
       "      <td>1.00</td>\n",
       "      <td>1180</td>\n",
       "      <td>5650</td>\n",
       "      <td>1.0</td>\n",
       "      <td>0</td>\n",
       "      <td>0</td>\n",
       "      <td>...</td>\n",
       "      <td>7</td>\n",
       "      <td>1180</td>\n",
       "      <td>0</td>\n",
       "      <td>1955</td>\n",
       "      <td>0</td>\n",
       "      <td>98178</td>\n",
       "      <td>47.5112</td>\n",
       "      <td>-122.257</td>\n",
       "      <td>1340</td>\n",
       "      <td>5650</td>\n",
       "    </tr>\n",
       "    <tr>\n",
       "      <th>1</th>\n",
       "      <td>6414100192</td>\n",
       "      <td>2014-12-09</td>\n",
       "      <td>538000.0</td>\n",
       "      <td>3</td>\n",
       "      <td>2.25</td>\n",
       "      <td>2570</td>\n",
       "      <td>7242</td>\n",
       "      <td>2.0</td>\n",
       "      <td>0</td>\n",
       "      <td>0</td>\n",
       "      <td>...</td>\n",
       "      <td>7</td>\n",
       "      <td>2170</td>\n",
       "      <td>400</td>\n",
       "      <td>1951</td>\n",
       "      <td>1991</td>\n",
       "      <td>98125</td>\n",
       "      <td>47.7210</td>\n",
       "      <td>-122.319</td>\n",
       "      <td>1690</td>\n",
       "      <td>7639</td>\n",
       "    </tr>\n",
       "    <tr>\n",
       "      <th>2</th>\n",
       "      <td>5631500400</td>\n",
       "      <td>2015-02-25</td>\n",
       "      <td>180000.0</td>\n",
       "      <td>2</td>\n",
       "      <td>1.00</td>\n",
       "      <td>770</td>\n",
       "      <td>10000</td>\n",
       "      <td>1.0</td>\n",
       "      <td>0</td>\n",
       "      <td>0</td>\n",
       "      <td>...</td>\n",
       "      <td>6</td>\n",
       "      <td>770</td>\n",
       "      <td>0</td>\n",
       "      <td>1933</td>\n",
       "      <td>0</td>\n",
       "      <td>98028</td>\n",
       "      <td>47.7379</td>\n",
       "      <td>-122.233</td>\n",
       "      <td>2720</td>\n",
       "      <td>8062</td>\n",
       "    </tr>\n",
       "  </tbody>\n",
       "</table>\n",
       "<p>3 rows × 21 columns</p>\n",
       "</div>"
      ],
      "text/plain": [
       "           id       date     price  bedrooms  bathrooms  sqft_living  \\\n",
       "0  7129300520 2014-10-13  221900.0         3       1.00         1180   \n",
       "1  6414100192 2014-12-09  538000.0         3       2.25         2570   \n",
       "2  5631500400 2015-02-25  180000.0         2       1.00          770   \n",
       "\n",
       "   sqft_lot  floors  waterfront  view     ...      grade  sqft_above  \\\n",
       "0      5650     1.0           0     0     ...          7        1180   \n",
       "1      7242     2.0           0     0     ...          7        2170   \n",
       "2     10000     1.0           0     0     ...          6         770   \n",
       "\n",
       "   sqft_basement  yr_built  yr_renovated  zipcode      lat     long  \\\n",
       "0              0      1955             0    98178  47.5112 -122.257   \n",
       "1            400      1951          1991    98125  47.7210 -122.319   \n",
       "2              0      1933             0    98028  47.7379 -122.233   \n",
       "\n",
       "   sqft_living15  sqft_lot15  \n",
       "0           1340        5650  \n",
       "1           1690        7639  \n",
       "2           2720        8062  \n",
       "\n",
       "[3 rows x 21 columns]"
      ]
     },
     "execution_count": 3,
     "metadata": {},
     "output_type": "execute_result"
    }
   ],
   "source": [
    "df.head(3)"
   ]
  },
  {
   "cell_type": "code",
   "execution_count": 4,
   "metadata": {
    "ExecuteTime": {
     "end_time": "2017-12-23T17:24:55.822630Z",
     "start_time": "2017-12-23T17:24:55.814624Z"
    },
    "collapsed": true
   },
   "outputs": [],
   "source": [
    "def get_features(data):\n",
    "    corr = data.corr()['price']\n",
    "    for lst in corr:\n",
    "        if lst > 0.4:\n",
    "            print(lst)\n",
    "        else:\n",
    "            pass"
   ]
  },
  {
   "cell_type": "code",
   "execution_count": 5,
   "metadata": {
    "ExecuteTime": {
     "end_time": "2017-12-23T17:24:55.994447Z",
     "start_time": "2017-12-23T17:24:55.847647Z"
    }
   },
   "outputs": [
    {
     "name": "stdout",
     "output_type": "stream",
     "text": [
      "1.0\n",
      "0.525137505414\n",
      "0.702035054612\n",
      "0.66743425602\n",
      "0.605567298356\n",
      "0.58537890358\n"
     ]
    }
   ],
   "source": [
    "dd = get_features(df)"
   ]
  },
  {
   "cell_type": "code",
   "execution_count": 6,
   "metadata": {
    "ExecuteTime": {
     "end_time": "2017-12-23T17:25:08.178975Z",
     "start_time": "2017-12-23T17:25:08.175974Z"
    },
    "collapsed": true
   },
   "outputs": [],
   "source": [
    "dd"
   ]
  },
  {
   "cell_type": "code",
   "execution_count": 7,
   "metadata": {
    "ExecuteTime": {
     "end_time": "2017-12-23T17:25:09.800103Z",
     "start_time": "2017-12-23T17:25:09.759077Z"
    },
    "scrolled": true
   },
   "outputs": [
    {
     "data": {
      "text/plain": [
       "price            1.000000\n",
       "sqft_living      0.702035\n",
       "grade            0.667434\n",
       "sqft_above       0.605567\n",
       "sqft_living15    0.585379\n",
       "bathrooms        0.525138\n",
       "view             0.397293\n",
       "sqft_basement    0.323816\n",
       "bedrooms         0.308350\n",
       "lat              0.307003\n",
       "waterfront       0.266369\n",
       "floors           0.256794\n",
       "yr_renovated     0.126434\n",
       "sqft_lot         0.089661\n",
       "sqft_lot15       0.082447\n",
       "yr_built         0.054012\n",
       "condition        0.036362\n",
       "long             0.021626\n",
       "id              -0.016762\n",
       "zipcode         -0.053203\n",
       "Name: price, dtype: float64"
      ]
     },
     "execution_count": 7,
     "metadata": {},
     "output_type": "execute_result"
    }
   ],
   "source": [
    "import numpy as np \n",
    "corr = df.corr()[\"price\"]\n",
    "corr[np.argsort(corr, axis=0)[::-1]] "
   ]
  },
  {
   "cell_type": "code",
   "execution_count": 8,
   "metadata": {
    "ExecuteTime": {
     "end_time": "2017-12-23T17:25:22.614892Z",
     "start_time": "2017-12-23T17:25:22.610888Z"
    },
    "collapsed": true
   },
   "outputs": [],
   "source": [
    "not_include = ['id', 'zipcode', 'long', 'condition']\n",
    "features = list(df.columns)"
   ]
  },
  {
   "cell_type": "code",
   "execution_count": 9,
   "metadata": {
    "ExecuteTime": {
     "end_time": "2017-12-23T17:25:23.683097Z",
     "start_time": "2017-12-23T17:25:23.678108Z"
    },
    "collapsed": true
   },
   "outputs": [],
   "source": [
    "rms = [1,2,4,5,6,7,8]"
   ]
  },
  {
   "cell_type": "code",
   "execution_count": 10,
   "metadata": {
    "ExecuteTime": {
     "end_time": "2017-12-23T17:25:24.753840Z",
     "start_time": "2017-12-23T17:25:24.747835Z"
    },
    "collapsed": true
   },
   "outputs": [],
   "source": [
    "def remove(lst):\n",
    "    x = lst\n",
    "    for i in x:    \n",
    "        if i > 6:\n",
    "            print(i)\n",
    "        else:\n",
    "            pass"
   ]
  },
  {
   "cell_type": "code",
   "execution_count": 11,
   "metadata": {
    "ExecuteTime": {
     "end_time": "2017-12-23T17:25:27.078666Z",
     "start_time": "2017-12-23T17:25:27.072677Z"
    }
   },
   "outputs": [
    {
     "name": "stdout",
     "output_type": "stream",
     "text": [
      "7\n",
      "8\n"
     ]
    }
   ],
   "source": [
    "remove(rms)"
   ]
  },
  {
   "cell_type": "code",
   "execution_count": 12,
   "metadata": {
    "ExecuteTime": {
     "end_time": "2017-12-23T17:25:31.415586Z",
     "start_time": "2017-12-23T17:25:31.408581Z"
    },
    "collapsed": true
   },
   "outputs": [],
   "source": [
    "# we can use the important features to train our model\n",
    "X = df[['sqft_above', 'sqft_living', 'grade', 'sqft_living15', 'bathrooms', 'view', 'sqft_basement', 'bedrooms', 'lat', 'waterfront', 'floors']]"
   ]
  },
  {
   "cell_type": "code",
   "execution_count": 13,
   "metadata": {
    "ExecuteTime": {
     "end_time": "2017-12-23T17:25:32.330478Z",
     "start_time": "2017-12-23T17:25:32.325474Z"
    },
    "collapsed": true
   },
   "outputs": [],
   "source": [
    "# assign price column in our target output\n",
    "y = df['price'] "
   ]
  },
  {
   "cell_type": "code",
   "execution_count": 14,
   "metadata": {
    "ExecuteTime": {
     "end_time": "2017-12-23T17:25:33.284326Z",
     "start_time": "2017-12-23T17:25:33.263311Z"
    }
   },
   "outputs": [
    {
     "data": {
      "text/html": [
       "<div>\n",
       "<style>\n",
       "    .dataframe thead tr:only-child th {\n",
       "        text-align: right;\n",
       "    }\n",
       "\n",
       "    .dataframe thead th {\n",
       "        text-align: left;\n",
       "    }\n",
       "\n",
       "    .dataframe tbody tr th {\n",
       "        vertical-align: top;\n",
       "    }\n",
       "</style>\n",
       "<table border=\"1\" class=\"dataframe\">\n",
       "  <thead>\n",
       "    <tr style=\"text-align: right;\">\n",
       "      <th></th>\n",
       "      <th>sqft_above</th>\n",
       "      <th>sqft_living</th>\n",
       "      <th>grade</th>\n",
       "      <th>sqft_living15</th>\n",
       "      <th>bathrooms</th>\n",
       "      <th>view</th>\n",
       "      <th>sqft_basement</th>\n",
       "      <th>bedrooms</th>\n",
       "      <th>lat</th>\n",
       "      <th>waterfront</th>\n",
       "      <th>floors</th>\n",
       "    </tr>\n",
       "  </thead>\n",
       "  <tbody>\n",
       "    <tr>\n",
       "      <th>0</th>\n",
       "      <td>1180</td>\n",
       "      <td>1180</td>\n",
       "      <td>7</td>\n",
       "      <td>1340</td>\n",
       "      <td>1.00</td>\n",
       "      <td>0</td>\n",
       "      <td>0</td>\n",
       "      <td>3</td>\n",
       "      <td>47.5112</td>\n",
       "      <td>0</td>\n",
       "      <td>1.0</td>\n",
       "    </tr>\n",
       "    <tr>\n",
       "      <th>1</th>\n",
       "      <td>2170</td>\n",
       "      <td>2570</td>\n",
       "      <td>7</td>\n",
       "      <td>1690</td>\n",
       "      <td>2.25</td>\n",
       "      <td>0</td>\n",
       "      <td>400</td>\n",
       "      <td>3</td>\n",
       "      <td>47.7210</td>\n",
       "      <td>0</td>\n",
       "      <td>2.0</td>\n",
       "    </tr>\n",
       "    <tr>\n",
       "      <th>2</th>\n",
       "      <td>770</td>\n",
       "      <td>770</td>\n",
       "      <td>6</td>\n",
       "      <td>2720</td>\n",
       "      <td>1.00</td>\n",
       "      <td>0</td>\n",
       "      <td>0</td>\n",
       "      <td>2</td>\n",
       "      <td>47.7379</td>\n",
       "      <td>0</td>\n",
       "      <td>1.0</td>\n",
       "    </tr>\n",
       "    <tr>\n",
       "      <th>3</th>\n",
       "      <td>1050</td>\n",
       "      <td>1960</td>\n",
       "      <td>7</td>\n",
       "      <td>1360</td>\n",
       "      <td>3.00</td>\n",
       "      <td>0</td>\n",
       "      <td>910</td>\n",
       "      <td>4</td>\n",
       "      <td>47.5208</td>\n",
       "      <td>0</td>\n",
       "      <td>1.0</td>\n",
       "    </tr>\n",
       "    <tr>\n",
       "      <th>4</th>\n",
       "      <td>1680</td>\n",
       "      <td>1680</td>\n",
       "      <td>8</td>\n",
       "      <td>1800</td>\n",
       "      <td>2.00</td>\n",
       "      <td>0</td>\n",
       "      <td>0</td>\n",
       "      <td>3</td>\n",
       "      <td>47.6168</td>\n",
       "      <td>0</td>\n",
       "      <td>1.0</td>\n",
       "    </tr>\n",
       "  </tbody>\n",
       "</table>\n",
       "</div>"
      ],
      "text/plain": [
       "   sqft_above  sqft_living  grade  sqft_living15  bathrooms  view  \\\n",
       "0        1180         1180      7           1340       1.00     0   \n",
       "1        2170         2570      7           1690       2.25     0   \n",
       "2         770          770      6           2720       1.00     0   \n",
       "3        1050         1960      7           1360       3.00     0   \n",
       "4        1680         1680      8           1800       2.00     0   \n",
       "\n",
       "   sqft_basement  bedrooms      lat  waterfront  floors  \n",
       "0              0         3  47.5112           0     1.0  \n",
       "1            400         3  47.7210           0     2.0  \n",
       "2              0         2  47.7379           0     1.0  \n",
       "3            910         4  47.5208           0     1.0  \n",
       "4              0         3  47.6168           0     1.0  "
      ]
     },
     "execution_count": 14,
     "metadata": {},
     "output_type": "execute_result"
    }
   ],
   "source": [
    "# our X only holds variables that are related to 'price'\n",
    "X.head()"
   ]
  },
  {
   "cell_type": "code",
   "execution_count": 15,
   "metadata": {
    "ExecuteTime": {
     "end_time": "2017-12-23T17:25:43.242635Z",
     "start_time": "2017-12-23T17:25:38.046339Z"
    },
    "collapsed": true
   },
   "outputs": [],
   "source": [
    "# Splitting our data in subsets\n",
    "from sklearn.model_selection import train_test_split\n",
    "X_train, X_test, y_train, y_test = train_test_split(X, y, test_size=0.30, random_state=0)\n"
   ]
  },
  {
   "cell_type": "code",
   "execution_count": 16,
   "metadata": {
    "ExecuteTime": {
     "end_time": "2017-12-23T17:25:46.133665Z",
     "start_time": "2017-12-23T17:25:46.129660Z"
    },
    "collapsed": true
   },
   "outputs": [],
   "source": [
    "# using 'RobustScaler' makes our data scaled in a robust way... depends on your target values\n",
    "#from sklearn.preprocessing import RobustScaler\n",
    "#scaler = RobustScaler()\n",
    "#robust_scaled_df = scaler.fit_transform(X_train)\n",
    "#robust_scaled_df = pd.DataFrame(robust_scaled_df)"
   ]
  },
  {
   "cell_type": "code",
   "execution_count": 17,
   "metadata": {
    "ExecuteTime": {
     "end_time": "2017-12-23T17:25:47.268342Z",
     "start_time": "2017-12-23T17:25:47.265340Z"
    },
    "code_folding": [],
    "collapsed": true
   },
   "outputs": [],
   "source": [
    "#robust_scaled_df.shape"
   ]
  },
  {
   "cell_type": "code",
   "execution_count": 18,
   "metadata": {
    "ExecuteTime": {
     "end_time": "2017-12-23T17:25:48.350024Z",
     "start_time": "2017-12-23T17:25:48.347022Z"
    },
    "code_folding": [],
    "collapsed": true
   },
   "outputs": [],
   "source": [
    "#robust_scaled_Test = scaler.fit_transform(X_test)\n",
    "#robust_scaled_Test = pd.DataFrame(robust_scaled_Test)"
   ]
  },
  {
   "cell_type": "code",
   "execution_count": 19,
   "metadata": {
    "ExecuteTime": {
     "end_time": "2017-12-23T17:25:49.911540Z",
     "start_time": "2017-12-23T17:25:49.906551Z"
    },
    "code_folding": [],
    "collapsed": true
   },
   "outputs": [],
   "source": [
    "#robust_scaled_Test.shape"
   ]
  },
  {
   "cell_type": "code",
   "execution_count": 20,
   "metadata": {
    "ExecuteTime": {
     "end_time": "2017-12-23T17:25:50.396633Z",
     "start_time": "2017-12-23T17:25:50.380623Z"
    }
   },
   "outputs": [
    {
     "data": {
      "text/html": [
       "<div>\n",
       "<style>\n",
       "    .dataframe thead tr:only-child th {\n",
       "        text-align: right;\n",
       "    }\n",
       "\n",
       "    .dataframe thead th {\n",
       "        text-align: left;\n",
       "    }\n",
       "\n",
       "    .dataframe tbody tr th {\n",
       "        vertical-align: top;\n",
       "    }\n",
       "</style>\n",
       "<table border=\"1\" class=\"dataframe\">\n",
       "  <thead>\n",
       "    <tr style=\"text-align: right;\">\n",
       "      <th></th>\n",
       "      <th>sqft_above</th>\n",
       "      <th>sqft_living</th>\n",
       "      <th>grade</th>\n",
       "      <th>sqft_living15</th>\n",
       "      <th>bathrooms</th>\n",
       "      <th>view</th>\n",
       "      <th>sqft_basement</th>\n",
       "      <th>bedrooms</th>\n",
       "      <th>lat</th>\n",
       "      <th>waterfront</th>\n",
       "      <th>floors</th>\n",
       "    </tr>\n",
       "  </thead>\n",
       "  <tbody>\n",
       "    <tr>\n",
       "      <th>1468</th>\n",
       "      <td>1140</td>\n",
       "      <td>1390</td>\n",
       "      <td>7</td>\n",
       "      <td>1630</td>\n",
       "      <td>1.50</td>\n",
       "      <td>0</td>\n",
       "      <td>250</td>\n",
       "      <td>4</td>\n",
       "      <td>47.7224</td>\n",
       "      <td>0</td>\n",
       "      <td>1.0</td>\n",
       "    </tr>\n",
       "    <tr>\n",
       "      <th>15590</th>\n",
       "      <td>1450</td>\n",
       "      <td>1450</td>\n",
       "      <td>7</td>\n",
       "      <td>1440</td>\n",
       "      <td>1.50</td>\n",
       "      <td>0</td>\n",
       "      <td>0</td>\n",
       "      <td>3</td>\n",
       "      <td>47.7725</td>\n",
       "      <td>0</td>\n",
       "      <td>1.0</td>\n",
       "    </tr>\n",
       "    <tr>\n",
       "      <th>18552</th>\n",
       "      <td>2860</td>\n",
       "      <td>2860</td>\n",
       "      <td>9</td>\n",
       "      <td>2980</td>\n",
       "      <td>2.75</td>\n",
       "      <td>0</td>\n",
       "      <td>0</td>\n",
       "      <td>5</td>\n",
       "      <td>47.7082</td>\n",
       "      <td>0</td>\n",
       "      <td>2.0</td>\n",
       "    </tr>\n",
       "    <tr>\n",
       "      <th>10535</th>\n",
       "      <td>1050</td>\n",
       "      <td>1050</td>\n",
       "      <td>7</td>\n",
       "      <td>1650</td>\n",
       "      <td>1.00</td>\n",
       "      <td>0</td>\n",
       "      <td>0</td>\n",
       "      <td>2</td>\n",
       "      <td>47.5736</td>\n",
       "      <td>0</td>\n",
       "      <td>1.0</td>\n",
       "    </tr>\n",
       "    <tr>\n",
       "      <th>1069</th>\n",
       "      <td>1240</td>\n",
       "      <td>1240</td>\n",
       "      <td>7</td>\n",
       "      <td>3050</td>\n",
       "      <td>1.00</td>\n",
       "      <td>0</td>\n",
       "      <td>0</td>\n",
       "      <td>2</td>\n",
       "      <td>47.5970</td>\n",
       "      <td>0</td>\n",
       "      <td>1.0</td>\n",
       "    </tr>\n",
       "  </tbody>\n",
       "</table>\n",
       "</div>"
      ],
      "text/plain": [
       "       sqft_above  sqft_living  grade  sqft_living15  bathrooms  view  \\\n",
       "1468         1140         1390      7           1630       1.50     0   \n",
       "15590        1450         1450      7           1440       1.50     0   \n",
       "18552        2860         2860      9           2980       2.75     0   \n",
       "10535        1050         1050      7           1650       1.00     0   \n",
       "1069         1240         1240      7           3050       1.00     0   \n",
       "\n",
       "       sqft_basement  bedrooms      lat  waterfront  floors  \n",
       "1468             250         4  47.7224           0     1.0  \n",
       "15590              0         3  47.7725           0     1.0  \n",
       "18552              0         5  47.7082           0     2.0  \n",
       "10535              0         2  47.5736           0     1.0  \n",
       "1069               0         2  47.5970           0     1.0  "
      ]
     },
     "execution_count": 20,
     "metadata": {},
     "output_type": "execute_result"
    }
   ],
   "source": [
    "X_train.head()"
   ]
  },
  {
   "cell_type": "code",
   "execution_count": 21,
   "metadata": {
    "ExecuteTime": {
     "end_time": "2017-12-23T17:26:18.733005Z",
     "start_time": "2017-12-23T17:26:16.319796Z"
    },
    "collapsed": true
   },
   "outputs": [],
   "source": [
    "# Random forest are an ensemble learning method for classification, regression and other tasks.\n",
    "# Random decision forests correct for decision trees' habit of overfitting to their training set.\n",
    "# if\n",
    "from sklearn.ensemble import RandomForestRegressor\n",
    "rf = RandomForestRegressor(n_estimators=20, oob_score=True, random_state= 0)"
   ]
  },
  {
   "cell_type": "code",
   "execution_count": 22,
   "metadata": {
    "ExecuteTime": {
     "end_time": "2017-12-23T17:26:21.362786Z",
     "start_time": "2017-12-23T17:26:19.917954Z"
    }
   },
   "outputs": [
    {
     "data": {
      "text/plain": [
       "RandomForestRegressor(bootstrap=True, criterion='mse', max_depth=None,\n",
       "           max_features='auto', max_leaf_nodes=None,\n",
       "           min_impurity_decrease=0.0, min_impurity_split=None,\n",
       "           min_samples_leaf=1, min_samples_split=2,\n",
       "           min_weight_fraction_leaf=0.0, n_estimators=20, n_jobs=1,\n",
       "           oob_score=True, random_state=0, verbose=0, warm_start=False)"
      ]
     },
     "execution_count": 22,
     "metadata": {},
     "output_type": "execute_result"
    }
   ],
   "source": [
    "rf.fit(X_train, y_train)"
   ]
  },
  {
   "cell_type": "code",
   "execution_count": 23,
   "metadata": {
    "ExecuteTime": {
     "end_time": "2017-12-23T17:26:24.615794Z",
     "start_time": "2017-12-23T17:26:24.532753Z"
    }
   },
   "outputs": [
    {
     "name": "stdout",
     "output_type": "stream",
     "text": [
      "score estimate:  0.769\n",
      "Mean accuracy score:  0.808\n"
     ]
    }
   ],
   "source": [
    "from sklearn.metrics import accuracy_score\n",
    "predicted = rf.predict(X_test)\n",
    "print('score estimate: ', round(rf.oob_score_, 3))\n",
    "print('Mean accuracy score: ', round(rf.score(X_test, y_test), 3))\n",
    "# we got score of 81% on our testing data, it is really good, but we can do better. If you notice that, we are only using \n",
    "#... one parameter tuning in our model which is \"n_estimators\", next we'll use gridsearch to find best parameter for this model\n"
   ]
  },
  {
   "cell_type": "code",
   "execution_count": 26,
   "metadata": {
    "ExecuteTime": {
     "end_time": "2017-12-23T17:26:57.158952Z",
     "start_time": "2017-12-23T17:26:57.148945Z"
    }
   },
   "outputs": [],
   "source": [
    "# Setting parameters. Remember each model in sklearn has different parameter tuning, for example, logistic regression has two\n",
    "#... well used parameter, 'penalty' for regularization which it has two options 'l1' or 'l2' and the second parameter\n",
    "#... in logistic regression is 'C' parameter.\n",
    "# But here, we are using 'randomForestRegression' which has few parameters we need to choose.\n",
    "n_estimators = [20, 30, 60]\n",
    "criterion = ['mse', 'mae']\n",
    "max_features = ['auto','sqrt']\n",
    "max_depth = [4,6]\n",
    "n_jobs = [-1]\n",
    "\n",
    "# Create hyperparameter options\n",
    "hyperparameters = dict(n_estimators=n_estimators, \n",
    "                       criterion=criterion,\n",
    "                       max_features=max_features,\n",
    "                       max_depth=max_depth,\n",
    "                       n_jobs=n_jobs)"
   ]
  },
  {
   "cell_type": "code",
   "execution_count": 27,
   "metadata": {
    "ExecuteTime": {
     "end_time": "2017-12-23T17:27:01.207871Z",
     "start_time": "2017-12-23T17:27:01.201866Z"
    },
    "collapsed": true
   },
   "outputs": [],
   "source": [
    "# Create grid search using 10-fold cross validation\n",
    "from sklearn.model_selection import GridSearchCV\n",
    "clf = GridSearchCV(rf, hyperparameters, cv=5, verbose=5)"
   ]
  },
  {
   "cell_type": "code",
   "execution_count": 28,
   "metadata": {
    "ExecuteTime": {
     "end_time": "2017-12-23T17:43:42.927610Z",
     "start_time": "2017-12-23T17:27:06.183034Z"
    }
   },
   "outputs": [
    {
     "name": "stdout",
     "output_type": "stream",
     "text": [
      "Fitting 5 folds for each of 24 candidates, totalling 120 fits\n",
      "[CV] criterion=mse, max_depth=4, max_features=auto, n_estimators=20, n_jobs=-1 \n",
      "[CV]  criterion=mse, max_depth=4, max_features=auto, n_estimators=20, n_jobs=-1, score=0.6777491369826436, total=   0.4s\n",
      "[CV] criterion=mse, max_depth=4, max_features=auto, n_estimators=20, n_jobs=-1 \n"
     ]
    },
    {
     "name": "stderr",
     "output_type": "stream",
     "text": [
      "[Parallel(n_jobs=1)]: Done   1 out of   1 | elapsed:    0.6s remaining:    0.0s\n"
     ]
    },
    {
     "name": "stdout",
     "output_type": "stream",
     "text": [
      "[CV]  criterion=mse, max_depth=4, max_features=auto, n_estimators=20, n_jobs=-1, score=0.683759241594382, total=   0.2s\n",
      "[CV] criterion=mse, max_depth=4, max_features=auto, n_estimators=20, n_jobs=-1 \n"
     ]
    },
    {
     "name": "stderr",
     "output_type": "stream",
     "text": [
      "[Parallel(n_jobs=1)]: Done   2 out of   2 | elapsed:    1.0s remaining:    0.0s\n"
     ]
    },
    {
     "name": "stdout",
     "output_type": "stream",
     "text": [
      "[CV]  criterion=mse, max_depth=4, max_features=auto, n_estimators=20, n_jobs=-1, score=0.6944302197729606, total=   0.1s\n",
      "[CV] criterion=mse, max_depth=4, max_features=auto, n_estimators=20, n_jobs=-1 \n"
     ]
    },
    {
     "name": "stderr",
     "output_type": "stream",
     "text": [
      "[Parallel(n_jobs=1)]: Done   3 out of   3 | elapsed:    1.3s remaining:    0.0s\n"
     ]
    },
    {
     "name": "stdout",
     "output_type": "stream",
     "text": [
      "[CV]  criterion=mse, max_depth=4, max_features=auto, n_estimators=20, n_jobs=-1, score=0.7152248834612933, total=   0.1s\n",
      "[CV] criterion=mse, max_depth=4, max_features=auto, n_estimators=20, n_jobs=-1 \n"
     ]
    },
    {
     "name": "stderr",
     "output_type": "stream",
     "text": [
      "[Parallel(n_jobs=1)]: Done   4 out of   4 | elapsed:    1.7s remaining:    0.0s\n"
     ]
    },
    {
     "name": "stdout",
     "output_type": "stream",
     "text": [
      "[CV]  criterion=mse, max_depth=4, max_features=auto, n_estimators=20, n_jobs=-1, score=0.7046532736179048, total=   0.2s\n",
      "[CV] criterion=mse, max_depth=4, max_features=auto, n_estimators=30, n_jobs=-1 \n",
      "[CV]  criterion=mse, max_depth=4, max_features=auto, n_estimators=30, n_jobs=-1, score=0.6778931002658314, total=   0.3s\n",
      "[CV] criterion=mse, max_depth=4, max_features=auto, n_estimators=30, n_jobs=-1 \n",
      "[CV]  criterion=mse, max_depth=4, max_features=auto, n_estimators=30, n_jobs=-1, score=0.6822471596404837, total=   0.3s\n",
      "[CV] criterion=mse, max_depth=4, max_features=auto, n_estimators=30, n_jobs=-1 \n",
      "[CV]  criterion=mse, max_depth=4, max_features=auto, n_estimators=30, n_jobs=-1, score=0.6942168342189414, total=   0.3s\n",
      "[CV] criterion=mse, max_depth=4, max_features=auto, n_estimators=30, n_jobs=-1 \n",
      "[CV]  criterion=mse, max_depth=4, max_features=auto, n_estimators=30, n_jobs=-1, score=0.7181088886355433, total=   0.3s\n",
      "[CV] criterion=mse, max_depth=4, max_features=auto, n_estimators=30, n_jobs=-1 \n",
      "[CV]  criterion=mse, max_depth=4, max_features=auto, n_estimators=30, n_jobs=-1, score=0.7062732701930182, total=   0.3s\n",
      "[CV] criterion=mse, max_depth=4, max_features=auto, n_estimators=60, n_jobs=-1 \n",
      "[CV]  criterion=mse, max_depth=4, max_features=auto, n_estimators=60, n_jobs=-1, score=0.6815440879286414, total=   0.5s\n",
      "[CV] criterion=mse, max_depth=4, max_features=auto, n_estimators=60, n_jobs=-1 \n",
      "[CV]  criterion=mse, max_depth=4, max_features=auto, n_estimators=60, n_jobs=-1, score=0.6797604329076555, total=   0.5s\n",
      "[CV] criterion=mse, max_depth=4, max_features=auto, n_estimators=60, n_jobs=-1 \n",
      "[CV]  criterion=mse, max_depth=4, max_features=auto, n_estimators=60, n_jobs=-1, score=0.6870882002718159, total=   0.5s\n",
      "[CV] criterion=mse, max_depth=4, max_features=auto, n_estimators=60, n_jobs=-1 \n",
      "[CV]  criterion=mse, max_depth=4, max_features=auto, n_estimators=60, n_jobs=-1, score=0.7183660731814114, total=   0.5s\n",
      "[CV] criterion=mse, max_depth=4, max_features=auto, n_estimators=60, n_jobs=-1 \n",
      "[CV]  criterion=mse, max_depth=4, max_features=auto, n_estimators=60, n_jobs=-1, score=0.7119424460693198, total=   0.5s\n",
      "[CV] criterion=mse, max_depth=4, max_features=sqrt, n_estimators=20, n_jobs=-1 \n",
      "[CV]  criterion=mse, max_depth=4, max_features=sqrt, n_estimators=20, n_jobs=-1, score=0.6672371134910087, total=   0.2s\n",
      "[CV] criterion=mse, max_depth=4, max_features=sqrt, n_estimators=20, n_jobs=-1 \n",
      "[CV]  criterion=mse, max_depth=4, max_features=sqrt, n_estimators=20, n_jobs=-1, score=0.6643343285786558, total=   0.2s\n",
      "[CV] criterion=mse, max_depth=4, max_features=sqrt, n_estimators=20, n_jobs=-1 \n",
      "[CV]  criterion=mse, max_depth=4, max_features=sqrt, n_estimators=20, n_jobs=-1, score=0.6641420630863181, total=   0.1s\n",
      "[CV] criterion=mse, max_depth=4, max_features=sqrt, n_estimators=20, n_jobs=-1 \n",
      "[CV]  criterion=mse, max_depth=4, max_features=sqrt, n_estimators=20, n_jobs=-1, score=0.7081455712005467, total=   0.2s\n",
      "[CV] criterion=mse, max_depth=4, max_features=sqrt, n_estimators=20, n_jobs=-1 \n",
      "[CV]  criterion=mse, max_depth=4, max_features=sqrt, n_estimators=20, n_jobs=-1, score=0.6931836609046295, total=   0.1s\n",
      "[CV] criterion=mse, max_depth=4, max_features=sqrt, n_estimators=30, n_jobs=-1 \n",
      "[CV]  criterion=mse, max_depth=4, max_features=sqrt, n_estimators=30, n_jobs=-1, score=0.6761882278338309, total=   0.2s\n",
      "[CV] criterion=mse, max_depth=4, max_features=sqrt, n_estimators=30, n_jobs=-1 \n",
      "[CV]  criterion=mse, max_depth=4, max_features=sqrt, n_estimators=30, n_jobs=-1, score=0.674413359773138, total=   0.2s\n",
      "[CV] criterion=mse, max_depth=4, max_features=sqrt, n_estimators=30, n_jobs=-1 \n",
      "[CV]  criterion=mse, max_depth=4, max_features=sqrt, n_estimators=30, n_jobs=-1, score=0.6724467406403698, total=   0.2s\n",
      "[CV] criterion=mse, max_depth=4, max_features=sqrt, n_estimators=30, n_jobs=-1 \n",
      "[CV]  criterion=mse, max_depth=4, max_features=sqrt, n_estimators=30, n_jobs=-1, score=0.7100546330892805, total=   0.2s\n",
      "[CV] criterion=mse, max_depth=4, max_features=sqrt, n_estimators=30, n_jobs=-1 \n",
      "[CV]  criterion=mse, max_depth=4, max_features=sqrt, n_estimators=30, n_jobs=-1, score=0.6962977902209718, total=   0.2s\n",
      "[CV] criterion=mse, max_depth=4, max_features=sqrt, n_estimators=60, n_jobs=-1 \n",
      "[CV]  criterion=mse, max_depth=4, max_features=sqrt, n_estimators=60, n_jobs=-1, score=0.6750801060545611, total=   0.2s\n",
      "[CV] criterion=mse, max_depth=4, max_features=sqrt, n_estimators=60, n_jobs=-1 \n",
      "[CV]  criterion=mse, max_depth=4, max_features=sqrt, n_estimators=60, n_jobs=-1, score=0.6760718664158527, total=   0.3s\n",
      "[CV] criterion=mse, max_depth=4, max_features=sqrt, n_estimators=60, n_jobs=-1 \n",
      "[CV]  criterion=mse, max_depth=4, max_features=sqrt, n_estimators=60, n_jobs=-1, score=0.6702782609988983, total=   0.2s\n",
      "[CV] criterion=mse, max_depth=4, max_features=sqrt, n_estimators=60, n_jobs=-1 \n",
      "[CV]  criterion=mse, max_depth=4, max_features=sqrt, n_estimators=60, n_jobs=-1, score=0.7090993469868974, total=   0.3s\n",
      "[CV] criterion=mse, max_depth=4, max_features=sqrt, n_estimators=60, n_jobs=-1 \n",
      "[CV]  criterion=mse, max_depth=4, max_features=sqrt, n_estimators=60, n_jobs=-1, score=0.6917330063991483, total=   0.3s\n",
      "[CV] criterion=mse, max_depth=6, max_features=auto, n_estimators=20, n_jobs=-1 \n",
      "[CV]  criterion=mse, max_depth=6, max_features=auto, n_estimators=20, n_jobs=-1, score=0.7440742612390878, total=   0.3s\n",
      "[CV] criterion=mse, max_depth=6, max_features=auto, n_estimators=20, n_jobs=-1 \n",
      "[CV]  criterion=mse, max_depth=6, max_features=auto, n_estimators=20, n_jobs=-1, score=0.7304345731126458, total=   0.3s\n",
      "[CV] criterion=mse, max_depth=6, max_features=auto, n_estimators=20, n_jobs=-1 \n",
      "[CV]  criterion=mse, max_depth=6, max_features=auto, n_estimators=20, n_jobs=-1, score=0.7470552032442841, total=   0.3s\n",
      "[CV] criterion=mse, max_depth=6, max_features=auto, n_estimators=20, n_jobs=-1 \n",
      "[CV]  criterion=mse, max_depth=6, max_features=auto, n_estimators=20, n_jobs=-1, score=0.7670219276704259, total=   0.3s\n",
      "[CV] criterion=mse, max_depth=6, max_features=auto, n_estimators=20, n_jobs=-1 \n",
      "[CV]  criterion=mse, max_depth=6, max_features=auto, n_estimators=20, n_jobs=-1, score=0.7661178724665896, total=   0.3s\n",
      "[CV] criterion=mse, max_depth=6, max_features=auto, n_estimators=30, n_jobs=-1 \n",
      "[CV]  criterion=mse, max_depth=6, max_features=auto, n_estimators=30, n_jobs=-1, score=0.7421164634520687, total=   0.4s\n",
      "[CV] criterion=mse, max_depth=6, max_features=auto, n_estimators=30, n_jobs=-1 \n",
      "[CV]  criterion=mse, max_depth=6, max_features=auto, n_estimators=30, n_jobs=-1, score=0.7336936277163055, total=   0.3s\n",
      "[CV] criterion=mse, max_depth=6, max_features=auto, n_estimators=30, n_jobs=-1 \n",
      "[CV]  criterion=mse, max_depth=6, max_features=auto, n_estimators=30, n_jobs=-1, score=0.7463012057646086, total=   0.4s\n",
      "[CV] criterion=mse, max_depth=6, max_features=auto, n_estimators=30, n_jobs=-1 \n",
      "[CV]  criterion=mse, max_depth=6, max_features=auto, n_estimators=30, n_jobs=-1, score=0.7703073155166363, total=   0.3s\n",
      "[CV] criterion=mse, max_depth=6, max_features=auto, n_estimators=30, n_jobs=-1 \n",
      "[CV]  criterion=mse, max_depth=6, max_features=auto, n_estimators=30, n_jobs=-1, score=0.76762477215692, total=   0.4s\n",
      "[CV] criterion=mse, max_depth=6, max_features=auto, n_estimators=60, n_jobs=-1 \n",
      "[CV]  criterion=mse, max_depth=6, max_features=auto, n_estimators=60, n_jobs=-1, score=0.7452397661326996, total=   0.6s\n",
      "[CV] criterion=mse, max_depth=6, max_features=auto, n_estimators=60, n_jobs=-1 \n",
      "[CV]  criterion=mse, max_depth=6, max_features=auto, n_estimators=60, n_jobs=-1, score=0.7332627741884349, total=   0.7s\n",
      "[CV] criterion=mse, max_depth=6, max_features=auto, n_estimators=60, n_jobs=-1 \n",
      "[CV]  criterion=mse, max_depth=6, max_features=auto, n_estimators=60, n_jobs=-1, score=0.738513034774034, total=   0.7s\n",
      "[CV] criterion=mse, max_depth=6, max_features=auto, n_estimators=60, n_jobs=-1 \n",
      "[CV]  criterion=mse, max_depth=6, max_features=auto, n_estimators=60, n_jobs=-1, score=0.7667881113456592, total=   0.6s\n",
      "[CV] criterion=mse, max_depth=6, max_features=auto, n_estimators=60, n_jobs=-1 \n",
      "[CV]  criterion=mse, max_depth=6, max_features=auto, n_estimators=60, n_jobs=-1, score=0.7657036038979746, total=   0.6s\n",
      "[CV] criterion=mse, max_depth=6, max_features=sqrt, n_estimators=20, n_jobs=-1 \n"
     ]
    },
    {
     "name": "stdout",
     "output_type": "stream",
     "text": [
      "[CV]  criterion=mse, max_depth=6, max_features=sqrt, n_estimators=20, n_jobs=-1, score=0.7243264489523735, total=   0.2s\n",
      "[CV] criterion=mse, max_depth=6, max_features=sqrt, n_estimators=20, n_jobs=-1 \n",
      "[CV]  criterion=mse, max_depth=6, max_features=sqrt, n_estimators=20, n_jobs=-1, score=0.7219476686697204, total=   0.2s\n",
      "[CV] criterion=mse, max_depth=6, max_features=sqrt, n_estimators=20, n_jobs=-1 \n",
      "[CV]  criterion=mse, max_depth=6, max_features=sqrt, n_estimators=20, n_jobs=-1, score=0.7277547179092365, total=   0.2s\n",
      "[CV] criterion=mse, max_depth=6, max_features=sqrt, n_estimators=20, n_jobs=-1 \n",
      "[CV]  criterion=mse, max_depth=6, max_features=sqrt, n_estimators=20, n_jobs=-1, score=0.7592985857974074, total=   0.2s\n",
      "[CV] criterion=mse, max_depth=6, max_features=sqrt, n_estimators=20, n_jobs=-1 \n",
      "[CV]  criterion=mse, max_depth=6, max_features=sqrt, n_estimators=20, n_jobs=-1, score=0.745947209712365, total=   0.2s\n",
      "[CV] criterion=mse, max_depth=6, max_features=sqrt, n_estimators=30, n_jobs=-1 \n",
      "[CV]  criterion=mse, max_depth=6, max_features=sqrt, n_estimators=30, n_jobs=-1, score=0.7326932036950661, total=   0.3s\n",
      "[CV] criterion=mse, max_depth=6, max_features=sqrt, n_estimators=30, n_jobs=-1 \n",
      "[CV]  criterion=mse, max_depth=6, max_features=sqrt, n_estimators=30, n_jobs=-1, score=0.7270694719086218, total=   0.2s\n",
      "[CV] criterion=mse, max_depth=6, max_features=sqrt, n_estimators=30, n_jobs=-1 \n",
      "[CV]  criterion=mse, max_depth=6, max_features=sqrt, n_estimators=30, n_jobs=-1, score=0.7262209149328454, total=   0.2s\n",
      "[CV] criterion=mse, max_depth=6, max_features=sqrt, n_estimators=30, n_jobs=-1 \n",
      "[CV]  criterion=mse, max_depth=6, max_features=sqrt, n_estimators=30, n_jobs=-1, score=0.7608369683720995, total=   0.2s\n",
      "[CV] criterion=mse, max_depth=6, max_features=sqrt, n_estimators=30, n_jobs=-1 \n",
      "[CV]  criterion=mse, max_depth=6, max_features=sqrt, n_estimators=30, n_jobs=-1, score=0.7476907628140612, total=   0.2s\n",
      "[CV] criterion=mse, max_depth=6, max_features=sqrt, n_estimators=60, n_jobs=-1 \n",
      "[CV]  criterion=mse, max_depth=6, max_features=sqrt, n_estimators=60, n_jobs=-1, score=0.731817055900343, total=   0.4s\n",
      "[CV] criterion=mse, max_depth=6, max_features=sqrt, n_estimators=60, n_jobs=-1 \n",
      "[CV]  criterion=mse, max_depth=6, max_features=sqrt, n_estimators=60, n_jobs=-1, score=0.7274981317804977, total=   0.4s\n",
      "[CV] criterion=mse, max_depth=6, max_features=sqrt, n_estimators=60, n_jobs=-1 \n",
      "[CV]  criterion=mse, max_depth=6, max_features=sqrt, n_estimators=60, n_jobs=-1, score=0.7162016154978254, total=   0.4s\n",
      "[CV] criterion=mse, max_depth=6, max_features=sqrt, n_estimators=60, n_jobs=-1 \n",
      "[CV]  criterion=mse, max_depth=6, max_features=sqrt, n_estimators=60, n_jobs=-1, score=0.7571229894930462, total=   0.3s\n",
      "[CV] criterion=mse, max_depth=6, max_features=sqrt, n_estimators=60, n_jobs=-1 \n",
      "[CV]  criterion=mse, max_depth=6, max_features=sqrt, n_estimators=60, n_jobs=-1, score=0.7498757586515081, total=   0.4s\n",
      "[CV] criterion=mae, max_depth=4, max_features=auto, n_estimators=20, n_jobs=-1 \n",
      "[CV]  criterion=mae, max_depth=4, max_features=auto, n_estimators=20, n_jobs=-1, score=0.6078896567338052, total=  16.5s\n",
      "[CV] criterion=mae, max_depth=4, max_features=auto, n_estimators=20, n_jobs=-1 \n",
      "[CV]  criterion=mae, max_depth=4, max_features=auto, n_estimators=20, n_jobs=-1, score=0.636413540056201, total=  16.4s\n",
      "[CV] criterion=mae, max_depth=4, max_features=auto, n_estimators=20, n_jobs=-1 \n",
      "[CV]  criterion=mae, max_depth=4, max_features=auto, n_estimators=20, n_jobs=-1, score=0.6545934257341846, total=  17.0s\n",
      "[CV] criterion=mae, max_depth=4, max_features=auto, n_estimators=20, n_jobs=-1 \n",
      "[CV]  criterion=mae, max_depth=4, max_features=auto, n_estimators=20, n_jobs=-1, score=0.6613126022710907, total=  16.4s\n",
      "[CV] criterion=mae, max_depth=4, max_features=auto, n_estimators=20, n_jobs=-1 \n",
      "[CV]  criterion=mae, max_depth=4, max_features=auto, n_estimators=20, n_jobs=-1, score=0.674847427582425, total=  18.2s\n",
      "[CV] criterion=mae, max_depth=4, max_features=auto, n_estimators=30, n_jobs=-1 \n",
      "[CV]  criterion=mae, max_depth=4, max_features=auto, n_estimators=30, n_jobs=-1, score=0.608678849709037, total=  27.5s\n",
      "[CV] criterion=mae, max_depth=4, max_features=auto, n_estimators=30, n_jobs=-1 \n",
      "[CV]  criterion=mae, max_depth=4, max_features=auto, n_estimators=30, n_jobs=-1, score=0.6387917369701732, total=  25.5s\n",
      "[CV] criterion=mae, max_depth=4, max_features=auto, n_estimators=30, n_jobs=-1 \n",
      "[CV]  criterion=mae, max_depth=4, max_features=auto, n_estimators=30, n_jobs=-1, score=0.6561952381208094, total=  24.8s\n",
      "[CV] criterion=mae, max_depth=4, max_features=auto, n_estimators=30, n_jobs=-1 \n",
      "[CV]  criterion=mae, max_depth=4, max_features=auto, n_estimators=30, n_jobs=-1, score=0.6609060707744512, total=  24.5s\n",
      "[CV] criterion=mae, max_depth=4, max_features=auto, n_estimators=30, n_jobs=-1 \n",
      "[CV]  criterion=mae, max_depth=4, max_features=auto, n_estimators=30, n_jobs=-1, score=0.6737608362915748, total=  26.2s\n",
      "[CV] criterion=mae, max_depth=4, max_features=auto, n_estimators=60, n_jobs=-1 \n",
      "[CV]  criterion=mae, max_depth=4, max_features=auto, n_estimators=60, n_jobs=-1, score=0.6132749733127463, total=  49.1s\n",
      "[CV] criterion=mae, max_depth=4, max_features=auto, n_estimators=60, n_jobs=-1 \n",
      "[CV]  criterion=mae, max_depth=4, max_features=auto, n_estimators=60, n_jobs=-1, score=0.6413926571541744, total=  50.2s\n",
      "[CV] criterion=mae, max_depth=4, max_features=auto, n_estimators=60, n_jobs=-1 \n",
      "[CV]  criterion=mae, max_depth=4, max_features=auto, n_estimators=60, n_jobs=-1, score=0.6534738591985444, total=  53.2s\n",
      "[CV] criterion=mae, max_depth=4, max_features=auto, n_estimators=60, n_jobs=-1 \n",
      "[CV]  criterion=mae, max_depth=4, max_features=auto, n_estimators=60, n_jobs=-1, score=0.6659782477017466, total=  51.5s\n",
      "[CV] criterion=mae, max_depth=4, max_features=auto, n_estimators=60, n_jobs=-1 \n",
      "[CV]  criterion=mae, max_depth=4, max_features=auto, n_estimators=60, n_jobs=-1, score=0.6755248096391516, total=  50.6s\n",
      "[CV] criterion=mae, max_depth=4, max_features=sqrt, n_estimators=20, n_jobs=-1 \n",
      "[CV]  criterion=mae, max_depth=4, max_features=sqrt, n_estimators=20, n_jobs=-1, score=0.6271471963557458, total=   5.5s\n",
      "[CV] criterion=mae, max_depth=4, max_features=sqrt, n_estimators=20, n_jobs=-1 \n",
      "[CV]  criterion=mae, max_depth=4, max_features=sqrt, n_estimators=20, n_jobs=-1, score=0.6380656487202365, total=   5.0s\n",
      "[CV] criterion=mae, max_depth=4, max_features=sqrt, n_estimators=20, n_jobs=-1 \n",
      "[CV]  criterion=mae, max_depth=4, max_features=sqrt, n_estimators=20, n_jobs=-1, score=0.6283483121771543, total=   4.9s\n",
      "[CV] criterion=mae, max_depth=4, max_features=sqrt, n_estimators=20, n_jobs=-1 \n",
      "[CV]  criterion=mae, max_depth=4, max_features=sqrt, n_estimators=20, n_jobs=-1, score=0.6622011303709785, total=   5.0s\n",
      "[CV] criterion=mae, max_depth=4, max_features=sqrt, n_estimators=20, n_jobs=-1 \n",
      "[CV]  criterion=mae, max_depth=4, max_features=sqrt, n_estimators=20, n_jobs=-1, score=0.6541810342183708, total=   4.9s\n",
      "[CV] criterion=mae, max_depth=4, max_features=sqrt, n_estimators=30, n_jobs=-1 \n",
      "[CV]  criterion=mae, max_depth=4, max_features=sqrt, n_estimators=30, n_jobs=-1, score=0.6287002480670852, total=   8.2s\n",
      "[CV] criterion=mae, max_depth=4, max_features=sqrt, n_estimators=30, n_jobs=-1 \n",
      "[CV]  criterion=mae, max_depth=4, max_features=sqrt, n_estimators=30, n_jobs=-1, score=0.6378628134179298, total=   8.4s\n",
      "[CV] criterion=mae, max_depth=4, max_features=sqrt, n_estimators=30, n_jobs=-1 \n",
      "[CV]  criterion=mae, max_depth=4, max_features=sqrt, n_estimators=30, n_jobs=-1, score=0.6271679542149197, total=   7.3s\n",
      "[CV] criterion=mae, max_depth=4, max_features=sqrt, n_estimators=30, n_jobs=-1 \n",
      "[CV]  criterion=mae, max_depth=4, max_features=sqrt, n_estimators=30, n_jobs=-1, score=0.6646105991415827, total=   7.9s\n",
      "[CV] criterion=mae, max_depth=4, max_features=sqrt, n_estimators=30, n_jobs=-1 \n",
      "[CV]  criterion=mae, max_depth=4, max_features=sqrt, n_estimators=30, n_jobs=-1, score=0.6523674277317717, total=   8.2s\n",
      "[CV] criterion=mae, max_depth=4, max_features=sqrt, n_estimators=60, n_jobs=-1 \n",
      "[CV]  criterion=mae, max_depth=4, max_features=sqrt, n_estimators=60, n_jobs=-1, score=0.6259755554669428, total=  15.4s\n",
      "[CV] criterion=mae, max_depth=4, max_features=sqrt, n_estimators=60, n_jobs=-1 \n"
     ]
    },
    {
     "name": "stdout",
     "output_type": "stream",
     "text": [
      "[CV]  criterion=mae, max_depth=4, max_features=sqrt, n_estimators=60, n_jobs=-1, score=0.6362595668235353, total=  15.8s\n",
      "[CV] criterion=mae, max_depth=4, max_features=sqrt, n_estimators=60, n_jobs=-1 \n",
      "[CV]  criterion=mae, max_depth=4, max_features=sqrt, n_estimators=60, n_jobs=-1, score=0.6209940110496017, total=  17.3s\n",
      "[CV] criterion=mae, max_depth=4, max_features=sqrt, n_estimators=60, n_jobs=-1 \n",
      "[CV]  criterion=mae, max_depth=4, max_features=sqrt, n_estimators=60, n_jobs=-1, score=0.6630740104894803, total=  16.7s\n",
      "[CV] criterion=mae, max_depth=4, max_features=sqrt, n_estimators=60, n_jobs=-1 \n",
      "[CV]  criterion=mae, max_depth=4, max_features=sqrt, n_estimators=60, n_jobs=-1, score=0.6455358598426784, total=  15.3s\n",
      "[CV] criterion=mae, max_depth=6, max_features=auto, n_estimators=20, n_jobs=-1 \n",
      "[CV]  criterion=mae, max_depth=6, max_features=auto, n_estimators=20, n_jobs=-1, score=0.7060471858326147, total=  20.7s\n",
      "[CV] criterion=mae, max_depth=6, max_features=auto, n_estimators=20, n_jobs=-1 \n",
      "[CV]  criterion=mae, max_depth=6, max_features=auto, n_estimators=20, n_jobs=-1, score=0.7105290823496944, total=  19.5s\n",
      "[CV] criterion=mae, max_depth=6, max_features=auto, n_estimators=20, n_jobs=-1 \n",
      "[CV]  criterion=mae, max_depth=6, max_features=auto, n_estimators=20, n_jobs=-1, score=0.7217327848357191, total=  18.2s\n",
      "[CV] criterion=mae, max_depth=6, max_features=auto, n_estimators=20, n_jobs=-1 \n",
      "[CV]  criterion=mae, max_depth=6, max_features=auto, n_estimators=20, n_jobs=-1, score=0.7394523611089154, total=  20.3s\n",
      "[CV] criterion=mae, max_depth=6, max_features=auto, n_estimators=20, n_jobs=-1 \n",
      "[CV]  criterion=mae, max_depth=6, max_features=auto, n_estimators=20, n_jobs=-1, score=0.7446555966796586, total=  17.9s\n",
      "[CV] criterion=mae, max_depth=6, max_features=auto, n_estimators=30, n_jobs=-1 \n",
      "[CV]  criterion=mae, max_depth=6, max_features=auto, n_estimators=30, n_jobs=-1, score=0.7073336477003743, total=  30.8s\n",
      "[CV] criterion=mae, max_depth=6, max_features=auto, n_estimators=30, n_jobs=-1 \n",
      "[CV]  criterion=mae, max_depth=6, max_features=auto, n_estimators=30, n_jobs=-1, score=0.70845227813238, total=  28.4s\n",
      "[CV] criterion=mae, max_depth=6, max_features=auto, n_estimators=30, n_jobs=-1 \n",
      "[CV]  criterion=mae, max_depth=6, max_features=auto, n_estimators=30, n_jobs=-1, score=0.7213931545605812, total=  28.8s\n",
      "[CV] criterion=mae, max_depth=6, max_features=auto, n_estimators=30, n_jobs=-1 \n",
      "[CV]  criterion=mae, max_depth=6, max_features=auto, n_estimators=30, n_jobs=-1, score=0.7441145988548914, total=  29.3s\n",
      "[CV] criterion=mae, max_depth=6, max_features=auto, n_estimators=30, n_jobs=-1 \n",
      "[CV]  criterion=mae, max_depth=6, max_features=auto, n_estimators=30, n_jobs=-1, score=0.7445743536584111, total=  29.4s\n",
      "[CV] criterion=mae, max_depth=6, max_features=auto, n_estimators=60, n_jobs=-1 \n",
      "[CV]  criterion=mae, max_depth=6, max_features=auto, n_estimators=60, n_jobs=-1, score=0.7083691586387302, total=  54.5s\n",
      "[CV] criterion=mae, max_depth=6, max_features=auto, n_estimators=60, n_jobs=-1 \n"
     ]
    },
    {
     "ename": "KeyboardInterrupt",
     "evalue": "",
     "output_type": "error",
     "traceback": [
      "\u001b[1;31m---------------------------------------------------------------------------\u001b[0m",
      "\u001b[1;31mKeyboardInterrupt\u001b[0m                         Traceback (most recent call last)",
      "\u001b[1;32m<ipython-input-28-22769eab2e1f>\u001b[0m in \u001b[0;36m<module>\u001b[1;34m()\u001b[0m\n\u001b[0;32m      1\u001b[0m \u001b[1;31m# Fit grid search - NOTE: it will take time to train the data, start cv=5\u001b[0m\u001b[1;33m\u001b[0m\u001b[1;33m\u001b[0m\u001b[0m\n\u001b[1;32m----> 2\u001b[1;33m \u001b[0mbest_model\u001b[0m \u001b[1;33m=\u001b[0m \u001b[0mclf\u001b[0m\u001b[1;33m.\u001b[0m\u001b[0mfit\u001b[0m\u001b[1;33m(\u001b[0m\u001b[0mX_train\u001b[0m\u001b[1;33m,\u001b[0m \u001b[0my_train\u001b[0m\u001b[1;33m)\u001b[0m\u001b[1;33m\u001b[0m\u001b[0m\n\u001b[0m",
      "\u001b[1;32m~\\Anaconda3\\lib\\site-packages\\sklearn\\model_selection\\_search.py\u001b[0m in \u001b[0;36mfit\u001b[1;34m(self, X, y, groups, **fit_params)\u001b[0m\n\u001b[0;32m    637\u001b[0m                                   error_score=self.error_score)\n\u001b[0;32m    638\u001b[0m           for parameters, (train, test) in product(candidate_params,\n\u001b[1;32m--> 639\u001b[1;33m                                                    cv.split(X, y, groups)))\n\u001b[0m\u001b[0;32m    640\u001b[0m \u001b[1;33m\u001b[0m\u001b[0m\n\u001b[0;32m    641\u001b[0m         \u001b[1;31m# if one choose to see train score, \"out\" will contain train score info\u001b[0m\u001b[1;33m\u001b[0m\u001b[1;33m\u001b[0m\u001b[0m\n",
      "\u001b[1;32m~\\Anaconda3\\lib\\site-packages\\sklearn\\externals\\joblib\\parallel.py\u001b[0m in \u001b[0;36m__call__\u001b[1;34m(self, iterable)\u001b[0m\n\u001b[0;32m    777\u001b[0m             \u001b[1;31m# was dispatched. In particular this covers the edge\u001b[0m\u001b[1;33m\u001b[0m\u001b[1;33m\u001b[0m\u001b[0m\n\u001b[0;32m    778\u001b[0m             \u001b[1;31m# case of Parallel used with an exhausted iterator.\u001b[0m\u001b[1;33m\u001b[0m\u001b[1;33m\u001b[0m\u001b[0m\n\u001b[1;32m--> 779\u001b[1;33m             \u001b[1;32mwhile\u001b[0m \u001b[0mself\u001b[0m\u001b[1;33m.\u001b[0m\u001b[0mdispatch_one_batch\u001b[0m\u001b[1;33m(\u001b[0m\u001b[0miterator\u001b[0m\u001b[1;33m)\u001b[0m\u001b[1;33m:\u001b[0m\u001b[1;33m\u001b[0m\u001b[0m\n\u001b[0m\u001b[0;32m    780\u001b[0m                 \u001b[0mself\u001b[0m\u001b[1;33m.\u001b[0m\u001b[0m_iterating\u001b[0m \u001b[1;33m=\u001b[0m \u001b[1;32mTrue\u001b[0m\u001b[1;33m\u001b[0m\u001b[0m\n\u001b[0;32m    781\u001b[0m             \u001b[1;32melse\u001b[0m\u001b[1;33m:\u001b[0m\u001b[1;33m\u001b[0m\u001b[0m\n",
      "\u001b[1;32m~\\Anaconda3\\lib\\site-packages\\sklearn\\externals\\joblib\\parallel.py\u001b[0m in \u001b[0;36mdispatch_one_batch\u001b[1;34m(self, iterator)\u001b[0m\n\u001b[0;32m    623\u001b[0m                 \u001b[1;32mreturn\u001b[0m \u001b[1;32mFalse\u001b[0m\u001b[1;33m\u001b[0m\u001b[0m\n\u001b[0;32m    624\u001b[0m             \u001b[1;32melse\u001b[0m\u001b[1;33m:\u001b[0m\u001b[1;33m\u001b[0m\u001b[0m\n\u001b[1;32m--> 625\u001b[1;33m                 \u001b[0mself\u001b[0m\u001b[1;33m.\u001b[0m\u001b[0m_dispatch\u001b[0m\u001b[1;33m(\u001b[0m\u001b[0mtasks\u001b[0m\u001b[1;33m)\u001b[0m\u001b[1;33m\u001b[0m\u001b[0m\n\u001b[0m\u001b[0;32m    626\u001b[0m                 \u001b[1;32mreturn\u001b[0m \u001b[1;32mTrue\u001b[0m\u001b[1;33m\u001b[0m\u001b[0m\n\u001b[0;32m    627\u001b[0m \u001b[1;33m\u001b[0m\u001b[0m\n",
      "\u001b[1;32m~\\Anaconda3\\lib\\site-packages\\sklearn\\externals\\joblib\\parallel.py\u001b[0m in \u001b[0;36m_dispatch\u001b[1;34m(self, batch)\u001b[0m\n\u001b[0;32m    586\u001b[0m         \u001b[0mdispatch_timestamp\u001b[0m \u001b[1;33m=\u001b[0m \u001b[0mtime\u001b[0m\u001b[1;33m.\u001b[0m\u001b[0mtime\u001b[0m\u001b[1;33m(\u001b[0m\u001b[1;33m)\u001b[0m\u001b[1;33m\u001b[0m\u001b[0m\n\u001b[0;32m    587\u001b[0m         \u001b[0mcb\u001b[0m \u001b[1;33m=\u001b[0m \u001b[0mBatchCompletionCallBack\u001b[0m\u001b[1;33m(\u001b[0m\u001b[0mdispatch_timestamp\u001b[0m\u001b[1;33m,\u001b[0m \u001b[0mlen\u001b[0m\u001b[1;33m(\u001b[0m\u001b[0mbatch\u001b[0m\u001b[1;33m)\u001b[0m\u001b[1;33m,\u001b[0m \u001b[0mself\u001b[0m\u001b[1;33m)\u001b[0m\u001b[1;33m\u001b[0m\u001b[0m\n\u001b[1;32m--> 588\u001b[1;33m         \u001b[0mjob\u001b[0m \u001b[1;33m=\u001b[0m \u001b[0mself\u001b[0m\u001b[1;33m.\u001b[0m\u001b[0m_backend\u001b[0m\u001b[1;33m.\u001b[0m\u001b[0mapply_async\u001b[0m\u001b[1;33m(\u001b[0m\u001b[0mbatch\u001b[0m\u001b[1;33m,\u001b[0m \u001b[0mcallback\u001b[0m\u001b[1;33m=\u001b[0m\u001b[0mcb\u001b[0m\u001b[1;33m)\u001b[0m\u001b[1;33m\u001b[0m\u001b[0m\n\u001b[0m\u001b[0;32m    589\u001b[0m         \u001b[0mself\u001b[0m\u001b[1;33m.\u001b[0m\u001b[0m_jobs\u001b[0m\u001b[1;33m.\u001b[0m\u001b[0mappend\u001b[0m\u001b[1;33m(\u001b[0m\u001b[0mjob\u001b[0m\u001b[1;33m)\u001b[0m\u001b[1;33m\u001b[0m\u001b[0m\n\u001b[0;32m    590\u001b[0m \u001b[1;33m\u001b[0m\u001b[0m\n",
      "\u001b[1;32m~\\Anaconda3\\lib\\site-packages\\sklearn\\externals\\joblib\\_parallel_backends.py\u001b[0m in \u001b[0;36mapply_async\u001b[1;34m(self, func, callback)\u001b[0m\n\u001b[0;32m    109\u001b[0m     \u001b[1;32mdef\u001b[0m \u001b[0mapply_async\u001b[0m\u001b[1;33m(\u001b[0m\u001b[0mself\u001b[0m\u001b[1;33m,\u001b[0m \u001b[0mfunc\u001b[0m\u001b[1;33m,\u001b[0m \u001b[0mcallback\u001b[0m\u001b[1;33m=\u001b[0m\u001b[1;32mNone\u001b[0m\u001b[1;33m)\u001b[0m\u001b[1;33m:\u001b[0m\u001b[1;33m\u001b[0m\u001b[0m\n\u001b[0;32m    110\u001b[0m         \u001b[1;34m\"\"\"Schedule a func to be run\"\"\"\u001b[0m\u001b[1;33m\u001b[0m\u001b[0m\n\u001b[1;32m--> 111\u001b[1;33m         \u001b[0mresult\u001b[0m \u001b[1;33m=\u001b[0m \u001b[0mImmediateResult\u001b[0m\u001b[1;33m(\u001b[0m\u001b[0mfunc\u001b[0m\u001b[1;33m)\u001b[0m\u001b[1;33m\u001b[0m\u001b[0m\n\u001b[0m\u001b[0;32m    112\u001b[0m         \u001b[1;32mif\u001b[0m \u001b[0mcallback\u001b[0m\u001b[1;33m:\u001b[0m\u001b[1;33m\u001b[0m\u001b[0m\n\u001b[0;32m    113\u001b[0m             \u001b[0mcallback\u001b[0m\u001b[1;33m(\u001b[0m\u001b[0mresult\u001b[0m\u001b[1;33m)\u001b[0m\u001b[1;33m\u001b[0m\u001b[0m\n",
      "\u001b[1;32m~\\Anaconda3\\lib\\site-packages\\sklearn\\externals\\joblib\\_parallel_backends.py\u001b[0m in \u001b[0;36m__init__\u001b[1;34m(self, batch)\u001b[0m\n\u001b[0;32m    330\u001b[0m         \u001b[1;31m# Don't delay the application, to avoid keeping the input\u001b[0m\u001b[1;33m\u001b[0m\u001b[1;33m\u001b[0m\u001b[0m\n\u001b[0;32m    331\u001b[0m         \u001b[1;31m# arguments in memory\u001b[0m\u001b[1;33m\u001b[0m\u001b[1;33m\u001b[0m\u001b[0m\n\u001b[1;32m--> 332\u001b[1;33m         \u001b[0mself\u001b[0m\u001b[1;33m.\u001b[0m\u001b[0mresults\u001b[0m \u001b[1;33m=\u001b[0m \u001b[0mbatch\u001b[0m\u001b[1;33m(\u001b[0m\u001b[1;33m)\u001b[0m\u001b[1;33m\u001b[0m\u001b[0m\n\u001b[0m\u001b[0;32m    333\u001b[0m \u001b[1;33m\u001b[0m\u001b[0m\n\u001b[0;32m    334\u001b[0m     \u001b[1;32mdef\u001b[0m \u001b[0mget\u001b[0m\u001b[1;33m(\u001b[0m\u001b[0mself\u001b[0m\u001b[1;33m)\u001b[0m\u001b[1;33m:\u001b[0m\u001b[1;33m\u001b[0m\u001b[0m\n",
      "\u001b[1;32m~\\Anaconda3\\lib\\site-packages\\sklearn\\externals\\joblib\\parallel.py\u001b[0m in \u001b[0;36m__call__\u001b[1;34m(self)\u001b[0m\n\u001b[0;32m    129\u001b[0m \u001b[1;33m\u001b[0m\u001b[0m\n\u001b[0;32m    130\u001b[0m     \u001b[1;32mdef\u001b[0m \u001b[0m__call__\u001b[0m\u001b[1;33m(\u001b[0m\u001b[0mself\u001b[0m\u001b[1;33m)\u001b[0m\u001b[1;33m:\u001b[0m\u001b[1;33m\u001b[0m\u001b[0m\n\u001b[1;32m--> 131\u001b[1;33m         \u001b[1;32mreturn\u001b[0m \u001b[1;33m[\u001b[0m\u001b[0mfunc\u001b[0m\u001b[1;33m(\u001b[0m\u001b[1;33m*\u001b[0m\u001b[0margs\u001b[0m\u001b[1;33m,\u001b[0m \u001b[1;33m**\u001b[0m\u001b[0mkwargs\u001b[0m\u001b[1;33m)\u001b[0m \u001b[1;32mfor\u001b[0m \u001b[0mfunc\u001b[0m\u001b[1;33m,\u001b[0m \u001b[0margs\u001b[0m\u001b[1;33m,\u001b[0m \u001b[0mkwargs\u001b[0m \u001b[1;32min\u001b[0m \u001b[0mself\u001b[0m\u001b[1;33m.\u001b[0m\u001b[0mitems\u001b[0m\u001b[1;33m]\u001b[0m\u001b[1;33m\u001b[0m\u001b[0m\n\u001b[0m\u001b[0;32m    132\u001b[0m \u001b[1;33m\u001b[0m\u001b[0m\n\u001b[0;32m    133\u001b[0m     \u001b[1;32mdef\u001b[0m \u001b[0m__len__\u001b[0m\u001b[1;33m(\u001b[0m\u001b[0mself\u001b[0m\u001b[1;33m)\u001b[0m\u001b[1;33m:\u001b[0m\u001b[1;33m\u001b[0m\u001b[0m\n",
      "\u001b[1;32m~\\Anaconda3\\lib\\site-packages\\sklearn\\externals\\joblib\\parallel.py\u001b[0m in \u001b[0;36m<listcomp>\u001b[1;34m(.0)\u001b[0m\n\u001b[0;32m    129\u001b[0m \u001b[1;33m\u001b[0m\u001b[0m\n\u001b[0;32m    130\u001b[0m     \u001b[1;32mdef\u001b[0m \u001b[0m__call__\u001b[0m\u001b[1;33m(\u001b[0m\u001b[0mself\u001b[0m\u001b[1;33m)\u001b[0m\u001b[1;33m:\u001b[0m\u001b[1;33m\u001b[0m\u001b[0m\n\u001b[1;32m--> 131\u001b[1;33m         \u001b[1;32mreturn\u001b[0m \u001b[1;33m[\u001b[0m\u001b[0mfunc\u001b[0m\u001b[1;33m(\u001b[0m\u001b[1;33m*\u001b[0m\u001b[0margs\u001b[0m\u001b[1;33m,\u001b[0m \u001b[1;33m**\u001b[0m\u001b[0mkwargs\u001b[0m\u001b[1;33m)\u001b[0m \u001b[1;32mfor\u001b[0m \u001b[0mfunc\u001b[0m\u001b[1;33m,\u001b[0m \u001b[0margs\u001b[0m\u001b[1;33m,\u001b[0m \u001b[0mkwargs\u001b[0m \u001b[1;32min\u001b[0m \u001b[0mself\u001b[0m\u001b[1;33m.\u001b[0m\u001b[0mitems\u001b[0m\u001b[1;33m]\u001b[0m\u001b[1;33m\u001b[0m\u001b[0m\n\u001b[0m\u001b[0;32m    132\u001b[0m \u001b[1;33m\u001b[0m\u001b[0m\n\u001b[0;32m    133\u001b[0m     \u001b[1;32mdef\u001b[0m \u001b[0m__len__\u001b[0m\u001b[1;33m(\u001b[0m\u001b[0mself\u001b[0m\u001b[1;33m)\u001b[0m\u001b[1;33m:\u001b[0m\u001b[1;33m\u001b[0m\u001b[0m\n",
      "\u001b[1;32m~\\Anaconda3\\lib\\site-packages\\sklearn\\model_selection\\_validation.py\u001b[0m in \u001b[0;36m_fit_and_score\u001b[1;34m(estimator, X, y, scorer, train, test, verbose, parameters, fit_params, return_train_score, return_parameters, return_n_test_samples, return_times, error_score)\u001b[0m\n\u001b[0;32m    456\u001b[0m             \u001b[0mestimator\u001b[0m\u001b[1;33m.\u001b[0m\u001b[0mfit\u001b[0m\u001b[1;33m(\u001b[0m\u001b[0mX_train\u001b[0m\u001b[1;33m,\u001b[0m \u001b[1;33m**\u001b[0m\u001b[0mfit_params\u001b[0m\u001b[1;33m)\u001b[0m\u001b[1;33m\u001b[0m\u001b[0m\n\u001b[0;32m    457\u001b[0m         \u001b[1;32melse\u001b[0m\u001b[1;33m:\u001b[0m\u001b[1;33m\u001b[0m\u001b[0m\n\u001b[1;32m--> 458\u001b[1;33m             \u001b[0mestimator\u001b[0m\u001b[1;33m.\u001b[0m\u001b[0mfit\u001b[0m\u001b[1;33m(\u001b[0m\u001b[0mX_train\u001b[0m\u001b[1;33m,\u001b[0m \u001b[0my_train\u001b[0m\u001b[1;33m,\u001b[0m \u001b[1;33m**\u001b[0m\u001b[0mfit_params\u001b[0m\u001b[1;33m)\u001b[0m\u001b[1;33m\u001b[0m\u001b[0m\n\u001b[0m\u001b[0;32m    459\u001b[0m \u001b[1;33m\u001b[0m\u001b[0m\n\u001b[0;32m    460\u001b[0m     \u001b[1;32mexcept\u001b[0m \u001b[0mException\u001b[0m \u001b[1;32mas\u001b[0m \u001b[0me\u001b[0m\u001b[1;33m:\u001b[0m\u001b[1;33m\u001b[0m\u001b[0m\n",
      "\u001b[1;32m~\\Anaconda3\\lib\\site-packages\\sklearn\\ensemble\\forest.py\u001b[0m in \u001b[0;36mfit\u001b[1;34m(self, X, y, sample_weight)\u001b[0m\n\u001b[0;32m    326\u001b[0m                     \u001b[0mt\u001b[0m\u001b[1;33m,\u001b[0m \u001b[0mself\u001b[0m\u001b[1;33m,\u001b[0m \u001b[0mX\u001b[0m\u001b[1;33m,\u001b[0m \u001b[0my\u001b[0m\u001b[1;33m,\u001b[0m \u001b[0msample_weight\u001b[0m\u001b[1;33m,\u001b[0m \u001b[0mi\u001b[0m\u001b[1;33m,\u001b[0m \u001b[0mlen\u001b[0m\u001b[1;33m(\u001b[0m\u001b[0mtrees\u001b[0m\u001b[1;33m)\u001b[0m\u001b[1;33m,\u001b[0m\u001b[1;33m\u001b[0m\u001b[0m\n\u001b[0;32m    327\u001b[0m                     verbose=self.verbose, class_weight=self.class_weight)\n\u001b[1;32m--> 328\u001b[1;33m                 for i, t in enumerate(trees))\n\u001b[0m\u001b[0;32m    329\u001b[0m \u001b[1;33m\u001b[0m\u001b[0m\n\u001b[0;32m    330\u001b[0m             \u001b[1;31m# Collect newly grown trees\u001b[0m\u001b[1;33m\u001b[0m\u001b[1;33m\u001b[0m\u001b[0m\n",
      "\u001b[1;32m~\\Anaconda3\\lib\\site-packages\\sklearn\\externals\\joblib\\parallel.py\u001b[0m in \u001b[0;36m__call__\u001b[1;34m(self, iterable)\u001b[0m\n\u001b[0;32m    787\u001b[0m                 \u001b[1;31m# consumption.\u001b[0m\u001b[1;33m\u001b[0m\u001b[1;33m\u001b[0m\u001b[0m\n\u001b[0;32m    788\u001b[0m                 \u001b[0mself\u001b[0m\u001b[1;33m.\u001b[0m\u001b[0m_iterating\u001b[0m \u001b[1;33m=\u001b[0m \u001b[1;32mFalse\u001b[0m\u001b[1;33m\u001b[0m\u001b[0m\n\u001b[1;32m--> 789\u001b[1;33m             \u001b[0mself\u001b[0m\u001b[1;33m.\u001b[0m\u001b[0mretrieve\u001b[0m\u001b[1;33m(\u001b[0m\u001b[1;33m)\u001b[0m\u001b[1;33m\u001b[0m\u001b[0m\n\u001b[0m\u001b[0;32m    790\u001b[0m             \u001b[1;31m# Make sure that we get a last message telling us we are done\u001b[0m\u001b[1;33m\u001b[0m\u001b[1;33m\u001b[0m\u001b[0m\n\u001b[0;32m    791\u001b[0m             \u001b[0melapsed_time\u001b[0m \u001b[1;33m=\u001b[0m \u001b[0mtime\u001b[0m\u001b[1;33m.\u001b[0m\u001b[0mtime\u001b[0m\u001b[1;33m(\u001b[0m\u001b[1;33m)\u001b[0m \u001b[1;33m-\u001b[0m \u001b[0mself\u001b[0m\u001b[1;33m.\u001b[0m\u001b[0m_start_time\u001b[0m\u001b[1;33m\u001b[0m\u001b[0m\n",
      "\u001b[1;32m~\\Anaconda3\\lib\\site-packages\\sklearn\\externals\\joblib\\parallel.py\u001b[0m in \u001b[0;36mretrieve\u001b[1;34m(self)\u001b[0m\n\u001b[0;32m    697\u001b[0m             \u001b[1;32mtry\u001b[0m\u001b[1;33m:\u001b[0m\u001b[1;33m\u001b[0m\u001b[0m\n\u001b[0;32m    698\u001b[0m                 \u001b[1;32mif\u001b[0m \u001b[0mgetattr\u001b[0m\u001b[1;33m(\u001b[0m\u001b[0mself\u001b[0m\u001b[1;33m.\u001b[0m\u001b[0m_backend\u001b[0m\u001b[1;33m,\u001b[0m \u001b[1;34m'supports_timeout'\u001b[0m\u001b[1;33m,\u001b[0m \u001b[1;32mFalse\u001b[0m\u001b[1;33m)\u001b[0m\u001b[1;33m:\u001b[0m\u001b[1;33m\u001b[0m\u001b[0m\n\u001b[1;32m--> 699\u001b[1;33m                     \u001b[0mself\u001b[0m\u001b[1;33m.\u001b[0m\u001b[0m_output\u001b[0m\u001b[1;33m.\u001b[0m\u001b[0mextend\u001b[0m\u001b[1;33m(\u001b[0m\u001b[0mjob\u001b[0m\u001b[1;33m.\u001b[0m\u001b[0mget\u001b[0m\u001b[1;33m(\u001b[0m\u001b[0mtimeout\u001b[0m\u001b[1;33m=\u001b[0m\u001b[0mself\u001b[0m\u001b[1;33m.\u001b[0m\u001b[0mtimeout\u001b[0m\u001b[1;33m)\u001b[0m\u001b[1;33m)\u001b[0m\u001b[1;33m\u001b[0m\u001b[0m\n\u001b[0m\u001b[0;32m    700\u001b[0m                 \u001b[1;32melse\u001b[0m\u001b[1;33m:\u001b[0m\u001b[1;33m\u001b[0m\u001b[0m\n\u001b[0;32m    701\u001b[0m                     \u001b[0mself\u001b[0m\u001b[1;33m.\u001b[0m\u001b[0m_output\u001b[0m\u001b[1;33m.\u001b[0m\u001b[0mextend\u001b[0m\u001b[1;33m(\u001b[0m\u001b[0mjob\u001b[0m\u001b[1;33m.\u001b[0m\u001b[0mget\u001b[0m\u001b[1;33m(\u001b[0m\u001b[1;33m)\u001b[0m\u001b[1;33m)\u001b[0m\u001b[1;33m\u001b[0m\u001b[0m\n",
      "\u001b[1;32m~\\Anaconda3\\lib\\multiprocessing\\pool.py\u001b[0m in \u001b[0;36mget\u001b[1;34m(self, timeout)\u001b[0m\n\u001b[0;32m    636\u001b[0m \u001b[1;33m\u001b[0m\u001b[0m\n\u001b[0;32m    637\u001b[0m     \u001b[1;32mdef\u001b[0m \u001b[0mget\u001b[0m\u001b[1;33m(\u001b[0m\u001b[0mself\u001b[0m\u001b[1;33m,\u001b[0m \u001b[0mtimeout\u001b[0m\u001b[1;33m=\u001b[0m\u001b[1;32mNone\u001b[0m\u001b[1;33m)\u001b[0m\u001b[1;33m:\u001b[0m\u001b[1;33m\u001b[0m\u001b[0m\n\u001b[1;32m--> 638\u001b[1;33m         \u001b[0mself\u001b[0m\u001b[1;33m.\u001b[0m\u001b[0mwait\u001b[0m\u001b[1;33m(\u001b[0m\u001b[0mtimeout\u001b[0m\u001b[1;33m)\u001b[0m\u001b[1;33m\u001b[0m\u001b[0m\n\u001b[0m\u001b[0;32m    639\u001b[0m         \u001b[1;32mif\u001b[0m \u001b[1;32mnot\u001b[0m \u001b[0mself\u001b[0m\u001b[1;33m.\u001b[0m\u001b[0mready\u001b[0m\u001b[1;33m(\u001b[0m\u001b[1;33m)\u001b[0m\u001b[1;33m:\u001b[0m\u001b[1;33m\u001b[0m\u001b[0m\n\u001b[0;32m    640\u001b[0m             \u001b[1;32mraise\u001b[0m \u001b[0mTimeoutError\u001b[0m\u001b[1;33m\u001b[0m\u001b[0m\n",
      "\u001b[1;32m~\\Anaconda3\\lib\\multiprocessing\\pool.py\u001b[0m in \u001b[0;36mwait\u001b[1;34m(self, timeout)\u001b[0m\n\u001b[0;32m    633\u001b[0m \u001b[1;33m\u001b[0m\u001b[0m\n\u001b[0;32m    634\u001b[0m     \u001b[1;32mdef\u001b[0m \u001b[0mwait\u001b[0m\u001b[1;33m(\u001b[0m\u001b[0mself\u001b[0m\u001b[1;33m,\u001b[0m \u001b[0mtimeout\u001b[0m\u001b[1;33m=\u001b[0m\u001b[1;32mNone\u001b[0m\u001b[1;33m)\u001b[0m\u001b[1;33m:\u001b[0m\u001b[1;33m\u001b[0m\u001b[0m\n\u001b[1;32m--> 635\u001b[1;33m         \u001b[0mself\u001b[0m\u001b[1;33m.\u001b[0m\u001b[0m_event\u001b[0m\u001b[1;33m.\u001b[0m\u001b[0mwait\u001b[0m\u001b[1;33m(\u001b[0m\u001b[0mtimeout\u001b[0m\u001b[1;33m)\u001b[0m\u001b[1;33m\u001b[0m\u001b[0m\n\u001b[0m\u001b[0;32m    636\u001b[0m \u001b[1;33m\u001b[0m\u001b[0m\n\u001b[0;32m    637\u001b[0m     \u001b[1;32mdef\u001b[0m \u001b[0mget\u001b[0m\u001b[1;33m(\u001b[0m\u001b[0mself\u001b[0m\u001b[1;33m,\u001b[0m \u001b[0mtimeout\u001b[0m\u001b[1;33m=\u001b[0m\u001b[1;32mNone\u001b[0m\u001b[1;33m)\u001b[0m\u001b[1;33m:\u001b[0m\u001b[1;33m\u001b[0m\u001b[0m\n",
      "\u001b[1;32m~\\Anaconda3\\lib\\threading.py\u001b[0m in \u001b[0;36mwait\u001b[1;34m(self, timeout)\u001b[0m\n\u001b[0;32m    549\u001b[0m             \u001b[0msignaled\u001b[0m \u001b[1;33m=\u001b[0m \u001b[0mself\u001b[0m\u001b[1;33m.\u001b[0m\u001b[0m_flag\u001b[0m\u001b[1;33m\u001b[0m\u001b[0m\n\u001b[0;32m    550\u001b[0m             \u001b[1;32mif\u001b[0m \u001b[1;32mnot\u001b[0m \u001b[0msignaled\u001b[0m\u001b[1;33m:\u001b[0m\u001b[1;33m\u001b[0m\u001b[0m\n\u001b[1;32m--> 551\u001b[1;33m                 \u001b[0msignaled\u001b[0m \u001b[1;33m=\u001b[0m \u001b[0mself\u001b[0m\u001b[1;33m.\u001b[0m\u001b[0m_cond\u001b[0m\u001b[1;33m.\u001b[0m\u001b[0mwait\u001b[0m\u001b[1;33m(\u001b[0m\u001b[0mtimeout\u001b[0m\u001b[1;33m)\u001b[0m\u001b[1;33m\u001b[0m\u001b[0m\n\u001b[0m\u001b[0;32m    552\u001b[0m             \u001b[1;32mreturn\u001b[0m \u001b[0msignaled\u001b[0m\u001b[1;33m\u001b[0m\u001b[0m\n\u001b[0;32m    553\u001b[0m \u001b[1;33m\u001b[0m\u001b[0m\n",
      "\u001b[1;32m~\\Anaconda3\\lib\\threading.py\u001b[0m in \u001b[0;36mwait\u001b[1;34m(self, timeout)\u001b[0m\n\u001b[0;32m    293\u001b[0m         \u001b[1;32mtry\u001b[0m\u001b[1;33m:\u001b[0m    \u001b[1;31m# restore state no matter what (e.g., KeyboardInterrupt)\u001b[0m\u001b[1;33m\u001b[0m\u001b[0m\n\u001b[0;32m    294\u001b[0m             \u001b[1;32mif\u001b[0m \u001b[0mtimeout\u001b[0m \u001b[1;32mis\u001b[0m \u001b[1;32mNone\u001b[0m\u001b[1;33m:\u001b[0m\u001b[1;33m\u001b[0m\u001b[0m\n\u001b[1;32m--> 295\u001b[1;33m                 \u001b[0mwaiter\u001b[0m\u001b[1;33m.\u001b[0m\u001b[0macquire\u001b[0m\u001b[1;33m(\u001b[0m\u001b[1;33m)\u001b[0m\u001b[1;33m\u001b[0m\u001b[0m\n\u001b[0m\u001b[0;32m    296\u001b[0m                 \u001b[0mgotit\u001b[0m \u001b[1;33m=\u001b[0m \u001b[1;32mTrue\u001b[0m\u001b[1;33m\u001b[0m\u001b[0m\n\u001b[0;32m    297\u001b[0m             \u001b[1;32melse\u001b[0m\u001b[1;33m:\u001b[0m\u001b[1;33m\u001b[0m\u001b[0m\n",
      "\u001b[1;31mKeyboardInterrupt\u001b[0m: "
     ]
    }
   ],
   "source": [
    "# Fit grid search - NOTE: it will take time to train the data, start cv=5\n",
    "best_model = clf.fit(X_train, y_train)"
   ]
  },
  {
   "cell_type": "code",
   "execution_count": 93,
   "metadata": {
    "ExecuteTime": {
     "end_time": "2017-12-20T18:30:18.508744Z",
     "start_time": "2017-12-20T18:30:18.499734Z"
    }
   },
   "outputs": [
    {
     "name": "stdout",
     "output_type": "stream",
     "text": [
      "Best n_estimators: 10\n",
      "Best criterion: mse\n",
      "Best max_features: sqrt\n",
      "Best max_depth: 4\n"
     ]
    }
   ],
   "source": [
    "# View best hyperparameters - gridsearch\n",
    "print('Best n_estimators:', best_model.best_estimator_.get_params()['n_estimators'])\n",
    "print('Best criterion:', best_model.best_estimator_.get_params()['criterion'])\n",
    "print('Best max_features:', best_model.best_estimator_.get_params()['max_features'])\n",
    "print('Best max_depth:', best_model.best_estimator_.get_params()['max_depth'])"
   ]
  },
  {
   "cell_type": "code",
   "execution_count": 86,
   "metadata": {
    "ExecuteTime": {
     "end_time": "2017-12-20T17:22:19.419949Z",
     "start_time": "2017-12-20T17:22:19.310745Z"
    }
   },
   "outputs": [
    {
     "data": {
      "text/plain": [
       "array([  434782.27662918,  1545393.07354615,   460916.06375604, ...,\n",
       "         363795.8324056 ,   303319.00893556,   274419.95467592])"
      ]
     },
     "execution_count": 86,
     "metadata": {},
     "output_type": "execute_result"
    }
   ],
   "source": [
    "# Predict target values\n",
    "best_model.predict(X_test)"
   ]
  },
  {
   "cell_type": "code",
   "execution_count": 108,
   "metadata": {
    "ExecuteTime": {
     "end_time": "2017-12-20T19:37:21.878613Z",
     "start_time": "2017-12-20T19:37:21.872609Z"
    }
   },
   "outputs": [
    {
     "name": "stdout",
     "output_type": "stream",
     "text": [
      "Best score for data1: 0.692467297353\n"
     ]
    }
   ],
   "source": [
    "# View the accuracy score\n",
    "print('Best score for data1:', best_model.best_score_) "
   ]
  },
  {
   "cell_type": "code",
   "execution_count": 103,
   "metadata": {
    "ExecuteTime": {
     "end_time": "2017-12-20T19:00:47.364942Z",
     "start_time": "2017-12-20T19:00:47.358958Z"
    },
    "collapsed": true
   },
   "outputs": [],
   "source": [
    "from sklearn.model_selection import RandomizedSearchCV\n",
    "random = RandomizedSearchCV(rf, hyperparameters, random_state=1, n_iter=60, cv=5, verbose=0, n_jobs=-1)"
   ]
  },
  {
   "cell_type": "code",
   "execution_count": 104,
   "metadata": {
    "ExecuteTime": {
     "end_time": "2017-12-20T19:36:28.708786Z",
     "start_time": "2017-12-20T19:00:47.893306Z"
    },
    "collapsed": true
   },
   "outputs": [],
   "source": [
    "compare_random = random.fit(X_train, y_train)"
   ]
  },
  {
   "cell_type": "code",
   "execution_count": 105,
   "metadata": {
    "ExecuteTime": {
     "end_time": "2017-12-20T19:36:36.309186Z",
     "start_time": "2017-12-20T19:36:36.297198Z"
    }
   },
   "outputs": [
    {
     "name": "stdout",
     "output_type": "stream",
     "text": [
      "Best n_estimators: 100\n",
      "Best criterion: mse\n",
      "Best max_features: auto\n",
      "Best max_depth: 4\n"
     ]
    }
   ],
   "source": [
    "# View best hyperparameters - randomizedsearch\n",
    "print('Best n_estimators:', compare_random.best_estimator_.get_params()['n_estimators'])\n",
    "print('Best criterion:', compare_random.best_estimator_.get_params()['criterion'])\n",
    "print('Best max_features:', compare_random.best_estimator_.get_params()['max_features'])\n",
    "print('Best max_depth:', compare_random.best_estimator_.get_params()['max_depth'])"
   ]
  },
  {
   "cell_type": "code",
   "execution_count": 107,
   "metadata": {
    "ExecuteTime": {
     "end_time": "2017-12-20T19:37:10.201510Z",
     "start_time": "2017-12-20T19:37:10.195507Z"
    }
   },
   "outputs": [
    {
     "name": "stdout",
     "output_type": "stream",
     "text": [
      "Best score for randomized search: 0.689046136744\n"
     ]
    }
   ],
   "source": [
    "print('Best score for randomized search:', compare_random.best_score_)  "
   ]
  },
  {
   "cell_type": "code",
   "execution_count": null,
   "metadata": {
    "collapsed": true
   },
   "outputs": [],
   "source": []
  },
  {
   "cell_type": "code",
   "execution_count": null,
   "metadata": {
    "collapsed": true
   },
   "outputs": [],
   "source": []
  },
  {
   "cell_type": "code",
   "execution_count": 24,
   "metadata": {
    "ExecuteTime": {
     "end_time": "2017-12-20T15:45:09.438034Z",
     "start_time": "2017-12-20T15:45:09.434030Z"
    },
    "collapsed": true
   },
   "outputs": [],
   "source": [
    "# Note - if you not have xgboost installed in your anaconda, it won't work. Plus its expensive to run\n",
    "#from xgboost.sklearn import XGBClassifier  \n",
    "#from xgboost.sklearn import XGBRegressor\n",
    "#xclas = XGBClassifier()  # and for classifier  \n",
    "#xclas.fit(X_train, y_train)  \n",
    "#xclas.predict(X_test)  "
   ]
  },
  {
   "cell_type": "code",
   "execution_count": 25,
   "metadata": {
    "ExecuteTime": {
     "end_time": "2017-12-20T15:45:12.422808Z",
     "start_time": "2017-12-20T15:45:12.406797Z"
    },
    "collapsed": true
   },
   "outputs": [],
   "source": [
    "# normalizing using standardscaler: NOTE to scale our data, because our output in not binary (0, 1), if we're to normalize our \n",
    "#... data, it would heavly effect our score... some data are better to normalize and some are not...\n",
    "from sklearn.preprocessing import StandardScaler\n",
    "scaler = StandardScaler().fit(X_train)\n",
    "X_train_scaled = pd.DataFrame(scaler.transform(X_train), index=X_train.index.values, columns=X_train.columns.values)\n",
    "X_test_scaled = pd.DataFrame(scaler.transform(X_test), index=X_test.index.values, columns=X_test.columns.values)"
   ]
  },
  {
   "cell_type": "code",
   "execution_count": 26,
   "metadata": {
    "ExecuteTime": {
     "end_time": "2017-12-20T15:45:18.733262Z",
     "start_time": "2017-12-20T15:45:14.338517Z"
    },
    "collapsed": true
   },
   "outputs": [],
   "source": [
    "from sklearn.decomposition import PCA"
   ]
  },
  {
   "cell_type": "code",
   "execution_count": 57,
   "metadata": {
    "ExecuteTime": {
     "end_time": "2017-12-20T15:58:34.024673Z",
     "start_time": "2017-12-20T15:58:33.994636Z"
    },
    "collapsed": true
   },
   "outputs": [],
   "source": [
    "# Note - this cell takes more time to execute, just uncomment 'sns' to see the output\n",
    "pca = PCA()\n",
    "pca.fit(X_train)\n",
    "cpts = pd.DataFrame(pca.transform(X_train))\n",
    "x_axis = np.arange(1, pca.n_components_+1)\n",
    "pca_scaled = PCA()\n",
    "pca_scaled.fit(X_train_scaled)\n",
    "cpts_scaled = pd.DataFrame(pca.transform(X_train_scaled))\n",
    "# matplotlib boilerplate goes here\n",
    "#sns.pairplot(cpts_scaled)"
   ]
  },
  {
   "cell_type": "code",
   "execution_count": 54,
   "metadata": {
    "ExecuteTime": {
     "end_time": "2017-12-20T15:57:19.705241Z",
     "start_time": "2017-12-20T15:56:46.045809Z"
    }
   },
   "outputs": [
    {
     "data": {
      "text/plain": [
       "RandomForestRegressor(bootstrap=True, criterion='mse', max_depth=None,\n",
       "           max_features='auto', max_leaf_nodes=None,\n",
       "           min_impurity_decrease=0.0, min_impurity_split=None,\n",
       "           min_samples_leaf=1, min_samples_split=2,\n",
       "           min_weight_fraction_leaf=0.0, n_estimators=500, n_jobs=1,\n",
       "           oob_score=True, random_state=0, verbose=0, warm_start=False)"
      ]
     },
     "execution_count": 54,
     "metadata": {},
     "output_type": "execute_result"
    }
   ],
   "source": [
    "rf2 = RandomForestRegressor(n_estimators=500, oob_score=True, random_state=0)\n",
    "rf2.fit(X_train, y_train)"
   ]
  },
  {
   "cell_type": "code",
   "execution_count": 55,
   "metadata": {
    "ExecuteTime": {
     "end_time": "2017-12-20T15:57:29.270525Z",
     "start_time": "2017-12-20T15:57:26.601246Z"
    },
    "collapsed": true
   },
   "outputs": [],
   "source": [
    "from sklearn.metrics import r2_score\n",
    "from scipy.stats import spearmanr, pearsonr\n",
    "predicted_train = rf2.predict(X_train)\n",
    "predicted_test = rf2.predict(X_test)\n",
    "test_score = r2_score(y_test, predicted_test)\n",
    "# finds corr between two vairble that are related\n",
    "# FIND: http://statisticslectures.com/topics/spearman/\n",
    "spearman = spearmanr(y_test, predicted_test)\n",
    "#Pearsonr measures the strength of the linear relationship between two variables. Pearson�s r is always between -1 and 1.\n",
    "pearson = pearsonr(y_test, predicted_test)"
   ]
  },
  {
   "cell_type": "code",
   "execution_count": 56,
   "metadata": {
    "ExecuteTime": {
     "end_time": "2017-12-20T15:57:30.725900Z",
     "start_time": "2017-12-20T15:57:30.715893Z"
    }
   },
   "outputs": [
    {
     "name": "stdout",
     "output_type": "stream",
     "text": [
      "Out-of-bag R-2 score estimate:  0.801\n",
      "Test data R-2 score:  0.815\n",
      "Test data Spearman correlation:  0.923\n",
      "Test data Pearson correlation:  0.903\n"
     ]
    }
   ],
   "source": [
    "print('Out-of-bag R-2 score estimate: ', round(rf2.oob_score_, 3))\n",
    "print('Test data R-2 score: ', round(test_score, 3))\n",
    "print('Test data Spearman correlation: ', round(spearman[0], 3))\n",
    "print('Test data Pearson correlation: ',round(pearson[0], 3))"
   ]
  },
  {
   "cell_type": "code",
   "execution_count": null,
   "metadata": {
    "collapsed": true
   },
   "outputs": [],
   "source": []
  }
 ],
 "metadata": {
  "kernelspec": {
   "display_name": "Python 3",
   "language": "python",
   "name": "python3"
  },
  "language_info": {
   "codemirror_mode": {
    "name": "ipython",
    "version": 3
   },
   "file_extension": ".py",
   "mimetype": "text/x-python",
   "name": "python",
   "nbconvert_exporter": "python",
   "pygments_lexer": "ipython3",
   "version": "3.6.3"
  },
  "latex_envs": {
   "LaTeX_envs_menu_present": true,
   "autoclose": false,
   "autocomplete": true,
   "bibliofile": "biblio.bib",
   "cite_by": "apalike",
   "current_citInitial": 1,
   "eqLabelWithNumbers": true,
   "eqNumInitial": 1,
   "hotkeys": {
    "equation": "Ctrl-E",
    "itemize": "Ctrl-I"
   },
   "labels_anchors": false,
   "latex_user_defs": false,
   "report_style_numbering": false,
   "user_envs_cfg": false
  },
  "nbTranslate": {
   "displayLangs": [
    "*"
   ],
   "hotkey": "alt-t",
   "langInMainMenu": true,
   "sourceLang": "en",
   "targetLang": "fr",
   "useGoogleTranslate": true
  },
  "toc": {
   "nav_menu": {},
   "number_sections": true,
   "sideBar": true,
   "skip_h1_title": false,
   "toc_cell": false,
   "toc_position": {},
   "toc_section_display": "block",
   "toc_window_display": false
  },
  "varInspector": {
   "cols": {
    "lenName": 16,
    "lenType": 16,
    "lenVar": 40
   },
   "kernels_config": {
    "python": {
     "delete_cmd_postfix": "",
     "delete_cmd_prefix": "del ",
     "library": "var_list.py",
     "varRefreshCmd": "print(var_dic_list())"
    },
    "r": {
     "delete_cmd_postfix": ") ",
     "delete_cmd_prefix": "rm(",
     "library": "var_list.r",
     "varRefreshCmd": "cat(var_dic_list()) "
    }
   },
   "types_to_exclude": [
    "module",
    "function",
    "builtin_function_or_method",
    "instance",
    "_Feature"
   ],
   "window_display": false
  }
 },
 "nbformat": 4,
 "nbformat_minor": 2
}

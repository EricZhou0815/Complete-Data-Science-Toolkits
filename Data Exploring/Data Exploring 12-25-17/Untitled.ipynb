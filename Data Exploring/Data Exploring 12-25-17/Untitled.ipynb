{
 "cells": [
  {
   "cell_type": "code",
   "execution_count": 1,
   "metadata": {
    "ExecuteTime": {
     "end_time": "2017-12-25T20:47:37.573690Z",
     "start_time": "2017-12-25T20:47:37.211906Z"
    }
   },
   "outputs": [
    {
     "name": "stdout",
     "output_type": "stream",
     "text": [
      " Volume in drive C is TIS0008000D\n",
      " Volume Serial Number is 7206-0E83\n",
      "\n",
      " Directory of C:\\Users\\Saleban\\Desktop\\Data Exploring\n",
      "\n",
      "12/25/2017  03:47 PM    <DIR>          .\n",
      "12/25/2017  03:47 PM    <DIR>          ..\n",
      "12/25/2017  03:47 PM    <DIR>          .ipynb_checkpoints\n",
      "12/23/2017  02:52 PM           150,724 Capture.PNG\n",
      "12/16/2017  10:48 AM    <DIR>          data\n",
      "12/23/2017  01:55 PM            58,590 GBM.ipynb\n",
      "12/23/2017  03:41 PM             4,724 Implementing Ridge.ipynb\n",
      "12/20/2017  10:45 AM           892,038 Linear Regression Analysis_.ipynb\n",
      "12/17/2017  01:32 PM    <DIR>          mglearn\n",
      "12/25/2017  03:24 PM           150,406 OLS Model.ipynb\n",
      "12/17/2017  01:42 PM                60 osl_model.py\n",
      "12/23/2017  01:48 PM            81,409 Random Forest.ipynb\n",
      "12/25/2017  03:34 PM           588,313 Ridge+Lasso+OLS Regression.ipynb\n",
      "12/25/2017  03:47 PM                72 Untitled.ipynb\n",
      "12/24/2017  05:19 PM            12,723 Untitled2.ipynb\n",
      "12/20/2017  09:52 AM             2,002 Xgboost.ipynb\n",
      "              11 File(s)      1,941,061 bytes\n",
      "               5 Dir(s)  850,797,293,568 bytes free\n"
     ]
    }
   ],
   "source": [
    "ls"
   ]
  },
  {
   "cell_type": "code",
   "execution_count": 2,
   "metadata": {
    "ExecuteTime": {
     "end_time": "2017-12-25T20:52:30.249811Z",
     "start_time": "2017-12-25T20:52:30.228298Z"
    }
   },
   "outputs": [
    {
     "name": "stdout",
     "output_type": "stream",
     "text": [
      "C:\\Users\\Saleban\\Desktop\n"
     ]
    }
   ],
   "source": [
    "cd .."
   ]
  },
  {
   "cell_type": "code",
   "execution_count": 3,
   "metadata": {
    "ExecuteTime": {
     "end_time": "2017-12-25T20:52:35.600609Z",
     "start_time": "2017-12-25T20:52:35.577093Z"
    }
   },
   "outputs": [
    {
     "name": "stdout",
     "output_type": "stream",
     "text": [
      "C:\\Users\\Saleban\\Desktop\\Complete-Data-Science-Toolkits\n"
     ]
    }
   ],
   "source": [
    "cd Complete-Data-Science-Toolkits/"
   ]
  },
  {
   "cell_type": "code",
   "execution_count": 4,
   "metadata": {
    "ExecuteTime": {
     "end_time": "2017-12-25T20:52:46.860410Z",
     "start_time": "2017-12-25T20:52:46.726817Z"
    }
   },
   "outputs": [
    {
     "name": "stdout",
     "output_type": "stream",
     "text": [
      " Volume in drive C is TIS0008000D\n",
      " Volume Serial Number is 7206-0E83\n",
      "\n",
      " Directory of C:\\Users\\Saleban\\Desktop\\Complete-Data-Science-Toolkits\n",
      "\n",
      "12/17/2017  01:46 PM    <DIR>          .\n",
      "12/17/2017  01:46 PM    <DIR>          ..\n",
      "12/17/2017  01:46 PM    <DIR>          advanced python pandas\n",
      "12/17/2017  01:46 PM    <DIR>          All Notebooks\n",
      "12/17/2017  01:46 PM    <DIR>          All Python Codes\n",
      "12/17/2017  01:46 PM    <DIR>          Data Exploring\n",
      "12/17/2017  01:46 PM             1,085 LICENSE\n",
      "12/17/2017  01:46 PM    <DIR>          notebook - machine learning sklearn\n",
      "12/17/2017  01:46 PM    <DIR>          notebook - numpy\n",
      "12/17/2017  01:46 PM    <DIR>          notebook - pandas\n",
      "12/17/2017  01:46 PM    <DIR>          notebook - visualization\n",
      "12/17/2017  01:46 PM             5,360 README.md\n",
      "12/17/2017  01:46 PM    <DIR>          snippets - machine learning sklearn\n",
      "12/17/2017  01:46 PM    <DIR>          snippets - numpy\n",
      "12/17/2017  01:46 PM    <DIR>          snippets - pandas\n",
      "12/17/2017  01:46 PM    <DIR>          snippets - time series analysis\n",
      "12/17/2017  01:46 PM    <DIR>          snippets - visualization\n",
      "               2 File(s)          6,445 bytes\n",
      "              15 Dir(s)  850,797,682,688 bytes free\n"
     ]
    }
   ],
   "source": [
    "ls"
   ]
  },
  {
   "cell_type": "code",
   "execution_count": 5,
   "metadata": {
    "ExecuteTime": {
     "end_time": "2017-12-25T20:52:54.284935Z",
     "start_time": "2017-12-25T20:52:54.245909Z"
    }
   },
   "outputs": [
    {
     "name": "stdout",
     "output_type": "stream",
     "text": [
      "C:\\Users\\Saleban\\Desktop\\Complete-Data-Science-Toolkits\\Data Exploring\n"
     ]
    }
   ],
   "source": [
    "cd \"Data Exploring\""
   ]
  },
  {
   "cell_type": "code",
   "execution_count": 6,
   "metadata": {
    "ExecuteTime": {
     "end_time": "2017-12-25T20:53:08.307069Z",
     "start_time": "2017-12-25T20:53:08.289058Z"
    }
   },
   "outputs": [
    {
     "name": "stdout",
     "output_type": "stream",
     "text": [
      "C:\\Users\\Saleban\\Desktop\\Complete-Data-Science-Toolkits\\Data Exploring\\data\n"
     ]
    }
   ],
   "source": [
    "cd data/"
   ]
  },
  {
   "cell_type": "code",
   "execution_count": 8,
   "metadata": {
    "ExecuteTime": {
     "end_time": "2017-12-25T20:53:35.369923Z",
     "start_time": "2017-12-25T20:53:35.204804Z"
    }
   },
   "outputs": [
    {
     "name": "stdout",
     "output_type": "stream",
     "text": [
      " Volume in drive C is TIS0008000D\n",
      " Volume Serial Number is 7206-0E83\n",
      "\n",
      " Directory of C:\\Users\\Saleban\\Desktop\\Complete-Data-Science-Toolkits\\Data Exploring\\data\n",
      "\n",
      "12/25/2017  12:06 PM    <DIR>          .\n",
      "12/25/2017  12:06 PM    <DIR>          ..\n",
      "12/25/2017  12:06 PM           588,013 economicfree2000-2015.csv\n",
      "12/16/2017  10:48 AM         2,515,206 kc_house_data.csv\n",
      "               2 File(s)      3,103,219 bytes\n",
      "               2 Dir(s)  850,797,592,576 bytes free\n"
     ]
    }
   ],
   "source": [
    "ls"
   ]
  },
  {
   "cell_type": "code",
   "execution_count": 9,
   "metadata": {
    "ExecuteTime": {
     "end_time": "2017-12-25T20:54:47.566808Z",
     "start_time": "2017-12-25T20:54:47.427709Z"
    }
   },
   "outputs": [
    {
     "name": "stdout",
     "output_type": "stream",
     "text": [
      " Volume in drive C is TIS0008000D\n",
      " Volume Serial Number is 7206-0E83\n",
      "\n",
      " Directory of C:\\Users\\Saleban\\Desktop\\Complete-Data-Science-Toolkits\\Data Exploring\\data\n",
      "\n",
      "12/25/2017  03:54 PM    <DIR>          .\n",
      "12/25/2017  03:54 PM    <DIR>          ..\n",
      "12/25/2017  12:06 PM           588,013 economicfree2000-2015.csv\n",
      "12/25/2017  03:54 PM         1,653,251 Governance.xlsx\n",
      "12/16/2017  10:48 AM         2,515,206 kc_house_data.csv\n",
      "               3 File(s)      4,756,470 bytes\n",
      "               2 Dir(s)  850,799,673,344 bytes free\n"
     ]
    }
   ],
   "source": [
    "ls"
   ]
  },
  {
   "cell_type": "code",
   "execution_count": 10,
   "metadata": {
    "ExecuteTime": {
     "end_time": "2017-12-25T20:54:56.277540Z",
     "start_time": "2017-12-25T20:54:56.243017Z"
    }
   },
   "outputs": [
    {
     "name": "stdout",
     "output_type": "stream",
     "text": [
      "C:\\Users\\Saleban\\Desktop\\Complete-Data-Science-Toolkits\\Data Exploring\n"
     ]
    }
   ],
   "source": [
    "cd .."
   ]
  },
  {
   "cell_type": "code",
   "execution_count": 14,
   "metadata": {
    "ExecuteTime": {
     "end_time": "2017-12-25T20:55:37.108611Z",
     "start_time": "2017-12-25T20:55:35.522985Z"
    },
    "collapsed": true
   },
   "outputs": [],
   "source": [
    "import pandas as pd"
   ]
  },
  {
   "cell_type": "code",
   "execution_count": 15,
   "metadata": {
    "ExecuteTime": {
     "end_time": "2017-12-25T20:56:06.225863Z",
     "start_time": "2017-12-25T20:56:00.641398Z"
    }
   },
   "outputs": [],
   "source": [
    "data = pd.read_excel('data/Governance.xlsx', sheetname=0)"
   ]
  },
  {
   "cell_type": "code",
   "execution_count": 20,
   "metadata": {
    "ExecuteTime": {
     "end_time": "2017-12-25T20:56:50.377374Z",
     "start_time": "2017-12-25T20:56:50.323334Z"
    }
   },
   "outputs": [
    {
     "data": {
      "text/html": [
       "<div>\n",
       "<style>\n",
       "    .dataframe thead tr:only-child th {\n",
       "        text-align: right;\n",
       "    }\n",
       "\n",
       "    .dataframe thead th {\n",
       "        text-align: left;\n",
       "    }\n",
       "\n",
       "    .dataframe tbody tr th {\n",
       "        vertical-align: top;\n",
       "    }\n",
       "</style>\n",
       "<table border=\"1\" class=\"dataframe\">\n",
       "  <thead>\n",
       "    <tr style=\"text-align: right;\">\n",
       "      <th></th>\n",
       "      <th>Country Name</th>\n",
       "      <th>Country Code</th>\n",
       "      <th>Indicator Name</th>\n",
       "      <th>Indicator Code</th>\n",
       "      <th>1996</th>\n",
       "      <th>1998</th>\n",
       "      <th>2000</th>\n",
       "      <th>2002</th>\n",
       "      <th>2003</th>\n",
       "      <th>2004</th>\n",
       "      <th>...</th>\n",
       "      <th>2007</th>\n",
       "      <th>2008</th>\n",
       "      <th>2009</th>\n",
       "      <th>2010</th>\n",
       "      <th>2011</th>\n",
       "      <th>2012</th>\n",
       "      <th>2013</th>\n",
       "      <th>2014</th>\n",
       "      <th>2015</th>\n",
       "      <th>2016</th>\n",
       "    </tr>\n",
       "  </thead>\n",
       "  <tbody>\n",
       "    <tr>\n",
       "      <th>0</th>\n",
       "      <td>Anguilla</td>\n",
       "      <td>AIA</td>\n",
       "      <td>Control of Corruption: Estimate</td>\n",
       "      <td>CC.EST</td>\n",
       "      <td>NaN</td>\n",
       "      <td>NaN</td>\n",
       "      <td>NaN</td>\n",
       "      <td>NaN</td>\n",
       "      <td>NaN</td>\n",
       "      <td>0.855056</td>\n",
       "      <td>...</td>\n",
       "      <td>1.269965</td>\n",
       "      <td>1.288655</td>\n",
       "      <td>1.325579</td>\n",
       "      <td>1.308072</td>\n",
       "      <td>1.279277</td>\n",
       "      <td>1.268373</td>\n",
       "      <td>1.260798</td>\n",
       "      <td>1.225222</td>\n",
       "      <td>1.218489</td>\n",
       "      <td>1.230341</td>\n",
       "    </tr>\n",
       "    <tr>\n",
       "      <th>1</th>\n",
       "      <td>Anguilla</td>\n",
       "      <td>AIA</td>\n",
       "      <td>Control of Corruption: Number of Sources</td>\n",
       "      <td>CC.NO.SRC</td>\n",
       "      <td>NaN</td>\n",
       "      <td>NaN</td>\n",
       "      <td>NaN</td>\n",
       "      <td>NaN</td>\n",
       "      <td>NaN</td>\n",
       "      <td>1.000000</td>\n",
       "      <td>...</td>\n",
       "      <td>1.000000</td>\n",
       "      <td>1.000000</td>\n",
       "      <td>1.000000</td>\n",
       "      <td>1.000000</td>\n",
       "      <td>1.000000</td>\n",
       "      <td>1.000000</td>\n",
       "      <td>1.000000</td>\n",
       "      <td>1.000000</td>\n",
       "      <td>1.000000</td>\n",
       "      <td>1.000000</td>\n",
       "    </tr>\n",
       "    <tr>\n",
       "      <th>2</th>\n",
       "      <td>Anguilla</td>\n",
       "      <td>AIA</td>\n",
       "      <td>Control of Corruption: Percentile Rank</td>\n",
       "      <td>CC.PER.RNK</td>\n",
       "      <td>NaN</td>\n",
       "      <td>NaN</td>\n",
       "      <td>NaN</td>\n",
       "      <td>NaN</td>\n",
       "      <td>NaN</td>\n",
       "      <td>79.024391</td>\n",
       "      <td>...</td>\n",
       "      <td>88.834953</td>\n",
       "      <td>87.864075</td>\n",
       "      <td>88.038277</td>\n",
       "      <td>88.095238</td>\n",
       "      <td>88.151657</td>\n",
       "      <td>87.203789</td>\n",
       "      <td>86.729858</td>\n",
       "      <td>87.019234</td>\n",
       "      <td>87.019234</td>\n",
       "      <td>87.500000</td>\n",
       "    </tr>\n",
       "  </tbody>\n",
       "</table>\n",
       "<p>3 rows × 22 columns</p>\n",
       "</div>"
      ],
      "text/plain": [
       "  Country Name Country Code                            Indicator Name  \\\n",
       "0     Anguilla          AIA           Control of Corruption: Estimate   \n",
       "1     Anguilla          AIA  Control of Corruption: Number of Sources   \n",
       "2     Anguilla          AIA    Control of Corruption: Percentile Rank   \n",
       "\n",
       "  Indicator Code  1996  1998  2000  2002  2003       2004    ...      \\\n",
       "0         CC.EST   NaN   NaN   NaN   NaN   NaN   0.855056    ...       \n",
       "1      CC.NO.SRC   NaN   NaN   NaN   NaN   NaN   1.000000    ...       \n",
       "2     CC.PER.RNK   NaN   NaN   NaN   NaN   NaN  79.024391    ...       \n",
       "\n",
       "        2007       2008       2009       2010       2011       2012  \\\n",
       "0   1.269965   1.288655   1.325579   1.308072   1.279277   1.268373   \n",
       "1   1.000000   1.000000   1.000000   1.000000   1.000000   1.000000   \n",
       "2  88.834953  87.864075  88.038277  88.095238  88.151657  87.203789   \n",
       "\n",
       "        2013       2014       2015       2016  \n",
       "0   1.260798   1.225222   1.218489   1.230341  \n",
       "1   1.000000   1.000000   1.000000   1.000000  \n",
       "2  86.729858  87.019234  87.019234  87.500000  \n",
       "\n",
       "[3 rows x 22 columns]"
      ]
     },
     "execution_count": 20,
     "metadata": {},
     "output_type": "execute_result"
    }
   ],
   "source": [
    "data.head(3)"
   ]
  },
  {
   "cell_type": "code",
   "execution_count": 22,
   "metadata": {
    "ExecuteTime": {
     "end_time": "2017-12-25T20:58:11.782893Z",
     "start_time": "2017-12-25T20:58:11.756875Z"
    }
   },
   "outputs": [],
   "source": [
    "melt_data = data.melt(id_vars=['Country Name', 'Country Code', 'Indicator Name', 'Indicator Code'], var_name=\"Year\")"
   ]
  },
  {
   "cell_type": "code",
   "execution_count": 30,
   "metadata": {
    "ExecuteTime": {
     "end_time": "2017-12-25T21:00:53.780282Z",
     "start_time": "2017-12-25T21:00:53.751762Z"
    },
    "scrolled": true
   },
   "outputs": [
    {
     "data": {
      "text/html": [
       "<div>\n",
       "<style>\n",
       "    .dataframe thead tr:only-child th {\n",
       "        text-align: right;\n",
       "    }\n",
       "\n",
       "    .dataframe thead th {\n",
       "        text-align: left;\n",
       "    }\n",
       "\n",
       "    .dataframe tbody tr th {\n",
       "        vertical-align: top;\n",
       "    }\n",
       "</style>\n",
       "<table border=\"1\" class=\"dataframe\">\n",
       "  <thead>\n",
       "    <tr style=\"text-align: right;\">\n",
       "      <th></th>\n",
       "      <th>Country Name</th>\n",
       "      <th>Country Code</th>\n",
       "      <th>Indicator Name</th>\n",
       "      <th>Indicator Code</th>\n",
       "      <th>Year</th>\n",
       "      <th>value</th>\n",
       "    </tr>\n",
       "  </thead>\n",
       "  <tbody>\n",
       "    <tr>\n",
       "      <th>138667</th>\n",
       "      <td>Zimbabwe</td>\n",
       "      <td>ZWE</td>\n",
       "      <td>Voice and Accountability: Number of Sources</td>\n",
       "      <td>VA.NO.SRC</td>\n",
       "      <td>2016</td>\n",
       "      <td>15.000000</td>\n",
       "    </tr>\n",
       "    <tr>\n",
       "      <th>138668</th>\n",
       "      <td>Zimbabwe</td>\n",
       "      <td>ZWE</td>\n",
       "      <td>Voice and Accountability: Percentile Rank</td>\n",
       "      <td>VA.PER.RNK</td>\n",
       "      <td>2016</td>\n",
       "      <td>19.704433</td>\n",
       "    </tr>\n",
       "    <tr>\n",
       "      <th>138669</th>\n",
       "      <td>Zimbabwe</td>\n",
       "      <td>ZWE</td>\n",
       "      <td>Voice and Accountability: Percentile Rank, Low...</td>\n",
       "      <td>VA.PER.RNK.LOWER</td>\n",
       "      <td>2016</td>\n",
       "      <td>12.807881</td>\n",
       "    </tr>\n",
       "    <tr>\n",
       "      <th>138670</th>\n",
       "      <td>Zimbabwe</td>\n",
       "      <td>ZWE</td>\n",
       "      <td>Voice and Accountability: Percentile Rank, Upp...</td>\n",
       "      <td>VA.PER.RNK.UPPER</td>\n",
       "      <td>2016</td>\n",
       "      <td>23.152710</td>\n",
       "    </tr>\n",
       "    <tr>\n",
       "      <th>138671</th>\n",
       "      <td>Zimbabwe</td>\n",
       "      <td>ZWE</td>\n",
       "      <td>Voice and Accountability: Standard Error</td>\n",
       "      <td>VA.STD.ERR</td>\n",
       "      <td>2016</td>\n",
       "      <td>0.113984</td>\n",
       "    </tr>\n",
       "  </tbody>\n",
       "</table>\n",
       "</div>"
      ],
      "text/plain": [
       "       Country Name Country Code  \\\n",
       "138667     Zimbabwe          ZWE   \n",
       "138668     Zimbabwe          ZWE   \n",
       "138669     Zimbabwe          ZWE   \n",
       "138670     Zimbabwe          ZWE   \n",
       "138671     Zimbabwe          ZWE   \n",
       "\n",
       "                                           Indicator Name    Indicator Code  \\\n",
       "138667        Voice and Accountability: Number of Sources         VA.NO.SRC   \n",
       "138668          Voice and Accountability: Percentile Rank        VA.PER.RNK   \n",
       "138669  Voice and Accountability: Percentile Rank, Low...  VA.PER.RNK.LOWER   \n",
       "138670  Voice and Accountability: Percentile Rank, Upp...  VA.PER.RNK.UPPER   \n",
       "138671           Voice and Accountability: Standard Error        VA.STD.ERR   \n",
       "\n",
       "        Year      value  \n",
       "138667  2016  15.000000  \n",
       "138668  2016  19.704433  \n",
       "138669  2016  12.807881  \n",
       "138670  2016  23.152710  \n",
       "138671  2016   0.113984  "
      ]
     },
     "execution_count": 30,
     "metadata": {},
     "output_type": "execute_result"
    }
   ],
   "source": [
    "melt_data.tail()"
   ]
  },
  {
   "cell_type": "code",
   "execution_count": 39,
   "metadata": {
    "ExecuteTime": {
     "end_time": "2017-12-25T21:03:32.016071Z",
     "start_time": "2017-12-25T21:03:31.954528Z"
    }
   },
   "outputs": [
    {
     "data": {
      "text/plain": [
       "Regulatory Quality: Standard Error                                                                                3852\n",
       "Rule of Law: Percentile Rank, Lower Bound of 90% Confidence Interval                                              3852\n",
       "Voice and Accountability: Percentile Rank, Lower Bound of 90% Confidence Interval                                 3852\n",
       "Voice and Accountability: Percentile Rank                                                                         3852\n",
       "Rule of Law: Number of Sources                                                                                    3852\n",
       "Regulatory Quality: Estimate                                                                                      3852\n",
       "Government Effectiveness: Standard Error                                                                          3852\n",
       "Government Effectiveness: Percentile Rank                                                                         3852\n",
       "Control of Corruption: Number of Sources                                                                          3852\n",
       "Political Stability and Absence of Violence/Terrorism: Standard Error                                             3852\n",
       "Political Stability and Absence of Violence/Terrorism: Estimate                                                   3852\n",
       "Political Stability and Absence of Violence/Terrorism: Percentile Rank                                            3852\n",
       "Political Stability and Absence of Violence/Terrorism: Percentile Rank, Lower Bound of 90% Confidence Interval    3852\n",
       "Control of Corruption: Estimate                                                                                   3852\n",
       "Rule of Law: Percentile Rank, Upper Bound of 90% Confidence Interval                                              3852\n",
       "Rule of Law: Estimate                                                                                             3852\n",
       "Rule of Law: Percentile Rank                                                                                      3852\n",
       "Government Effectiveness: Percentile Rank, Lower Bound of 90% Confidence Interval                                 3852\n",
       "Regulatory Quality: Number of Sources                                                                             3852\n",
       "Regulatory Quality: Percentile Rank                                                                               3852\n",
       "Rule of Law: Standard Error                                                                                       3852\n",
       "Government Effectiveness: Estimate                                                                                3852\n",
       "Regulatory Quality: Percentile Rank, Lower Bound of 90% Confidence Interval                                       3852\n",
       "Government Effectiveness: Number of Sources                                                                       3852\n",
       "Regulatory Quality: Percentile Rank, Upper Bound of 90% Confidence Interval                                       3852\n",
       "Political Stability and Absence of Violence/Terrorism: Percentile Rank, Upper Bound of 90% Confidence Interval    3852\n",
       "Voice and Accountability: Percentile Rank, Upper Bound of 90% Confidence Interval                                 3852\n",
       "Control of Corruption: Percentile Rank, Upper Bound of 90% Confidence Interval                                    3852\n",
       "Voice and Accountability: Standard Error                                                                          3852\n",
       "Control of Corruption: Percentile Rank                                                                            3852\n",
       "Government Effectiveness: Percentile Rank, Upper Bound of 90% Confidence Interval                                 3852\n",
       "Voice and Accountability: Number of Sources                                                                       3852\n",
       "Political Stability and Absence of Violence/Terrorism: Number of Sources                                          3852\n",
       "Voice and Accountability: Estimate                                                                                3852\n",
       "Control of Corruption: Standard Error                                                                             3852\n",
       "Control of Corruption: Percentile Rank, Lower Bound of 90% Confidence Interval                                    3852\n",
       "Name: Indicator Name, dtype: int64"
      ]
     },
     "execution_count": 39,
     "metadata": {},
     "output_type": "execute_result"
    }
   ],
   "source": [
    "melt_data['Indicator Name'].value_counts()"
   ]
  },
  {
   "cell_type": "code",
   "execution_count": null,
   "metadata": {
    "collapsed": true
   },
   "outputs": [],
   "source": []
  },
  {
   "cell_type": "code",
   "execution_count": 27,
   "metadata": {
    "ExecuteTime": {
     "end_time": "2017-12-25T20:59:46.602016Z",
     "start_time": "2017-12-25T20:59:46.578499Z"
    }
   },
   "outputs": [
    {
     "data": {
      "text/plain": [
       "0                           Control of Corruption: Estimate\n",
       "1                  Control of Corruption: Number of Sources\n",
       "2                    Control of Corruption: Percentile Rank\n",
       "3         Control of Corruption: Percentile Rank, Lower ...\n",
       "4         Control of Corruption: Percentile Rank, Upper ...\n",
       "5                     Control of Corruption: Standard Error\n",
       "6                        Government Effectiveness: Estimate\n",
       "7               Government Effectiveness: Number of Sources\n",
       "8                 Government Effectiveness: Percentile Rank\n",
       "9         Government Effectiveness: Percentile Rank, Low...\n",
       "10        Government Effectiveness: Percentile Rank, Upp...\n",
       "11                 Government Effectiveness: Standard Error\n",
       "12        Political Stability and Absence of Violence/Te...\n",
       "13        Political Stability and Absence of Violence/Te...\n",
       "14        Political Stability and Absence of Violence/Te...\n",
       "15        Political Stability and Absence of Violence/Te...\n",
       "16        Political Stability and Absence of Violence/Te...\n",
       "17        Political Stability and Absence of Violence/Te...\n",
       "18                             Regulatory Quality: Estimate\n",
       "19                    Regulatory Quality: Number of Sources\n",
       "20                      Regulatory Quality: Percentile Rank\n",
       "21        Regulatory Quality: Percentile Rank, Lower Bou...\n",
       "22        Regulatory Quality: Percentile Rank, Upper Bou...\n",
       "23                       Regulatory Quality: Standard Error\n",
       "24                                    Rule of Law: Estimate\n",
       "25                           Rule of Law: Number of Sources\n",
       "26                             Rule of Law: Percentile Rank\n",
       "27        Rule of Law: Percentile Rank, Lower Bound of 9...\n",
       "28        Rule of Law: Percentile Rank, Upper Bound of 9...\n",
       "29                              Rule of Law: Standard Error\n",
       "                                ...                        \n",
       "138642                   Government Effectiveness: Estimate\n",
       "138643          Government Effectiveness: Number of Sources\n",
       "138644            Government Effectiveness: Percentile Rank\n",
       "138645    Government Effectiveness: Percentile Rank, Low...\n",
       "138646    Government Effectiveness: Percentile Rank, Upp...\n",
       "138647             Government Effectiveness: Standard Error\n",
       "138648    Political Stability and Absence of Violence/Te...\n",
       "138649    Political Stability and Absence of Violence/Te...\n",
       "138650    Political Stability and Absence of Violence/Te...\n",
       "138651    Political Stability and Absence of Violence/Te...\n",
       "138652    Political Stability and Absence of Violence/Te...\n",
       "138653    Political Stability and Absence of Violence/Te...\n",
       "138654                         Regulatory Quality: Estimate\n",
       "138655                Regulatory Quality: Number of Sources\n",
       "138656                  Regulatory Quality: Percentile Rank\n",
       "138657    Regulatory Quality: Percentile Rank, Lower Bou...\n",
       "138658    Regulatory Quality: Percentile Rank, Upper Bou...\n",
       "138659                   Regulatory Quality: Standard Error\n",
       "138660                                Rule of Law: Estimate\n",
       "138661                       Rule of Law: Number of Sources\n",
       "138662                         Rule of Law: Percentile Rank\n",
       "138663    Rule of Law: Percentile Rank, Lower Bound of 9...\n",
       "138664    Rule of Law: Percentile Rank, Upper Bound of 9...\n",
       "138665                          Rule of Law: Standard Error\n",
       "138666                   Voice and Accountability: Estimate\n",
       "138667          Voice and Accountability: Number of Sources\n",
       "138668            Voice and Accountability: Percentile Rank\n",
       "138669    Voice and Accountability: Percentile Rank, Low...\n",
       "138670    Voice and Accountability: Percentile Rank, Upp...\n",
       "138671             Voice and Accountability: Standard Error\n",
       "Name: Indicator Name, Length: 138672, dtype: object"
      ]
     },
     "execution_count": 27,
     "metadata": {},
     "output_type": "execute_result"
    }
   ],
   "source": [
    "melt_data['Indicator Name']"
   ]
  },
  {
   "cell_type": "code",
   "execution_count": null,
   "metadata": {
    "collapsed": true
   },
   "outputs": [],
   "source": []
  }
 ],
 "metadata": {
  "kernelspec": {
   "display_name": "Python 3",
   "language": "python",
   "name": "python3"
  },
  "language_info": {
   "codemirror_mode": {
    "name": "ipython",
    "version": 3
   },
   "file_extension": ".py",
   "mimetype": "text/x-python",
   "name": "python",
   "nbconvert_exporter": "python",
   "pygments_lexer": "ipython3",
   "version": "3.6.3"
  },
  "latex_envs": {
   "LaTeX_envs_menu_present": true,
   "autoclose": false,
   "autocomplete": true,
   "bibliofile": "biblio.bib",
   "cite_by": "apalike",
   "current_citInitial": 1,
   "eqLabelWithNumbers": true,
   "eqNumInitial": 1,
   "hotkeys": {
    "equation": "Ctrl-E",
    "itemize": "Ctrl-I"
   },
   "labels_anchors": false,
   "latex_user_defs": false,
   "report_style_numbering": false,
   "user_envs_cfg": false
  },
  "nbTranslate": {
   "displayLangs": [
    "*"
   ],
   "hotkey": "alt-t",
   "langInMainMenu": true,
   "sourceLang": "en",
   "targetLang": "fr",
   "useGoogleTranslate": true
  },
  "toc": {
   "nav_menu": {},
   "number_sections": true,
   "sideBar": true,
   "skip_h1_title": false,
   "toc_cell": false,
   "toc_position": {},
   "toc_section_display": "block",
   "toc_window_display": false
  },
  "varInspector": {
   "cols": {
    "lenName": 16,
    "lenType": 16,
    "lenVar": 40
   },
   "kernels_config": {
    "python": {
     "delete_cmd_postfix": "",
     "delete_cmd_prefix": "del ",
     "library": "var_list.py",
     "varRefreshCmd": "print(var_dic_list())"
    },
    "r": {
     "delete_cmd_postfix": ") ",
     "delete_cmd_prefix": "rm(",
     "library": "var_list.r",
     "varRefreshCmd": "cat(var_dic_list()) "
    }
   },
   "types_to_exclude": [
    "module",
    "function",
    "builtin_function_or_method",
    "instance",
    "_Feature"
   ],
   "window_display": false
  }
 },
 "nbformat": 4,
 "nbformat_minor": 2
}

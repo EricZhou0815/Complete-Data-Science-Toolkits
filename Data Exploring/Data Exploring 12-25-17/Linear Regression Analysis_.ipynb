{
 "cells": [
  {
   "cell_type": "markdown",
   "metadata": {},
   "source": [
    "# Linear and Logistic Regression Analysis/Model\n",
    "In this notebook we'll focus on few things:\n",
    "* 1.1 Exploring and Understanding the data\n",
    "* 1.2 Making the data ready for Machine Learning\n",
    "* 1.3 Fitting Linear Regression without feature scaling or feature selections\n",
    "* 1.4 Fitting Linear Regression with scaling and feature selections\n",
    "* 1.5 Feature engineering - adding more data \n",
    "* 1.6 Implement ARIMA Model\n",
    "\n",
    "### Analysis our data\n",
    "Future steps, we need to get full analysis on this data, tables, graphs, etc."
   ]
  },
  {
   "cell_type": "markdown",
   "metadata": {},
   "source": [
    "## Exploring and Understanding the data\n",
    "On this section we will focus on what the data is all about, how's the structure?, what kind of data are we looking at? what kind of questions we need to answer? and is features engineering acceptable on this data, Do we have enough data for this project?, etc.\n",
    "\n",
    "First of, This dataset contains house sale prices for King County in Seattle state. It includes homes sold between May 2014 and May 2015.\n",
    "The data has 19 features plus the [price feature] which is target feature and the id columns which also a index feature, along with 21613 observations or rows.\n",
    "\n",
    "Starter questions could be, Does a house price in Seattle has relationship to performance of market? Does the median house price in Seattle compare to national better or worst? Does feature selection helps the prediction? \n",
    "\n",
    "Our next goal is to add more features.\n"
   ]
  },
  {
   "cell_type": "code",
   "execution_count": 519,
   "metadata": {
    "ExecuteTime": {
     "end_time": "2017-12-17T18:24:54.866411Z",
     "start_time": "2017-12-17T18:24:54.536160Z"
    },
    "collapsed": true
   },
   "outputs": [],
   "source": [
    "import warnings\n",
    "warnings.filterwarnings('ignore')\n",
    "import pandas as pd\n",
    "import numpy as np\n",
    "import matplotlib.pyplot as plt\n",
    "%matplotlib inline\n",
    "import seaborn as sns\n",
    "import sys\n",
    "path = \"data/kc_house_data.csv\""
   ]
  },
  {
   "cell_type": "code",
   "execution_count": 363,
   "metadata": {
    "ExecuteTime": {
     "end_time": "2017-12-17T15:33:56.899085Z",
     "start_time": "2017-12-17T15:33:56.893080Z"
    },
    "collapsed": true
   },
   "outputs": [],
   "source": [
    "# We'll create function that allows us to load data our in path, \n",
    "# Reason, because we can use the same function to load different dataset once\n",
    "def load_data(path):\n",
    "    # try to load the data\n",
    "    try:\n",
    "        data = pd.read_csv(path)\n",
    "    except:\n",
    "        # if there is issues, loading data\n",
    "        print(\"unable to load the file\")\n",
    "    return data"
   ]
  },
  {
   "cell_type": "code",
   "execution_count": 364,
   "metadata": {
    "ExecuteTime": {
     "end_time": "2017-12-17T15:34:02.969520Z",
     "start_time": "2017-12-17T15:34:02.877456Z"
    }
   },
   "outputs": [
    {
     "data": {
      "text/html": [
       "<div>\n",
       "<style>\n",
       "    .dataframe thead tr:only-child th {\n",
       "        text-align: right;\n",
       "    }\n",
       "\n",
       "    .dataframe thead th {\n",
       "        text-align: left;\n",
       "    }\n",
       "\n",
       "    .dataframe tbody tr th {\n",
       "        vertical-align: top;\n",
       "    }\n",
       "</style>\n",
       "<table border=\"1\" class=\"dataframe\">\n",
       "  <thead>\n",
       "    <tr style=\"text-align: right;\">\n",
       "      <th></th>\n",
       "      <th>id</th>\n",
       "      <th>date</th>\n",
       "      <th>price</th>\n",
       "      <th>bedrooms</th>\n",
       "      <th>bathrooms</th>\n",
       "      <th>sqft_living</th>\n",
       "      <th>sqft_lot</th>\n",
       "      <th>floors</th>\n",
       "      <th>waterfront</th>\n",
       "      <th>view</th>\n",
       "      <th>...</th>\n",
       "      <th>grade</th>\n",
       "      <th>sqft_above</th>\n",
       "      <th>sqft_basement</th>\n",
       "      <th>yr_built</th>\n",
       "      <th>yr_renovated</th>\n",
       "      <th>zipcode</th>\n",
       "      <th>lat</th>\n",
       "      <th>long</th>\n",
       "      <th>sqft_living15</th>\n",
       "      <th>sqft_lot15</th>\n",
       "    </tr>\n",
       "  </thead>\n",
       "  <tbody>\n",
       "    <tr>\n",
       "      <th>0</th>\n",
       "      <td>7129300520</td>\n",
       "      <td>20141013T000000</td>\n",
       "      <td>221900.0</td>\n",
       "      <td>3</td>\n",
       "      <td>1.00</td>\n",
       "      <td>1180</td>\n",
       "      <td>5650</td>\n",
       "      <td>1.0</td>\n",
       "      <td>0</td>\n",
       "      <td>0</td>\n",
       "      <td>...</td>\n",
       "      <td>7</td>\n",
       "      <td>1180</td>\n",
       "      <td>0</td>\n",
       "      <td>1955</td>\n",
       "      <td>0</td>\n",
       "      <td>98178</td>\n",
       "      <td>47.5112</td>\n",
       "      <td>-122.257</td>\n",
       "      <td>1340</td>\n",
       "      <td>5650</td>\n",
       "    </tr>\n",
       "    <tr>\n",
       "      <th>1</th>\n",
       "      <td>6414100192</td>\n",
       "      <td>20141209T000000</td>\n",
       "      <td>538000.0</td>\n",
       "      <td>3</td>\n",
       "      <td>2.25</td>\n",
       "      <td>2570</td>\n",
       "      <td>7242</td>\n",
       "      <td>2.0</td>\n",
       "      <td>0</td>\n",
       "      <td>0</td>\n",
       "      <td>...</td>\n",
       "      <td>7</td>\n",
       "      <td>2170</td>\n",
       "      <td>400</td>\n",
       "      <td>1951</td>\n",
       "      <td>1991</td>\n",
       "      <td>98125</td>\n",
       "      <td>47.7210</td>\n",
       "      <td>-122.319</td>\n",
       "      <td>1690</td>\n",
       "      <td>7639</td>\n",
       "    </tr>\n",
       "    <tr>\n",
       "      <th>2</th>\n",
       "      <td>5631500400</td>\n",
       "      <td>20150225T000000</td>\n",
       "      <td>180000.0</td>\n",
       "      <td>2</td>\n",
       "      <td>1.00</td>\n",
       "      <td>770</td>\n",
       "      <td>10000</td>\n",
       "      <td>1.0</td>\n",
       "      <td>0</td>\n",
       "      <td>0</td>\n",
       "      <td>...</td>\n",
       "      <td>6</td>\n",
       "      <td>770</td>\n",
       "      <td>0</td>\n",
       "      <td>1933</td>\n",
       "      <td>0</td>\n",
       "      <td>98028</td>\n",
       "      <td>47.7379</td>\n",
       "      <td>-122.233</td>\n",
       "      <td>2720</td>\n",
       "      <td>8062</td>\n",
       "    </tr>\n",
       "    <tr>\n",
       "      <th>3</th>\n",
       "      <td>2487200875</td>\n",
       "      <td>20141209T000000</td>\n",
       "      <td>604000.0</td>\n",
       "      <td>4</td>\n",
       "      <td>3.00</td>\n",
       "      <td>1960</td>\n",
       "      <td>5000</td>\n",
       "      <td>1.0</td>\n",
       "      <td>0</td>\n",
       "      <td>0</td>\n",
       "      <td>...</td>\n",
       "      <td>7</td>\n",
       "      <td>1050</td>\n",
       "      <td>910</td>\n",
       "      <td>1965</td>\n",
       "      <td>0</td>\n",
       "      <td>98136</td>\n",
       "      <td>47.5208</td>\n",
       "      <td>-122.393</td>\n",
       "      <td>1360</td>\n",
       "      <td>5000</td>\n",
       "    </tr>\n",
       "    <tr>\n",
       "      <th>4</th>\n",
       "      <td>1954400510</td>\n",
       "      <td>20150218T000000</td>\n",
       "      <td>510000.0</td>\n",
       "      <td>3</td>\n",
       "      <td>2.00</td>\n",
       "      <td>1680</td>\n",
       "      <td>8080</td>\n",
       "      <td>1.0</td>\n",
       "      <td>0</td>\n",
       "      <td>0</td>\n",
       "      <td>...</td>\n",
       "      <td>8</td>\n",
       "      <td>1680</td>\n",
       "      <td>0</td>\n",
       "      <td>1987</td>\n",
       "      <td>0</td>\n",
       "      <td>98074</td>\n",
       "      <td>47.6168</td>\n",
       "      <td>-122.045</td>\n",
       "      <td>1800</td>\n",
       "      <td>7503</td>\n",
       "    </tr>\n",
       "  </tbody>\n",
       "</table>\n",
       "<p>5 rows × 21 columns</p>\n",
       "</div>"
      ],
      "text/plain": [
       "           id             date     price  bedrooms  bathrooms  sqft_living  \\\n",
       "0  7129300520  20141013T000000  221900.0         3       1.00         1180   \n",
       "1  6414100192  20141209T000000  538000.0         3       2.25         2570   \n",
       "2  5631500400  20150225T000000  180000.0         2       1.00          770   \n",
       "3  2487200875  20141209T000000  604000.0         4       3.00         1960   \n",
       "4  1954400510  20150218T000000  510000.0         3       2.00         1680   \n",
       "\n",
       "   sqft_lot  floors  waterfront  view     ...      grade  sqft_above  \\\n",
       "0      5650     1.0           0     0     ...          7        1180   \n",
       "1      7242     2.0           0     0     ...          7        2170   \n",
       "2     10000     1.0           0     0     ...          6         770   \n",
       "3      5000     1.0           0     0     ...          7        1050   \n",
       "4      8080     1.0           0     0     ...          8        1680   \n",
       "\n",
       "   sqft_basement  yr_built  yr_renovated  zipcode      lat     long  \\\n",
       "0              0      1955             0    98178  47.5112 -122.257   \n",
       "1            400      1951          1991    98125  47.7210 -122.319   \n",
       "2              0      1933             0    98028  47.7379 -122.233   \n",
       "3            910      1965             0    98136  47.5208 -122.393   \n",
       "4              0      1987             0    98074  47.6168 -122.045   \n",
       "\n",
       "   sqft_living15  sqft_lot15  \n",
       "0           1340        5650  \n",
       "1           1690        7639  \n",
       "2           2720        8062  \n",
       "3           1360        5000  \n",
       "4           1800        7503  \n",
       "\n",
       "[5 rows x 21 columns]"
      ]
     },
     "execution_count": 364,
     "metadata": {},
     "output_type": "execute_result"
    }
   ],
   "source": [
    "# we are using this data now\n",
    "ldata = load_data(path)\n",
    "ldata.head()"
   ]
  },
  {
   "cell_type": "code",
   "execution_count": 365,
   "metadata": {
    "ExecuteTime": {
     "end_time": "2017-12-17T15:34:27.814062Z",
     "start_time": "2017-12-17T15:34:26.929213Z"
    },
    "code_folding": []
   },
   "outputs": [
    {
     "data": {
      "image/png": "[encoded data removed]",
      "text/plain": [
       "<matplotlib.figure.Figure at 0x1ea5ee2a860>"
      ]
     },
     "metadata": {},
     "output_type": "display_data"
    }
   ],
   "source": [
    "# this allow us to see if there is null values in our data\n",
    "sns.heatmap(ldata.isnull(), yticklabels=False, cbar=False, cmap='viridis')\n",
    "plt.show()\n",
    "# it seems like there no NaN values in our data, nice!\n",
    "# how does it look like if we have null values? I created sample data below..."
   ]
  },
  {
   "cell_type": "code",
   "execution_count": 366,
   "metadata": {
    "ExecuteTime": {
     "end_time": "2017-12-17T15:34:48.898360Z",
     "start_time": "2017-12-17T15:34:48.880366Z"
    }
   },
   "outputs": [
    {
     "data": {
      "text/html": [
       "<div>\n",
       "<style>\n",
       "    .dataframe thead tr:only-child th {\n",
       "        text-align: right;\n",
       "    }\n",
       "\n",
       "    .dataframe thead th {\n",
       "        text-align: left;\n",
       "    }\n",
       "\n",
       "    .dataframe tbody tr th {\n",
       "        vertical-align: top;\n",
       "    }\n",
       "</style>\n",
       "<table border=\"1\" class=\"dataframe\">\n",
       "  <thead>\n",
       "    <tr style=\"text-align: right;\">\n",
       "      <th></th>\n",
       "      <th>First</th>\n",
       "      <th>Second</th>\n",
       "    </tr>\n",
       "  </thead>\n",
       "  <tbody>\n",
       "    <tr>\n",
       "      <th>0</th>\n",
       "      <td>NaN</td>\n",
       "      <td>2.0</td>\n",
       "    </tr>\n",
       "    <tr>\n",
       "      <th>1</th>\n",
       "      <td>1.4</td>\n",
       "      <td>NaN</td>\n",
       "    </tr>\n",
       "    <tr>\n",
       "      <th>2</th>\n",
       "      <td>4.3</td>\n",
       "      <td>4.3</td>\n",
       "    </tr>\n",
       "    <tr>\n",
       "      <th>3</th>\n",
       "      <td>NaN</td>\n",
       "      <td>3.0</td>\n",
       "    </tr>\n",
       "    <tr>\n",
       "      <th>4</th>\n",
       "      <td>1.0</td>\n",
       "      <td>1.0</td>\n",
       "    </tr>\n",
       "    <tr>\n",
       "      <th>5</th>\n",
       "      <td>7.0</td>\n",
       "      <td>NaN</td>\n",
       "    </tr>\n",
       "    <tr>\n",
       "      <th>6</th>\n",
       "      <td>NaN</td>\n",
       "      <td>9.0</td>\n",
       "    </tr>\n",
       "    <tr>\n",
       "      <th>7</th>\n",
       "      <td>1.0</td>\n",
       "      <td>1.0</td>\n",
       "    </tr>\n",
       "  </tbody>\n",
       "</table>\n",
       "</div>"
      ],
      "text/plain": [
       "   First  Second\n",
       "0    NaN     2.0\n",
       "1    1.4     NaN\n",
       "2    4.3     4.3\n",
       "3    NaN     3.0\n",
       "4    1.0     1.0\n",
       "5    7.0     NaN\n",
       "6    NaN     9.0\n",
       "7    1.0     1.0"
      ]
     },
     "execution_count": 366,
     "metadata": {},
     "output_type": "execute_result"
    }
   ],
   "source": [
    "# let' say we have null values in our data\n",
    "# this is example data\n",
    "example_data = pd.DataFrame()\n",
    "# let's create two columns containing some data\n",
    "example_data['First'] = [np.nan, 1.4, 4.3, np.nan, 1,7, np.nan, 1]\n",
    "example_data['Second'] = [2, np.nan, 4.3, 3, 1,np.nan, 9, 1]\n",
    "\n",
    "example_data"
   ]
  },
  {
   "cell_type": "code",
   "execution_count": 367,
   "metadata": {
    "ExecuteTime": {
     "end_time": "2017-12-17T15:35:03.262888Z",
     "start_time": "2017-12-17T15:35:03.185832Z"
    }
   },
   "outputs": [
    {
     "data": {
      "image/png": "[encoded data removed]",
      "text/plain": [
       "<matplotlib.figure.Figure at 0x1ea59f5e898>"
      ]
     },
     "metadata": {},
     "output_type": "display_data"
    }
   ],
   "source": [
    "sns.heatmap(example_data.isnull(), yticklabels=False, cbar=False, cmap='viridis')\n",
    "plt.show()"
   ]
  },
  {
   "cell_type": "code",
   "execution_count": 368,
   "metadata": {
    "ExecuteTime": {
     "end_time": "2017-12-17T15:36:34.059928Z",
     "start_time": "2017-12-17T15:36:33.651641Z"
    },
    "collapsed": true
   },
   "outputs": [],
   "source": [
    "# now we going depth in our data....\n",
    "# Now that we load our data, let's explore more. \n",
    "# I am interesting the date column, we'll go into this feature to see more insight\n",
    "\n",
    "copy_data = ldata.copy()\n",
    "\n",
    "# We can see that date column has both numeric and string \n",
    "# Our goal is convert this => 20141013T000000 to (2014-10-13) year-month-day\n",
    "def clean_date(df):\n",
    "    df['date'] = df['date'].str.split('T', expand=True)\n",
    "    # show splitting of column\n",
    "    return df['date']\n",
    "\n",
    "clean_date(copy_data)\n",
    "\n",
    "# now remove 'T' in date column, let's format more\n",
    "# format our date\n",
    "def format_date(df):\n",
    "    df['date'] = df['date'].apply(lambda x:pd.datetime.strptime(x,'%Y%M%d'))\n",
    "    return df\n",
    "\n",
    "copy_data = format_date(copy_data)"
   ]
  },
  {
   "cell_type": "code",
   "execution_count": 369,
   "metadata": {
    "ExecuteTime": {
     "end_time": "2017-12-17T15:36:37.918654Z",
     "start_time": "2017-12-17T15:36:37.889630Z"
    }
   },
   "outputs": [
    {
     "data": {
      "text/html": [
       "<div>\n",
       "<style>\n",
       "    .dataframe thead tr:only-child th {\n",
       "        text-align: right;\n",
       "    }\n",
       "\n",
       "    .dataframe thead th {\n",
       "        text-align: left;\n",
       "    }\n",
       "\n",
       "    .dataframe tbody tr th {\n",
       "        vertical-align: top;\n",
       "    }\n",
       "</style>\n",
       "<table border=\"1\" class=\"dataframe\">\n",
       "  <thead>\n",
       "    <tr style=\"text-align: right;\">\n",
       "      <th></th>\n",
       "      <th>id</th>\n",
       "      <th>date</th>\n",
       "      <th>price</th>\n",
       "      <th>bedrooms</th>\n",
       "      <th>bathrooms</th>\n",
       "      <th>sqft_living</th>\n",
       "      <th>sqft_lot</th>\n",
       "      <th>floors</th>\n",
       "      <th>waterfront</th>\n",
       "      <th>view</th>\n",
       "      <th>...</th>\n",
       "      <th>grade</th>\n",
       "      <th>sqft_above</th>\n",
       "      <th>sqft_basement</th>\n",
       "      <th>yr_built</th>\n",
       "      <th>yr_renovated</th>\n",
       "      <th>zipcode</th>\n",
       "      <th>lat</th>\n",
       "      <th>long</th>\n",
       "      <th>sqft_living15</th>\n",
       "      <th>sqft_lot15</th>\n",
       "    </tr>\n",
       "  </thead>\n",
       "  <tbody>\n",
       "    <tr>\n",
       "      <th>0</th>\n",
       "      <td>7129300520</td>\n",
       "      <td>2014-01-13 00:10:00</td>\n",
       "      <td>221900.0</td>\n",
       "      <td>3</td>\n",
       "      <td>1.00</td>\n",
       "      <td>1180</td>\n",
       "      <td>5650</td>\n",
       "      <td>1.0</td>\n",
       "      <td>0</td>\n",
       "      <td>0</td>\n",
       "      <td>...</td>\n",
       "      <td>7</td>\n",
       "      <td>1180</td>\n",
       "      <td>0</td>\n",
       "      <td>1955</td>\n",
       "      <td>0</td>\n",
       "      <td>98178</td>\n",
       "      <td>47.5112</td>\n",
       "      <td>-122.257</td>\n",
       "      <td>1340</td>\n",
       "      <td>5650</td>\n",
       "    </tr>\n",
       "    <tr>\n",
       "      <th>1</th>\n",
       "      <td>6414100192</td>\n",
       "      <td>2014-01-09 00:12:00</td>\n",
       "      <td>538000.0</td>\n",
       "      <td>3</td>\n",
       "      <td>2.25</td>\n",
       "      <td>2570</td>\n",
       "      <td>7242</td>\n",
       "      <td>2.0</td>\n",
       "      <td>0</td>\n",
       "      <td>0</td>\n",
       "      <td>...</td>\n",
       "      <td>7</td>\n",
       "      <td>2170</td>\n",
       "      <td>400</td>\n",
       "      <td>1951</td>\n",
       "      <td>1991</td>\n",
       "      <td>98125</td>\n",
       "      <td>47.7210</td>\n",
       "      <td>-122.319</td>\n",
       "      <td>1690</td>\n",
       "      <td>7639</td>\n",
       "    </tr>\n",
       "    <tr>\n",
       "      <th>2</th>\n",
       "      <td>5631500400</td>\n",
       "      <td>2015-01-25 00:02:00</td>\n",
       "      <td>180000.0</td>\n",
       "      <td>2</td>\n",
       "      <td>1.00</td>\n",
       "      <td>770</td>\n",
       "      <td>10000</td>\n",
       "      <td>1.0</td>\n",
       "      <td>0</td>\n",
       "      <td>0</td>\n",
       "      <td>...</td>\n",
       "      <td>6</td>\n",
       "      <td>770</td>\n",
       "      <td>0</td>\n",
       "      <td>1933</td>\n",
       "      <td>0</td>\n",
       "      <td>98028</td>\n",
       "      <td>47.7379</td>\n",
       "      <td>-122.233</td>\n",
       "      <td>2720</td>\n",
       "      <td>8062</td>\n",
       "    </tr>\n",
       "    <tr>\n",
       "      <th>3</th>\n",
       "      <td>2487200875</td>\n",
       "      <td>2014-01-09 00:12:00</td>\n",
       "      <td>604000.0</td>\n",
       "      <td>4</td>\n",
       "      <td>3.00</td>\n",
       "      <td>1960</td>\n",
       "      <td>5000</td>\n",
       "      <td>1.0</td>\n",
       "      <td>0</td>\n",
       "      <td>0</td>\n",
       "      <td>...</td>\n",
       "      <td>7</td>\n",
       "      <td>1050</td>\n",
       "      <td>910</td>\n",
       "      <td>1965</td>\n",
       "      <td>0</td>\n",
       "      <td>98136</td>\n",
       "      <td>47.5208</td>\n",
       "      <td>-122.393</td>\n",
       "      <td>1360</td>\n",
       "      <td>5000</td>\n",
       "    </tr>\n",
       "    <tr>\n",
       "      <th>4</th>\n",
       "      <td>1954400510</td>\n",
       "      <td>2015-01-18 00:02:00</td>\n",
       "      <td>510000.0</td>\n",
       "      <td>3</td>\n",
       "      <td>2.00</td>\n",
       "      <td>1680</td>\n",
       "      <td>8080</td>\n",
       "      <td>1.0</td>\n",
       "      <td>0</td>\n",
       "      <td>0</td>\n",
       "      <td>...</td>\n",
       "      <td>8</td>\n",
       "      <td>1680</td>\n",
       "      <td>0</td>\n",
       "      <td>1987</td>\n",
       "      <td>0</td>\n",
       "      <td>98074</td>\n",
       "      <td>47.6168</td>\n",
       "      <td>-122.045</td>\n",
       "      <td>1800</td>\n",
       "      <td>7503</td>\n",
       "    </tr>\n",
       "  </tbody>\n",
       "</table>\n",
       "<p>5 rows × 21 columns</p>\n",
       "</div>"
      ],
      "text/plain": [
       "           id                date     price  bedrooms  bathrooms  sqft_living  \\\n",
       "0  7129300520 2014-01-13 00:10:00  221900.0         3       1.00         1180   \n",
       "1  6414100192 2014-01-09 00:12:00  538000.0         3       2.25         2570   \n",
       "2  5631500400 2015-01-25 00:02:00  180000.0         2       1.00          770   \n",
       "3  2487200875 2014-01-09 00:12:00  604000.0         4       3.00         1960   \n",
       "4  1954400510 2015-01-18 00:02:00  510000.0         3       2.00         1680   \n",
       "\n",
       "   sqft_lot  floors  waterfront  view     ...      grade  sqft_above  \\\n",
       "0      5650     1.0           0     0     ...          7        1180   \n",
       "1      7242     2.0           0     0     ...          7        2170   \n",
       "2     10000     1.0           0     0     ...          6         770   \n",
       "3      5000     1.0           0     0     ...          7        1050   \n",
       "4      8080     1.0           0     0     ...          8        1680   \n",
       "\n",
       "   sqft_basement  yr_built  yr_renovated  zipcode      lat     long  \\\n",
       "0              0      1955             0    98178  47.5112 -122.257   \n",
       "1            400      1951          1991    98125  47.7210 -122.319   \n",
       "2              0      1933             0    98028  47.7379 -122.233   \n",
       "3            910      1965             0    98136  47.5208 -122.393   \n",
       "4              0      1987             0    98074  47.6168 -122.045   \n",
       "\n",
       "   sqft_living15  sqft_lot15  \n",
       "0           1340        5650  \n",
       "1           1690        7639  \n",
       "2           2720        8062  \n",
       "3           1360        5000  \n",
       "4           1800        7503  \n",
       "\n",
       "[5 rows x 21 columns]"
      ]
     },
     "execution_count": 369,
     "metadata": {},
     "output_type": "execute_result"
    }
   ],
   "source": [
    "copy_data.head()"
   ]
  },
  {
   "cell_type": "code",
   "execution_count": null,
   "metadata": {
    "collapsed": true
   },
   "outputs": [],
   "source": []
  },
  {
   "cell_type": "code",
   "execution_count": null,
   "metadata": {
    "collapsed": true
   },
   "outputs": [],
   "source": []
  },
  {
   "cell_type": "code",
   "execution_count": 377,
   "metadata": {
    "ExecuteTime": {
     "end_time": "2017-12-17T15:46:15.562206Z",
     "start_time": "2017-12-17T15:46:15.394572Z"
    },
    "collapsed": true
   },
   "outputs": [],
   "source": [
    "# let's get the days of the month \n",
    "# now we are doing some analysis\n",
    "def day_of_month(dt):\n",
    "    return dt.day\n",
    "\n",
    "copy_data['DayOM'] = copy_data['date'].map(day_of_month)"
   ]
  },
  {
   "cell_type": "code",
   "execution_count": 378,
   "metadata": {
    "ExecuteTime": {
     "end_time": "2017-12-17T15:46:15.959487Z",
     "start_time": "2017-12-17T15:46:15.954498Z"
    },
    "collapsed": true
   },
   "outputs": [],
   "source": [
    "# day of week,\n",
    "def week_day(dt):\n",
    "    return dt.weekday()\n",
    "\n",
    "# we get the hour\n",
    "def get_hour(dt):\n",
    "    return dt.hour\n"
   ]
  },
  {
   "cell_type": "code",
   "execution_count": 379,
   "metadata": {
    "ExecuteTime": {
     "end_time": "2017-12-17T15:46:18.129486Z",
     "start_time": "2017-12-17T15:46:17.953851Z"
    },
    "collapsed": true
   },
   "outputs": [],
   "source": [
    "# here we are creating new columns and assign to weekday, hour\n",
    "copy_data['WeekDay'] = copy_data['date'].map(week_day)\n",
    "copy_data['hour'] = copy_data['date'].map(get_hour)"
   ]
  },
  {
   "cell_type": "code",
   "execution_count": 380,
   "metadata": {
    "ExecuteTime": {
     "end_time": "2017-12-17T15:46:19.435221Z",
     "start_time": "2017-12-17T15:46:19.405200Z"
    }
   },
   "outputs": [
    {
     "data": {
      "text/html": [
       "<div>\n",
       "<style>\n",
       "    .dataframe thead tr:only-child th {\n",
       "        text-align: right;\n",
       "    }\n",
       "\n",
       "    .dataframe thead th {\n",
       "        text-align: left;\n",
       "    }\n",
       "\n",
       "    .dataframe tbody tr th {\n",
       "        vertical-align: top;\n",
       "    }\n",
       "</style>\n",
       "<table border=\"1\" class=\"dataframe\">\n",
       "  <thead>\n",
       "    <tr style=\"text-align: right;\">\n",
       "      <th></th>\n",
       "      <th>id</th>\n",
       "      <th>date</th>\n",
       "      <th>price</th>\n",
       "      <th>bedrooms</th>\n",
       "      <th>bathrooms</th>\n",
       "      <th>sqft_living</th>\n",
       "      <th>sqft_lot</th>\n",
       "      <th>floors</th>\n",
       "      <th>waterfront</th>\n",
       "      <th>view</th>\n",
       "      <th>...</th>\n",
       "      <th>yr_renovated</th>\n",
       "      <th>zipcode</th>\n",
       "      <th>lat</th>\n",
       "      <th>long</th>\n",
       "      <th>sqft_living15</th>\n",
       "      <th>sqft_lot15</th>\n",
       "      <th>Day-of-month</th>\n",
       "      <th>WeekDay</th>\n",
       "      <th>hour</th>\n",
       "      <th>DayOM</th>\n",
       "    </tr>\n",
       "  </thead>\n",
       "  <tbody>\n",
       "    <tr>\n",
       "      <th>0</th>\n",
       "      <td>7129300520</td>\n",
       "      <td>2014-01-13 00:10:00</td>\n",
       "      <td>221900.0</td>\n",
       "      <td>3</td>\n",
       "      <td>1.00</td>\n",
       "      <td>1180</td>\n",
       "      <td>5650</td>\n",
       "      <td>1.0</td>\n",
       "      <td>0</td>\n",
       "      <td>0</td>\n",
       "      <td>...</td>\n",
       "      <td>0</td>\n",
       "      <td>98178</td>\n",
       "      <td>47.5112</td>\n",
       "      <td>-122.257</td>\n",
       "      <td>1340</td>\n",
       "      <td>5650</td>\n",
       "      <td>13</td>\n",
       "      <td>0</td>\n",
       "      <td>0</td>\n",
       "      <td>13</td>\n",
       "    </tr>\n",
       "    <tr>\n",
       "      <th>1</th>\n",
       "      <td>6414100192</td>\n",
       "      <td>2014-01-09 00:12:00</td>\n",
       "      <td>538000.0</td>\n",
       "      <td>3</td>\n",
       "      <td>2.25</td>\n",
       "      <td>2570</td>\n",
       "      <td>7242</td>\n",
       "      <td>2.0</td>\n",
       "      <td>0</td>\n",
       "      <td>0</td>\n",
       "      <td>...</td>\n",
       "      <td>1991</td>\n",
       "      <td>98125</td>\n",
       "      <td>47.7210</td>\n",
       "      <td>-122.319</td>\n",
       "      <td>1690</td>\n",
       "      <td>7639</td>\n",
       "      <td>9</td>\n",
       "      <td>3</td>\n",
       "      <td>0</td>\n",
       "      <td>9</td>\n",
       "    </tr>\n",
       "    <tr>\n",
       "      <th>2</th>\n",
       "      <td>5631500400</td>\n",
       "      <td>2015-01-25 00:02:00</td>\n",
       "      <td>180000.0</td>\n",
       "      <td>2</td>\n",
       "      <td>1.00</td>\n",
       "      <td>770</td>\n",
       "      <td>10000</td>\n",
       "      <td>1.0</td>\n",
       "      <td>0</td>\n",
       "      <td>0</td>\n",
       "      <td>...</td>\n",
       "      <td>0</td>\n",
       "      <td>98028</td>\n",
       "      <td>47.7379</td>\n",
       "      <td>-122.233</td>\n",
       "      <td>2720</td>\n",
       "      <td>8062</td>\n",
       "      <td>25</td>\n",
       "      <td>6</td>\n",
       "      <td>0</td>\n",
       "      <td>25</td>\n",
       "    </tr>\n",
       "    <tr>\n",
       "      <th>3</th>\n",
       "      <td>2487200875</td>\n",
       "      <td>2014-01-09 00:12:00</td>\n",
       "      <td>604000.0</td>\n",
       "      <td>4</td>\n",
       "      <td>3.00</td>\n",
       "      <td>1960</td>\n",
       "      <td>5000</td>\n",
       "      <td>1.0</td>\n",
       "      <td>0</td>\n",
       "      <td>0</td>\n",
       "      <td>...</td>\n",
       "      <td>0</td>\n",
       "      <td>98136</td>\n",
       "      <td>47.5208</td>\n",
       "      <td>-122.393</td>\n",
       "      <td>1360</td>\n",
       "      <td>5000</td>\n",
       "      <td>9</td>\n",
       "      <td>3</td>\n",
       "      <td>0</td>\n",
       "      <td>9</td>\n",
       "    </tr>\n",
       "    <tr>\n",
       "      <th>4</th>\n",
       "      <td>1954400510</td>\n",
       "      <td>2015-01-18 00:02:00</td>\n",
       "      <td>510000.0</td>\n",
       "      <td>3</td>\n",
       "      <td>2.00</td>\n",
       "      <td>1680</td>\n",
       "      <td>8080</td>\n",
       "      <td>1.0</td>\n",
       "      <td>0</td>\n",
       "      <td>0</td>\n",
       "      <td>...</td>\n",
       "      <td>0</td>\n",
       "      <td>98074</td>\n",
       "      <td>47.6168</td>\n",
       "      <td>-122.045</td>\n",
       "      <td>1800</td>\n",
       "      <td>7503</td>\n",
       "      <td>18</td>\n",
       "      <td>6</td>\n",
       "      <td>0</td>\n",
       "      <td>18</td>\n",
       "    </tr>\n",
       "  </tbody>\n",
       "</table>\n",
       "<p>5 rows × 25 columns</p>\n",
       "</div>"
      ],
      "text/plain": [
       "           id                date     price  bedrooms  bathrooms  sqft_living  \\\n",
       "0  7129300520 2014-01-13 00:10:00  221900.0         3       1.00         1180   \n",
       "1  6414100192 2014-01-09 00:12:00  538000.0         3       2.25         2570   \n",
       "2  5631500400 2015-01-25 00:02:00  180000.0         2       1.00          770   \n",
       "3  2487200875 2014-01-09 00:12:00  604000.0         4       3.00         1960   \n",
       "4  1954400510 2015-01-18 00:02:00  510000.0         3       2.00         1680   \n",
       "\n",
       "   sqft_lot  floors  waterfront  view  ...    yr_renovated  zipcode      lat  \\\n",
       "0      5650     1.0           0     0  ...               0    98178  47.5112   \n",
       "1      7242     2.0           0     0  ...            1991    98125  47.7210   \n",
       "2     10000     1.0           0     0  ...               0    98028  47.7379   \n",
       "3      5000     1.0           0     0  ...               0    98136  47.5208   \n",
       "4      8080     1.0           0     0  ...               0    98074  47.6168   \n",
       "\n",
       "      long  sqft_living15  sqft_lot15  Day-of-month  WeekDay  hour  DayOM  \n",
       "0 -122.257           1340        5650            13        0     0     13  \n",
       "1 -122.319           1690        7639             9        3     0      9  \n",
       "2 -122.233           2720        8062            25        6     0     25  \n",
       "3 -122.393           1360        5000             9        3     0      9  \n",
       "4 -122.045           1800        7503            18        6     0     18  \n",
       "\n",
       "[5 rows x 25 columns]"
      ]
     },
     "execution_count": 380,
     "metadata": {},
     "output_type": "execute_result"
    }
   ],
   "source": [
    "copy_data.head()"
   ]
  },
  {
   "cell_type": "code",
   "execution_count": null,
   "metadata": {
    "collapsed": true
   },
   "outputs": [],
   "source": []
  },
  {
   "cell_type": "code",
   "execution_count": 381,
   "metadata": {
    "ExecuteTime": {
     "end_time": "2017-12-17T15:46:22.397612Z",
     "start_time": "2017-12-17T15:46:22.212481Z"
    },
    "code_folding": []
   },
   "outputs": [
    {
     "data": {
      "image/png": "[encoded data removed]",
      "text/plain": [
       "<matplotlib.figure.Figure at 0x1ea61515908>"
      ]
     },
     "metadata": {},
     "output_type": "display_data"
    }
   ],
   "source": [
    "# let's plot the day of the month\n",
    "plt.rcParams['axes.facecolor'] = 'white'\n",
    "plt.hist(copy_data.DayOM, bins=30, rwidth=.8, range=(0.5, 30.5))\n",
    "plt.xlabel('date of the month')\n",
    "plt.ylabel('frequency')\n",
    "plt.title('Frequency by day of month May 2014')\n",
    "plt.show()"
   ]
  },
  {
   "cell_type": "code",
   "execution_count": 382,
   "metadata": {
    "ExecuteTime": {
     "end_time": "2017-12-17T15:46:50.264452Z",
     "start_time": "2017-12-17T15:46:50.245440Z"
    },
    "code_folding": []
   },
   "outputs": [
    {
     "data": {
      "text/plain": [
       "DayOM\n",
       "1    569\n",
       "2    737\n",
       "3    682\n",
       "4    679\n",
       "5    807\n",
       "dtype: int64"
      ]
     },
     "execution_count": 382,
     "metadata": {},
     "output_type": "execute_result"
    }
   ],
   "source": [
    "# let's count rows in Dayofmonth\n",
    "def count_rows(rows):\n",
    "    return len(rows)\n",
    "\n",
    "by_date = copy_data.groupby('DayOM').apply(count_rows)\n",
    "by_date.head()"
   ]
  },
  {
   "cell_type": "code",
   "execution_count": 383,
   "metadata": {
    "ExecuteTime": {
     "end_time": "2017-12-17T15:47:34.129057Z",
     "start_time": "2017-12-17T15:47:34.122052Z"
    },
    "code_folding": []
   },
   "outputs": [
    {
     "data": {
      "text/plain": [
       "DayOM\n",
       "31    251\n",
       "1     569\n",
       "30    611\n",
       "28    612\n",
       "15    623\n",
       "dtype: int64"
      ]
     },
     "execution_count": 383,
     "metadata": {},
     "output_type": "execute_result"
    }
   ],
   "source": [
    "# we can sort\n",
    "sorted_date = by_date.sort_values()\n",
    "sorted_date.head()"
   ]
  },
  {
   "cell_type": "code",
   "execution_count": 384,
   "metadata": {
    "ExecuteTime": {
     "end_time": "2017-12-17T15:47:54.915406Z",
     "start_time": "2017-12-17T15:47:54.636192Z"
    },
    "code_folding": []
   },
   "outputs": [
    {
     "data": {
      "image/png": "[encoded data removed]",
      "text/plain": [
       "<matplotlib.figure.Figure at 0x1ea615f15f8>"
      ]
     },
     "metadata": {},
     "output_type": "display_data"
    },
    {
     "data": {
      "text/plain": [
       "''"
      ]
     },
     "execution_count": 384,
     "metadata": {},
     "output_type": "execute_result"
    }
   ],
   "source": [
    "# we'll plot the sorted days\n",
    "plt.bar(range(1, 32), sorted_date)\n",
    "plt.xticks(range(1,32), sorted_date.index)\n",
    "plt.xlabel('date of the month')\n",
    "plt.ylabel('frequency')\n",
    "plt.title('Frequency by day of month May 2014')\n",
    "plt.show()\n",
    ";"
   ]
  },
  {
   "cell_type": "code",
   "execution_count": 387,
   "metadata": {
    "ExecuteTime": {
     "end_time": "2017-12-17T15:53:34.203799Z",
     "start_time": "2017-12-17T15:53:34.083698Z"
    },
    "collapsed": true
   },
   "outputs": [],
   "source": [
    "# this was what I was talking about getting sample codes in python\n",
    "# if you use single question mark, it gives you doc string - meaning documentation about the fucinot..\n",
    "# if you use double question mark, it gives you codes that used to create this function...\n",
    "\n",
    "pd.datetime??"
   ]
  },
  {
   "cell_type": "code",
   "execution_count": 326,
   "metadata": {
    "ExecuteTime": {
     "end_time": "2017-12-17T14:43:57.586567Z",
     "start_time": "2017-12-17T14:43:57.577559Z"
    },
    "code_folding": []
   },
   "outputs": [
    {
     "data": {
      "text/plain": [
       "3    3439\n",
       "4    3432\n",
       "2    3284\n",
       "1    2986\n",
       "5    2982\n",
       "6    2826\n",
       "0    2664\n",
       "Name: WeekDay, dtype: int64"
      ]
     },
     "execution_count": 326,
     "metadata": {},
     "output_type": "execute_result"
    }
   ],
   "source": [
    "# Monday=0, \n",
    "# Tuesday=1\n",
    "# so on...\n",
    "#Sunday=6\n",
    "copy_data.WeekDay.value_counts()"
   ]
  },
  {
   "cell_type": "code",
   "execution_count": 388,
   "metadata": {
    "ExecuteTime": {
     "end_time": "2017-12-17T15:54:10.619418Z",
     "start_time": "2017-12-17T15:54:10.460305Z"
    },
    "code_folding": []
   },
   "outputs": [
    {
     "data": {
      "image/png": "[encoded data removed]",
      "text/plain": [
       "<matplotlib.figure.Figure at 0x1ea64d55c18>"
      ]
     },
     "metadata": {},
     "output_type": "display_data"
    }
   ],
   "source": [
    "# Let's get most popular day of the week, here we are looking at \n",
    "plt.hist(copy_data.WeekDay, bins=7, range =(-.5,6.5), rwidth=.8, color='purple', alpha=.6)\n",
    "plt.xticks(range(7), 'Mon Tue Wed Thu Fri Sat Sun'.split())\n",
    "plt.xlabel(\"Day of the week\")\n",
    "plt.ylabel(\"Frequency\")\n",
    "plt.show()"
   ]
  },
  {
   "cell_type": "code",
   "execution_count": 389,
   "metadata": {
    "ExecuteTime": {
     "end_time": "2017-12-17T15:54:25.507252Z",
     "start_time": "2017-12-17T15:54:25.502249Z"
    },
    "code_folding": [],
    "collapsed": true
   },
   "outputs": [],
   "source": [
    "# believe or not, we have add three features to our data. Let's see what they are\n",
    "#ldata.columns\n",
    "# Day of month \n",
    "# Day of week\n",
    "# Hour"
   ]
  },
  {
   "cell_type": "code",
   "execution_count": 390,
   "metadata": {
    "ExecuteTime": {
     "end_time": "2017-12-17T15:54:26.048439Z",
     "start_time": "2017-12-17T15:54:26.019419Z"
    }
   },
   "outputs": [
    {
     "data": {
      "text/html": [
       "<div>\n",
       "<style>\n",
       "    .dataframe thead tr:only-child th {\n",
       "        text-align: right;\n",
       "    }\n",
       "\n",
       "    .dataframe thead th {\n",
       "        text-align: left;\n",
       "    }\n",
       "\n",
       "    .dataframe tbody tr th {\n",
       "        vertical-align: top;\n",
       "    }\n",
       "</style>\n",
       "<table border=\"1\" class=\"dataframe\">\n",
       "  <thead>\n",
       "    <tr style=\"text-align: right;\">\n",
       "      <th></th>\n",
       "      <th>id</th>\n",
       "      <th>date</th>\n",
       "      <th>price</th>\n",
       "      <th>bedrooms</th>\n",
       "      <th>bathrooms</th>\n",
       "      <th>sqft_living</th>\n",
       "      <th>sqft_lot</th>\n",
       "      <th>floors</th>\n",
       "      <th>waterfront</th>\n",
       "      <th>view</th>\n",
       "      <th>...</th>\n",
       "      <th>yr_renovated</th>\n",
       "      <th>zipcode</th>\n",
       "      <th>lat</th>\n",
       "      <th>long</th>\n",
       "      <th>sqft_living15</th>\n",
       "      <th>sqft_lot15</th>\n",
       "      <th>Day-of-month</th>\n",
       "      <th>WeekDay</th>\n",
       "      <th>hour</th>\n",
       "      <th>DayOM</th>\n",
       "    </tr>\n",
       "  </thead>\n",
       "  <tbody>\n",
       "    <tr>\n",
       "      <th>0</th>\n",
       "      <td>7129300520</td>\n",
       "      <td>2014-01-13 00:10:00</td>\n",
       "      <td>221900.0</td>\n",
       "      <td>3</td>\n",
       "      <td>1.00</td>\n",
       "      <td>1180</td>\n",
       "      <td>5650</td>\n",
       "      <td>1.0</td>\n",
       "      <td>0</td>\n",
       "      <td>0</td>\n",
       "      <td>...</td>\n",
       "      <td>0</td>\n",
       "      <td>98178</td>\n",
       "      <td>47.5112</td>\n",
       "      <td>-122.257</td>\n",
       "      <td>1340</td>\n",
       "      <td>5650</td>\n",
       "      <td>13</td>\n",
       "      <td>0</td>\n",
       "      <td>0</td>\n",
       "      <td>13</td>\n",
       "    </tr>\n",
       "    <tr>\n",
       "      <th>1</th>\n",
       "      <td>6414100192</td>\n",
       "      <td>2014-01-09 00:12:00</td>\n",
       "      <td>538000.0</td>\n",
       "      <td>3</td>\n",
       "      <td>2.25</td>\n",
       "      <td>2570</td>\n",
       "      <td>7242</td>\n",
       "      <td>2.0</td>\n",
       "      <td>0</td>\n",
       "      <td>0</td>\n",
       "      <td>...</td>\n",
       "      <td>1991</td>\n",
       "      <td>98125</td>\n",
       "      <td>47.7210</td>\n",
       "      <td>-122.319</td>\n",
       "      <td>1690</td>\n",
       "      <td>7639</td>\n",
       "      <td>9</td>\n",
       "      <td>3</td>\n",
       "      <td>0</td>\n",
       "      <td>9</td>\n",
       "    </tr>\n",
       "    <tr>\n",
       "      <th>2</th>\n",
       "      <td>5631500400</td>\n",
       "      <td>2015-01-25 00:02:00</td>\n",
       "      <td>180000.0</td>\n",
       "      <td>2</td>\n",
       "      <td>1.00</td>\n",
       "      <td>770</td>\n",
       "      <td>10000</td>\n",
       "      <td>1.0</td>\n",
       "      <td>0</td>\n",
       "      <td>0</td>\n",
       "      <td>...</td>\n",
       "      <td>0</td>\n",
       "      <td>98028</td>\n",
       "      <td>47.7379</td>\n",
       "      <td>-122.233</td>\n",
       "      <td>2720</td>\n",
       "      <td>8062</td>\n",
       "      <td>25</td>\n",
       "      <td>6</td>\n",
       "      <td>0</td>\n",
       "      <td>25</td>\n",
       "    </tr>\n",
       "  </tbody>\n",
       "</table>\n",
       "<p>3 rows × 25 columns</p>\n",
       "</div>"
      ],
      "text/plain": [
       "           id                date     price  bedrooms  bathrooms  sqft_living  \\\n",
       "0  7129300520 2014-01-13 00:10:00  221900.0         3       1.00         1180   \n",
       "1  6414100192 2014-01-09 00:12:00  538000.0         3       2.25         2570   \n",
       "2  5631500400 2015-01-25 00:02:00  180000.0         2       1.00          770   \n",
       "\n",
       "   sqft_lot  floors  waterfront  view  ...    yr_renovated  zipcode      lat  \\\n",
       "0      5650     1.0           0     0  ...               0    98178  47.5112   \n",
       "1      7242     2.0           0     0  ...            1991    98125  47.7210   \n",
       "2     10000     1.0           0     0  ...               0    98028  47.7379   \n",
       "\n",
       "      long  sqft_living15  sqft_lot15  Day-of-month  WeekDay  hour  DayOM  \n",
       "0 -122.257           1340        5650            13        0     0     13  \n",
       "1 -122.319           1690        7639             9        3     0      9  \n",
       "2 -122.233           2720        8062            25        6     0     25  \n",
       "\n",
       "[3 rows x 25 columns]"
      ]
     },
     "execution_count": 390,
     "metadata": {},
     "output_type": "execute_result"
    }
   ],
   "source": [
    "copy_data.head(3)"
   ]
  },
  {
   "cell_type": "code",
   "execution_count": 391,
   "metadata": {
    "ExecuteTime": {
     "end_time": "2017-12-17T15:54:35.959854Z",
     "start_time": "2017-12-17T15:54:35.813752Z"
    }
   },
   "outputs": [
    {
     "data": {
      "image/png": "[encoded data removed]",
      "text/plain": [
       "<matplotlib.figure.Figure at 0x1ea64bad780>"
      ]
     },
     "metadata": {},
     "output_type": "display_data"
    }
   ],
   "source": [
    "copy_data['date'].hist(bins=10)\n",
    "plt.show()\n",
    "# interesting, there more houses sold in 2014 than 2015"
   ]
  },
  {
   "cell_type": "code",
   "execution_count": 392,
   "metadata": {
    "ExecuteTime": {
     "end_time": "2017-12-17T15:54:50.587278Z",
     "start_time": "2017-12-17T15:54:49.488514Z"
    }
   },
   "outputs": [
    {
     "data": {
      "image/png": "[encoded data removed]",
      "text/plain": [
       "<matplotlib.figure.Figure at 0x1ea59f5cb00>"
      ]
     },
     "metadata": {},
     "output_type": "display_data"
    }
   ],
   "source": [
    "# let's create jointplot showing price and zipcode\n",
    "sns.jointplot(x = 'zipcode', y = 'price', data = copy_data)\n",
    "plt.show()\n",
    "# it seems like some zipcode, some people are rich live there..."
   ]
  },
  {
   "cell_type": "code",
   "execution_count": 393,
   "metadata": {
    "ExecuteTime": {
     "end_time": "2017-12-17T15:55:52.773916Z",
     "start_time": "2017-12-17T15:55:52.769932Z"
    },
    "collapsed": true
   },
   "outputs": [],
   "source": [
    "# we can do more analysis later..."
   ]
  },
  {
   "cell_type": "code",
   "execution_count": null,
   "metadata": {
    "collapsed": true
   },
   "outputs": [],
   "source": []
  },
  {
   "cell_type": "code",
   "execution_count": null,
   "metadata": {
    "collapsed": true
   },
   "outputs": [],
   "source": []
  },
  {
   "cell_type": "code",
   "execution_count": null,
   "metadata": {
    "collapsed": true
   },
   "outputs": [],
   "source": []
  },
  {
   "cell_type": "code",
   "execution_count": null,
   "metadata": {
    "collapsed": true
   },
   "outputs": [],
   "source": []
  },
  {
   "cell_type": "markdown",
   "metadata": {},
   "source": [
    "## Making the data ready for Machine Learning\n",
    "To use any data for machine learning, it needs to be numeric. On this section, we'll cover on:\n",
    "* 1.2.1 converting categorical features into numeric, \n",
    "* 1.2.2 imputing missing values \n",
    "* 1.2.3 removing unnecessary features\n",
    "* 1.2.4 we'll use cross-validation to split our data into train and test sets\n",
    "* 1.2.5 etc. \n",
    "\n",
    "### working with categorical features: \n",
    "Although there isn't any categorical feature in our data, but its good practice to know how to take care of categorical data in your data. In this section we'll create data from scratch that has categorical values."
   ]
  },
  {
   "cell_type": "code",
   "execution_count": 396,
   "metadata": {
    "ExecuteTime": {
     "end_time": "2017-12-17T16:02:05.859485Z",
     "start_time": "2017-12-17T16:02:05.848478Z"
    }
   },
   "outputs": [
    {
     "data": {
      "text/html": [
       "<div>\n",
       "<style>\n",
       "    .dataframe thead tr:only-child th {\n",
       "        text-align: right;\n",
       "    }\n",
       "\n",
       "    .dataframe thead th {\n",
       "        text-align: left;\n",
       "    }\n",
       "\n",
       "    .dataframe tbody tr th {\n",
       "        vertical-align: top;\n",
       "    }\n",
       "</style>\n",
       "<table border=\"1\" class=\"dataframe\">\n",
       "  <thead>\n",
       "    <tr style=\"text-align: right;\">\n",
       "      <th></th>\n",
       "      <th>Gender</th>\n",
       "    </tr>\n",
       "  </thead>\n",
       "  <tbody>\n",
       "    <tr>\n",
       "      <th>0</th>\n",
       "      <td>male</td>\n",
       "    </tr>\n",
       "    <tr>\n",
       "      <th>1</th>\n",
       "      <td>female</td>\n",
       "    </tr>\n",
       "    <tr>\n",
       "      <th>2</th>\n",
       "      <td>female</td>\n",
       "    </tr>\n",
       "    <tr>\n",
       "      <th>3</th>\n",
       "      <td>male</td>\n",
       "    </tr>\n",
       "    <tr>\n",
       "      <th>4</th>\n",
       "      <td>female</td>\n",
       "    </tr>\n",
       "  </tbody>\n",
       "</table>\n",
       "</div>"
      ],
      "text/plain": [
       "   Gender\n",
       "0    male\n",
       "1  female\n",
       "2  female\n",
       "3    male\n",
       "4  female"
      ]
     },
     "execution_count": 396,
     "metadata": {},
     "output_type": "execute_result"
    }
   ],
   "source": [
    "gender = pd.DataFrame()\n",
    "gender['Gender'] = ['male', 'female', 'female', 'male', 'female']\n",
    "gender"
   ]
  },
  {
   "cell_type": "code",
   "execution_count": 400,
   "metadata": {
    "ExecuteTime": {
     "end_time": "2017-12-17T16:07:09.536117Z",
     "start_time": "2017-12-17T16:07:09.526108Z"
    }
   },
   "outputs": [
    {
     "data": {
      "text/html": [
       "<div>\n",
       "<style>\n",
       "    .dataframe thead tr:only-child th {\n",
       "        text-align: right;\n",
       "    }\n",
       "\n",
       "    .dataframe thead th {\n",
       "        text-align: left;\n",
       "    }\n",
       "\n",
       "    .dataframe tbody tr th {\n",
       "        vertical-align: top;\n",
       "    }\n",
       "</style>\n",
       "<table border=\"1\" class=\"dataframe\">\n",
       "  <thead>\n",
       "    <tr style=\"text-align: right;\">\n",
       "      <th></th>\n",
       "      <th>male</th>\n",
       "    </tr>\n",
       "  </thead>\n",
       "  <tbody>\n",
       "    <tr>\n",
       "      <th>0</th>\n",
       "      <td>1</td>\n",
       "    </tr>\n",
       "    <tr>\n",
       "      <th>1</th>\n",
       "      <td>0</td>\n",
       "    </tr>\n",
       "    <tr>\n",
       "      <th>2</th>\n",
       "      <td>0</td>\n",
       "    </tr>\n",
       "    <tr>\n",
       "      <th>3</th>\n",
       "      <td>1</td>\n",
       "    </tr>\n",
       "    <tr>\n",
       "      <th>4</th>\n",
       "      <td>0</td>\n",
       "    </tr>\n",
       "  </tbody>\n",
       "</table>\n",
       "</div>"
      ],
      "text/plain": [
       "   male\n",
       "0     1\n",
       "1     0\n",
       "2     0\n",
       "3     1\n",
       "4     0"
      ]
     },
     "execution_count": 400,
     "metadata": {},
     "output_type": "execute_result"
    }
   ],
   "source": [
    "# we can create one hot encoder for this column meaning that converting 0's and 1's \n",
    "pd.get_dummies(gender[\"Gender\"], drop_first=True)\n",
    "# we can delete_first column as parameter here...a"
   ]
  },
  {
   "cell_type": "code",
   "execution_count": null,
   "metadata": {
    "ExecuteTime": {
     "end_time": "2017-12-17T16:06:46.753850Z",
     "start_time": "2017-12-17T16:06:46.681801Z"
    },
    "collapsed": true
   },
   "outputs": [],
   "source": [
    "# I see, so we are saving us some energy and only keep 1 column\n",
    "# give me 5 minutes bro its maghrib time here, will be back shortly\n",
    "# insha'allah"
   ]
  },
  {
   "cell_type": "code",
   "execution_count": null,
   "metadata": {
    "collapsed": true
   },
   "outputs": [],
   "source": []
  },
  {
   "cell_type": "code",
   "execution_count": 398,
   "metadata": {
    "ExecuteTime": {
     "end_time": "2017-12-17T16:03:55.969526Z",
     "start_time": "2017-12-17T16:03:55.960546Z"
    },
    "collapsed": true
   },
   "outputs": [],
   "source": [
    "# did you see the problem here, if we use this in our model....\n",
    "# From what I understand, the computer can only interpret numbers\n",
    "# and that is why we converted to dummies 0 or 1, and in this way\n",
    "# we can include categories into our models?\n",
    "# yes, but the computer can easily guess, becuase female has 0 and male has 1,\n",
    "# next row, if femal has 1 and male has to have 0, so on...\n",
    "# there is way to make computer hard to guess....understood bro, thanks for explaining"
   ]
  },
  {
   "cell_type": "code",
   "execution_count": null,
   "metadata": {
    "collapsed": true
   },
   "outputs": [],
   "source": []
  },
  {
   "cell_type": "code",
   "execution_count": null,
   "metadata": {
    "collapsed": true
   },
   "outputs": [],
   "source": []
  },
  {
   "cell_type": "code",
   "execution_count": 394,
   "metadata": {
    "ExecuteTime": {
     "end_time": "2017-12-17T15:56:32.243631Z",
     "start_time": "2017-12-17T15:56:32.225618Z"
    }
   },
   "outputs": [
    {
     "data": {
      "text/html": [
       "<div>\n",
       "<style>\n",
       "    .dataframe thead tr:only-child th {\n",
       "        text-align: right;\n",
       "    }\n",
       "\n",
       "    .dataframe thead th {\n",
       "        text-align: left;\n",
       "    }\n",
       "\n",
       "    .dataframe tbody tr th {\n",
       "        vertical-align: top;\n",
       "    }\n",
       "</style>\n",
       "<table border=\"1\" class=\"dataframe\">\n",
       "  <thead>\n",
       "    <tr style=\"text-align: right;\">\n",
       "      <th></th>\n",
       "      <th>Name</th>\n",
       "      <th>last_name</th>\n",
       "      <th>Random</th>\n",
       "      <th>city</th>\n",
       "    </tr>\n",
       "  </thead>\n",
       "  <tbody>\n",
       "    <tr>\n",
       "      <th>0</th>\n",
       "      <td>Abdi</td>\n",
       "      <td>Jabar</td>\n",
       "      <td>42</td>\n",
       "      <td>Middlebury</td>\n",
       "    </tr>\n",
       "    <tr>\n",
       "      <th>1</th>\n",
       "      <td>Mohamed</td>\n",
       "      <td>Ahmed</td>\n",
       "      <td>52</td>\n",
       "      <td>London</td>\n",
       "    </tr>\n",
       "    <tr>\n",
       "      <th>2</th>\n",
       "      <td>Saleban</td>\n",
       "      <td>Olow</td>\n",
       "      <td>21</td>\n",
       "      <td>Burlington</td>\n",
       "    </tr>\n",
       "    <tr>\n",
       "      <th>3</th>\n",
       "      <td>Guled</td>\n",
       "      <td>Elmi</td>\n",
       "      <td>26</td>\n",
       "      <td>Hargesa</td>\n",
       "    </tr>\n",
       "    <tr>\n",
       "      <th>4</th>\n",
       "      <td>Log</td>\n",
       "      <td>Ri</td>\n",
       "      <td>73</td>\n",
       "      <td>DC</td>\n",
       "    </tr>\n",
       "  </tbody>\n",
       "</table>\n",
       "</div>"
      ],
      "text/plain": [
       "      Name last_name  Random        city\n",
       "0     Abdi     Jabar      42  Middlebury\n",
       "1  Mohamed     Ahmed      52      London\n",
       "2  Saleban      Olow      21  Burlington\n",
       "3    Guled      Elmi      26     Hargesa\n",
       "4      Log        Ri      73          DC"
      ]
     },
     "execution_count": 394,
     "metadata": {},
     "output_type": "execute_result"
    }
   ],
   "source": [
    "# Let's imagine we have this data\n",
    "# this is sample data\n",
    "cat_data = {'Name': ['Abdi', 'Mohamed', 'Saleban', 'Guled', 'Log'], \n",
    "        'last_name': ['Jabar', 'Ahmed', 'Olow', 'Elmi', 'Ri'], \n",
    "        'Random': [42, 52, 21, 26, 73], \n",
    "        'city': ['Middlebury', 'London', 'Burlington', 'Hargesa', 'DC']}\n",
    "df = pd.DataFrame(cat_data, columns = ['Name', 'last_name', 'Random', 'city'])\n",
    "df"
   ]
  },
  {
   "cell_type": "code",
   "execution_count": null,
   "metadata": {
    "collapsed": true
   },
   "outputs": [],
   "source": []
  },
  {
   "cell_type": "code",
   "execution_count": null,
   "metadata": {
    "collapsed": true
   },
   "outputs": [],
   "source": []
  },
  {
   "cell_type": "code",
   "execution_count": 395,
   "metadata": {
    "ExecuteTime": {
     "end_time": "2017-12-17T15:56:53.939857Z",
     "start_time": "2017-12-17T15:56:53.925850Z"
    }
   },
   "outputs": [
    {
     "data": {
      "text/html": [
       "<div>\n",
       "<style>\n",
       "    .dataframe thead tr:only-child th {\n",
       "        text-align: right;\n",
       "    }\n",
       "\n",
       "    .dataframe thead th {\n",
       "        text-align: left;\n",
       "    }\n",
       "\n",
       "    .dataframe tbody tr th {\n",
       "        vertical-align: top;\n",
       "    }\n",
       "</style>\n",
       "<table border=\"1\" class=\"dataframe\">\n",
       "  <thead>\n",
       "    <tr style=\"text-align: right;\">\n",
       "      <th></th>\n",
       "      <th>Burlington</th>\n",
       "      <th>DC</th>\n",
       "      <th>Hargesa</th>\n",
       "      <th>London</th>\n",
       "      <th>Middlebury</th>\n",
       "    </tr>\n",
       "  </thead>\n",
       "  <tbody>\n",
       "    <tr>\n",
       "      <th>0</th>\n",
       "      <td>0</td>\n",
       "      <td>0</td>\n",
       "      <td>0</td>\n",
       "      <td>0</td>\n",
       "      <td>1</td>\n",
       "    </tr>\n",
       "    <tr>\n",
       "      <th>1</th>\n",
       "      <td>0</td>\n",
       "      <td>0</td>\n",
       "      <td>0</td>\n",
       "      <td>1</td>\n",
       "      <td>0</td>\n",
       "    </tr>\n",
       "    <tr>\n",
       "      <th>2</th>\n",
       "      <td>1</td>\n",
       "      <td>0</td>\n",
       "      <td>0</td>\n",
       "      <td>0</td>\n",
       "      <td>0</td>\n",
       "    </tr>\n",
       "    <tr>\n",
       "      <th>3</th>\n",
       "      <td>0</td>\n",
       "      <td>0</td>\n",
       "      <td>1</td>\n",
       "      <td>0</td>\n",
       "      <td>0</td>\n",
       "    </tr>\n",
       "    <tr>\n",
       "      <th>4</th>\n",
       "      <td>0</td>\n",
       "      <td>1</td>\n",
       "      <td>0</td>\n",
       "      <td>0</td>\n",
       "      <td>0</td>\n",
       "    </tr>\n",
       "  </tbody>\n",
       "</table>\n",
       "</div>"
      ],
      "text/plain": [
       "   Burlington  DC  Hargesa  London  Middlebury\n",
       "0           0   0        0       0           1\n",
       "1           0   0        0       1           0\n",
       "2           1   0        0       0           0\n",
       "3           0   0        1       0           0\n",
       "4           0   1        0       0           0"
      ]
     },
     "execution_count": 395,
     "metadata": {},
     "output_type": "execute_result"
    }
   ],
   "source": [
    "df_copy = df.copy()\n",
    "# We can use pandas to create dummy variables for every unique category in df.city\n",
    "pd.get_dummies(df[\"city\"])"
   ]
  },
  {
   "cell_type": "code",
   "execution_count": 401,
   "metadata": {
    "ExecuteTime": {
     "end_time": "2017-12-17T16:15:29.572096Z",
     "start_time": "2017-12-17T16:15:29.562089Z"
    }
   },
   "outputs": [
    {
     "data": {
      "text/plain": [
       "array([[ 0.,  0.,  0.,  0.,  1.],\n",
       "       [ 0.,  0.,  0.,  1.,  0.],\n",
       "       [ 1.,  0.,  0.,  0.,  0.],\n",
       "       [ 0.,  0.,  1.,  0.,  0.],\n",
       "       [ 0.,  1.,  0.,  0.,  0.]])"
      ]
     },
     "execution_count": 401,
     "metadata": {},
     "output_type": "execute_result"
    }
   ],
   "source": [
    "# or use sklearn preprocessing library\n",
    "# this is same thing, instead using pandas dummy, we can use sklearn libraries\n",
    "from sklearn.preprocessing import LabelEncoder\n",
    "from sklearn.preprocessing import OneHotEncoder\n",
    "# Convert strings categorical names to integers\n",
    "integerized_data = LabelEncoder().fit_transform(df[\"city\"])\n",
    "# Convert integer categorical representations to OneHot encodings\n",
    "OneHotEncoder().fit_transform(integerized_data.reshape(-1,1)).toarray()"
   ]
  },
  {
   "cell_type": "code",
   "execution_count": 402,
   "metadata": {
    "ExecuteTime": {
     "end_time": "2017-12-17T16:15:49.825500Z",
     "start_time": "2017-12-17T16:15:49.811490Z"
    }
   },
   "outputs": [
    {
     "data": {
      "text/html": [
       "<div>\n",
       "<style>\n",
       "    .dataframe thead tr:only-child th {\n",
       "        text-align: right;\n",
       "    }\n",
       "\n",
       "    .dataframe thead th {\n",
       "        text-align: left;\n",
       "    }\n",
       "\n",
       "    .dataframe tbody tr th {\n",
       "        vertical-align: top;\n",
       "    }\n",
       "</style>\n",
       "<table border=\"1\" class=\"dataframe\">\n",
       "  <thead>\n",
       "    <tr style=\"text-align: right;\">\n",
       "      <th></th>\n",
       "      <th>first</th>\n",
       "    </tr>\n",
       "  </thead>\n",
       "  <tbody>\n",
       "    <tr>\n",
       "      <th>0</th>\n",
       "      <td>0.0</td>\n",
       "    </tr>\n",
       "    <tr>\n",
       "      <th>1</th>\n",
       "      <td>1.4</td>\n",
       "    </tr>\n",
       "    <tr>\n",
       "      <th>2</th>\n",
       "      <td>4.3</td>\n",
       "    </tr>\n",
       "    <tr>\n",
       "      <th>3</th>\n",
       "      <td>NaN</td>\n",
       "    </tr>\n",
       "    <tr>\n",
       "      <th>4</th>\n",
       "      <td>1.0</td>\n",
       "    </tr>\n",
       "    <tr>\n",
       "      <th>5</th>\n",
       "      <td>7.0</td>\n",
       "    </tr>\n",
       "    <tr>\n",
       "      <th>6</th>\n",
       "      <td>NaN</td>\n",
       "    </tr>\n",
       "    <tr>\n",
       "      <th>7</th>\n",
       "      <td>1.0</td>\n",
       "    </tr>\n",
       "  </tbody>\n",
       "</table>\n",
       "</div>"
      ],
      "text/plain": [
       "   first\n",
       "0    0.0\n",
       "1    1.4\n",
       "2    4.3\n",
       "3    NaN\n",
       "4    1.0\n",
       "5    7.0\n",
       "6    NaN\n",
       "7    1.0"
      ]
     },
     "execution_count": 402,
     "metadata": {},
     "output_type": "execute_result"
    }
   ],
   "source": [
    "# example 2 - imputing missing values - taking care of missing data\n",
    "df_missing = pd.DataFrame()\n",
    "df_missing['first'] = [0, 1.4, 4.3, np.nan, 1,7, np.nan, 1]\n",
    "df_missing"
   ]
  },
  {
   "cell_type": "code",
   "execution_count": 406,
   "metadata": {
    "ExecuteTime": {
     "end_time": "2017-12-17T16:16:53.475482Z",
     "start_time": "2017-12-17T16:16:53.468493Z"
    },
    "collapsed": true
   },
   "outputs": [],
   "source": [
    "# we can use imputer fucntion in sklearn\n",
    "from sklearn.preprocessing import Imputer\n",
    "mean_imputer = Imputer(missing_values='NaN', strategy='median', axis=0)\n",
    "# Train the imputor on the df dataset\n",
    "mean_imputer = mean_imputer.fit(df_missing)"
   ]
  },
  {
   "cell_type": "code",
   "execution_count": 407,
   "metadata": {
    "ExecuteTime": {
     "end_time": "2017-12-17T16:16:55.236414Z",
     "start_time": "2017-12-17T16:16:55.229409Z"
    }
   },
   "outputs": [
    {
     "data": {
      "text/plain": [
       "array([[ 0. ],\n",
       "       [ 1.4],\n",
       "       [ 4.3],\n",
       "       [ 1.2],\n",
       "       [ 1. ],\n",
       "       [ 7. ],\n",
       "       [ 1.2],\n",
       "       [ 1. ]])"
      ]
     },
     "execution_count": 407,
     "metadata": {},
     "output_type": "execute_result"
    }
   ],
   "source": [
    "# Apply the imputer to the df dataset\n",
    "imputed_df = mean_imputer.transform(df_missing.values)\n",
    "# View the data\n",
    "imputed_df"
   ]
  },
  {
   "cell_type": "markdown",
   "metadata": {},
   "source": [
    "### Make our data for machine learning\n",
    "I have just introduced to you how to take care of categorical and missing data in your data. Now We'll make our data ready for machine learning. "
   ]
  },
  {
   "cell_type": "code",
   "execution_count": 408,
   "metadata": {
    "ExecuteTime": {
     "end_time": "2017-12-17T16:38:51.132122Z",
     "start_time": "2017-12-17T16:38:51.108103Z"
    },
    "collapsed": true
   },
   "outputs": [],
   "source": [
    "# let's get our data into X and y. X containing all features except 'price' column and y containing price column\n",
    "# here we are using the original data, instead copy_data\n",
    "# if date equals 2014 assign 1 and everyelse 0\n",
    "format_date = [1 if x == 2014 else 0 for x in ldata.date]\n",
    "#format_year_build = [1 if x >= 2000 else 0 for x in ldata.yr_built]\n",
    "#ldata['yr_built'] = format_year_build\n",
    "ldata['date'] = format_date\n",
    "# we are droping price, id ,date in our training data\n",
    "X = ldata.drop(['price', 'id', 'date'], axis=1)\n",
    "# assign price column in our target output\n",
    "y = ldata['price']\n",
    "# i mean alot of 0 in our data\n",
    "# we have 0 values in our X data, I don't know if that supposed to be 'NaN' for all zeros or just 0. \n",
    "# if we need to convert all 0's to 'NaN' and impute missing values, we can do that:\n",
    "# X[X==0] = np.nan | that will take care of all zeros and convert to NaN values"
   ]
  },
  {
   "cell_type": "code",
   "execution_count": 411,
   "metadata": {
    "ExecuteTime": {
     "end_time": "2017-12-17T16:41:08.235973Z",
     "start_time": "2017-12-17T16:41:08.226981Z"
    }
   },
   "outputs": [
    {
     "data": {
      "text/plain": [
       "0    21450\n",
       "1      163\n",
       "Name: waterfront, dtype: int64"
      ]
     },
     "execution_count": 411,
     "metadata": {},
     "output_type": "execute_result"
    }
   ],
   "source": [
    "X.waterfront.value_counts()"
   ]
  },
  {
   "cell_type": "code",
   "execution_count": null,
   "metadata": {
    "collapsed": true
   },
   "outputs": [],
   "source": []
  },
  {
   "cell_type": "code",
   "execution_count": 459,
   "metadata": {
    "ExecuteTime": {
     "end_time": "2017-12-17T17:39:56.251733Z",
     "start_time": "2017-12-17T17:39:56.230718Z"
    }
   },
   "outputs": [
    {
     "name": "stdout",
     "output_type": "stream",
     "text": [
      "X train shape:  (16209, 18)\n",
      "X test shape:  (5404, 18)\n",
      "\n",
      "y train shape:  (16209,)\n",
      "y test shape:  (5404,)\n"
     ]
    }
   ],
   "source": [
    "# let's split our data into train and test sets\n",
    "from sklearn.cross_validation import train_test_split\n",
    "X_train, X_test, y_train, y_test = train_test_split(X, y, \n",
    "                                                    test_size = .25, \n",
    "                                                    random_state = 42)\n",
    "\n",
    "# X Train/Test shape\n",
    "print(\"X train shape: \", X_train.shape)\n",
    "print(\"X test shape: \", X_test.shape)\n",
    "print()\n",
    "# y train/test shape\n",
    "print(\"y train shape: \", y_train.shape)\n",
    "print(\"y test shape: \", y_test.shape)"
   ]
  },
  {
   "cell_type": "code",
   "execution_count": 461,
   "metadata": {
    "ExecuteTime": {
     "end_time": "2017-12-17T17:40:02.876901Z",
     "start_time": "2017-12-17T17:40:02.853886Z"
    }
   },
   "outputs": [
    {
     "data": {
      "text/html": [
       "<div>\n",
       "<style>\n",
       "    .dataframe thead tr:only-child th {\n",
       "        text-align: right;\n",
       "    }\n",
       "\n",
       "    .dataframe thead th {\n",
       "        text-align: left;\n",
       "    }\n",
       "\n",
       "    .dataframe tbody tr th {\n",
       "        vertical-align: top;\n",
       "    }\n",
       "</style>\n",
       "<table border=\"1\" class=\"dataframe\">\n",
       "  <thead>\n",
       "    <tr style=\"text-align: right;\">\n",
       "      <th></th>\n",
       "      <th>bedrooms</th>\n",
       "      <th>bathrooms</th>\n",
       "      <th>sqft_living</th>\n",
       "      <th>sqft_lot</th>\n",
       "      <th>floors</th>\n",
       "      <th>waterfront</th>\n",
       "      <th>view</th>\n",
       "      <th>condition</th>\n",
       "      <th>grade</th>\n",
       "      <th>sqft_above</th>\n",
       "      <th>sqft_basement</th>\n",
       "      <th>yr_built</th>\n",
       "      <th>yr_renovated</th>\n",
       "      <th>zipcode</th>\n",
       "      <th>lat</th>\n",
       "      <th>long</th>\n",
       "      <th>sqft_living15</th>\n",
       "      <th>sqft_lot15</th>\n",
       "    </tr>\n",
       "  </thead>\n",
       "  <tbody>\n",
       "    <tr>\n",
       "      <th>5945</th>\n",
       "      <td>4</td>\n",
       "      <td>2.25</td>\n",
       "      <td>1810</td>\n",
       "      <td>9240</td>\n",
       "      <td>2.0</td>\n",
       "      <td>0</td>\n",
       "      <td>0</td>\n",
       "      <td>3</td>\n",
       "      <td>7</td>\n",
       "      <td>1810</td>\n",
       "      <td>0</td>\n",
       "      <td>1961</td>\n",
       "      <td>0</td>\n",
       "      <td>98055</td>\n",
       "      <td>47.4362</td>\n",
       "      <td>-122.187</td>\n",
       "      <td>1660</td>\n",
       "      <td>9240</td>\n",
       "    </tr>\n",
       "    <tr>\n",
       "      <th>8423</th>\n",
       "      <td>3</td>\n",
       "      <td>2.50</td>\n",
       "      <td>1600</td>\n",
       "      <td>2788</td>\n",
       "      <td>2.0</td>\n",
       "      <td>0</td>\n",
       "      <td>0</td>\n",
       "      <td>4</td>\n",
       "      <td>7</td>\n",
       "      <td>1600</td>\n",
       "      <td>0</td>\n",
       "      <td>1992</td>\n",
       "      <td>0</td>\n",
       "      <td>98031</td>\n",
       "      <td>47.4034</td>\n",
       "      <td>-122.187</td>\n",
       "      <td>1720</td>\n",
       "      <td>3605</td>\n",
       "    </tr>\n",
       "    <tr>\n",
       "      <th>13488</th>\n",
       "      <td>4</td>\n",
       "      <td>2.50</td>\n",
       "      <td>1720</td>\n",
       "      <td>8638</td>\n",
       "      <td>2.0</td>\n",
       "      <td>0</td>\n",
       "      <td>0</td>\n",
       "      <td>3</td>\n",
       "      <td>8</td>\n",
       "      <td>1720</td>\n",
       "      <td>0</td>\n",
       "      <td>1994</td>\n",
       "      <td>0</td>\n",
       "      <td>98003</td>\n",
       "      <td>47.2704</td>\n",
       "      <td>-122.313</td>\n",
       "      <td>1870</td>\n",
       "      <td>7455</td>\n",
       "    </tr>\n",
       "    <tr>\n",
       "      <th>20731</th>\n",
       "      <td>2</td>\n",
       "      <td>2.25</td>\n",
       "      <td>1240</td>\n",
       "      <td>705</td>\n",
       "      <td>2.0</td>\n",
       "      <td>0</td>\n",
       "      <td>0</td>\n",
       "      <td>3</td>\n",
       "      <td>7</td>\n",
       "      <td>1150</td>\n",
       "      <td>90</td>\n",
       "      <td>2009</td>\n",
       "      <td>0</td>\n",
       "      <td>98027</td>\n",
       "      <td>47.5321</td>\n",
       "      <td>-122.073</td>\n",
       "      <td>1240</td>\n",
       "      <td>750</td>\n",
       "    </tr>\n",
       "    <tr>\n",
       "      <th>2358</th>\n",
       "      <td>3</td>\n",
       "      <td>2.00</td>\n",
       "      <td>1280</td>\n",
       "      <td>13356</td>\n",
       "      <td>1.0</td>\n",
       "      <td>0</td>\n",
       "      <td>0</td>\n",
       "      <td>3</td>\n",
       "      <td>7</td>\n",
       "      <td>1280</td>\n",
       "      <td>0</td>\n",
       "      <td>1994</td>\n",
       "      <td>0</td>\n",
       "      <td>98042</td>\n",
       "      <td>47.3715</td>\n",
       "      <td>-122.074</td>\n",
       "      <td>1590</td>\n",
       "      <td>8071</td>\n",
       "    </tr>\n",
       "  </tbody>\n",
       "</table>\n",
       "</div>"
      ],
      "text/plain": [
       "       bedrooms  bathrooms  sqft_living  sqft_lot  floors  waterfront  view  \\\n",
       "5945          4       2.25         1810      9240     2.0           0     0   \n",
       "8423          3       2.50         1600      2788     2.0           0     0   \n",
       "13488         4       2.50         1720      8638     2.0           0     0   \n",
       "20731         2       2.25         1240       705     2.0           0     0   \n",
       "2358          3       2.00         1280     13356     1.0           0     0   \n",
       "\n",
       "       condition  grade  sqft_above  sqft_basement  yr_built  yr_renovated  \\\n",
       "5945           3      7        1810              0      1961             0   \n",
       "8423           4      7        1600              0      1992             0   \n",
       "13488          3      8        1720              0      1994             0   \n",
       "20731          3      7        1150             90      2009             0   \n",
       "2358           3      7        1280              0      1994             0   \n",
       "\n",
       "       zipcode      lat     long  sqft_living15  sqft_lot15  \n",
       "5945     98055  47.4362 -122.187           1660        9240  \n",
       "8423     98031  47.4034 -122.187           1720        3605  \n",
       "13488    98003  47.2704 -122.313           1870        7455  \n",
       "20731    98027  47.5321 -122.073           1240         750  \n",
       "2358     98042  47.3715 -122.074           1590        8071  "
      ]
     },
     "execution_count": 461,
     "metadata": {},
     "output_type": "execute_result"
    }
   ],
   "source": [
    "X_train.head()"
   ]
  },
  {
   "cell_type": "code",
   "execution_count": 462,
   "metadata": {
    "ExecuteTime": {
     "end_time": "2017-12-17T17:40:03.519547Z",
     "start_time": "2017-12-17T17:40:03.514543Z"
    },
    "collapsed": true
   },
   "outputs": [],
   "source": [
    "#X_train.yr_built.value_counts()"
   ]
  },
  {
   "cell_type": "code",
   "execution_count": 463,
   "metadata": {
    "ExecuteTime": {
     "end_time": "2017-12-17T17:40:05.233304Z",
     "start_time": "2017-12-17T17:40:05.224301Z"
    }
   },
   "outputs": [
    {
     "data": {
      "text/plain": [
       "0    21613\n",
       "Name: date, dtype: int64"
      ]
     },
     "execution_count": 463,
     "metadata": {},
     "output_type": "execute_result"
    }
   ],
   "source": [
    "ldata.date.value_counts()"
   ]
  },
  {
   "cell_type": "code",
   "execution_count": null,
   "metadata": {
    "collapsed": true
   },
   "outputs": [],
   "source": []
  },
  {
   "cell_type": "code",
   "execution_count": null,
   "metadata": {
    "collapsed": true
   },
   "outputs": [],
   "source": []
  },
  {
   "cell_type": "markdown",
   "metadata": {},
   "source": [
    "## Fitting Linear Regression without feature scaling or feature selections - 70% accuracy\n",
    "In this section we'll cover on applying our \"ready data\" into either logistic or linear regression without scaling or selecting important features. This will allow as to compare our performancy score.\n",
    "\n",
    "One reason, we are not using logistic regression is that it accepts binary output. Here we have continues output, we can use logistic regression if our target column is 'date' because we convert zeros and ones, zeros being houses build after 2014 and one being houses build before 2014."
   ]
  },
  {
   "cell_type": "code",
   "execution_count": 464,
   "metadata": {
    "ExecuteTime": {
     "end_time": "2017-12-17T17:40:08.279833Z",
     "start_time": "2017-12-17T17:40:08.276831Z"
    },
    "collapsed": true
   },
   "outputs": [],
   "source": [
    "# let's fit our data linear regression without scaling and adding more data\n",
    "from sklearn.linear_model import LinearRegression\n",
    "from sklearn import metrics"
   ]
  },
  {
   "cell_type": "code",
   "execution_count": 465,
   "metadata": {
    "ExecuteTime": {
     "end_time": "2017-12-17T17:40:08.715339Z",
     "start_time": "2017-12-17T17:40:08.631279Z"
    }
   },
   "outputs": [
    {
     "data": {
      "text/html": [
       "<div>\n",
       "<style>\n",
       "    .dataframe thead tr:only-child th {\n",
       "        text-align: right;\n",
       "    }\n",
       "\n",
       "    .dataframe thead th {\n",
       "        text-align: left;\n",
       "    }\n",
       "\n",
       "    .dataframe tbody tr th {\n",
       "        vertical-align: top;\n",
       "    }\n",
       "</style>\n",
       "<table border=\"1\" class=\"dataframe\">\n",
       "  <thead>\n",
       "    <tr style=\"text-align: right;\">\n",
       "      <th></th>\n",
       "      <th>bedrooms</th>\n",
       "      <th>bathrooms</th>\n",
       "      <th>sqft_living</th>\n",
       "      <th>sqft_lot</th>\n",
       "      <th>floors</th>\n",
       "      <th>waterfront</th>\n",
       "      <th>view</th>\n",
       "      <th>condition</th>\n",
       "      <th>grade</th>\n",
       "      <th>sqft_above</th>\n",
       "      <th>sqft_basement</th>\n",
       "      <th>yr_built</th>\n",
       "      <th>yr_renovated</th>\n",
       "      <th>zipcode</th>\n",
       "      <th>lat</th>\n",
       "      <th>long</th>\n",
       "      <th>sqft_living15</th>\n",
       "      <th>sqft_lot15</th>\n",
       "    </tr>\n",
       "  </thead>\n",
       "  <tbody>\n",
       "    <tr>\n",
       "      <th>5945</th>\n",
       "      <td>4</td>\n",
       "      <td>2.25</td>\n",
       "      <td>1810</td>\n",
       "      <td>9240</td>\n",
       "      <td>2.0</td>\n",
       "      <td>0</td>\n",
       "      <td>0</td>\n",
       "      <td>3</td>\n",
       "      <td>7</td>\n",
       "      <td>1810</td>\n",
       "      <td>0</td>\n",
       "      <td>1961</td>\n",
       "      <td>0</td>\n",
       "      <td>98055</td>\n",
       "      <td>47.4362</td>\n",
       "      <td>-122.187</td>\n",
       "      <td>1660</td>\n",
       "      <td>9240</td>\n",
       "    </tr>\n",
       "    <tr>\n",
       "      <th>8423</th>\n",
       "      <td>3</td>\n",
       "      <td>2.50</td>\n",
       "      <td>1600</td>\n",
       "      <td>2788</td>\n",
       "      <td>2.0</td>\n",
       "      <td>0</td>\n",
       "      <td>0</td>\n",
       "      <td>4</td>\n",
       "      <td>7</td>\n",
       "      <td>1600</td>\n",
       "      <td>0</td>\n",
       "      <td>1992</td>\n",
       "      <td>0</td>\n",
       "      <td>98031</td>\n",
       "      <td>47.4034</td>\n",
       "      <td>-122.187</td>\n",
       "      <td>1720</td>\n",
       "      <td>3605</td>\n",
       "    </tr>\n",
       "    <tr>\n",
       "      <th>13488</th>\n",
       "      <td>4</td>\n",
       "      <td>2.50</td>\n",
       "      <td>1720</td>\n",
       "      <td>8638</td>\n",
       "      <td>2.0</td>\n",
       "      <td>0</td>\n",
       "      <td>0</td>\n",
       "      <td>3</td>\n",
       "      <td>8</td>\n",
       "      <td>1720</td>\n",
       "      <td>0</td>\n",
       "      <td>1994</td>\n",
       "      <td>0</td>\n",
       "      <td>98003</td>\n",
       "      <td>47.2704</td>\n",
       "      <td>-122.313</td>\n",
       "      <td>1870</td>\n",
       "      <td>7455</td>\n",
       "    </tr>\n",
       "    <tr>\n",
       "      <th>20731</th>\n",
       "      <td>2</td>\n",
       "      <td>2.25</td>\n",
       "      <td>1240</td>\n",
       "      <td>705</td>\n",
       "      <td>2.0</td>\n",
       "      <td>0</td>\n",
       "      <td>0</td>\n",
       "      <td>3</td>\n",
       "      <td>7</td>\n",
       "      <td>1150</td>\n",
       "      <td>90</td>\n",
       "      <td>2009</td>\n",
       "      <td>0</td>\n",
       "      <td>98027</td>\n",
       "      <td>47.5321</td>\n",
       "      <td>-122.073</td>\n",
       "      <td>1240</td>\n",
       "      <td>750</td>\n",
       "    </tr>\n",
       "    <tr>\n",
       "      <th>2358</th>\n",
       "      <td>3</td>\n",
       "      <td>2.00</td>\n",
       "      <td>1280</td>\n",
       "      <td>13356</td>\n",
       "      <td>1.0</td>\n",
       "      <td>0</td>\n",
       "      <td>0</td>\n",
       "      <td>3</td>\n",
       "      <td>7</td>\n",
       "      <td>1280</td>\n",
       "      <td>0</td>\n",
       "      <td>1994</td>\n",
       "      <td>0</td>\n",
       "      <td>98042</td>\n",
       "      <td>47.3715</td>\n",
       "      <td>-122.074</td>\n",
       "      <td>1590</td>\n",
       "      <td>8071</td>\n",
       "    </tr>\n",
       "  </tbody>\n",
       "</table>\n",
       "</div>"
      ],
      "text/plain": [
       "       bedrooms  bathrooms  sqft_living  sqft_lot  floors  waterfront  view  \\\n",
       "5945          4       2.25         1810      9240     2.0           0     0   \n",
       "8423          3       2.50         1600      2788     2.0           0     0   \n",
       "13488         4       2.50         1720      8638     2.0           0     0   \n",
       "20731         2       2.25         1240       705     2.0           0     0   \n",
       "2358          3       2.00         1280     13356     1.0           0     0   \n",
       "\n",
       "       condition  grade  sqft_above  sqft_basement  yr_built  yr_renovated  \\\n",
       "5945           3      7        1810              0      1961             0   \n",
       "8423           4      7        1600              0      1992             0   \n",
       "13488          3      8        1720              0      1994             0   \n",
       "20731          3      7        1150             90      2009             0   \n",
       "2358           3      7        1280              0      1994             0   \n",
       "\n",
       "       zipcode      lat     long  sqft_living15  sqft_lot15  \n",
       "5945     98055  47.4362 -122.187           1660        9240  \n",
       "8423     98031  47.4034 -122.187           1720        3605  \n",
       "13488    98003  47.2704 -122.313           1870        7455  \n",
       "20731    98027  47.5321 -122.073           1240         750  \n",
       "2358     98042  47.3715 -122.074           1590        8071  "
      ]
     },
     "execution_count": 465,
     "metadata": {},
     "output_type": "execute_result"
    }
   ],
   "source": [
    "X_train.head()"
   ]
  },
  {
   "cell_type": "code",
   "execution_count": 494,
   "metadata": {
    "ExecuteTime": {
     "end_time": "2017-12-17T17:49:31.048121Z",
     "start_time": "2017-12-17T17:49:31.043114Z"
    },
    "collapsed": true
   },
   "outputs": [],
   "source": [
    "selected_features = X_train[['sqft_above', \n",
    "                             'sqft_living', \n",
    "                             'grade', \n",
    "                             'bathrooms',\n",
    "                             'sqft_living15']]\n",
    "#selected_features"
   ]
  },
  {
   "cell_type": "code",
   "execution_count": 495,
   "metadata": {
    "ExecuteTime": {
     "end_time": "2017-12-17T17:49:33.607838Z",
     "start_time": "2017-12-17T17:49:33.604852Z"
    },
    "collapsed": true
   },
   "outputs": [],
   "source": [
    "# sorry to interject bro, I think with the np array you can use my_array[row,column]\n",
    "# in this case it would be X_train[:, ['sqft_above', 'sqft_living']]"
   ]
  },
  {
   "cell_type": "code",
   "execution_count": null,
   "metadata": {
    "collapsed": true
   },
   "outputs": [],
   "source": []
  },
  {
   "cell_type": "code",
   "execution_count": 496,
   "metadata": {
    "ExecuteTime": {
     "end_time": "2017-12-17T17:49:35.850115Z",
     "start_time": "2017-12-17T17:49:35.836105Z"
    }
   },
   "outputs": [
    {
     "data": {
      "text/plain": [
       "LinearRegression(copy_X=True, fit_intercept=True, n_jobs=1, normalize=False)"
      ]
     },
     "execution_count": 496,
     "metadata": {},
     "output_type": "execute_result"
    }
   ],
   "source": [
    "# Note: It will take time to run first,\n",
    "linermodel = LinearRegression()\n",
    "# once we called our linear regression class, we need to fit our data...\n",
    "linermodel.fit(selected_features, y_train)"
   ]
  },
  {
   "cell_type": "code",
   "execution_count": 497,
   "metadata": {
    "ExecuteTime": {
     "end_time": "2017-12-17T17:49:52.170397Z",
     "start_time": "2017-12-17T17:49:52.165407Z"
    },
    "collapsed": true
   },
   "outputs": [],
   "source": [
    "test_selected = X_test[['sqft_above', \n",
    "                        'sqft_living',\n",
    "                        'grade', \n",
    "                        'bathrooms',\n",
    "                        'sqft_living15']]"
   ]
  },
  {
   "cell_type": "code",
   "execution_count": null,
   "metadata": {
    "collapsed": true
   },
   "outputs": [],
   "source": [
    "# I think I know what the problem is , for the score, they have to be numpy arrays\n",
    "# with the feature and target variable both of same shape...\n",
    "# about 50% percent just using two featues, that's great becuase if \n",
    "# subtract 70 - 50 that is like only two have about 50 %\n",
    "# two have double the explanatory power than all the other features...yes"
   ]
  },
  {
   "cell_type": "code",
   "execution_count": 498,
   "metadata": {
    "ExecuteTime": {
     "end_time": "2017-12-17T17:49:54.997946Z",
     "start_time": "2017-12-17T17:49:54.990942Z"
    }
   },
   "outputs": [
    {
     "data": {
      "text/plain": [
       "0.55050560354254907"
      ]
     },
     "execution_count": 498,
     "metadata": {},
     "output_type": "execute_result"
    }
   ],
   "source": [
    "# getting there... \n",
    "linermodel.score(test_selected, y_test)"
   ]
  },
  {
   "cell_type": "code",
   "execution_count": 417,
   "metadata": {
    "ExecuteTime": {
     "end_time": "2017-12-17T16:48:42.216484Z",
     "start_time": "2017-12-17T16:48:42.213481Z"
    },
    "collapsed": true
   },
   "outputs": [],
   "source": [
    "# Most used model in machine learning gbm called gradientBoostingMachine,\n",
    "# it has regreesion and classifcation task\n",
    "# let's use Gradient Boosting Regressor \n",
    "from sklearn.ensemble import GradientBoostingRegressor"
   ]
  },
  {
   "cell_type": "code",
   "execution_count": null,
   "metadata": {
    "collapsed": true
   },
   "outputs": [],
   "source": [
    "# there few parameter tuning we need to do, if we need to computer choose for \n",
    "# us we can use gridsearch and pipeline \n",
    "# its useful model, all you need to do is defined some params for each model you are using.. and use gridsearch to find best parameters...\n"
   ]
  },
  {
   "cell_type": "code",
   "execution_count": 421,
   "metadata": {
    "ExecuteTime": {
     "end_time": "2017-12-17T16:52:44.799162Z",
     "start_time": "2017-12-17T16:52:44.789138Z"
    },
    "collapsed": true
   },
   "outputs": [],
   "source": [
    "GradientBoostingRegressor?"
   ]
  },
  {
   "cell_type": "code",
   "execution_count": null,
   "metadata": {
    "collapsed": true
   },
   "outputs": [],
   "source": []
  },
  {
   "cell_type": "code",
   "execution_count": 422,
   "metadata": {
    "ExecuteTime": {
     "end_time": "2017-12-17T16:52:55.348196Z",
     "start_time": "2017-12-17T16:52:55.343192Z"
    },
    "collapsed": true
   },
   "outputs": [],
   "source": [
    "gbr_model = GradientBoostingRegressor(n_estimators= 600, \n",
    "                                      max_depth = 4, \n",
    "                                      min_samples_split = 2, \n",
    "                                      learning_rate = 0.1, \n",
    "                                      loss = 'lad')\n",
    "# we change this parameters..."
   ]
  },
  {
   "cell_type": "code",
   "execution_count": 423,
   "metadata": {
    "ExecuteTime": {
     "end_time": "2017-12-17T16:53:08.649785Z",
     "start_time": "2017-12-17T16:52:58.601629Z"
    }
   },
   "outputs": [
    {
     "data": {
      "text/plain": [
       "GradientBoostingRegressor(alpha=0.9, criterion='friedman_mse', init=None,\n",
       "             learning_rate=0.1, loss='lad', max_depth=4, max_features=None,\n",
       "             max_leaf_nodes=None, min_impurity_decrease=0.0,\n",
       "             min_impurity_split=None, min_samples_leaf=1,\n",
       "             min_samples_split=2, min_weight_fraction_leaf=0.0,\n",
       "             n_estimators=600, presort='auto', random_state=None,\n",
       "             subsample=1.0, verbose=0, warm_start=False)"
      ]
     },
     "execution_count": 423,
     "metadata": {},
     "output_type": "execute_result"
    }
   ],
   "source": [
    "# fit our data\n",
    "gbr_model.fit(X_train, y_train)"
   ]
  },
  {
   "cell_type": "code",
   "execution_count": 424,
   "metadata": {
    "ExecuteTime": {
     "end_time": "2017-12-17T16:53:11.549081Z",
     "start_time": "2017-12-17T16:53:11.485034Z"
    }
   },
   "outputs": [
    {
     "data": {
      "text/plain": [
       "0.86922853275241274"
      ]
     },
     "execution_count": 424,
     "metadata": {},
     "output_type": "execute_result"
    }
   ],
   "source": [
    "# nice! we got score of 88 percent - let's change some parameters..\n",
    "# gridsearch would work best on this case.... instead doing manually\n",
    "gbr_model.score(X_test, y_test)"
   ]
  },
  {
   "cell_type": "code",
   "execution_count": null,
   "metadata": {
    "collapsed": true
   },
   "outputs": [],
   "source": []
  },
  {
   "cell_type": "code",
   "execution_count": null,
   "metadata": {
    "collapsed": true
   },
   "outputs": [],
   "source": []
  },
  {
   "cell_type": "markdown",
   "metadata": {},
   "source": [
    "### Standardize Features"
   ]
  },
  {
   "cell_type": "code",
   "execution_count": 425,
   "metadata": {
    "ExecuteTime": {
     "end_time": "2017-12-17T16:59:02.573434Z",
     "start_time": "2017-12-17T16:59:02.564428Z"
    }
   },
   "outputs": [
    {
     "data": {
      "text/plain": [
       "''"
      ]
     },
     "execution_count": 425,
     "metadata": {},
     "output_type": "execute_result"
    }
   ],
   "source": [
    "# scaling our data, using standardScalr, there are many algorthm out there we can use.\n",
    "from sklearn.grid_search import GridSearchCV\n",
    "from sklearn.preprocessing import LabelEncoder\n",
    "from sklearn.preprocessing import StandardScaler\n",
    ";"
   ]
  },
  {
   "cell_type": "code",
   "execution_count": 426,
   "metadata": {
    "ExecuteTime": {
     "end_time": "2017-12-17T16:59:20.301511Z",
     "start_time": "2017-12-17T16:59:20.282484Z"
    },
    "collapsed": true
   },
   "outputs": [],
   "source": [
    "# fitting our data\n",
    "scaler = StandardScaler().fit(X_train)\n",
    "X_train = scaler.transform(X_train)\n",
    "X_test = scaler.transform(X_test)"
   ]
  },
  {
   "cell_type": "code",
   "execution_count": 429,
   "metadata": {
    "ExecuteTime": {
     "end_time": "2017-12-17T17:00:10.919592Z",
     "start_time": "2017-12-17T17:00:10.912587Z"
    },
    "scrolled": true
   },
   "outputs": [
    {
     "data": {
      "text/plain": [
       "array([[ 0.67740215,  0.17896268, -0.2902756 , ...,  0.19275876,\n",
       "        -0.47391081, -0.12979094],\n",
       "       [-0.3941321 ,  0.50566682, -0.52181284, ...,  0.19275876,\n",
       "        -0.38591932, -0.33901903],\n",
       "       [ 0.67740215,  0.50566682, -0.38950585, ..., -0.70666908,\n",
       "        -0.1659406 , -0.19606816],\n",
       "       ..., \n",
       "       [-0.3941321 ,  0.50566682,  0.05151748, ...,  1.29919776,\n",
       "        -0.42991507, -0.37447827],\n",
       "       [-2.53720059, -1.78126215, -1.86693398, ..., -0.77805224,\n",
       "        -1.19250798,  0.0840784 ],\n",
       "       [ 0.67740215,  0.50566682,  1.16510137, ...,  0.82093058,\n",
       "         1.52056295, -0.25020384]])"
      ]
     },
     "execution_count": 429,
     "metadata": {},
     "output_type": "execute_result"
    }
   ],
   "source": [
    "# it looks its scaled\n",
    "X_train"
   ]
  },
  {
   "cell_type": "code",
   "execution_count": null,
   "metadata": {
    "collapsed": true
   },
   "outputs": [],
   "source": []
  },
  {
   "cell_type": "code",
   "execution_count": null,
   "metadata": {
    "collapsed": true
   },
   "outputs": [],
   "source": []
  },
  {
   "cell_type": "code",
   "execution_count": 430,
   "metadata": {
    "ExecuteTime": {
     "end_time": "2017-12-17T17:00:33.791081Z",
     "start_time": "2017-12-17T17:00:33.775069Z"
    }
   },
   "outputs": [
    {
     "data": {
      "text/plain": [
       "LinearRegression(copy_X=True, fit_intercept=True, n_jobs=1, normalize=False)"
      ]
     },
     "execution_count": 430,
     "metadata": {},
     "output_type": "execute_result"
    }
   ],
   "source": [
    "# Note: It will take time to run first, with scaled data\n",
    "lmode = LinearRegression()\n",
    "lmode.fit(X_train, y_train)"
   ]
  },
  {
   "cell_type": "code",
   "execution_count": 439,
   "metadata": {
    "ExecuteTime": {
     "end_time": "2017-12-17T17:02:57.882672Z",
     "start_time": "2017-12-17T17:02:57.871665Z"
    }
   },
   "outputs": [
    {
     "data": {
      "text/plain": [
       "0.70483562939690447"
      ]
     },
     "execution_count": 439,
     "metadata": {},
     "output_type": "execute_result"
    }
   ],
   "source": [
    "y_pred = lmode.predict(X_test)\n",
    "lmode.score(X_test, y_test)\n",
    "\n",
    "# I don't think it makes better... it gained little.. not even one half...\n"
   ]
  },
  {
   "cell_type": "code",
   "execution_count": null,
   "metadata": {
    "collapsed": true
   },
   "outputs": [],
   "source": [
    "# we can test with gbr"
   ]
  },
  {
   "cell_type": "code",
   "execution_count": 440,
   "metadata": {
    "ExecuteTime": {
     "end_time": "2017-12-17T17:04:18.616039Z",
     "start_time": "2017-12-17T17:04:18.611035Z"
    },
    "collapsed": true
   },
   "outputs": [],
   "source": [
    "# fit our data\n",
    "scaled_gbr = GradientBoostingRegressor(n_estimators= 600, \n",
    "                                      max_depth = 4, \n",
    "                                      min_samples_split = 2, \n",
    "                                      learning_rate = 0.1, \n",
    "                                      loss = 'lad')"
   ]
  },
  {
   "cell_type": "code",
   "execution_count": 441,
   "metadata": {
    "ExecuteTime": {
     "end_time": "2017-12-17T17:04:32.176310Z",
     "start_time": "2017-12-17T17:04:21.175474Z"
    }
   },
   "outputs": [
    {
     "data": {
      "text/plain": [
       "GradientBoostingRegressor(alpha=0.9, criterion='friedman_mse', init=None,\n",
       "             learning_rate=0.1, loss='lad', max_depth=4, max_features=None,\n",
       "             max_leaf_nodes=None, min_impurity_decrease=0.0,\n",
       "             min_impurity_split=None, min_samples_leaf=1,\n",
       "             min_samples_split=2, min_weight_fraction_leaf=0.0,\n",
       "             n_estimators=600, presort='auto', random_state=None,\n",
       "             subsample=1.0, verbose=0, warm_start=False)"
      ]
     },
     "execution_count": 441,
     "metadata": {},
     "output_type": "execute_result"
    }
   ],
   "source": [
    "scaled_gbr.fit(X_train, y_train)"
   ]
  },
  {
   "cell_type": "code",
   "execution_count": 442,
   "metadata": {
    "ExecuteTime": {
     "end_time": "2017-12-17T17:04:42.624894Z",
     "start_time": "2017-12-17T17:04:42.561831Z"
    }
   },
   "outputs": [
    {
     "data": {
      "text/plain": [
       "0.86885038819147331"
      ]
     },
     "execution_count": 442,
     "metadata": {},
     "output_type": "execute_result"
    }
   ],
   "source": [
    "# so the take home here, some data is better to use scaled, other not...\n",
    "scaled_gbr.score(X_test, y_test)"
   ]
  },
  {
   "cell_type": "code",
   "execution_count": 445,
   "metadata": {
    "ExecuteTime": {
     "end_time": "2017-12-17T17:21:47.589813Z",
     "start_time": "2017-12-17T17:21:47.583812Z"
    }
   },
   "outputs": [
    {
     "data": {
      "text/plain": [
       "Index(['id', 'date', 'price', 'bedrooms', 'bathrooms', 'sqft_living',\n",
       "       'sqft_lot', 'floors', 'waterfront', 'view', 'condition', 'grade',\n",
       "       'sqft_above', 'sqft_basement', 'yr_built', 'yr_renovated', 'zipcode',\n",
       "       'lat', 'long', 'sqft_living15', 'sqft_lot15'],\n",
       "      dtype='object')"
      ]
     },
     "execution_count": 445,
     "metadata": {},
     "output_type": "execute_result"
    }
   ],
   "source": [
    "ldata.columns"
   ]
  },
  {
   "cell_type": "code",
   "execution_count": 450,
   "metadata": {
    "ExecuteTime": {
     "end_time": "2017-12-17T17:31:00.738976Z",
     "start_time": "2017-12-17T17:30:59.380030Z"
    }
   },
   "outputs": [
    {
     "data": {
      "image/png": "[encoded data removed]",
      "text/plain": [
       "<matplotlib.figure.Figure at 0x1ea650f5320>"
      ]
     },
     "metadata": {},
     "output_type": "display_data"
    }
   ],
   "source": [
    "# this is a correlation matrix, do you find it not useful?\n",
    "\n",
    "from string import ascii_letters\n",
    "sns.set(rc={\"figure.figsize\": (16, 10)})\n",
    "\n",
    "sns.set_style(\"ticks\", {\"xtick.major.size\": 6, \"ytick.major.size\": 6})\n",
    "\n",
    "\n",
    "correlation = ldata.corr()\n",
    "sns.heatmap(correlation, annot=True, cmap=\"YlGnBu\")\n",
    "plt.show()\n",
    "\n",
    "# maybe you can replace df with our current dataframe including the features\n",
    "# we have right now, after you done all the cleaning and transforming at beginning"
   ]
  },
  {
   "cell_type": "code",
   "execution_count": 503,
   "metadata": {
    "ExecuteTime": {
     "end_time": "2017-12-17T18:01:41.164304Z",
     "start_time": "2017-12-17T18:01:39.835360Z"
    }
   },
   "outputs": [
    {
     "data": {
      "text/plain": [
       "RandomForestRegressor(bootstrap=True, criterion='mse', max_depth=None,\n",
       "           max_features='auto', max_leaf_nodes=None,\n",
       "           min_impurity_decrease=0.0, min_impurity_split=None,\n",
       "           min_samples_leaf=1, min_samples_split=2,\n",
       "           min_weight_fraction_leaf=0.0, n_estimators=10, n_jobs=1,\n",
       "           oob_score=False, random_state=None, verbose=0, warm_start=False)"
      ]
     },
     "execution_count": 503,
     "metadata": {},
     "output_type": "execute_result"
    }
   ],
   "source": [
    "# let's find feature importances\n",
    "from sklearn.ensemble import RandomForestRegressor\n",
    "# my one of my favariate model RFR\n",
    "\n",
    "feature_n = X_train.columns\n",
    "\n",
    "rf = RandomForestRegressor()\n",
    "rf.fit(X_train, y_train)"
   ]
  },
  {
   "cell_type": "code",
   "execution_count": 504,
   "metadata": {
    "ExecuteTime": {
     "end_time": "2017-12-17T18:01:42.115849Z",
     "start_time": "2017-12-17T18:01:42.104845Z"
    }
   },
   "outputs": [
    {
     "name": "stdout",
     "output_type": "stream",
     "text": [
      "Features sorted by their score: \n",
      "[(0.33200000000000002, 'grade'), (0.251, 'sqft_living'), (0.14899999999999999, 'lat'), (0.064000000000000001, 'long'), (0.041000000000000002, 'yr_built'), (0.032000000000000001, 'sqft_living15'), (0.031, 'waterfront'), (0.024, 'sqft_above'), (0.014999999999999999, 'zipcode'), (0.014999999999999999, 'sqft_lot15'), (0.014, 'sqft_lot'), (0.0089999999999999993, 'view'), (0.0070000000000000001, 'bathrooms'), (0.0050000000000000001, 'sqft_basement'), (0.0030000000000000001, 'yr_renovated'), (0.0030000000000000001, 'floors'), (0.0030000000000000001, 'condition'), (0.0030000000000000001, 'bedrooms')]\n"
     ]
    }
   ],
   "source": [
    "print(\"Features sorted by their score: \")\n",
    "print(sorted(zip(map(lambda x: round(x, 3), rf.feature_importances_), feature_n),  reverse=True))\n",
    "# this says that sqft_above is not that important.\n",
    "# but why is price in there, oohh I see, because we took the whole ldata without excluding price.\n",
    "# would the scores change if we exclude our target variable?\n",
    "# you are right, always don't get target outputs to the machine....\n",
    "# now, makes sense, amazing, I am learning so much :)\n",
    "# but question is, what if features are similar in their meaning? Does it make sense to include them?\n",
    "# for example, grade, it measures quality of the house, what if its value is determined by PCA\n",
    "# principle component analysis and its value comes from sqft_living, waterfront and other features...\n",
    "# here is the burning question, should some features be mutually exclusive?\n",
    "# like for example you have 2 features that both measure income-household wealth\n",
    "# would it make sense to include both in our model, or better to select the one that has higher score and leave other?\n",
    "# Good question, if we have similar features measuing similar observations, then its better to take or find interactive \n",
    "# between the two features and use that in your model. Absolutely, that's called nested model\n",
    "# when some features explain each other and then you need to model this relationship and somehow\n",
    "# correct for it in the main model... nice, yeah.\n",
    "# give a sec, sure no problem.\n",
    "# what task should we cover next, pca or arima?\n",
    "# I think pca, because we have little domain knowledge with this dataset,\n",
    "# we need to dig deeper into the feature relationships to arrive at final selection of features that give best score.\n",
    "# What do you think? I was thinking the same thing.."
   ]
  },
  {
   "cell_type": "code",
   "execution_count": null,
   "metadata": {
    "collapsed": true
   },
   "outputs": [],
   "source": []
  },
  {
   "cell_type": "markdown",
   "metadata": {},
   "source": [
    "### Applying PCA to the data for visualization"
   ]
  },
  {
   "cell_type": "code",
   "execution_count": 528,
   "metadata": {
    "ExecuteTime": {
     "end_time": "2017-12-17T18:36:25.943669Z",
     "start_time": "2017-12-17T18:36:25.876617Z"
    }
   },
   "outputs": [
    {
     "data": {
      "text/plain": [
       "PCA(copy=True, iterated_power='auto', n_components=2, random_state=None,\n",
       "  svd_solver='auto', tol=0.0, whiten=False)"
      ]
     },
     "execution_count": 528,
     "metadata": {},
     "output_type": "execute_result"
    }
   ],
   "source": [
    "from sklearn.decomposition import PCA\n",
    "# let's stick with 2-d, it will produce two features that explains everything in our data\n",
    "pca = PCA(n_components=2)\n",
    "# fit pca model to our data\n",
    "# it might be useful to scale our data\n",
    "pca.fit(X)"
   ]
  },
  {
   "cell_type": "code",
   "execution_count": 529,
   "metadata": {
    "ExecuteTime": {
     "end_time": "2017-12-17T18:36:28.103443Z",
     "start_time": "2017-12-17T18:36:28.093441Z"
    }
   },
   "outputs": [
    {
     "name": "stdout",
     "output_type": "stream",
     "text": [
      "Original Shape: (16209, 18)\n",
      "Reduced Shape: (16209, 2)\n"
     ]
    }
   ],
   "source": [
    "# now transform data into first two principal components\n",
    "X_pca = pca.transform(X_train)\n",
    "print(\"Original Shape: {}\".format(str(X_train.shape)))\n",
    "print(\"Reduced Shape: {}\".format(str(X_pca.shape)))"
   ]
  },
  {
   "cell_type": "code",
   "execution_count": 530,
   "metadata": {
    "ExecuteTime": {
     "end_time": "2017-12-17T18:36:30.672171Z",
     "start_time": "2017-12-17T18:36:30.668183Z"
    },
    "collapsed": true
   },
   "outputs": [],
   "source": [
    "# so this means we have 2 columns, i.e., the two principal components that explain most of our datapoints? yes..\n"
   ]
  },
  {
   "cell_type": "code",
   "execution_count": 531,
   "metadata": {
    "ExecuteTime": {
     "end_time": "2017-12-17T18:36:31.380436Z",
     "start_time": "2017-12-17T18:36:31.376432Z"
    },
    "collapsed": true
   },
   "outputs": [],
   "source": [
    "plt.style.use('seaborn')"
   ]
  },
  {
   "cell_type": "code",
   "execution_count": 532,
   "metadata": {
    "ExecuteTime": {
     "end_time": "2017-12-17T18:36:32.369350Z",
     "start_time": "2017-12-17T18:36:32.363348Z"
    }
   },
   "outputs": [
    {
     "data": {
      "text/plain": [
       "array([ -6845.7478407 , -15239.8325374 ,  -8250.62194607, ...,\n",
       "       -13975.36097606,    995.43593847, -11252.44350935])"
      ]
     },
     "execution_count": 532,
     "metadata": {},
     "output_type": "execute_result"
    }
   ],
   "source": [
    "X_pca[:, 0]"
   ]
  },
  {
   "cell_type": "code",
   "execution_count": null,
   "metadata": {
    "collapsed": true
   },
   "outputs": [],
   "source": []
  },
  {
   "cell_type": "code",
   "execution_count": 533,
   "metadata": {
    "ExecuteTime": {
     "end_time": "2017-12-17T18:36:42.441616Z",
     "start_time": "2017-12-17T18:36:34.589269Z"
    }
   },
   "outputs": [
    {
     "data": {
      "image/png": "[encoded data removed]",
      "text/plain": [
       "<matplotlib.figure.Figure at 0x1ea657275f8>"
      ]
     },
     "metadata": {},
     "output_type": "display_data"
    },
    {
     "data": {
      "text/plain": [
       "';'"
      ]
     },
     "execution_count": 533,
     "metadata": {},
     "output_type": "execute_result"
    }
   ],
   "source": [
    "# let's plot our pca\n",
    "# I don't why its not showing..\n",
    "# no problem bro, let's continue this session tomorrow inshaAllah\n",
    "# what is your availability?\n",
    "# I usualy have study time early morning around 7am to 12pm, I'll be availeble on that time...\n",
    "\n",
    "# I think in your time zone, will be around 4pm, yes bro, I am back from work around 7-8pm\n",
    "# no problem, I \n",
    "plt.figure(figsize=(8,8))\n",
    "plt.scatter(X_pca[:, 0], X_pca[:, 1], y)\n",
    "plt.legend(feature_n, loc=\"best\")\n",
    "plt.xlabel(\"First principal component\")\n",
    "plt.ylabel(\"Second principal component\")\n",
    "plt.show()\n",
    ";;"
   ]
  },
  {
   "cell_type": "code",
   "execution_count": null,
   "metadata": {
    "collapsed": true
   },
   "outputs": [],
   "source": [
    "# bro use this style please\n",
    "# plt.style.use('ggplot'). sorry to interject, yes plt. s"
   ]
  },
  {
   "cell_type": "code",
   "execution_count": null,
   "metadata": {
    "collapsed": true
   },
   "outputs": [],
   "source": []
  },
  {
   "cell_type": "code",
   "execution_count": 448,
   "metadata": {
    "ExecuteTime": {
     "end_time": "2017-12-17T17:22:49.932656Z",
     "start_time": "2017-12-17T17:22:49.905657Z"
    }
   },
   "outputs": [
    {
     "data": {
      "text/html": [
       "<div>\n",
       "<style>\n",
       "    .dataframe thead tr:only-child th {\n",
       "        text-align: right;\n",
       "    }\n",
       "\n",
       "    .dataframe thead th {\n",
       "        text-align: left;\n",
       "    }\n",
       "\n",
       "    .dataframe tbody tr th {\n",
       "        vertical-align: top;\n",
       "    }\n",
       "</style>\n",
       "<table border=\"1\" class=\"dataframe\">\n",
       "  <thead>\n",
       "    <tr style=\"text-align: right;\">\n",
       "      <th></th>\n",
       "      <th>bedrooms</th>\n",
       "      <th>bathrooms</th>\n",
       "      <th>sqft_living</th>\n",
       "      <th>sqft_lot</th>\n",
       "      <th>floors</th>\n",
       "      <th>waterfront</th>\n",
       "      <th>view</th>\n",
       "      <th>condition</th>\n",
       "      <th>grade</th>\n",
       "      <th>sqft_above</th>\n",
       "      <th>sqft_basement</th>\n",
       "      <th>yr_built</th>\n",
       "      <th>yr_renovated</th>\n",
       "      <th>zipcode</th>\n",
       "      <th>lat</th>\n",
       "      <th>long</th>\n",
       "      <th>sqft_living15</th>\n",
       "      <th>sqft_lot15</th>\n",
       "    </tr>\n",
       "  </thead>\n",
       "  <tbody>\n",
       "    <tr>\n",
       "      <th>0</th>\n",
       "      <td>3</td>\n",
       "      <td>1.00</td>\n",
       "      <td>1180</td>\n",
       "      <td>5650</td>\n",
       "      <td>1.0</td>\n",
       "      <td>0</td>\n",
       "      <td>0</td>\n",
       "      <td>3</td>\n",
       "      <td>7</td>\n",
       "      <td>1180</td>\n",
       "      <td>0</td>\n",
       "      <td>1955</td>\n",
       "      <td>0</td>\n",
       "      <td>98178</td>\n",
       "      <td>47.5112</td>\n",
       "      <td>-122.257</td>\n",
       "      <td>1340</td>\n",
       "      <td>5650</td>\n",
       "    </tr>\n",
       "    <tr>\n",
       "      <th>1</th>\n",
       "      <td>3</td>\n",
       "      <td>2.25</td>\n",
       "      <td>2570</td>\n",
       "      <td>7242</td>\n",
       "      <td>2.0</td>\n",
       "      <td>0</td>\n",
       "      <td>0</td>\n",
       "      <td>3</td>\n",
       "      <td>7</td>\n",
       "      <td>2170</td>\n",
       "      <td>400</td>\n",
       "      <td>1951</td>\n",
       "      <td>1991</td>\n",
       "      <td>98125</td>\n",
       "      <td>47.7210</td>\n",
       "      <td>-122.319</td>\n",
       "      <td>1690</td>\n",
       "      <td>7639</td>\n",
       "    </tr>\n",
       "    <tr>\n",
       "      <th>2</th>\n",
       "      <td>2</td>\n",
       "      <td>1.00</td>\n",
       "      <td>770</td>\n",
       "      <td>10000</td>\n",
       "      <td>1.0</td>\n",
       "      <td>0</td>\n",
       "      <td>0</td>\n",
       "      <td>3</td>\n",
       "      <td>6</td>\n",
       "      <td>770</td>\n",
       "      <td>0</td>\n",
       "      <td>1933</td>\n",
       "      <td>0</td>\n",
       "      <td>98028</td>\n",
       "      <td>47.7379</td>\n",
       "      <td>-122.233</td>\n",
       "      <td>2720</td>\n",
       "      <td>8062</td>\n",
       "    </tr>\n",
       "    <tr>\n",
       "      <th>3</th>\n",
       "      <td>4</td>\n",
       "      <td>3.00</td>\n",
       "      <td>1960</td>\n",
       "      <td>5000</td>\n",
       "      <td>1.0</td>\n",
       "      <td>0</td>\n",
       "      <td>0</td>\n",
       "      <td>5</td>\n",
       "      <td>7</td>\n",
       "      <td>1050</td>\n",
       "      <td>910</td>\n",
       "      <td>1965</td>\n",
       "      <td>0</td>\n",
       "      <td>98136</td>\n",
       "      <td>47.5208</td>\n",
       "      <td>-122.393</td>\n",
       "      <td>1360</td>\n",
       "      <td>5000</td>\n",
       "    </tr>\n",
       "    <tr>\n",
       "      <th>4</th>\n",
       "      <td>3</td>\n",
       "      <td>2.00</td>\n",
       "      <td>1680</td>\n",
       "      <td>8080</td>\n",
       "      <td>1.0</td>\n",
       "      <td>0</td>\n",
       "      <td>0</td>\n",
       "      <td>3</td>\n",
       "      <td>8</td>\n",
       "      <td>1680</td>\n",
       "      <td>0</td>\n",
       "      <td>1987</td>\n",
       "      <td>0</td>\n",
       "      <td>98074</td>\n",
       "      <td>47.6168</td>\n",
       "      <td>-122.045</td>\n",
       "      <td>1800</td>\n",
       "      <td>7503</td>\n",
       "    </tr>\n",
       "  </tbody>\n",
       "</table>\n",
       "</div>"
      ],
      "text/plain": [
       "   bedrooms  bathrooms  sqft_living  sqft_lot  floors  waterfront  view  \\\n",
       "0         3       1.00         1180      5650     1.0           0     0   \n",
       "1         3       2.25         2570      7242     2.0           0     0   \n",
       "2         2       1.00          770     10000     1.0           0     0   \n",
       "3         4       3.00         1960      5000     1.0           0     0   \n",
       "4         3       2.00         1680      8080     1.0           0     0   \n",
       "\n",
       "   condition  grade  sqft_above  sqft_basement  yr_built  yr_renovated  \\\n",
       "0          3      7        1180              0      1955             0   \n",
       "1          3      7        2170            400      1951          1991   \n",
       "2          3      6         770              0      1933             0   \n",
       "3          5      7        1050            910      1965             0   \n",
       "4          3      8        1680              0      1987             0   \n",
       "\n",
       "   zipcode      lat     long  sqft_living15  sqft_lot15  \n",
       "0    98178  47.5112 -122.257           1340        5650  \n",
       "1    98125  47.7210 -122.319           1690        7639  \n",
       "2    98028  47.7379 -122.233           2720        8062  \n",
       "3    98136  47.5208 -122.393           1360        5000  \n",
       "4    98074  47.6168 -122.045           1800        7503  "
      ]
     },
     "execution_count": 448,
     "metadata": {},
     "output_type": "execute_result"
    }
   ],
   "source": []
  },
  {
   "cell_type": "code",
   "execution_count": 447,
   "metadata": {
    "ExecuteTime": {
     "end_time": "2017-12-17T17:22:17.250812Z",
     "start_time": "2017-12-17T17:22:17.221791Z"
    },
    "scrolled": true
   },
   "outputs": [
    {
     "name": "stdout",
     "output_type": "stream",
     "text": [
      "[ True  True  True  True  True  True  True  True  True  True  True  True\n",
      "  True  True  True  True  True  True]\n",
      "[1 1 1 1 1 1 1 1 1 1 1 1 1 1 1 1 1 1]\n"
     ]
    }
   ],
   "source": [
    "#from sklearn import datasets\n",
    "# simple feature selection method is use RFE,\n",
    "# it just tells you a boolean way if some features is important to use\n",
    "from sklearn.feature_selection import RFE\n",
    "#from sklearn.linear_model import LogisticRegression\n",
    "almode = LinearRegression()\n",
    "rfe = RFE(almode, 21)\n",
    "rfe = rfe.fit(X, y )\n",
    "print(rfe.support_)\n",
    "print(rfe.ranking_)\n",
    "# it telling us, all of our features is good to use..."
   ]
  },
  {
   "cell_type": "code",
   "execution_count": null,
   "metadata": {
    "collapsed": true
   },
   "outputs": [],
   "source": [
    "#Logistic Regression Model Fitting\n",
    "#X_train, X_test, y_train, y_test = train_test_split(X, y, test_size=0.3, random_state=0)\n",
    "#from sklearn.linear_model import LogisticRegression\n",
    "#from sklearn import metrics\n",
    "#logreg = LogisticRegression()\n",
    "#logreg.fit(X_train, y_train)\n",
    "\n",
    "#y_pred = logreg.predict(X_test)\n",
    "#print('Accuracy of logistic regression classifier on test set: {:.2f}'.format(logreg.score(X_test, y_test)))"
   ]
  },
  {
   "cell_type": "markdown",
   "metadata": {},
   "source": [
    "### Confusion Matrix"
   ]
  },
  {
   "cell_type": "code",
   "execution_count": 284,
   "metadata": {
    "ExecuteTime": {
     "end_time": "2017-12-16T20:06:56.005589Z",
     "start_time": "2017-12-16T20:06:56.000584Z"
    },
    "collapsed": true
   },
   "outputs": [],
   "source": [
    "#from sklearn.metrics import confusion_matrix\n",
    "#confusion_matrix = confusion_matrix(y_test, y_pred)\n",
    "#print(confusion_matrix)"
   ]
  },
  {
   "cell_type": "code",
   "execution_count": null,
   "metadata": {
    "collapsed": true
   },
   "outputs": [],
   "source": []
  },
  {
   "cell_type": "code",
   "execution_count": null,
   "metadata": {
    "collapsed": true
   },
   "outputs": [],
   "source": []
  },
  {
   "cell_type": "code",
   "execution_count": null,
   "metadata": {
    "collapsed": true
   },
   "outputs": [],
   "source": []
  },
  {
   "cell_type": "markdown",
   "metadata": {},
   "source": [
    "## Fitting Logistic Regression with scaling and feature selections\n",
    "Again, we'll the process on above, this time applying feature scaling and only using important features"
   ]
  },
  {
   "cell_type": "code",
   "execution_count": null,
   "metadata": {
    "collapsed": true
   },
   "outputs": [],
   "source": []
  },
  {
   "cell_type": "code",
   "execution_count": null,
   "metadata": {
    "collapsed": true
   },
   "outputs": [],
   "source": []
  },
  {
   "cell_type": "markdown",
   "metadata": {},
   "source": [
    "##  Feature engineering - adding more data\n",
    "In this section we'll focus on adding more data into our existing dataset, this requires domain knowledge or we could use polynomial feature selection to for us.\n",
    "\n",
    "http://scikit-learn.org/stable/modules/generated/sklearn.preprocessing.PolynomialFeatures.html"
   ]
  },
  {
   "cell_type": "code",
   "execution_count": null,
   "metadata": {
    "collapsed": true
   },
   "outputs": [],
   "source": []
  },
  {
   "cell_type": "code",
   "execution_count": null,
   "metadata": {
    "collapsed": true
   },
   "outputs": [],
   "source": []
  },
  {
   "cell_type": "markdown",
   "metadata": {},
   "source": [
    "## Implement ARIMA Model\n",
    "We'll implement arima model for time-series predictions."
   ]
  },
  {
   "cell_type": "code",
   "execution_count": null,
   "metadata": {
    "collapsed": true
   },
   "outputs": [],
   "source": []
  },
  {
   "cell_type": "code",
   "execution_count": null,
   "metadata": {
    "collapsed": true
   },
   "outputs": [],
   "source": []
  },
  {
   "cell_type": "code",
   "execution_count": 160,
   "metadata": {
    "ExecuteTime": {
     "end_time": "2017-12-16T16:46:11.019903Z",
     "start_time": "2017-12-16T16:46:11.013898Z"
    },
    "collapsed": true
   },
   "outputs": [],
   "source": [
    "# Import modules\n",
    "import pandas as pd\n",
    "import numpy as np\n",
    "import matplotlib.pyplot as plt\n",
    "import seaborn as sns\n",
    "path = \"data/kc_house_data.csv\""
   ]
  },
  {
   "cell_type": "code",
   "execution_count": 163,
   "metadata": {
    "ExecuteTime": {
     "end_time": "2017-12-16T16:52:17.398205Z",
     "start_time": "2017-12-16T16:52:17.394207Z"
    },
    "collapsed": true
   },
   "outputs": [],
   "source": [
    "# little handy function that loads our data\n",
    "def load_data(path):\n",
    "    df = pd.read_csv(path)\n",
    "    return df"
   ]
  },
  {
   "cell_type": "code",
   "execution_count": 246,
   "metadata": {
    "ExecuteTime": {
     "end_time": "2017-12-16T19:21:50.719371Z",
     "start_time": "2017-12-16T19:21:50.633802Z"
    },
    "collapsed": true
   },
   "outputs": [],
   "source": [
    "df = load_data(path)\n",
    "#df"
   ]
  },
  {
   "cell_type": "code",
   "execution_count": 165,
   "metadata": {
    "ExecuteTime": {
     "end_time": "2017-12-16T16:53:35.774105Z",
     "start_time": "2017-12-16T16:53:35.769102Z"
    }
   },
   "outputs": [
    {
     "data": {
      "text/plain": [
       "pandas.core.series.Series"
      ]
     },
     "execution_count": 165,
     "metadata": {},
     "output_type": "execute_result"
    }
   ],
   "source": [
    "type(df.date)"
   ]
  },
  {
   "cell_type": "code",
   "execution_count": 168,
   "metadata": {
    "ExecuteTime": {
     "end_time": "2017-12-16T16:53:42.732470Z",
     "start_time": "2017-12-16T16:53:42.727482Z"
    },
    "collapsed": true
   },
   "outputs": [],
   "source": [
    "# format our date\n",
    "def format_date(df):\n",
    "    df['date'] = df['date'].apply(lambda x:pd.datetime.strptime(x,'%Y%M%d'))\n",
    "    return df.head()"
   ]
  },
  {
   "cell_type": "code",
   "execution_count": 247,
   "metadata": {
    "ExecuteTime": {
     "end_time": "2017-12-16T19:21:57.652012Z",
     "start_time": "2017-12-16T19:21:57.619971Z"
    }
   },
   "outputs": [
    {
     "ename": "ValueError",
     "evalue": "unconverted data remains: T000000",
     "output_type": "error",
     "traceback": [
      "\u001b[1;31m---------------------------------------------------------------------------\u001b[0m",
      "\u001b[1;31mValueError\u001b[0m                                Traceback (most recent call last)",
      "\u001b[1;32m<ipython-input-247-fcf2ac33bd13>\u001b[0m in \u001b[0;36m<module>\u001b[1;34m()\u001b[0m\n\u001b[1;32m----> 1\u001b[1;33m \u001b[0mformat_date\u001b[0m\u001b[1;33m(\u001b[0m\u001b[0mdf\u001b[0m\u001b[1;33m)\u001b[0m\u001b[1;33m\u001b[0m\u001b[0m\n\u001b[0m\u001b[0;32m      2\u001b[0m \u001b[1;31m#df.date\u001b[0m\u001b[1;33m\u001b[0m\u001b[1;33m\u001b[0m\u001b[0m\n",
      "\u001b[1;32m<ipython-input-168-f5072a4d6b39>\u001b[0m in \u001b[0;36mformat_date\u001b[1;34m(df)\u001b[0m\n\u001b[0;32m      1\u001b[0m \u001b[1;31m# format our date\u001b[0m\u001b[1;33m\u001b[0m\u001b[1;33m\u001b[0m\u001b[0m\n\u001b[0;32m      2\u001b[0m \u001b[1;32mdef\u001b[0m \u001b[0mformat_date\u001b[0m\u001b[1;33m(\u001b[0m\u001b[0mdf\u001b[0m\u001b[1;33m)\u001b[0m\u001b[1;33m:\u001b[0m\u001b[1;33m\u001b[0m\u001b[0m\n\u001b[1;32m----> 3\u001b[1;33m     \u001b[0mdf\u001b[0m\u001b[1;33m[\u001b[0m\u001b[1;34m'date'\u001b[0m\u001b[1;33m]\u001b[0m \u001b[1;33m=\u001b[0m \u001b[0mdf\u001b[0m\u001b[1;33m[\u001b[0m\u001b[1;34m'date'\u001b[0m\u001b[1;33m]\u001b[0m\u001b[1;33m.\u001b[0m\u001b[0mapply\u001b[0m\u001b[1;33m(\u001b[0m\u001b[1;32mlambda\u001b[0m \u001b[0mx\u001b[0m\u001b[1;33m:\u001b[0m\u001b[0mpd\u001b[0m\u001b[1;33m.\u001b[0m\u001b[0mdatetime\u001b[0m\u001b[1;33m.\u001b[0m\u001b[0mstrptime\u001b[0m\u001b[1;33m(\u001b[0m\u001b[0mx\u001b[0m\u001b[1;33m,\u001b[0m\u001b[1;34m'%Y%M%d'\u001b[0m\u001b[1;33m)\u001b[0m\u001b[1;33m)\u001b[0m\u001b[1;33m\u001b[0m\u001b[0m\n\u001b[0m\u001b[0;32m      4\u001b[0m     \u001b[1;32mreturn\u001b[0m \u001b[0mdf\u001b[0m\u001b[1;33m.\u001b[0m\u001b[0mhead\u001b[0m\u001b[1;33m(\u001b[0m\u001b[1;33m)\u001b[0m\u001b[1;33m\u001b[0m\u001b[0m\n",
      "\u001b[1;32mC:\\ProgramData\\Anaconda3\\lib\\site-packages\\pandas\\core\\series.py\u001b[0m in \u001b[0;36mapply\u001b[1;34m(self, func, convert_dtype, args, **kwds)\u001b[0m\n\u001b[0;32m   2353\u001b[0m             \u001b[1;32melse\u001b[0m\u001b[1;33m:\u001b[0m\u001b[1;33m\u001b[0m\u001b[0m\n\u001b[0;32m   2354\u001b[0m                 \u001b[0mvalues\u001b[0m \u001b[1;33m=\u001b[0m \u001b[0mself\u001b[0m\u001b[1;33m.\u001b[0m\u001b[0masobject\u001b[0m\u001b[1;33m\u001b[0m\u001b[0m\n\u001b[1;32m-> 2355\u001b[1;33m                 \u001b[0mmapped\u001b[0m \u001b[1;33m=\u001b[0m \u001b[0mlib\u001b[0m\u001b[1;33m.\u001b[0m\u001b[0mmap_infer\u001b[0m\u001b[1;33m(\u001b[0m\u001b[0mvalues\u001b[0m\u001b[1;33m,\u001b[0m \u001b[0mf\u001b[0m\u001b[1;33m,\u001b[0m \u001b[0mconvert\u001b[0m\u001b[1;33m=\u001b[0m\u001b[0mconvert_dtype\u001b[0m\u001b[1;33m)\u001b[0m\u001b[1;33m\u001b[0m\u001b[0m\n\u001b[0m\u001b[0;32m   2356\u001b[0m \u001b[1;33m\u001b[0m\u001b[0m\n\u001b[0;32m   2357\u001b[0m         \u001b[1;32mif\u001b[0m \u001b[0mlen\u001b[0m\u001b[1;33m(\u001b[0m\u001b[0mmapped\u001b[0m\u001b[1;33m)\u001b[0m \u001b[1;32mand\u001b[0m \u001b[0misinstance\u001b[0m\u001b[1;33m(\u001b[0m\u001b[0mmapped\u001b[0m\u001b[1;33m[\u001b[0m\u001b[1;36m0\u001b[0m\u001b[1;33m]\u001b[0m\u001b[1;33m,\u001b[0m \u001b[0mSeries\u001b[0m\u001b[1;33m)\u001b[0m\u001b[1;33m:\u001b[0m\u001b[1;33m\u001b[0m\u001b[0m\n",
      "\u001b[1;32mpandas/_libs/src\\inference.pyx\u001b[0m in \u001b[0;36mpandas._libs.lib.map_infer\u001b[1;34m()\u001b[0m\n",
      "\u001b[1;32m<ipython-input-168-f5072a4d6b39>\u001b[0m in \u001b[0;36m<lambda>\u001b[1;34m(x)\u001b[0m\n\u001b[0;32m      1\u001b[0m \u001b[1;31m# format our date\u001b[0m\u001b[1;33m\u001b[0m\u001b[1;33m\u001b[0m\u001b[0m\n\u001b[0;32m      2\u001b[0m \u001b[1;32mdef\u001b[0m \u001b[0mformat_date\u001b[0m\u001b[1;33m(\u001b[0m\u001b[0mdf\u001b[0m\u001b[1;33m)\u001b[0m\u001b[1;33m:\u001b[0m\u001b[1;33m\u001b[0m\u001b[0m\n\u001b[1;32m----> 3\u001b[1;33m     \u001b[0mdf\u001b[0m\u001b[1;33m[\u001b[0m\u001b[1;34m'date'\u001b[0m\u001b[1;33m]\u001b[0m \u001b[1;33m=\u001b[0m \u001b[0mdf\u001b[0m\u001b[1;33m[\u001b[0m\u001b[1;34m'date'\u001b[0m\u001b[1;33m]\u001b[0m\u001b[1;33m.\u001b[0m\u001b[0mapply\u001b[0m\u001b[1;33m(\u001b[0m\u001b[1;32mlambda\u001b[0m \u001b[0mx\u001b[0m\u001b[1;33m:\u001b[0m\u001b[0mpd\u001b[0m\u001b[1;33m.\u001b[0m\u001b[0mdatetime\u001b[0m\u001b[1;33m.\u001b[0m\u001b[0mstrptime\u001b[0m\u001b[1;33m(\u001b[0m\u001b[0mx\u001b[0m\u001b[1;33m,\u001b[0m\u001b[1;34m'%Y%M%d'\u001b[0m\u001b[1;33m)\u001b[0m\u001b[1;33m)\u001b[0m\u001b[1;33m\u001b[0m\u001b[0m\n\u001b[0m\u001b[0;32m      4\u001b[0m     \u001b[1;32mreturn\u001b[0m \u001b[0mdf\u001b[0m\u001b[1;33m.\u001b[0m\u001b[0mhead\u001b[0m\u001b[1;33m(\u001b[0m\u001b[1;33m)\u001b[0m\u001b[1;33m\u001b[0m\u001b[0m\n",
      "\u001b[1;32mC:\\ProgramData\\Anaconda3\\lib\\_strptime.py\u001b[0m in \u001b[0;36m_strptime_datetime\u001b[1;34m(cls, data_string, format)\u001b[0m\n\u001b[0;32m    563\u001b[0m     \"\"\"Return a class cls instance based on the input string and the\n\u001b[0;32m    564\u001b[0m     format string.\"\"\"\n\u001b[1;32m--> 565\u001b[1;33m     \u001b[0mtt\u001b[0m\u001b[1;33m,\u001b[0m \u001b[0mfraction\u001b[0m \u001b[1;33m=\u001b[0m \u001b[0m_strptime\u001b[0m\u001b[1;33m(\u001b[0m\u001b[0mdata_string\u001b[0m\u001b[1;33m,\u001b[0m \u001b[0mformat\u001b[0m\u001b[1;33m)\u001b[0m\u001b[1;33m\u001b[0m\u001b[0m\n\u001b[0m\u001b[0;32m    566\u001b[0m     \u001b[0mtzname\u001b[0m\u001b[1;33m,\u001b[0m \u001b[0mgmtoff\u001b[0m \u001b[1;33m=\u001b[0m \u001b[0mtt\u001b[0m\u001b[1;33m[\u001b[0m\u001b[1;33m-\u001b[0m\u001b[1;36m2\u001b[0m\u001b[1;33m:\u001b[0m\u001b[1;33m]\u001b[0m\u001b[1;33m\u001b[0m\u001b[0m\n\u001b[0;32m    567\u001b[0m     \u001b[0margs\u001b[0m \u001b[1;33m=\u001b[0m \u001b[0mtt\u001b[0m\u001b[1;33m[\u001b[0m\u001b[1;33m:\u001b[0m\u001b[1;36m6\u001b[0m\u001b[1;33m]\u001b[0m \u001b[1;33m+\u001b[0m \u001b[1;33m(\u001b[0m\u001b[0mfraction\u001b[0m\u001b[1;33m,\u001b[0m\u001b[1;33m)\u001b[0m\u001b[1;33m\u001b[0m\u001b[0m\n",
      "\u001b[1;32mC:\\ProgramData\\Anaconda3\\lib\\_strptime.py\u001b[0m in \u001b[0;36m_strptime\u001b[1;34m(data_string, format)\u001b[0m\n\u001b[0;32m    363\u001b[0m     \u001b[1;32mif\u001b[0m \u001b[0mlen\u001b[0m\u001b[1;33m(\u001b[0m\u001b[0mdata_string\u001b[0m\u001b[1;33m)\u001b[0m \u001b[1;33m!=\u001b[0m \u001b[0mfound\u001b[0m\u001b[1;33m.\u001b[0m\u001b[0mend\u001b[0m\u001b[1;33m(\u001b[0m\u001b[1;33m)\u001b[0m\u001b[1;33m:\u001b[0m\u001b[1;33m\u001b[0m\u001b[0m\n\u001b[0;32m    364\u001b[0m         raise ValueError(\"unconverted data remains: %s\" %\n\u001b[1;32m--> 365\u001b[1;33m                           data_string[found.end():])\n\u001b[0m\u001b[0;32m    366\u001b[0m \u001b[1;33m\u001b[0m\u001b[0m\n\u001b[0;32m    367\u001b[0m     \u001b[0miso_year\u001b[0m \u001b[1;33m=\u001b[0m \u001b[0myear\u001b[0m \u001b[1;33m=\u001b[0m \u001b[1;32mNone\u001b[0m\u001b[1;33m\u001b[0m\u001b[0m\n",
      "\u001b[1;31mValueError\u001b[0m: unconverted data remains: T000000"
     ]
    }
   ],
   "source": [
    "format_date(df)\n",
    "#df.date"
   ]
  },
  {
   "cell_type": "code",
   "execution_count": 124,
   "metadata": {
    "ExecuteTime": {
     "end_time": "2017-12-16T16:34:12.829831Z",
     "start_time": "2017-12-16T16:34:12.826831Z"
    },
    "collapsed": true
   },
   "outputs": [],
   "source": [
    "#df"
   ]
  },
  {
   "cell_type": "code",
   "execution_count": 125,
   "metadata": {
    "ExecuteTime": {
     "end_time": "2017-12-16T16:34:13.512449Z",
     "start_time": "2017-12-16T16:34:13.507460Z"
    },
    "code_folding": [
     0
    ],
    "collapsed": true
   },
   "outputs": [],
   "source": [
    "# more exploring... \n",
    "#print(df['bedrooms'].value_counts(dropna=False))\n",
    "#print(df['waterfront'].value_counts(dropna=False))\n",
    "#print(df['view'].value_counts(dropna=False))\n",
    "#print(df['condition'].value_counts(dropna=False))\n",
    "#print(df['grade'].value_counts(dropna=False))"
   ]
  },
  {
   "cell_type": "code",
   "execution_count": 170,
   "metadata": {
    "ExecuteTime": {
     "end_time": "2017-12-16T16:53:47.903425Z",
     "start_time": "2017-12-16T16:53:47.753300Z"
    }
   },
   "outputs": [
    {
     "data": {
      "image/png": "[encoded data removed]",
      "text/plain": [
       "<matplotlib.figure.Figure at 0x1b73b1cae80>"
      ]
     },
     "metadata": {},
     "output_type": "display_data"
    }
   ],
   "source": [
    "# count each\n",
    "df['bedrooms'].value_counts().plot(kind='barh')\n",
    "plt.show()"
   ]
  },
  {
   "cell_type": "code",
   "execution_count": 171,
   "metadata": {
    "ExecuteTime": {
     "end_time": "2017-12-16T16:53:52.165160Z",
     "start_time": "2017-12-16T16:53:52.158153Z"
    }
   },
   "outputs": [
    {
     "name": "stdout",
     "output_type": "stream",
     "text": [
      "47.7776\n",
      "47.1559\n"
     ]
    }
   ],
   "source": [
    "print(df.lat.max())\n",
    "print(df.lat.min())"
   ]
  },
  {
   "cell_type": "code",
   "execution_count": 172,
   "metadata": {
    "ExecuteTime": {
     "end_time": "2017-12-16T16:53:55.744336Z",
     "start_time": "2017-12-16T16:53:55.741334Z"
    },
    "collapsed": true
   },
   "outputs": [],
   "source": [
    "#!pip install mpl_toolkits"
   ]
  },
  {
   "cell_type": "code",
   "execution_count": 180,
   "metadata": {
    "ExecuteTime": {
     "end_time": "2017-12-16T16:55:08.550929Z",
     "start_time": "2017-12-16T16:55:08.440851Z"
    }
   },
   "outputs": [
    {
     "data": {
      "text/plain": [
       "[47.4095, -122.315]"
      ]
     },
     "execution_count": 180,
     "metadata": {},
     "output_type": "execute_result"
    }
   ],
   "source": [
    "locations = df[['lat', 'long']]\n",
    "locationlist = locations.values.tolist()\n",
    "len(locationlist)\n",
    "locationlist[7]"
   ]
  },
  {
   "cell_type": "code",
   "execution_count": 153,
   "metadata": {
    "ExecuteTime": {
     "end_time": "2017-12-16T16:42:23.945539Z",
     "start_time": "2017-12-16T16:42:23.940536Z"
    }
   },
   "outputs": [
    {
     "data": {
      "text/plain": [
       "list"
      ]
     },
     "execution_count": 153,
     "metadata": {},
     "output_type": "execute_result"
    }
   ],
   "source": [
    "type(locationlist)"
   ]
  },
  {
   "cell_type": "code",
   "execution_count": 174,
   "metadata": {
    "ExecuteTime": {
     "end_time": "2017-12-16T16:54:07.375617Z",
     "start_time": "2017-12-16T16:54:07.370633Z"
    }
   },
   "outputs": [
    {
     "data": {
      "text/plain": [
       "21613"
      ]
     },
     "execution_count": 174,
     "metadata": {},
     "output_type": "execute_result"
    }
   ],
   "source": [
    "len(df)"
   ]
  },
  {
   "cell_type": "code",
   "execution_count": 176,
   "metadata": {
    "ExecuteTime": {
     "end_time": "2017-12-16T16:54:11.936465Z",
     "start_time": "2017-12-16T16:54:11.933479Z"
    },
    "collapsed": true
   },
   "outputs": [],
   "source": [
    "#df"
   ]
  },
  {
   "cell_type": "code",
   "execution_count": null,
   "metadata": {
    "collapsed": true
   },
   "outputs": [],
   "source": []
  },
  {
   "cell_type": "code",
   "execution_count": 200,
   "metadata": {
    "ExecuteTime": {
     "end_time": "2017-12-16T16:59:22.580511Z",
     "start_time": "2017-12-16T16:59:22.080155Z"
    }
   },
   "outputs": [
    {
     "data": {
      "image/png": "[encoded data removed]",
      "text/plain": [
       "<matplotlib.figure.Figure at 0x1b740e9b978>"
      ]
     },
     "metadata": {},
     "output_type": "display_data"
    },
    {
     "data": {
      "text/plain": [
       "''"
      ]
     },
     "execution_count": 200,
     "metadata": {},
     "output_type": "execute_result"
    }
   ],
   "source": [
    "# plot location\n",
    "plt.hist(df['long'], bins=100, range = (-123.1, -122.0), color='purple', alpha=.5, label = 'longitude')\n",
    "plt.grid()\n",
    "plt.legend(loc='upper left')\n",
    "plt.twiny()\n",
    "plt.hist(df['lat'], bins=100, range = (47.5, 48.4), color='g', alpha=.5, label = 'latitude')\n",
    "plt.legend(loc='best')\n",
    "plt.show()\n",
    ";"
   ]
  },
  {
   "cell_type": "code",
   "execution_count": 245,
   "metadata": {
    "ExecuteTime": {
     "end_time": "2017-12-16T17:11:11.073603Z",
     "start_time": "2017-12-16T17:11:10.767386Z"
    }
   },
   "outputs": [
    {
     "data": {
      "image/png": "[encoded data removed]",
      "text/plain": [
       "<matplotlib.figure.Figure at 0x1b740dd5d30>"
      ]
     },
     "metadata": {},
     "output_type": "display_data"
    }
   ],
   "source": [
    "plt.rcParams['axes.facecolor'] = 'black'\n",
    "plt.figure(figsize=(20, 12))\n",
    "plt.plot(df['long'], df['lat'], '.', ms=2, alpha=.5, color='pink')\n",
    "plt.xlim(-122.6, -121.5)\n",
    "plt.ylim(47.0, 47.8)\n",
    "plt.show()"
   ]
  },
  {
   "cell_type": "code",
   "execution_count": null,
   "metadata": {
    "collapsed": true
   },
   "outputs": [],
   "source": []
  },
  {
   "cell_type": "code",
   "execution_count": null,
   "metadata": {
    "collapsed": true
   },
   "outputs": [],
   "source": []
  },
  {
   "cell_type": "code",
   "execution_count": null,
   "metadata": {
    "collapsed": true
   },
   "outputs": [],
   "source": []
  },
  {
   "cell_type": "code",
   "execution_count": null,
   "metadata": {
    "collapsed": true
   },
   "outputs": [],
   "source": []
  },
  {
   "cell_type": "code",
   "execution_count": null,
   "metadata": {
    "ExecuteTime": {
     "end_time": "2017-12-16T16:00:25.795085Z",
     "start_time": "2017-12-16T16:00:25.774087Z"
    },
    "collapsed": true
   },
   "outputs": [],
   "source": []
  },
  {
   "cell_type": "code",
   "execution_count": 4,
   "metadata": {
    "collapsed": true
   },
   "outputs": [],
   "source": [
    "# turning date column into datetimeIndex\n",
    "\n",
    "# Prepare a format string: time_format\n",
    "time_format = '%Y-%m-%d'\n",
    "\n",
    "df['date'] = pd.to_datetime(df['date'], format=time_format)  \n"
   ]
  },
  {
   "cell_type": "code",
   "execution_count": 5,
   "metadata": {},
   "outputs": [
    {
     "name": "stdout",
     "output_type": "stream",
     "text": [
      "<class 'pandas.core.frame.DataFrame'>\n",
      "RangeIndex: 21613 entries, 0 to 21612\n",
      "Data columns (total 22 columns):\n",
      "id               21613 non-null int64\n",
      "date             21613 non-null datetime64[ns]\n",
      "price            21613 non-null float64\n",
      "bedrooms         21613 non-null int64\n",
      "bathrooms        21613 non-null float64\n",
      "sqft_living      21613 non-null int64\n",
      "sqft_lot         21613 non-null int64\n",
      "floors           21613 non-null float64\n",
      "waterfront       21613 non-null int64\n",
      "view             21613 non-null int64\n",
      "condition        21613 non-null int64\n",
      "grade            21613 non-null int64\n",
      "sqft_above       21613 non-null int64\n",
      "sqft_basement    21613 non-null int64\n",
      "yr_built         21613 non-null int64\n",
      "yr_renovated     21613 non-null int64\n",
      "zipcode          21613 non-null int64\n",
      "lat              21613 non-null float64\n",
      "long             21613 non-null float64\n",
      "sqft_living15    21613 non-null int64\n",
      "sqft_lot15       21613 non-null int64\n",
      "date2            21613 non-null object\n",
      "dtypes: datetime64[ns](1), float64(5), int64(15), object(1)\n",
      "memory usage: 3.6+ MB\n"
     ]
    }
   ],
   "source": [
    "# checking column types\n",
    "\n",
    "df.info()"
   ]
  },
  {
   "cell_type": "code",
   "execution_count": 10,
   "metadata": {},
   "outputs": [
    {
     "name": "stdout",
     "output_type": "stream",
     "text": [
      "7     8981\n",
      "8     6068\n",
      "9     2615\n",
      "6     2038\n",
      "10    1134\n",
      "11     399\n",
      "5      242\n",
      "12      90\n",
      "4       29\n",
      "13      13\n",
      "3        3\n",
      "1        1\n",
      "Name: grade, dtype: int64\n"
     ]
    }
   ],
   "source": [
    "# do some value counts to see the range of values for categorical variables (bedrooms, waterfront, view, condition, grade)\n",
    "# how are the categorical variables distributed, EDA!\n",
    "\n"
   ]
  },
  {
   "cell_type": "code",
   "execution_count": 11,
   "metadata": {
    "collapsed": true
   },
   "outputs": [],
   "source": [
    "# following are categorical variables (bedrooms, waterfront, view, condition, grade) and need to transformed\n",
    "\n",
    "df['bedrooms'] = df['bedrooms'].astype('category') \n",
    "df['waterfront'] = df['waterfront'].astype('category')\n",
    "df['view'] = df['view'].astype('category')\n",
    "df['condition'] = df['condition'].astype('category')\n",
    "df['grade'] = df['grade'].astype('category')\n",
    "\n"
   ]
  },
  {
   "cell_type": "code",
   "execution_count": null,
   "metadata": {
    "collapsed": true
   },
   "outputs": [],
   "source": [
    "# computing the covariance matrix and heatmap of the dataframe\n",
    "# left one enlargens horizontal axis and right one vertical\n",
    "\n",
    "from string import ascii_letters\n",
    "sns.set(rc={\"figure.figsize\": (18, 12)})\n",
    "\n",
    "sns.set_style(\"ticks\", {\"xtick.major.size\": 6, \"ytick.major.size\": 6})\n",
    "\n",
    "\n",
    "correlation = df.corr()\n",
    "sns.heatmap(correlation, annot=True, cmap=\"YlGnBu\")\n",
    "plt.show()"
   ]
  },
  {
   "cell_type": "code",
   "execution_count": null,
   "metadata": {
    "collapsed": true
   },
   "outputs": [],
   "source": [
    "# ----------------Finding correlation \n",
    "\n",
    "# Correlation is a statistical measure that suggests the level of linear dependence between two variables\n",
    "# that occur in pair. \n",
    "# Its value is between -1 to +1\n",
    "# Above 0 is positive correlation i.e. X is directly proportional to Y.\n",
    "# Below 0 is negative correlation i.e. X is inversly proportional to Y.\n",
    "# A value close to 0 suggests weak relation.\n",
    "\n",
    "# Picking up some of the features that are highly correlated with price\n",
    "# Correlation between price and sqft_living is (0.7)\n",
    "# Correlation between price and grade is (0.67)\n",
    "# Correlation between price and sqft_above is (0.61)\n",
    "# Correlation between price and sqft_living15 is (0.59)\n",
    "# Correlation between price and bathrooms is (0.53)\n",
    "\n",
    "# Now, let us evaluate the correlation of the below features with each others for multicolinearity.\n",
    "# We would do this later by calculating VIF\n",
    "# Correlation between sqft_living and sqft_above is (0.88)\n",
    "# Correlation between sqft_living and sqft_living15 is (0.76)\n",
    "# Correlation between sqft_living and grade is (0.76)\n",
    "# Correlation between sqft living and bathrooms is (0.75)\n",
    "# We would keep grade as of now as it is a category.\n",
    "\n",
    "# Following have weak relation with price and we would remove them.\n",
    "# date, sqft_lot, yr_built, long, sqft_lot15\n",
    "# We would delete lat as well even though it has correlation of 0.31\n",
    "# because, 0.31 is not that significant. It is a category.\n",
    "# If we would convert it to factor, there would be way too many levels \n",
    "# and would make computation very expensive.\n",
    "\n",
    "# Another reason to remove variable is to avoid overfitting."
   ]
  },
  {
   "cell_type": "code",
   "execution_count": null,
   "metadata": {
    "collapsed": true
   },
   "outputs": [],
   "source": [
    "# Simple Linear Regression of key candidates on house prices\n",
    "\n",
    "# Plot a linear regression between 'price' and 'sqft_living'\n",
    "sns.lmplot(x='sqft_living', y='price', data=df)\n",
    "\n",
    "# add the labels as strings\n",
    "title = 'King County House Prices'\n",
    "xlab = 'Sqft Living Area'\n",
    "ylab = 'House Price in $'\n",
    "plt.xlabel(xlab)\n",
    "plt.ylabel(ylab)\n",
    "plt.title(title)\n",
    "\n",
    "plt.show()\n"
   ]
  },
  {
   "cell_type": "code",
   "execution_count": null,
   "metadata": {
    "collapsed": true
   },
   "outputs": [],
   "source": [
    "# change graphic by making the scales more neat, e.g., sqft_living moving up in 1 thousand increments and removing 0's from price\n",
    "\n",
    "# definition of tick_val and tick_lab\n",
    "\n",
    "# new plot with ticks"
   ]
  },
  {
   "cell_type": "code",
   "execution_count": 64,
   "metadata": {
    "ExecuteTime": {
     "end_time": "2017-12-16T16:05:18.632537Z",
     "start_time": "2017-12-16T16:05:15.742093Z"
    }
   },
   "outputs": [
    {
     "data": {
      "image/png": "[encoded data removed]",
      "text/plain": [
       "<matplotlib.figure.Figure at 0x1b73b4776d8>"
      ]
     },
     "metadata": {},
     "output_type": "display_data"
    }
   ],
   "source": [
    "# Using jointplot()\n",
    "\n",
    "sns.jointplot(x='sqft_living', y='price', data=df, size=12, kind=\"reg\")\n",
    "# add the labels as strings\n",
    "title = 'King County House Prices'\n",
    "xlab = 'Sqft Living Area'\n",
    "ylab = 'House Price in $'\n",
    "plt.xlabel(xlab)\n",
    "plt.ylabel(ylab)\n",
    "plt.title(title)\n",
    "plt.show()\n",
    "\n"
   ]
  },
  {
   "cell_type": "code",
   "execution_count": null,
   "metadata": {
    "collapsed": true
   },
   "outputs": [],
   "source": []
  },
  {
   "cell_type": "code",
   "execution_count": null,
   "metadata": {
    "collapsed": true
   },
   "outputs": [],
   "source": [
    "# from the heatmap, which variables are potential features we need to include?\n",
    "\n",
    "# bedrooms, bathrooms, sqft_living, grade, view, waterfront, latitude"
   ]
  }
 ],
 "metadata": {
  "anaconda-cloud": {},
  "kernelspec": {
   "display_name": "Python 3",
   "language": "python",
   "name": "python3"
  },
  "language_info": {
   "codemirror_mode": {
    "name": "ipython",
    "version": 3
   },
   "file_extension": ".py",
   "mimetype": "text/x-python",
   "name": "python",
   "nbconvert_exporter": "python",
   "pygments_lexer": "ipython3",
   "version": "3.6.3"
  },
  "latex_envs": {
   "LaTeX_envs_menu_present": true,
   "autocomplete": true,
   "bibliofile": "biblio.bib",
   "cite_by": "apalike",
   "current_citInitial": 1,
   "eqLabelWithNumbers": true,
   "eqNumInitial": 1,
   "hotkeys": {
    "equation": "Ctrl-E",
    "itemize": "Ctrl-I"
   },
   "labels_anchors": false,
   "latex_user_defs": false,
   "report_style_numbering": false,
   "user_envs_cfg": false
  },
  "nbTranslate": {
   "displayLangs": [
    "*"
   ],
   "hotkey": "alt-t",
   "langInMainMenu": true,
   "sourceLang": "en",
   "targetLang": "fr",
   "useGoogleTranslate": true
  },
  "toc": {
   "nav_menu": {},
   "number_sections": true,
   "sideBar": true,
   "skip_h1_title": false,
   "toc_cell": false,
   "toc_position": {},
   "toc_section_display": "block",
   "toc_window_display": false
  },
  "varInspector": {
   "cols": {
    "lenName": 16,
    "lenType": 16,
    "lenVar": 40
   },
   "kernels_config": {
    "python": {
     "delete_cmd_postfix": "",
     "delete_cmd_prefix": "del ",
     "library": "var_list.py",
     "varRefreshCmd": "print(var_dic_list())"
    },
    "r": {
     "delete_cmd_postfix": ") ",
     "delete_cmd_prefix": "rm(",
     "library": "var_list.r",
     "varRefreshCmd": "cat(var_dic_list()) "
    }
   },
   "types_to_exclude": [
    "module",
    "function",
    "builtin_function_or_method",
    "instance",
    "_Feature"
   ],
   "window_display": false
  }
 },
 "nbformat": 4,
 "nbformat_minor": 1
}

{
 "cells": [
  {
   "cell_type": "code",
   "execution_count": 107,
   "metadata": {
    "ExecuteTime": {
     "end_time": "2017-12-24T18:03:31.512232Z",
     "start_time": "2017-12-24T18:03:31.491216Z"
    },
    "collapsed": true
   },
   "outputs": [],
   "source": [
    "#Plotting libraries\n",
    "import matplotlib.pyplot as plt\n",
    "import seaborn as sns\n",
    "%matplotlib inline\n",
    "\n",
    "#Data handling\n",
    "import numpy as np\n",
    "import pandas as pd\n",
    "\n",
    "#Machine learning libraries\n",
    "import sklearn.cross_validation as cv\n",
    "from sklearn import linear_model\n",
    "from sklearn.linear_model import Lasso\n",
    "from sklearn.linear_model import Ridge\n",
    "from sklearn.cross_validation import train_test_split\n",
    "\n",
    "#set \n",
    "pd.set_option('display.max_rows', 10)\n",
    "pd.set_option('display.max_columns', 10)\n",
    "\n",
    "#Data path\n",
    "path = \"data/kc_house_data.csv\""
   ]
  },
  {
   "cell_type": "code",
   "execution_count": 108,
   "metadata": {
    "ExecuteTime": {
     "end_time": "2017-12-24T18:03:32.485779Z",
     "start_time": "2017-12-24T18:03:32.405064Z"
    },
    "collapsed": true
   },
   "outputs": [],
   "source": [
    "data = pd.read_csv(path, parse_dates= [\"date\"])"
   ]
  },
  {
   "cell_type": "code",
   "execution_count": 114,
   "metadata": {
    "ExecuteTime": {
     "end_time": "2017-12-24T18:04:06.451081Z",
     "start_time": "2017-12-24T18:04:06.428046Z"
    },
    "collapsed": true
   },
   "outputs": [],
   "source": [
    "from sklearn.preprocessing import StandardScaler\n",
    "X_std = StandardScaler()\n",
    "X_std = X_std.fit_transform(data.drop(['date', 'id', 'price', 'long'], axis=1))"
   ]
  },
  {
   "cell_type": "code",
   "execution_count": 124,
   "metadata": {
    "ExecuteTime": {
     "end_time": "2017-12-24T18:05:48.749278Z",
     "start_time": "2017-12-24T18:05:48.744290Z"
    },
    "collapsed": true
   },
   "outputs": [],
   "source": [
    "pd."
   ]
  },
  {
   "cell_type": "code",
   "execution_count": 115,
   "metadata": {
    "ExecuteTime": {
     "end_time": "2017-12-24T18:04:29.089101Z",
     "start_time": "2017-12-24T18:04:29.085097Z"
    },
    "collapsed": true
   },
   "outputs": [],
   "source": [
    "X, y = X_std, data.price"
   ]
  },
  {
   "cell_type": "code",
   "execution_count": 116,
   "metadata": {
    "ExecuteTime": {
     "end_time": "2017-12-24T18:04:30.594467Z",
     "start_time": "2017-12-24T18:04:30.587462Z"
    }
   },
   "outputs": [
    {
     "data": {
      "text/plain": [
       "array([[-0.39873715, -1.44746357, -0.97983502, ..., -0.35257175,\n",
       "        -0.9433552 , -0.26071541],\n",
       "       [-0.39873715,  0.1756067 ,  0.53363434, ...,  1.16156823,\n",
       "        -0.43268619, -0.18786773],\n",
       "       [-1.47395936, -1.44746357, -1.42625404, ...,  1.28353661,\n",
       "         1.07013975, -0.17237524],\n",
       "       ..., \n",
       "       [-1.47395936, -1.77207762, -1.15404732, ...,  0.24788796,\n",
       "        -1.41025258, -0.39414129],\n",
       "       [-0.39873715,  0.50022075, -0.52252773, ..., -0.18441416,\n",
       "        -0.8412214 , -0.42051149],\n",
       "       [-1.47395936, -1.77207762, -1.15404732, ...,  0.24572284,\n",
       "        -1.41025258, -0.41794772]])"
      ]
     },
     "execution_count": 116,
     "metadata": {},
     "output_type": "execute_result"
    }
   ],
   "source": [
    "X"
   ]
  },
  {
   "cell_type": "code",
   "execution_count": 117,
   "metadata": {
    "ExecuteTime": {
     "end_time": "2017-12-24T18:04:34.382022Z",
     "start_time": "2017-12-24T18:04:34.370015Z"
    },
    "collapsed": true
   },
   "outputs": [],
   "source": [
    "X_train, X_test, y_train, y_test = train_test_split(X, y, test_size = .3, random_state = 1)"
   ]
  },
  {
   "cell_type": "markdown",
   "metadata": {},
   "source": [
    "## Correlation between features\n",
    "Let's use pandas to find some correlation in our features"
   ]
  },
  {
   "cell_type": "code",
   "execution_count": 118,
   "metadata": {
    "ExecuteTime": {
     "end_time": "2017-12-24T18:04:37.237507Z",
     "start_time": "2017-12-24T18:04:37.198478Z"
    }
   },
   "outputs": [
    {
     "data": {
      "text/plain": [
       "price            1.000000\n",
       "sqft_living      0.702035\n",
       "grade            0.667434\n",
       "sqft_above       0.605567\n",
       "sqft_living15    0.585379\n",
       "                   ...   \n",
       "yr_built         0.054012\n",
       "condition        0.036362\n",
       "long             0.021626\n",
       "id              -0.016762\n",
       "zipcode         -0.053203\n",
       "Name: price, Length: 20, dtype: float64"
      ]
     },
     "execution_count": 118,
     "metadata": {},
     "output_type": "execute_result"
    }
   ],
   "source": [
    "corr = data.corr()['price']\n",
    "corr[np.argsort(corr, axis= 0)][::-1]"
   ]
  },
  {
   "cell_type": "code",
   "execution_count": 119,
   "metadata": {
    "ExecuteTime": {
     "end_time": "2017-12-24T18:04:40.944988Z",
     "start_time": "2017-12-24T18:04:40.937996Z"
    }
   },
   "outputs": [
    {
     "data": {
      "text/plain": [
       "1000"
      ]
     },
     "execution_count": 119,
     "metadata": {},
     "output_type": "execute_result"
    }
   ],
   "source": [
    "alphas = 10**np.linspace(1,-10,1000)*0.5\n",
    "len(alphas)"
   ]
  },
  {
   "cell_type": "code",
   "execution_count": 121,
   "metadata": {
    "ExecuteTime": {
     "end_time": "2017-12-24T18:04:46.301508Z",
     "start_time": "2017-12-24T18:04:46.293503Z"
    }
   },
   "outputs": [
    {
     "data": {
      "text/plain": [
       "array([[-0.39873715, -0.14900736, -0.58785734, ..., -1.48781588,\n",
       "         0.12175445, -0.23874024],\n",
       "       [-1.47395936, -1.44746357, -1.38270097, ..., -0.51856421,\n",
       "        -1.30811878, -0.20548449],\n",
       "       [-0.39873715, -1.44746357, -1.32825962, ..., -0.44278505,\n",
       "        -1.23516606, -0.05561386],\n",
       "       ..., \n",
       "       [-0.39873715, -0.47362141, -0.11966179, ...,  0.24211431,\n",
       "         0.69078563,  0.87565705],\n",
       "       [-0.39873715,  0.1756067 , -0.10877352, ...,  1.5534548 ,\n",
       "        -0.63695379, -0.12923066],\n",
       "       [ 1.75170727,  2.44790506,  1.82933833, ...,  0.64121794,\n",
       "         2.10606831,  0.81775249]])"
      ]
     },
     "execution_count": 121,
     "metadata": {},
     "output_type": "execute_result"
    }
   ],
   "source": [
    "X_train"
   ]
  },
  {
   "cell_type": "code",
   "execution_count": 99,
   "metadata": {
    "ExecuteTime": {
     "end_time": "2017-12-24T18:01:52.588281Z",
     "start_time": "2017-12-24T18:01:52.458645Z"
    },
    "collapsed": true
   },
   "outputs": [],
   "source": [
    "StandardScaler?"
   ]
  },
  {
   "cell_type": "code",
   "execution_count": 122,
   "metadata": {
    "ExecuteTime": {
     "end_time": "2017-12-24T18:04:49.453239Z",
     "start_time": "2017-12-24T18:04:49.448252Z"
    },
    "collapsed": true
   },
   "outputs": [],
   "source": [
    "#\n",
    "# Ridge Regression\n",
    "#\n",
    "\n",
    "ridge = Ridge(normalize=True)\n",
    "coefs = []"
   ]
  },
  {
   "cell_type": "code",
   "execution_count": 123,
   "metadata": {
    "ExecuteTime": {
     "end_time": "2017-12-24T18:04:58.651931Z",
     "start_time": "2017-12-24T18:04:51.126072Z"
    }
   },
   "outputs": [
    {
     "ename": "AttributeError",
     "evalue": "'numpy.ndarray' object has no attribute 'columns'",
     "output_type": "error",
     "traceback": [
      "\u001b[1;31m---------------------------------------------------------------------------\u001b[0m",
      "\u001b[1;31mAttributeError\u001b[0m                            Traceback (most recent call last)",
      "\u001b[1;32m<ipython-input-123-42de8141ea1f>\u001b[0m in \u001b[0;36m<module>\u001b[1;34m()\u001b[0m\n\u001b[0;32m      4\u001b[0m     \u001b[0mcoefs\u001b[0m\u001b[1;33m.\u001b[0m\u001b[0mappend\u001b[0m\u001b[1;33m(\u001b[0m\u001b[0mridge\u001b[0m\u001b[1;33m.\u001b[0m\u001b[0mcoef_\u001b[0m\u001b[1;33m)\u001b[0m\u001b[1;33m\u001b[0m\u001b[0m\n\u001b[0;32m      5\u001b[0m \u001b[1;33m\u001b[0m\u001b[0m\n\u001b[1;32m----> 6\u001b[1;33m \u001b[0mprint\u001b[0m\u001b[1;33m(\u001b[0m\u001b[0mpd\u001b[0m\u001b[1;33m.\u001b[0m\u001b[0mSeries\u001b[0m\u001b[1;33m(\u001b[0m\u001b[0mridge\u001b[0m\u001b[1;33m.\u001b[0m\u001b[0mcoef_\u001b[0m\u001b[1;33m,\u001b[0m \u001b[0mindex\u001b[0m\u001b[1;33m=\u001b[0m\u001b[0mX\u001b[0m\u001b[1;33m.\u001b[0m\u001b[0mcolumns\u001b[0m\u001b[1;33m)\u001b[0m\u001b[1;33m)\u001b[0m \u001b[1;31m# Print coefficients\u001b[0m\u001b[1;33m\u001b[0m\u001b[0m\n\u001b[0m",
      "\u001b[1;31mAttributeError\u001b[0m: 'numpy.ndarray' object has no attribute 'columns'"
     ]
    }
   ],
   "source": [
    "for a in alphas:\n",
    "    ridge.set_params(alpha=a)\n",
    "    ridge.fit(X, y)\n",
    "    coefs.append(ridge.coef_)\n",
    "\n",
    "print(pd.Series(ridge.coef_, index=X.columns)) # Print coefficients"
   ]
  },
  {
   "cell_type": "code",
   "execution_count": 94,
   "metadata": {
    "ExecuteTime": {
     "end_time": "2017-12-24T18:00:22.334940Z",
     "start_time": "2017-12-24T18:00:22.312939Z"
    }
   },
   "outputs": [
    {
     "name": "stdout",
     "output_type": "stream",
     "text": [
      "bedrooms         -31068.641479\n",
      "bathrooms         38359.228594\n",
      "sqft_living          84.132795\n",
      "sqft_lot              0.053525\n",
      "floors            15227.794953\n",
      "                     ...      \n",
      "yr_renovated         20.600204\n",
      "zipcode            -319.658269\n",
      "lat              599542.705798\n",
      "sqft_living15        13.758964\n",
      "sqft_lot15           -0.405975\n",
      "Length: 17, dtype: float64\n",
      "48982624132.9\n"
     ]
    }
   ],
   "source": [
    "ridge2 = Ridge(alpha=0.01, normalize=True)\n",
    "ridge2.fit(X_train, y_train) \n",
    "# Fit a ridge regression on the training data\n",
    "pred2 = ridge2.predict(X_test) \n",
    "# Use this model to predict the test data\n",
    "print(pd.Series(ridge2.coef_, index=X.columns)) \n",
    "# Print coefficients\n",
    "print(mean_squared_error(y_test, pred2))"
   ]
  },
  {
   "cell_type": "code",
   "execution_count": null,
   "metadata": {
    "collapsed": true
   },
   "outputs": [],
   "source": []
  },
  {
   "cell_type": "code",
   "execution_count": null,
   "metadata": {
    "collapsed": true
   },
   "outputs": [],
   "source": []
  },
  {
   "cell_type": "code",
   "execution_count": null,
   "metadata": {
    "collapsed": true
   },
   "outputs": [],
   "source": []
  }
 ],
 "metadata": {
  "kernelspec": {
   "display_name": "Python 3",
   "language": "python",
   "name": "python3"
  },
  "language_info": {
   "codemirror_mode": {
    "name": "ipython",
    "version": 3
   },
   "file_extension": ".py",
   "mimetype": "text/x-python",
   "name": "python",
   "nbconvert_exporter": "python",
   "pygments_lexer": "ipython3",
   "version": "3.6.3"
  },
  "latex_envs": {
   "LaTeX_envs_menu_present": true,
   "autoclose": false,
   "autocomplete": true,
   "bibliofile": "biblio.bib",
   "cite_by": "apalike",
   "current_citInitial": 1,
   "eqLabelWithNumbers": true,
   "eqNumInitial": 1,
   "hotkeys": {
    "equation": "Ctrl-E",
    "itemize": "Ctrl-I"
   },
   "labels_anchors": false,
   "latex_user_defs": false,
   "report_style_numbering": false,
   "user_envs_cfg": false
  },
  "nbTranslate": {
   "displayLangs": [
    "*"
   ],
   "hotkey": "alt-t",
   "langInMainMenu": true,
   "sourceLang": "en",
   "targetLang": "fr",
   "useGoogleTranslate": true
  },
  "toc": {
   "nav_menu": {},
   "number_sections": true,
   "sideBar": true,
   "skip_h1_title": false,
   "toc_cell": false,
   "toc_position": {},
   "toc_section_display": "block",
   "toc_window_display": false
  },
  "varInspector": {
   "cols": {
    "lenName": 16,
    "lenType": 16,
    "lenVar": 40
   },
   "kernels_config": {
    "python": {
     "delete_cmd_postfix": "",
     "delete_cmd_prefix": "del ",
     "library": "var_list.py",
     "varRefreshCmd": "print(var_dic_list())"
    },
    "r": {
     "delete_cmd_postfix": ") ",
     "delete_cmd_prefix": "rm(",
     "library": "var_list.r",
     "varRefreshCmd": "cat(var_dic_list()) "
    }
   },
   "types_to_exclude": [
    "module",
    "function",
    "builtin_function_or_method",
    "instance",
    "_Feature"
   ],
   "window_display": false
  }
 },
 "nbformat": 4,
 "nbformat_minor": 2
}

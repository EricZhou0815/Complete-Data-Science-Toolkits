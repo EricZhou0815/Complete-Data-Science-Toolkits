{
 "cells": [
  {
   "cell_type": "code",
   "execution_count": 1,
   "metadata": {
    "ExecuteTime": {
     "end_time": "2017-12-25T19:38:32.242543Z",
     "start_time": "2017-12-25T19:38:30.438254Z"
    }
   },
   "outputs": [
    {
     "name": "stderr",
     "output_type": "stream",
     "text": [
      "C:\\Users\\Saleban\\Anaconda3\\lib\\site-packages\\sklearn\\cross_validation.py:41: DeprecationWarning: This module was deprecated in version 0.18 in favor of the model_selection module into which all the refactored classes and functions are moved. Also note that the interface of the new CV iterators are different from that of this module. This module will be removed in 0.20.\n",
      "  \"This module will be removed in 0.20.\", DeprecationWarning)\n"
     ]
    },
    {
     "data": {
      "text/plain": [
       "''"
      ]
     },
     "execution_count": 1,
     "metadata": {},
     "output_type": "execute_result"
    }
   ],
   "source": [
    "#Plotting libraries\n",
    "import matplotlib.pyplot as plt\n",
    "import seaborn as sns\n",
    "%matplotlib inline\n",
    "\n",
    "#Data handling\n",
    "import numpy as np\n",
    "import pandas as pd\n",
    "import warnings\n",
    "warnings.filterwarnings(\"ignore\")\n",
    "\n",
    "#Machine learning libraries\n",
    "import sklearn.cross_validation as cv\n",
    "from sklearn import linear_model\n",
    "from sklearn.linear_model import Lasso\n",
    "from sklearn.linear_model import Ridge\n",
    "from sklearn.cross_validation import train_test_split\n",
    "\n",
    "#set pandas option\n",
    "#pd.set_option('display.max_rows', 20)\n",
    "#pd.set_option('display.max_columns', 20)\n",
    "\n",
    "#Data path\n",
    "path = \"data/kc_house_data.csv\"\n",
    ";"
   ]
  },
  {
   "cell_type": "code",
   "execution_count": 2,
   "metadata": {
    "ExecuteTime": {
     "end_time": "2017-12-25T19:38:35.936039Z",
     "start_time": "2017-12-25T19:38:35.932536Z"
    },
    "collapsed": true
   },
   "outputs": [],
   "source": [
    "#pd.set_option?"
   ]
  },
  {
   "cell_type": "code",
   "execution_count": null,
   "metadata": {
    "collapsed": true
   },
   "outputs": [],
   "source": []
  },
  {
   "cell_type": "code",
   "execution_count": 3,
   "metadata": {
    "ExecuteTime": {
     "end_time": "2017-12-25T19:38:37.671082Z",
     "start_time": "2017-12-25T19:38:37.545992Z"
    },
    "collapsed": true
   },
   "outputs": [],
   "source": [
    "data = pd.read_csv(path, parse_dates= [\"date\"])\n",
    "\n",
    "vX = data.drop(['price', 'date'], axis=1)\n",
    "\n",
    "X = vX.iloc[:, :].values\n",
    "y = data['price'].values"
   ]
  },
  {
   "cell_type": "code",
   "execution_count": 24,
   "metadata": {
    "ExecuteTime": {
     "end_time": "2017-12-25T19:45:29.357259Z",
     "start_time": "2017-12-25T19:45:29.326756Z"
    }
   },
   "outputs": [
    {
     "data": {
      "text/html": [
       "<div>\n",
       "<style>\n",
       "    .dataframe thead tr:only-child th {\n",
       "        text-align: right;\n",
       "    }\n",
       "\n",
       "    .dataframe thead th {\n",
       "        text-align: left;\n",
       "    }\n",
       "\n",
       "    .dataframe tbody tr th {\n",
       "        vertical-align: top;\n",
       "    }\n",
       "</style>\n",
       "<table border=\"1\" class=\"dataframe\">\n",
       "  <thead>\n",
       "    <tr style=\"text-align: right;\">\n",
       "      <th></th>\n",
       "      <th>id</th>\n",
       "      <th>date</th>\n",
       "      <th>price</th>\n",
       "      <th>bedrooms</th>\n",
       "      <th>bathrooms</th>\n",
       "      <th>sqft_living</th>\n",
       "      <th>sqft_lot</th>\n",
       "      <th>floors</th>\n",
       "      <th>waterfront</th>\n",
       "      <th>view</th>\n",
       "      <th>...</th>\n",
       "      <th>grade</th>\n",
       "      <th>sqft_above</th>\n",
       "      <th>sqft_basement</th>\n",
       "      <th>yr_built</th>\n",
       "      <th>yr_renovated</th>\n",
       "      <th>zipcode</th>\n",
       "      <th>lat</th>\n",
       "      <th>long</th>\n",
       "      <th>sqft_living15</th>\n",
       "      <th>sqft_lot15</th>\n",
       "    </tr>\n",
       "  </thead>\n",
       "  <tbody>\n",
       "    <tr>\n",
       "      <th>15870</th>\n",
       "      <td>2402100895</td>\n",
       "      <td>2014-06-25</td>\n",
       "      <td>640000.0</td>\n",
       "      <td>33</td>\n",
       "      <td>1.75</td>\n",
       "      <td>1620</td>\n",
       "      <td>6000</td>\n",
       "      <td>1.0</td>\n",
       "      <td>0</td>\n",
       "      <td>0</td>\n",
       "      <td>...</td>\n",
       "      <td>7</td>\n",
       "      <td>1040</td>\n",
       "      <td>580</td>\n",
       "      <td>1947</td>\n",
       "      <td>0</td>\n",
       "      <td>98103</td>\n",
       "      <td>47.6878</td>\n",
       "      <td>-122.331</td>\n",
       "      <td>1330</td>\n",
       "      <td>4700</td>\n",
       "    </tr>\n",
       "  </tbody>\n",
       "</table>\n",
       "<p>1 rows × 21 columns</p>\n",
       "</div>"
      ],
      "text/plain": [
       "               id       date     price  bedrooms  bathrooms  sqft_living  \\\n",
       "15870  2402100895 2014-06-25  640000.0        33       1.75         1620   \n",
       "\n",
       "       sqft_lot  floors  waterfront  view     ...      grade  sqft_above  \\\n",
       "15870      6000     1.0           0     0     ...          7        1040   \n",
       "\n",
       "       sqft_basement  yr_built  yr_renovated  zipcode      lat     long  \\\n",
       "15870            580      1947             0    98103  47.6878 -122.331   \n",
       "\n",
       "       sqft_living15  sqft_lot15  \n",
       "15870           1330        4700  \n",
       "\n",
       "[1 rows x 21 columns]"
      ]
     },
     "execution_count": 24,
     "metadata": {},
     "output_type": "execute_result"
    }
   ],
   "source": [
    "data[data['bedrooms']>32]"
   ]
  },
  {
   "cell_type": "code",
   "execution_count": 25,
   "metadata": {
    "ExecuteTime": {
     "end_time": "2017-12-25T19:45:41.365417Z",
     "start_time": "2017-12-25T19:45:41.341883Z"
    }
   },
   "outputs": [
    {
     "ename": "KeyError",
     "evalue": "'[7129300520 6414100192 5631500400 ..., 1523300141  291310100 1523300157] not in index'",
     "output_type": "error",
     "traceback": [
      "\u001b[1;31m---------------------------------------------------------------------------\u001b[0m",
      "\u001b[1;31mKeyError\u001b[0m                                  Traceback (most recent call last)",
      "\u001b[1;32m<ipython-input-25-cddf29cb7ca6>\u001b[0m in \u001b[0;36m<module>\u001b[1;34m()\u001b[0m\n\u001b[1;32m----> 1\u001b[1;33m \u001b[0mdata\u001b[0m\u001b[1;33m[\u001b[0m\u001b[0mdata\u001b[0m\u001b[1;33m[\u001b[0m\u001b[1;34m\"id\"\u001b[0m\u001b[1;33m]\u001b[0m\u001b[1;33m[\u001b[0m\u001b[1;33m(\u001b[0m\u001b[0mdata\u001b[0m\u001b[1;33m[\u001b[0m\u001b[1;34m'bedrooms'\u001b[0m\u001b[1;33m]\u001b[0m\u001b[1;33m<\u001b[0m\u001b[1;36m32\u001b[0m\u001b[1;33m)\u001b[0m\u001b[1;33m]\u001b[0m\u001b[1;33m]\u001b[0m\u001b[1;33m\u001b[0m\u001b[0m\n\u001b[0m",
      "\u001b[1;32m~\\Anaconda3\\lib\\site-packages\\pandas\\core\\frame.py\u001b[0m in \u001b[0;36m__getitem__\u001b[1;34m(self, key)\u001b[0m\n\u001b[0;32m   1956\u001b[0m         \u001b[1;32mif\u001b[0m \u001b[0misinstance\u001b[0m\u001b[1;33m(\u001b[0m\u001b[0mkey\u001b[0m\u001b[1;33m,\u001b[0m \u001b[1;33m(\u001b[0m\u001b[0mSeries\u001b[0m\u001b[1;33m,\u001b[0m \u001b[0mnp\u001b[0m\u001b[1;33m.\u001b[0m\u001b[0mndarray\u001b[0m\u001b[1;33m,\u001b[0m \u001b[0mIndex\u001b[0m\u001b[1;33m,\u001b[0m \u001b[0mlist\u001b[0m\u001b[1;33m)\u001b[0m\u001b[1;33m)\u001b[0m\u001b[1;33m:\u001b[0m\u001b[1;33m\u001b[0m\u001b[0m\n\u001b[0;32m   1957\u001b[0m             \u001b[1;31m# either boolean or fancy integer index\u001b[0m\u001b[1;33m\u001b[0m\u001b[1;33m\u001b[0m\u001b[0m\n\u001b[1;32m-> 1958\u001b[1;33m             \u001b[1;32mreturn\u001b[0m \u001b[0mself\u001b[0m\u001b[1;33m.\u001b[0m\u001b[0m_getitem_array\u001b[0m\u001b[1;33m(\u001b[0m\u001b[0mkey\u001b[0m\u001b[1;33m)\u001b[0m\u001b[1;33m\u001b[0m\u001b[0m\n\u001b[0m\u001b[0;32m   1959\u001b[0m         \u001b[1;32melif\u001b[0m \u001b[0misinstance\u001b[0m\u001b[1;33m(\u001b[0m\u001b[0mkey\u001b[0m\u001b[1;33m,\u001b[0m \u001b[0mDataFrame\u001b[0m\u001b[1;33m)\u001b[0m\u001b[1;33m:\u001b[0m\u001b[1;33m\u001b[0m\u001b[0m\n\u001b[0;32m   1960\u001b[0m             \u001b[1;32mreturn\u001b[0m \u001b[0mself\u001b[0m\u001b[1;33m.\u001b[0m\u001b[0m_getitem_frame\u001b[0m\u001b[1;33m(\u001b[0m\u001b[0mkey\u001b[0m\u001b[1;33m)\u001b[0m\u001b[1;33m\u001b[0m\u001b[0m\n",
      "\u001b[1;32m~\\Anaconda3\\lib\\site-packages\\pandas\\core\\frame.py\u001b[0m in \u001b[0;36m_getitem_array\u001b[1;34m(self, key)\u001b[0m\n\u001b[0;32m   2000\u001b[0m             \u001b[1;32mreturn\u001b[0m \u001b[0mself\u001b[0m\u001b[1;33m.\u001b[0m\u001b[0mtake\u001b[0m\u001b[1;33m(\u001b[0m\u001b[0mindexer\u001b[0m\u001b[1;33m,\u001b[0m \u001b[0maxis\u001b[0m\u001b[1;33m=\u001b[0m\u001b[1;36m0\u001b[0m\u001b[1;33m,\u001b[0m \u001b[0mconvert\u001b[0m\u001b[1;33m=\u001b[0m\u001b[1;32mFalse\u001b[0m\u001b[1;33m)\u001b[0m\u001b[1;33m\u001b[0m\u001b[0m\n\u001b[0;32m   2001\u001b[0m         \u001b[1;32melse\u001b[0m\u001b[1;33m:\u001b[0m\u001b[1;33m\u001b[0m\u001b[0m\n\u001b[1;32m-> 2002\u001b[1;33m             \u001b[0mindexer\u001b[0m \u001b[1;33m=\u001b[0m \u001b[0mself\u001b[0m\u001b[1;33m.\u001b[0m\u001b[0mloc\u001b[0m\u001b[1;33m.\u001b[0m\u001b[0m_convert_to_indexer\u001b[0m\u001b[1;33m(\u001b[0m\u001b[0mkey\u001b[0m\u001b[1;33m,\u001b[0m \u001b[0maxis\u001b[0m\u001b[1;33m=\u001b[0m\u001b[1;36m1\u001b[0m\u001b[1;33m)\u001b[0m\u001b[1;33m\u001b[0m\u001b[0m\n\u001b[0m\u001b[0;32m   2003\u001b[0m             \u001b[1;32mreturn\u001b[0m \u001b[0mself\u001b[0m\u001b[1;33m.\u001b[0m\u001b[0mtake\u001b[0m\u001b[1;33m(\u001b[0m\u001b[0mindexer\u001b[0m\u001b[1;33m,\u001b[0m \u001b[0maxis\u001b[0m\u001b[1;33m=\u001b[0m\u001b[1;36m1\u001b[0m\u001b[1;33m,\u001b[0m \u001b[0mconvert\u001b[0m\u001b[1;33m=\u001b[0m\u001b[1;32mTrue\u001b[0m\u001b[1;33m)\u001b[0m\u001b[1;33m\u001b[0m\u001b[0m\n\u001b[0;32m   2004\u001b[0m \u001b[1;33m\u001b[0m\u001b[0m\n",
      "\u001b[1;32m~\\Anaconda3\\lib\\site-packages\\pandas\\core\\indexing.py\u001b[0m in \u001b[0;36m_convert_to_indexer\u001b[1;34m(self, obj, axis, is_setter)\u001b[0m\n\u001b[0;32m   1229\u001b[0m                 \u001b[0mmask\u001b[0m \u001b[1;33m=\u001b[0m \u001b[0mcheck\u001b[0m \u001b[1;33m==\u001b[0m \u001b[1;33m-\u001b[0m\u001b[1;36m1\u001b[0m\u001b[1;33m\u001b[0m\u001b[0m\n\u001b[0;32m   1230\u001b[0m                 \u001b[1;32mif\u001b[0m \u001b[0mmask\u001b[0m\u001b[1;33m.\u001b[0m\u001b[0many\u001b[0m\u001b[1;33m(\u001b[0m\u001b[1;33m)\u001b[0m\u001b[1;33m:\u001b[0m\u001b[1;33m\u001b[0m\u001b[0m\n\u001b[1;32m-> 1231\u001b[1;33m                     \u001b[1;32mraise\u001b[0m \u001b[0mKeyError\u001b[0m\u001b[1;33m(\u001b[0m\u001b[1;34m'%s not in index'\u001b[0m \u001b[1;33m%\u001b[0m \u001b[0mobjarr\u001b[0m\u001b[1;33m[\u001b[0m\u001b[0mmask\u001b[0m\u001b[1;33m]\u001b[0m\u001b[1;33m)\u001b[0m\u001b[1;33m\u001b[0m\u001b[0m\n\u001b[0m\u001b[0;32m   1232\u001b[0m \u001b[1;33m\u001b[0m\u001b[0m\n\u001b[0;32m   1233\u001b[0m                 \u001b[1;32mreturn\u001b[0m \u001b[0m_values_from_object\u001b[0m\u001b[1;33m(\u001b[0m\u001b[0mindexer\u001b[0m\u001b[1;33m)\u001b[0m\u001b[1;33m\u001b[0m\u001b[0m\n",
      "\u001b[1;31mKeyError\u001b[0m: '[7129300520 6414100192 5631500400 ..., 1523300141  291310100 1523300157] not in index'"
     ]
    }
   ],
   "source": [
    "data[data[\"id\"][(data['bedrooms']<32)]]"
   ]
  },
  {
   "cell_type": "code",
   "execution_count": null,
   "metadata": {
    "collapsed": true
   },
   "outputs": [],
   "source": []
  },
  {
   "cell_type": "code",
   "execution_count": 26,
   "metadata": {
    "ExecuteTime": {
     "end_time": "2017-12-25T19:45:43.028753Z",
     "start_time": "2017-12-25T19:45:43.014744Z"
    },
    "collapsed": true
   },
   "outputs": [],
   "source": [
    "X_train, X_test, y_train, y_test = train_test_split(X, y, test_size = .3, random_state = 0)"
   ]
  },
  {
   "cell_type": "code",
   "execution_count": 27,
   "metadata": {
    "ExecuteTime": {
     "end_time": "2017-12-25T19:45:44.553026Z",
     "start_time": "2017-12-25T19:45:44.545519Z"
    }
   },
   "outputs": [
    {
     "data": {
      "text/plain": [
       "array([[  3.03420006e+09,   4.00000000e+00,   1.50000000e+00, ...,\n",
       "         -1.22332000e+02,   1.63000000e+03,   7.70200000e+03],\n",
       "       [  5.36170002e+09,   3.00000000e+00,   1.50000000e+00, ...,\n",
       "         -1.22349000e+02,   1.44000000e+03,   7.31600000e+03],\n",
       "       [  2.56820074e+09,   5.00000000e+00,   2.75000000e+00, ...,\n",
       "         -1.22104000e+02,   2.98000000e+03,   6.01800000e+03],\n",
       "       ..., \n",
       "       [  5.46950120e+09,   3.00000000e+00,   2.25000000e+00, ...,\n",
       "         -1.22158000e+02,   2.72000000e+03,   1.43880000e+04],\n",
       "       [  3.75160280e+09,   4.00000000e+00,   2.00000000e+00, ...,\n",
       "         -1.22279000e+02,   2.11000000e+03,   1.93340000e+04],\n",
       "       [  4.03860026e+09,   4.00000000e+00,   2.25000000e+00, ...,\n",
       "         -1.22120000e+02,   2.23000000e+03,   8.92500000e+03]])"
      ]
     },
     "execution_count": 27,
     "metadata": {},
     "output_type": "execute_result"
    }
   ],
   "source": [
    "X_train"
   ]
  },
  {
   "cell_type": "code",
   "execution_count": 28,
   "metadata": {
    "ExecuteTime": {
     "end_time": "2017-12-25T19:45:48.135888Z",
     "start_time": "2017-12-25T19:45:48.103364Z"
    }
   },
   "outputs": [
    {
     "name": "stdout",
     "output_type": "stream",
     "text": [
      "0.704602570355\n"
     ]
    }
   ],
   "source": [
    "from sklearn.linear_model import LinearRegression\n",
    "regressor = LinearRegression()\n",
    "regressor.fit(X_train, y_train)\n",
    "print(regressor.score(X_train, y_train))"
   ]
  },
  {
   "cell_type": "markdown",
   "metadata": {},
   "source": [
    "### Backward Elimination: ( Feature selecting using OLS)\n",
    "* Step 1: Select a significance level to stay in the model -> 0.05\n",
    "* Step 2: Fit the full model with all possible predictors\n",
    " * <i>(we gonna fit all our features in the model)</i>\n",
    "* Step 3: Consider the predictor with the highest P-value. \n",
    " * <i>If P > SL, continue step 4, otherwise the model is ready.</i>\n",
    "* Step 4: Remove the predictor\n",
    " * <i>(remove the variable that has the highest p-value, P > SL)</i>\n",
    "* Step 5: Fit model without this variable\n",
    " * <i>(after step 5, go back step 3 and repeat)</i>\n",
    "\n",
    "Note: We might choose other data for this process"
   ]
  },
  {
   "cell_type": "code",
   "execution_count": 29,
   "metadata": {
    "ExecuteTime": {
     "end_time": "2017-12-25T19:45:51.317585Z",
     "start_time": "2017-12-25T19:45:51.311578Z"
    }
   },
   "outputs": [
    {
     "data": {
      "text/plain": [
       "((21613, 19), (21613,))"
      ]
     },
     "execution_count": 29,
     "metadata": {},
     "output_type": "execute_result"
    }
   ],
   "source": [
    "X.shape, y.shape"
   ]
  },
  {
   "cell_type": "code",
   "execution_count": null,
   "metadata": {
    "collapsed": true
   },
   "outputs": [],
   "source": []
  },
  {
   "cell_type": "code",
   "execution_count": 30,
   "metadata": {
    "ExecuteTime": {
     "end_time": "2017-12-25T19:45:54.816762Z",
     "start_time": "2017-12-25T19:45:53.970661Z"
    }
   },
   "outputs": [
    {
     "data": {
      "image/png": "[encoded data removed]",
      "text/plain": [
       "<matplotlib.figure.Figure at 0x20dfc433470>"
      ]
     },
     "metadata": {},
     "output_type": "display_data"
    }
   ],
   "source": [
    "# building the optimal model using backward elimination\n",
    "from sklearn.linear_model import Lasso\n",
    "names = data.drop(['price', 'date'], axis=1).columns\n",
    "lasso = Lasso(alpha=0.1)\n",
    "lasso_coef = lasso.fit(X, y).coef_\n",
    "_ = plt.plot(range(len(names)), lasso_coef)\n",
    "_ = plt.xticks(range(len(names)), names, rotation=60)\n",
    "_ = plt.ylabel('Coefficients')\n",
    "plt.show()\n",
    "\n",
    "Output = None"
   ]
  },
  {
   "cell_type": "code",
   "execution_count": 31,
   "metadata": {
    "ExecuteTime": {
     "end_time": "2017-12-25T19:45:57.764954Z",
     "start_time": "2017-12-25T19:45:57.759949Z"
    }
   },
   "outputs": [
    {
     "data": {
      "text/plain": [
       "(19,)"
      ]
     },
     "execution_count": 31,
     "metadata": {},
     "output_type": "execute_result"
    }
   ],
   "source": [
    "names.shape"
   ]
  },
  {
   "cell_type": "code",
   "execution_count": 32,
   "metadata": {
    "ExecuteTime": {
     "end_time": "2017-12-25T19:45:58.558577Z",
     "start_time": "2017-12-25T19:45:58.434491Z"
    },
    "collapsed": true
   },
   "outputs": [],
   "source": [
    "import statsmodels.formula.api as sn"
   ]
  },
  {
   "cell_type": "code",
   "execution_count": 33,
   "metadata": {
    "ExecuteTime": {
     "end_time": "2017-12-25T19:45:59.190263Z",
     "start_time": "2017-12-25T19:45:59.184261Z"
    }
   },
   "outputs": [
    {
     "data": {
      "text/plain": [
       "(21613, 19)"
      ]
     },
     "execution_count": 33,
     "metadata": {},
     "output_type": "execute_result"
    }
   ],
   "source": [
    "X.shape"
   ]
  },
  {
   "cell_type": "code",
   "execution_count": 34,
   "metadata": {
    "ExecuteTime": {
     "end_time": "2017-12-25T19:45:59.788188Z",
     "start_time": "2017-12-25T19:45:59.780682Z"
    },
    "collapsed": true
   },
   "outputs": [],
   "source": [
    "X = np.append(arr= np.ones((21613, 1)).astype(int), values = X, axis = 1)"
   ]
  },
  {
   "cell_type": "code",
   "execution_count": 35,
   "metadata": {
    "ExecuteTime": {
     "end_time": "2017-12-25T19:46:01.129560Z",
     "start_time": "2017-12-25T19:46:01.123070Z"
    }
   },
   "outputs": [
    {
     "data": {
      "text/plain": [
       "(21613, 20)"
      ]
     },
     "execution_count": 35,
     "metadata": {},
     "output_type": "execute_result"
    }
   ],
   "source": [
    "X.shape"
   ]
  },
  {
   "cell_type": "code",
   "execution_count": 36,
   "metadata": {
    "ExecuteTime": {
     "end_time": "2017-12-25T19:46:02.005225Z",
     "start_time": "2017-12-25T19:46:01.909156Z"
    }
   },
   "outputs": [
    {
     "data": {
      "text/html": [
       "<table class=\"simpletable\">\n",
       "<caption>OLS Regression Results</caption>\n",
       "<tr>\n",
       "  <th>Dep. Variable:</th>            <td>y</td>        <th>  R-squared:         </th>  <td>   0.700</td>  \n",
       "</tr>\n",
       "<tr>\n",
       "  <th>Model:</th>                   <td>OLS</td>       <th>  Adj. R-squared:    </th>  <td>   0.700</td>  \n",
       "</tr>\n",
       "<tr>\n",
       "  <th>Method:</th>             <td>Least Squares</td>  <th>  F-statistic:       </th>  <td>   2797.</td>  \n",
       "</tr>\n",
       "<tr>\n",
       "  <th>Date:</th>             <td>Mon, 25 Dec 2017</td> <th>  Prob (F-statistic):</th>   <td>  0.00</td>   \n",
       "</tr>\n",
       "<tr>\n",
       "  <th>Time:</th>                 <td>14:46:01</td>     <th>  Log-Likelihood:    </th> <td>-2.9460e+05</td>\n",
       "</tr>\n",
       "<tr>\n",
       "  <th>No. Observations:</th>      <td> 21613</td>      <th>  AIC:               </th>  <td>5.892e+05</td> \n",
       "</tr>\n",
       "<tr>\n",
       "  <th>Df Residuals:</th>          <td> 21594</td>      <th>  BIC:               </th>  <td>5.894e+05</td> \n",
       "</tr>\n",
       "<tr>\n",
       "  <th>Df Model:</th>              <td>    18</td>      <th>                     </th>      <td> </td>     \n",
       "</tr>\n",
       "<tr>\n",
       "  <th>Covariance Type:</th>      <td>nonrobust</td>    <th>                     </th>      <td> </td>     \n",
       "</tr>\n",
       "</table>\n",
       "<table class=\"simpletable\">\n",
       "<tr>\n",
       "    <td></td>       <th>coef</th>     <th>std err</th>      <th>t</th>      <th>P>|t|</th>  <th>[0.025</th>    <th>0.975]</th>  \n",
       "</tr>\n",
       "<tr>\n",
       "  <th>const</th> <td> 6.939e+06</td> <td> 2.93e+06</td> <td>    2.366</td> <td> 0.018</td> <td> 1.19e+06</td> <td> 1.27e+07</td>\n",
       "</tr>\n",
       "<tr>\n",
       "  <th>x1</th>    <td>-1.289e-06</td> <td> 4.82e-07</td> <td>   -2.671</td> <td> 0.008</td> <td>-2.23e-06</td> <td>-3.43e-07</td>\n",
       "</tr>\n",
       "<tr>\n",
       "  <th>x2</th>    <td>-3.576e+04</td> <td> 1891.574</td> <td>  -18.907</td> <td> 0.000</td> <td>-3.95e+04</td> <td>-3.21e+04</td>\n",
       "</tr>\n",
       "<tr>\n",
       "  <th>x3</th>    <td> 4.116e+04</td> <td> 3253.218</td> <td>   12.651</td> <td> 0.000</td> <td> 3.48e+04</td> <td> 4.75e+04</td>\n",
       "</tr>\n",
       "<tr>\n",
       "  <th>x4</th>    <td>  110.3966</td> <td>    2.269</td> <td>   48.647</td> <td> 0.000</td> <td>  105.949</td> <td>  114.845</td>\n",
       "</tr>\n",
       "<tr>\n",
       "  <th>x5</th>    <td>    0.1218</td> <td>    0.048</td> <td>    2.539</td> <td> 0.011</td> <td>    0.028</td> <td>    0.216</td>\n",
       "</tr>\n",
       "<tr>\n",
       "  <th>x6</th>    <td> 6764.7563</td> <td> 3595.459</td> <td>    1.881</td> <td> 0.060</td> <td> -282.608</td> <td> 1.38e+04</td>\n",
       "</tr>\n",
       "<tr>\n",
       "  <th>x7</th>    <td> 5.827e+05</td> <td> 1.74e+04</td> <td>   33.567</td> <td> 0.000</td> <td> 5.49e+05</td> <td> 6.17e+05</td>\n",
       "</tr>\n",
       "<tr>\n",
       "  <th>x8</th>    <td> 5.303e+04</td> <td> 2140.594</td> <td>   24.774</td> <td> 0.000</td> <td> 4.88e+04</td> <td> 5.72e+04</td>\n",
       "</tr>\n",
       "<tr>\n",
       "  <th>x9</th>    <td> 2.625e+04</td> <td> 2351.639</td> <td>   11.164</td> <td> 0.000</td> <td> 2.16e+04</td> <td> 3.09e+04</td>\n",
       "</tr>\n",
       "<tr>\n",
       "  <th>x10</th>   <td> 9.601e+04</td> <td> 2152.926</td> <td>   44.594</td> <td> 0.000</td> <td> 9.18e+04</td> <td>    1e+05</td>\n",
       "</tr>\n",
       "<tr>\n",
       "  <th>x11</th>   <td>   70.6906</td> <td>    2.253</td> <td>   31.371</td> <td> 0.000</td> <td>   66.274</td> <td>   75.107</td>\n",
       "</tr>\n",
       "<tr>\n",
       "  <th>x12</th>   <td>   39.7072</td> <td>    2.646</td> <td>   15.006</td> <td> 0.000</td> <td>   34.520</td> <td>   44.894</td>\n",
       "</tr>\n",
       "<tr>\n",
       "  <th>x13</th>   <td>-2622.2522</td> <td>   72.653</td> <td>  -36.093</td> <td> 0.000</td> <td>-2764.657</td> <td>-2479.847</td>\n",
       "</tr>\n",
       "<tr>\n",
       "  <th>x14</th>   <td>   19.6458</td> <td>    3.656</td> <td>    5.374</td> <td> 0.000</td> <td>   12.481</td> <td>   26.811</td>\n",
       "</tr>\n",
       "<tr>\n",
       "  <th>x15</th>   <td> -582.2481</td> <td>   32.981</td> <td>  -17.654</td> <td> 0.000</td> <td> -646.894</td> <td> -517.603</td>\n",
       "</tr>\n",
       "<tr>\n",
       "  <th>x16</th>   <td> 6.024e+05</td> <td> 1.07e+04</td> <td>   56.115</td> <td> 0.000</td> <td> 5.81e+05</td> <td> 6.23e+05</td>\n",
       "</tr>\n",
       "<tr>\n",
       "  <th>x17</th>   <td>-2.128e+05</td> <td> 1.32e+04</td> <td>  -16.179</td> <td> 0.000</td> <td>-2.39e+05</td> <td>-1.87e+05</td>\n",
       "</tr>\n",
       "<tr>\n",
       "  <th>x18</th>   <td>   21.6256</td> <td>    3.447</td> <td>    6.273</td> <td> 0.000</td> <td>   14.869</td> <td>   28.383</td>\n",
       "</tr>\n",
       "<tr>\n",
       "  <th>x19</th>   <td>   -0.3964</td> <td>    0.073</td> <td>   -5.398</td> <td> 0.000</td> <td>   -0.540</td> <td>   -0.252</td>\n",
       "</tr>\n",
       "</table>\n",
       "<table class=\"simpletable\">\n",
       "<tr>\n",
       "  <th>Omnibus:</th>       <td>18406.018</td> <th>  Durbin-Watson:     </th>  <td>   1.990</td>  \n",
       "</tr>\n",
       "<tr>\n",
       "  <th>Prob(Omnibus):</th>  <td> 0.000</td>   <th>  Jarque-Bera (JB):  </th> <td>1881616.153</td>\n",
       "</tr>\n",
       "<tr>\n",
       "  <th>Skew:</th>           <td> 3.571</td>   <th>  Prob(JB):          </th>  <td>    0.00</td>  \n",
       "</tr>\n",
       "<tr>\n",
       "  <th>Kurtosis:</th>       <td>48.149</td>   <th>  Cond. No.          </th>  <td>1.79e+22</td>  \n",
       "</tr>\n",
       "</table>"
      ],
      "text/plain": [
       "<class 'statsmodels.iolib.summary.Summary'>\n",
       "\"\"\"\n",
       "                            OLS Regression Results                            \n",
       "==============================================================================\n",
       "Dep. Variable:                      y   R-squared:                       0.700\n",
       "Model:                            OLS   Adj. R-squared:                  0.700\n",
       "Method:                 Least Squares   F-statistic:                     2797.\n",
       "Date:                Mon, 25 Dec 2017   Prob (F-statistic):               0.00\n",
       "Time:                        14:46:01   Log-Likelihood:            -2.9460e+05\n",
       "No. Observations:               21613   AIC:                         5.892e+05\n",
       "Df Residuals:                   21594   BIC:                         5.894e+05\n",
       "Df Model:                          18                                         \n",
       "Covariance Type:            nonrobust                                         \n",
       "==============================================================================\n",
       "                 coef    std err          t      P>|t|      [0.025      0.975]\n",
       "------------------------------------------------------------------------------\n",
       "const       6.939e+06   2.93e+06      2.366      0.018    1.19e+06    1.27e+07\n",
       "x1         -1.289e-06   4.82e-07     -2.671      0.008   -2.23e-06   -3.43e-07\n",
       "x2         -3.576e+04   1891.574    -18.907      0.000   -3.95e+04   -3.21e+04\n",
       "x3          4.116e+04   3253.218     12.651      0.000    3.48e+04    4.75e+04\n",
       "x4           110.3966      2.269     48.647      0.000     105.949     114.845\n",
       "x5             0.1218      0.048      2.539      0.011       0.028       0.216\n",
       "x6          6764.7563   3595.459      1.881      0.060    -282.608    1.38e+04\n",
       "x7          5.827e+05   1.74e+04     33.567      0.000    5.49e+05    6.17e+05\n",
       "x8          5.303e+04   2140.594     24.774      0.000    4.88e+04    5.72e+04\n",
       "x9          2.625e+04   2351.639     11.164      0.000    2.16e+04    3.09e+04\n",
       "x10         9.601e+04   2152.926     44.594      0.000    9.18e+04       1e+05\n",
       "x11           70.6906      2.253     31.371      0.000      66.274      75.107\n",
       "x12           39.7072      2.646     15.006      0.000      34.520      44.894\n",
       "x13        -2622.2522     72.653    -36.093      0.000   -2764.657   -2479.847\n",
       "x14           19.6458      3.656      5.374      0.000      12.481      26.811\n",
       "x15         -582.2481     32.981    -17.654      0.000    -646.894    -517.603\n",
       "x16         6.024e+05   1.07e+04     56.115      0.000    5.81e+05    6.23e+05\n",
       "x17        -2.128e+05   1.32e+04    -16.179      0.000   -2.39e+05   -1.87e+05\n",
       "x18           21.6256      3.447      6.273      0.000      14.869      28.383\n",
       "x19           -0.3964      0.073     -5.398      0.000      -0.540      -0.252\n",
       "==============================================================================\n",
       "Omnibus:                    18406.018   Durbin-Watson:                   1.990\n",
       "Prob(Omnibus):                  0.000   Jarque-Bera (JB):          1881616.153\n",
       "Skew:                           3.571   Prob(JB):                         0.00\n",
       "Kurtosis:                      48.149   Cond. No.                     1.79e+22\n",
       "==============================================================================\n",
       "\n",
       "Warnings:\n",
       "[1] Standard Errors assume that the covariance matrix of the errors is correctly specified.\n",
       "[2] The smallest eigenvalue is 1.98e-21. This might indicate that there are\n",
       "strong multicollinearity problems or that the design matrix is singular.\n",
       "\"\"\""
      ]
     },
     "execution_count": 36,
     "metadata": {},
     "output_type": "execute_result"
    }
   ],
   "source": [
    "X_optimal = X[:, [0,1,2,3,4,5,6,7,8,9,10,11,12,13,14,15,16,17,18,19]]\n",
    "regressor_OSL = sn.OLS(endog=y, exog= X_optimal).fit()\n",
    "regressor_OSL.summary()"
   ]
  },
  {
   "cell_type": "code",
   "execution_count": 37,
   "metadata": {
    "ExecuteTime": {
     "end_time": "2017-12-25T19:46:05.603552Z",
     "start_time": "2017-12-25T19:46:05.600068Z"
    },
    "collapsed": true
   },
   "outputs": [],
   "source": [
    "# the lower in your p-value, the less signicate has to your depend value"
   ]
  },
  {
   "cell_type": "code",
   "execution_count": 38,
   "metadata": {
    "ExecuteTime": {
     "end_time": "2017-12-25T19:46:06.287052Z",
     "start_time": "2017-12-25T19:46:06.214001Z"
    }
   },
   "outputs": [
    {
     "data": {
      "text/html": [
       "<table class=\"simpletable\">\n",
       "<caption>OLS Regression Results</caption>\n",
       "<tr>\n",
       "  <th>Dep. Variable:</th>            <td>y</td>        <th>  R-squared:         </th>  <td>   0.700</td>  \n",
       "</tr>\n",
       "<tr>\n",
       "  <th>Model:</th>                   <td>OLS</td>       <th>  Adj. R-squared:    </th>  <td>   0.700</td>  \n",
       "</tr>\n",
       "<tr>\n",
       "  <th>Method:</th>             <td>Least Squares</td>  <th>  F-statistic:       </th>  <td>   2961.</td>  \n",
       "</tr>\n",
       "<tr>\n",
       "  <th>Date:</th>             <td>Mon, 25 Dec 2017</td> <th>  Prob (F-statistic):</th>   <td>  0.00</td>   \n",
       "</tr>\n",
       "<tr>\n",
       "  <th>Time:</th>                 <td>14:46:06</td>     <th>  Log-Likelihood:    </th> <td>-2.9460e+05</td>\n",
       "</tr>\n",
       "<tr>\n",
       "  <th>No. Observations:</th>      <td> 21613</td>      <th>  AIC:               </th>  <td>5.892e+05</td> \n",
       "</tr>\n",
       "<tr>\n",
       "  <th>Df Residuals:</th>          <td> 21595</td>      <th>  BIC:               </th>  <td>5.894e+05</td> \n",
       "</tr>\n",
       "<tr>\n",
       "  <th>Df Model:</th>              <td>    17</td>      <th>                     </th>      <td> </td>     \n",
       "</tr>\n",
       "<tr>\n",
       "  <th>Covariance Type:</th>      <td>nonrobust</td>    <th>                     </th>      <td> </td>     \n",
       "</tr>\n",
       "</table>\n",
       "<table class=\"simpletable\">\n",
       "<tr>\n",
       "    <td></td>       <th>coef</th>     <th>std err</th>      <th>t</th>      <th>P>|t|</th>  <th>[0.025</th>    <th>0.975]</th>  \n",
       "</tr>\n",
       "<tr>\n",
       "  <th>const</th> <td> 5.978e+06</td> <td> 2.89e+06</td> <td>    2.070</td> <td> 0.038</td> <td> 3.17e+05</td> <td> 1.16e+07</td>\n",
       "</tr>\n",
       "<tr>\n",
       "  <th>x1</th>    <td>-1.282e-06</td> <td> 4.83e-07</td> <td>   -2.656</td> <td> 0.008</td> <td>-2.23e-06</td> <td>-3.36e-07</td>\n",
       "</tr>\n",
       "<tr>\n",
       "  <th>x2</th>    <td>-3.586e+04</td> <td> 1890.983</td> <td>  -18.964</td> <td> 0.000</td> <td>-3.96e+04</td> <td>-3.22e+04</td>\n",
       "</tr>\n",
       "<tr>\n",
       "  <th>x3</th>    <td> 4.275e+04</td> <td> 3141.536</td> <td>   13.607</td> <td> 0.000</td> <td> 3.66e+04</td> <td> 4.89e+04</td>\n",
       "</tr>\n",
       "<tr>\n",
       "  <th>x4</th>    <td>  109.9232</td> <td>    2.256</td> <td>   48.735</td> <td> 0.000</td> <td>  105.502</td> <td>  114.344</td>\n",
       "</tr>\n",
       "<tr>\n",
       "  <th>x5</th>    <td>    0.1199</td> <td>    0.048</td> <td>    2.499</td> <td> 0.012</td> <td>    0.026</td> <td>    0.214</td>\n",
       "</tr>\n",
       "<tr>\n",
       "  <th>x6</th>    <td> 5.828e+05</td> <td> 1.74e+04</td> <td>   33.571</td> <td> 0.000</td> <td> 5.49e+05</td> <td> 6.17e+05</td>\n",
       "</tr>\n",
       "<tr>\n",
       "  <th>x7</th>    <td> 5.313e+04</td> <td> 2140.120</td> <td>   24.824</td> <td> 0.000</td> <td> 4.89e+04</td> <td> 5.73e+04</td>\n",
       "</tr>\n",
       "<tr>\n",
       "  <th>x8</th>    <td> 2.601e+04</td> <td> 2348.036</td> <td>   11.075</td> <td> 0.000</td> <td> 2.14e+04</td> <td> 3.06e+04</td>\n",
       "</tr>\n",
       "<tr>\n",
       "  <th>x9</th>    <td> 9.636e+04</td> <td> 2144.725</td> <td>   44.930</td> <td> 0.000</td> <td> 9.22e+04</td> <td> 1.01e+05</td>\n",
       "</tr>\n",
       "<tr>\n",
       "  <th>x10</th>   <td>   72.2704</td> <td>    2.091</td> <td>   34.556</td> <td> 0.000</td> <td>   68.171</td> <td>   76.370</td>\n",
       "</tr>\n",
       "<tr>\n",
       "  <th>x11</th>   <td>   37.6564</td> <td>    2.411</td> <td>   15.617</td> <td> 0.000</td> <td>   32.930</td> <td>   42.383</td>\n",
       "</tr>\n",
       "<tr>\n",
       "  <th>x12</th>   <td>-2592.4815</td> <td>   70.913</td> <td>  -36.559</td> <td> 0.000</td> <td>-2731.476</td> <td>-2453.487</td>\n",
       "</tr>\n",
       "<tr>\n",
       "  <th>x13</th>   <td>   20.0110</td> <td>    3.651</td> <td>    5.481</td> <td> 0.000</td> <td>   12.855</td> <td>   27.167</td>\n",
       "</tr>\n",
       "<tr>\n",
       "  <th>x14</th>   <td> -576.4547</td> <td>   32.839</td> <td>  -17.554</td> <td> 0.000</td> <td> -640.822</td> <td> -512.088</td>\n",
       "</tr>\n",
       "<tr>\n",
       "  <th>x15</th>   <td>  6.04e+05</td> <td> 1.07e+04</td> <td>   56.463</td> <td> 0.000</td> <td> 5.83e+05</td> <td> 6.25e+05</td>\n",
       "</tr>\n",
       "<tr>\n",
       "  <th>x16</th>   <td>-2.149e+05</td> <td> 1.31e+04</td> <td>  -16.401</td> <td> 0.000</td> <td>-2.41e+05</td> <td>-1.89e+05</td>\n",
       "</tr>\n",
       "<tr>\n",
       "  <th>x17</th>   <td>   20.9038</td> <td>    3.426</td> <td>    6.101</td> <td> 0.000</td> <td>   14.188</td> <td>   27.619</td>\n",
       "</tr>\n",
       "<tr>\n",
       "  <th>x18</th>   <td>   -0.4012</td> <td>    0.073</td> <td>   -5.466</td> <td> 0.000</td> <td>   -0.545</td> <td>   -0.257</td>\n",
       "</tr>\n",
       "</table>\n",
       "<table class=\"simpletable\">\n",
       "<tr>\n",
       "  <th>Omnibus:</th>       <td>18354.374</td> <th>  Durbin-Watson:     </th>  <td>   1.990</td>  \n",
       "</tr>\n",
       "<tr>\n",
       "  <th>Prob(Omnibus):</th>  <td> 0.000</td>   <th>  Jarque-Bera (JB):  </th> <td>1861694.626</td>\n",
       "</tr>\n",
       "<tr>\n",
       "  <th>Skew:</th>           <td> 3.557</td>   <th>  Prob(JB):          </th>  <td>    0.00</td>  \n",
       "</tr>\n",
       "<tr>\n",
       "  <th>Kurtosis:</th>       <td>47.908</td>   <th>  Cond. No.          </th>  <td>1.83e+22</td>  \n",
       "</tr>\n",
       "</table>"
      ],
      "text/plain": [
       "<class 'statsmodels.iolib.summary.Summary'>\n",
       "\"\"\"\n",
       "                            OLS Regression Results                            \n",
       "==============================================================================\n",
       "Dep. Variable:                      y   R-squared:                       0.700\n",
       "Model:                            OLS   Adj. R-squared:                  0.700\n",
       "Method:                 Least Squares   F-statistic:                     2961.\n",
       "Date:                Mon, 25 Dec 2017   Prob (F-statistic):               0.00\n",
       "Time:                        14:46:06   Log-Likelihood:            -2.9460e+05\n",
       "No. Observations:               21613   AIC:                         5.892e+05\n",
       "Df Residuals:                   21595   BIC:                         5.894e+05\n",
       "Df Model:                          17                                         \n",
       "Covariance Type:            nonrobust                                         \n",
       "==============================================================================\n",
       "                 coef    std err          t      P>|t|      [0.025      0.975]\n",
       "------------------------------------------------------------------------------\n",
       "const       5.978e+06   2.89e+06      2.070      0.038    3.17e+05    1.16e+07\n",
       "x1         -1.282e-06   4.83e-07     -2.656      0.008   -2.23e-06   -3.36e-07\n",
       "x2         -3.586e+04   1890.983    -18.964      0.000   -3.96e+04   -3.22e+04\n",
       "x3          4.275e+04   3141.536     13.607      0.000    3.66e+04    4.89e+04\n",
       "x4           109.9232      2.256     48.735      0.000     105.502     114.344\n",
       "x5             0.1199      0.048      2.499      0.012       0.026       0.214\n",
       "x6          5.828e+05   1.74e+04     33.571      0.000    5.49e+05    6.17e+05\n",
       "x7          5.313e+04   2140.120     24.824      0.000    4.89e+04    5.73e+04\n",
       "x8          2.601e+04   2348.036     11.075      0.000    2.14e+04    3.06e+04\n",
       "x9          9.636e+04   2144.725     44.930      0.000    9.22e+04    1.01e+05\n",
       "x10           72.2704      2.091     34.556      0.000      68.171      76.370\n",
       "x11           37.6564      2.411     15.617      0.000      32.930      42.383\n",
       "x12        -2592.4815     70.913    -36.559      0.000   -2731.476   -2453.487\n",
       "x13           20.0110      3.651      5.481      0.000      12.855      27.167\n",
       "x14         -576.4547     32.839    -17.554      0.000    -640.822    -512.088\n",
       "x15          6.04e+05   1.07e+04     56.463      0.000    5.83e+05    6.25e+05\n",
       "x16        -2.149e+05   1.31e+04    -16.401      0.000   -2.41e+05   -1.89e+05\n",
       "x17           20.9038      3.426      6.101      0.000      14.188      27.619\n",
       "x18           -0.4012      0.073     -5.466      0.000      -0.545      -0.257\n",
       "==============================================================================\n",
       "Omnibus:                    18354.374   Durbin-Watson:                   1.990\n",
       "Prob(Omnibus):                  0.000   Jarque-Bera (JB):          1861694.626\n",
       "Skew:                           3.557   Prob(JB):                         0.00\n",
       "Kurtosis:                      47.908   Cond. No.                     1.83e+22\n",
       "==============================================================================\n",
       "\n",
       "Warnings:\n",
       "[1] Standard Errors assume that the covariance matrix of the errors is correctly specified.\n",
       "[2] The smallest eigenvalue is 1.88e-21. This might indicate that there are\n",
       "strong multicollinearity problems or that the design matrix is singular.\n",
       "\"\"\""
      ]
     },
     "execution_count": 38,
     "metadata": {},
     "output_type": "execute_result"
    }
   ],
   "source": [
    "X_optimal = X[:, [0,1,2,3,4,5,7,8,9,10,11,12,13,14,15,16,17,18,19]]\n",
    "regressor_OSL = sn.OLS(endog=y, exog= X_optimal).fit()\n",
    "regressor_OSL.summary()"
   ]
  },
  {
   "cell_type": "markdown",
   "metadata": {},
   "source": [
    "## Simple OLS"
   ]
  },
  {
   "cell_type": "code",
   "execution_count": 39,
   "metadata": {
    "ExecuteTime": {
     "end_time": "2017-12-25T19:46:10.920372Z",
     "start_time": "2017-12-25T19:46:10.915383Z"
    },
    "collapsed": true
   },
   "outputs": [],
   "source": [
    "from sklearn.preprocessing import StandardScaler\n",
    "scale = StandardScaler()"
   ]
  },
  {
   "cell_type": "code",
   "execution_count": 40,
   "metadata": {
    "ExecuteTime": {
     "end_time": "2017-12-25T19:46:11.693936Z",
     "start_time": "2017-12-25T19:46:11.684429Z"
    }
   },
   "outputs": [
    {
     "data": {
      "text/plain": [
       "array([[-1.41421356, -1.41421356, -1.41421356, -1.41421356, -1.41421356],\n",
       "       [-0.70710678, -0.70710678, -0.70710678, -0.70710678, -0.70710678],\n",
       "       [ 0.        ,  0.        ,  0.        ,  0.        ,  0.        ],\n",
       "       [ 0.70710678,  0.70710678,  0.70710678,  0.70710678,  0.70710678],\n",
       "       [ 1.41421356,  1.41421356,  1.41421356,  1.41421356,  1.41421356]])"
      ]
     },
     "execution_count": 40,
     "metadata": {},
     "output_type": "execute_result"
    }
   ],
   "source": [
    "norm = np.arange(1, 50, 2).reshape(5,5)\n",
    "norm = scale.fit_transform(norm)\n",
    "#norm = np.log(norm)\n",
    "norm[:,:]\n",
    "#plt.plot(norm)"
   ]
  },
  {
   "cell_type": "code",
   "execution_count": 41,
   "metadata": {
    "ExecuteTime": {
     "end_time": "2017-12-25T19:46:15.422590Z",
     "start_time": "2017-12-25T19:46:14.476931Z"
    }
   },
   "outputs": [
    {
     "data": {
      "text/plain": [
       "<matplotlib.axes._subplots.AxesSubplot at 0x20d8104a160>"
      ]
     },
     "execution_count": 41,
     "metadata": {},
     "output_type": "execute_result"
    },
    {
     "data": {
      "image/png": "[encoded data removed]",
      "text/plain": [
       "<matplotlib.figure.Figure at 0x20d80c03b38>"
      ]
     },
     "metadata": {},
     "output_type": "display_data"
    }
   ],
   "source": [
    "sns.heatmap(data.isnull(), yticklabels=False, cbar=False, cmap='viridis')"
   ]
  },
  {
   "cell_type": "code",
   "execution_count": null,
   "metadata": {
    "ExecuteTime": {
     "end_time": "2017-12-25T19:36:11.687712Z",
     "start_time": "2017-12-25T19:36:11.682208Z"
    }
   },
   "outputs": [],
   "source": [
    "data.shape"
   ]
  },
  {
   "cell_type": "code",
   "execution_count": 48,
   "metadata": {
    "ExecuteTime": {
     "end_time": "2017-12-25T19:49:12.111149Z",
     "start_time": "2017-12-25T19:49:12.101641Z"
    }
   },
   "outputs": [],
   "source": [
    "mask = data['id'] = 15870\n",
    "data.drop(mask, axis=0, inplace = True)"
   ]
  },
  {
   "cell_type": "code",
   "execution_count": 49,
   "metadata": {
    "ExecuteTime": {
     "end_time": "2017-12-25T19:49:12.812639Z",
     "start_time": "2017-12-25T19:49:12.794126Z"
    }
   },
   "outputs": [
    {
     "name": "stdout",
     "output_type": "stream",
     "text": [
      "<class 'pandas.core.frame.DataFrame'>\n",
      "Int64Index: 21612 entries, 0 to 21612\n",
      "Data columns (total 21 columns):\n",
      "id               21612 non-null int64\n",
      "date             21612 non-null datetime64[ns]\n",
      "price            21612 non-null float64\n",
      "bedrooms         21612 non-null int64\n",
      "bathrooms        21612 non-null float64\n",
      "sqft_living      21612 non-null int64\n",
      "sqft_lot         21612 non-null int64\n",
      "floors           21612 non-null float64\n",
      "waterfront       21612 non-null int64\n",
      "view             21612 non-null int64\n",
      "condition        21612 non-null int64\n",
      "grade            21612 non-null int64\n",
      "sqft_above       21612 non-null int64\n",
      "sqft_basement    21612 non-null int64\n",
      "yr_built         21612 non-null int64\n",
      "yr_renovated     21612 non-null int64\n",
      "zipcode          21612 non-null int64\n",
      "lat              21612 non-null float64\n",
      "long             21612 non-null float64\n",
      "sqft_living15    21612 non-null int64\n",
      "sqft_lot15       21612 non-null int64\n",
      "dtypes: datetime64[ns](1), float64(5), int64(15)\n",
      "memory usage: 3.6 MB\n"
     ]
    }
   ],
   "source": [
    "#data[\"bedrooms\"] = data['bedrooms'][(data['bedrooms']<32)]\n",
    "#sns.heatmap(data.isnull(), yticklabels=False, cbar=False, cmap='viridis')\n",
    "data.info()"
   ]
  },
  {
   "cell_type": "code",
   "execution_count": null,
   "metadata": {
    "collapsed": true
   },
   "outputs": [],
   "source": []
  },
  {
   "cell_type": "code",
   "execution_count": 50,
   "metadata": {
    "ExecuteTime": {
     "end_time": "2017-12-25T19:49:28.273192Z",
     "start_time": "2017-12-25T19:49:27.605688Z"
    }
   },
   "outputs": [],
   "source": [
    "# feature correlation\n",
    "#corr = data.corr()['price']\n",
    "#corr[np.argsort(corr, axis= 0,)][::-1]\n",
    "\n",
    "X_ols = data[['sqft_living', 'grade', 'sqft_above', \n",
    "              'view', 'sqft_basement', 'bedrooms', 'lat',\n",
    "              'waterfront', 'floors', 'yr_renovated']]\n",
    "\n",
    "y_ols = data['price']\n",
    "\n",
    "#normalize\n",
    "X_ols[['sqft_living', 'grade', 'sqft_above', \n",
    "              'view', 'sqft_basement', 'bedrooms', 'lat',\n",
    "              'waterfront', 'floors', 'yr_renovated']] =\\\n",
    "scale.fit_transform(X_ols[['sqft_living', 'grade', 'sqft_above', \n",
    "              'view', 'sqft_basement', 'bedrooms', 'lat',\n",
    "              'waterfront', 'floors', 'yr_renovated']].as_matrix())\n"
   ]
  },
  {
   "cell_type": "code",
   "execution_count": 51,
   "metadata": {
    "ExecuteTime": {
     "end_time": "2017-12-25T19:49:31.020890Z",
     "start_time": "2017-12-25T19:49:30.994382Z"
    }
   },
   "outputs": [
    {
     "name": "stdout",
     "output_type": "stream",
     "text": [
      "       sqft_living     grade  sqft_above      view  sqft_basement  bedrooms  \\\n",
      "0        -0.979841 -0.558853   -0.734746 -0.305767      -0.658642 -0.406924   \n",
      "1         0.533602 -0.558853    0.460797 -0.305767       0.245168 -0.406924   \n",
      "2        -1.426252 -1.409591   -1.229870 -0.305767      -0.658642 -1.508293   \n",
      "3        -0.130571 -0.558853   -0.891737 -0.305767       1.397527  0.694446   \n",
      "4        -0.435437  0.291885   -0.130937 -0.305767      -0.658642 -0.406924   \n",
      "5         3.636705  2.844099    2.537903 -0.305767       2.798433  0.694446   \n",
      "6        -0.397329 -0.558853   -0.088670 -0.305767      -0.658642 -0.406924   \n",
      "7        -1.110498 -0.558853   -0.879661 -0.305767      -0.658642 -0.406924   \n",
      "8        -0.326556 -0.558853   -0.891737 -0.305767       0.990812 -0.406924   \n",
      "9        -0.206788 -0.558853    0.122664 -0.305767      -0.658642 -0.406924   \n",
      "10        1.611522  0.291885    0.086435 -0.305767       3.182552 -0.406924   \n",
      "11       -1.001617 -0.558853   -1.121185 -0.305767       0.019216 -1.508293   \n",
      "12       -0.707639 -0.558853   -0.432841 -0.305767      -0.658642 -0.406924   \n",
      "13       -0.772968 -0.558853   -0.505299 -0.305767      -0.658642 -0.406924   \n",
      "14       -0.293892 -0.558853    0.026054 -0.305767      -0.658642  1.795815   \n",
      "15        0.947349  1.142623    0.231349  3.609067       1.533098  0.694446   \n",
      "16       -0.206788 -0.558853    0.122664 -0.305767      -0.658642 -0.406924   \n",
      "17       -0.522542 -0.558853   -0.227546 -0.305767      -0.658642  0.694446   \n",
      "18       -0.958065 -0.558853   -0.710594 -0.305767      -0.658642 -1.508293   \n",
      "19       -0.903625 -0.558853   -0.650213 -0.305767      -0.658642 -0.406924   \n",
      "20       -0.500766 -0.558853   -1.121185 -0.305767       1.058598  0.694446   \n",
      "21        1.056230  1.142623    0.654016  4.914012       0.968217 -0.406924   \n",
      "22        0.206960  0.291885    0.581559 -0.305767      -0.658642  1.795815   \n",
      "23       -1.099610 -0.558853   -0.867584 -0.305767      -0.658642 -1.508293   \n",
      "24        0.402945  0.291885    0.798931 -0.305767      -0.658642 -0.406924   \n",
      "25       -0.402773 -1.409591   -0.094708 -0.305767      -0.658642 -0.406924   \n",
      "26        0.402945  0.291885   -0.046403 -0.305767       0.923026 -0.406924   \n",
      "27       -0.740303  0.291885   -0.469070 -0.305767      -0.658642 -0.406924   \n",
      "28       -0.609646 -0.558853   -1.205718 -0.305767       0.990812 -0.406924   \n",
      "29        0.533602  0.291885    0.943845 -0.305767      -0.658642  0.694446   \n",
      "...            ...       ...         ...       ...            ...       ...   \n",
      "21583    -1.491581 -0.558853   -1.302328 -0.305767      -0.658642 -1.508293   \n",
      "21584    -0.892737 -0.558853   -1.024575 -0.305767       0.064406 -0.406924   \n",
      "21585    -0.228564 -0.558853    0.098511 -0.305767      -0.658642 -0.406924   \n",
      "21586    -0.707639  0.291885   -0.432841 -0.305767      -0.658642 -1.508293   \n",
      "21587    -0.609646  0.291885   -0.324156 -0.305767      -0.658642 -0.406924   \n",
      "21588    -0.947177  0.291885   -0.927965 -0.305767      -0.229332 -1.508293   \n",
      "21589     0.500938  0.291885    0.907616 -0.305767      -0.658642 -0.406924   \n",
      "21590     3.081413  2.844099    1.595959 -0.305767       3.408505  0.694446   \n",
      "21591     0.751364  0.291885    1.185369 -0.305767      -0.658642  0.694446   \n",
      "21592    -0.968953  0.291885   -0.722670 -0.305767      -0.658642 -0.406924   \n",
      "21593     2.275695  1.993361    2.876036  2.304122      -0.658642  1.795815   \n",
      "21594     0.457385  0.291885    0.859312 -0.305767      -0.658642  0.694446   \n",
      "21595    -0.598758  0.291885   -0.372460 -0.305767      -0.545666 -1.508293   \n",
      "21596     1.655074  1.142623    2.187693 -0.305767      -0.658642  1.795815   \n",
      "21597     1.448201  1.993361    1.958245 -0.305767      -0.658642  0.694446   \n",
      "21598     1.130269  1.142623    1.605620  2.304122      -0.658642  0.694446   \n",
      "21599     2.079709  1.142623    2.658665 -0.305767      -0.658642  0.694446   \n",
      "21600     2.602337  2.844099    3.238322 -0.305767      -0.658642  1.795815   \n",
      "21601    -0.713083  0.291885   -0.438880 -0.305767      -0.658642 -0.406924   \n",
      "21602    -0.631423 -1.409591   -0.348308 -0.305767      -0.658642 -0.406924   \n",
      "21603     0.206960  0.291885    0.581559 -0.305767      -0.658642 -0.406924   \n",
      "21604    -0.642311  0.291885   -0.360384 -0.305767      -0.658642 -0.406924   \n",
      "21605     0.479162  1.142623    0.883464 -0.305767      -0.658642  0.694446   \n",
      "21606     1.557081  1.142623    0.980073 -0.305767       1.397527  0.694446   \n",
      "21607    -0.838296  0.291885   -0.734746 -0.305767      -0.364904 -0.406924   \n",
      "21608    -0.598758  0.291885   -0.312079 -0.305767      -0.658642 -0.406924   \n",
      "21609     0.250512  0.291885    0.629864 -0.305767      -0.658642  0.694446   \n",
      "21610    -1.154050 -0.558853   -0.927965 -0.305767      -0.658642 -1.508293   \n",
      "21611    -0.522542  0.291885   -0.227546 -0.305767      -0.658642 -0.406924   \n",
      "21612    -1.154050 -0.558853   -0.927965 -0.305767      -0.658642 -1.508293   \n",
      "\n",
      "            lat  waterfront    floors  yr_renovated  \n",
      "0     -0.352528   -0.087175 -0.915466     -0.210133  \n",
      "1      1.161607   -0.087175  0.936460      4.746563  \n",
      "2      1.283575   -0.087175 -0.915466     -0.210133  \n",
      "3     -0.283244   -0.087175 -0.915466     -0.210133  \n",
      "4      0.409591   -0.087175 -0.915466     -0.210133  \n",
      "5      0.693221   -0.087175 -0.915466     -0.210133  \n",
      "6     -1.806761   -0.087175  0.936460     -0.210133  \n",
      "7     -1.086501   -0.087175 -0.915466     -0.210133  \n",
      "8     -0.344589   -0.087175 -0.915466     -0.210133  \n",
      "9     -1.383121   -0.087175  0.936460     -0.210133  \n",
      "10     0.293397   -0.087175 -0.915466     -0.210133  \n",
      "11     0.937879   -0.087175 -0.915466     -0.210133  \n",
      "12     1.412760   -0.087175  0.010497     -0.210133  \n",
      "13     0.380002   -0.087175 -0.915466     -0.210133  \n",
      "14     0.793538   -0.087175  0.010497     -0.210133  \n",
      "15     0.081938   -0.087175  0.936460     -0.210133  \n",
      "16     1.209961   -0.087175  0.936460     -0.210133  \n",
      "17     0.756009   -0.087175  0.010497     -0.210133  \n",
      "18    -1.812535   -0.087175 -0.915466     -0.210133  \n",
      "19    -1.629222   -0.087175 -0.915466     -0.210133  \n",
      "20     1.028092   -0.087175 -0.915466     -0.210133  \n",
      "21    -0.205300   -0.087175 -0.915466     -0.210133  \n",
      "22    -1.684793   -0.087175  0.936460     -0.210133  \n",
      "23    -1.492098   -0.087175 -0.915466     -0.210133  \n",
      "24    -1.343427   -0.087175  0.936460     -0.210133  \n",
      "25    -1.842125   -0.087175  0.010497     -0.210133  \n",
      "26     0.566923   -0.087175  0.936460     -0.210133  \n",
      "27     0.447842   -0.087175  0.010497     -0.210133  \n",
      "28     0.973964   -0.087175 -0.915466     -0.210133  \n",
      "29     1.062733   -0.087175  0.936460     -0.210133  \n",
      "...         ...         ...       ...           ...  \n",
      "21583  0.586409   -0.087175  0.936460     -0.210133  \n",
      "21584  0.014819   -0.087175  0.936460     -0.210133  \n",
      "21585 -1.632109   -0.087175  0.936460     -0.210133  \n",
      "21586  0.798590   -0.087175  2.788386     -0.210133  \n",
      "21587  1.253263   -0.087175  2.788386     -0.210133  \n",
      "21588  0.833953   -0.087175  0.936460     -0.210133  \n",
      "21589 -1.550556   -0.087175  0.936460     -0.210133  \n",
      "21590  0.650641   -0.087175  0.010497     -0.210133  \n",
      "21591 -0.432637   -0.087175  0.936460     -0.210133  \n",
      "21592  0.679509   -0.087175  2.788386     -0.210133  \n",
      "21593 -0.177876   -0.087175  0.936460     -0.210133  \n",
      "21594 -1.336210   -0.087175  0.936460     -0.210133  \n",
      "21595  0.673013   -0.087175  2.788386     -0.210133  \n",
      "21596 -0.561822   -0.087175  0.936460     -0.210133  \n",
      "21597  0.037914   -0.087175  0.936460     -0.210133  \n",
      "21598 -1.926564   -0.087175  0.936460     -0.210133  \n",
      "21599  0.906845   -0.087175  0.936460     -0.210133  \n",
      "21600  0.520012   -0.087175  0.936460     -0.210133  \n",
      "21601  0.983346   -0.087175  2.788386     -0.210133  \n",
      "21602 -1.808205   -0.087175 -0.915466     -0.210133  \n",
      "21603 -0.152616   -0.087175  0.936460     -0.210133  \n",
      "21604  0.071112   -0.087175  2.788386     -0.210133  \n",
      "21605 -0.334485   -0.087175  0.936460     -0.210133  \n",
      "21606 -0.045804   -0.087175  0.936460     -0.210133  \n",
      "21607  0.124518   -0.087175  0.936460     -0.210133  \n",
      "21608  1.004997   -0.087175  2.788386     -0.210133  \n",
      "21609 -0.356136   -0.087175  0.936460     -0.210133  \n",
      "21610  0.247930   -0.087175  0.936460     -0.210133  \n",
      "21611 -0.184371   -0.087175  0.936460     -0.210133  \n",
      "21612  0.245765   -0.087175  0.936460     -0.210133  \n",
      "\n",
      "[21612 rows x 10 columns]\n"
     ]
    }
   ],
   "source": [
    "print(X_ols)"
   ]
  },
  {
   "cell_type": "code",
   "execution_count": 52,
   "metadata": {
    "ExecuteTime": {
     "end_time": "2017-12-25T19:49:33.985766Z",
     "start_time": "2017-12-25T19:49:33.962751Z"
    },
    "collapsed": true
   },
   "outputs": [],
   "source": [
    "est = sn.OLS(y_ols, X_ols).fit()"
   ]
  },
  {
   "cell_type": "code",
   "execution_count": 53,
   "metadata": {
    "ExecuteTime": {
     "end_time": "2017-12-25T19:49:35.568947Z",
     "start_time": "2017-12-25T19:49:35.536925Z"
    }
   },
   "outputs": [
    {
     "data": {
      "text/html": [
       "<table class=\"simpletable\">\n",
       "<caption>OLS Regression Results</caption>\n",
       "<tr>\n",
       "  <th>Dep. Variable:</th>          <td>price</td>      <th>  R-squared:         </th>  <td>   0.209</td>  \n",
       "</tr>\n",
       "<tr>\n",
       "  <th>Model:</th>                   <td>OLS</td>       <th>  Adj. R-squared:    </th>  <td>   0.209</td>  \n",
       "</tr>\n",
       "<tr>\n",
       "  <th>Method:</th>             <td>Least Squares</td>  <th>  F-statistic:       </th>  <td>   635.0</td>  \n",
       "</tr>\n",
       "<tr>\n",
       "  <th>Date:</th>             <td>Mon, 25 Dec 2017</td> <th>  Prob (F-statistic):</th>   <td>  0.00</td>   \n",
       "</tr>\n",
       "<tr>\n",
       "  <th>Time:</th>                 <td>14:49:35</td>     <th>  Log-Likelihood:    </th> <td>-3.1750e+05</td>\n",
       "</tr>\n",
       "<tr>\n",
       "  <th>No. Observations:</th>      <td> 21612</td>      <th>  AIC:               </th>  <td>6.350e+05</td> \n",
       "</tr>\n",
       "<tr>\n",
       "  <th>Df Residuals:</th>          <td> 21603</td>      <th>  BIC:               </th>  <td>6.351e+05</td> \n",
       "</tr>\n",
       "<tr>\n",
       "  <th>Df Model:</th>              <td>     9</td>      <th>                     </th>      <td> </td>     \n",
       "</tr>\n",
       "<tr>\n",
       "  <th>Covariance Type:</th>      <td>nonrobust</td>    <th>                     </th>      <td> </td>     \n",
       "</tr>\n",
       "</table>\n",
       "<table class=\"simpletable\">\n",
       "<tr>\n",
       "        <td></td>           <th>coef</th>     <th>std err</th>      <th>t</th>      <th>P>|t|</th>  <th>[0.025</th>    <th>0.975]</th>  \n",
       "</tr>\n",
       "<tr>\n",
       "  <th>sqft_living</th>   <td> 9.121e+04</td> <td> 3760.469</td> <td>   24.255</td> <td> 0.000</td> <td> 8.38e+04</td> <td> 9.86e+04</td>\n",
       "</tr>\n",
       "<tr>\n",
       "  <th>grade</th>         <td> 9.841e+04</td> <td> 6684.146</td> <td>   14.724</td> <td> 0.000</td> <td> 8.53e+04</td> <td> 1.12e+05</td>\n",
       "</tr>\n",
       "<tr>\n",
       "  <th>sqft_above</th>    <td> 7.943e+04</td> <td> 4154.368</td> <td>   19.118</td> <td> 0.000</td> <td> 7.13e+04</td> <td> 8.76e+04</td>\n",
       "</tr>\n",
       "<tr>\n",
       "  <th>view</th>          <td> 4.993e+04</td> <td> 4607.012</td> <td>   10.839</td> <td> 0.000</td> <td> 4.09e+04</td> <td>  5.9e+04</td>\n",
       "</tr>\n",
       "<tr>\n",
       "  <th>sqft_basement</th> <td> 4.067e+04</td> <td> 4165.146</td> <td>    9.765</td> <td> 0.000</td> <td> 3.25e+04</td> <td> 4.88e+04</td>\n",
       "</tr>\n",
       "<tr>\n",
       "  <th>bedrooms</th>      <td>-2.584e+04</td> <td> 5012.251</td> <td>   -5.156</td> <td> 0.000</td> <td>-3.57e+04</td> <td> -1.6e+04</td>\n",
       "</tr>\n",
       "<tr>\n",
       "  <th>lat</th>           <td> 9.257e+04</td> <td> 4037.740</td> <td>   22.927</td> <td> 0.000</td> <td> 8.47e+04</td> <td>    1e+05</td>\n",
       "</tr>\n",
       "<tr>\n",
       "  <th>waterfront</th>    <td> 5.052e+04</td> <td> 4331.412</td> <td>   11.662</td> <td> 0.000</td> <td>  4.2e+04</td> <td>  5.9e+04</td>\n",
       "</tr>\n",
       "<tr>\n",
       "  <th>floors</th>        <td>-1.744e+04</td> <td> 4923.018</td> <td>   -3.542</td> <td> 0.000</td> <td>-2.71e+04</td> <td>-7787.846</td>\n",
       "</tr>\n",
       "<tr>\n",
       "  <th>yr_renovated</th>  <td> 2.322e+04</td> <td> 3989.164</td> <td>    5.820</td> <td> 0.000</td> <td> 1.54e+04</td> <td>  3.1e+04</td>\n",
       "</tr>\n",
       "</table>\n",
       "<table class=\"simpletable\">\n",
       "<tr>\n",
       "  <th>Omnibus:</th>       <td>17901.693</td> <th>  Durbin-Watson:     </th>  <td>   0.270</td>  \n",
       "</tr>\n",
       "<tr>\n",
       "  <th>Prob(Omnibus):</th>  <td> 0.000</td>   <th>  Jarque-Bera (JB):  </th> <td>1500425.586</td>\n",
       "</tr>\n",
       "<tr>\n",
       "  <th>Skew:</th>           <td> 3.477</td>   <th>  Prob(JB):          </th>  <td>    0.00</td>  \n",
       "</tr>\n",
       "<tr>\n",
       "  <th>Kurtosis:</th>       <td>43.223</td>   <th>  Cond. No.          </th>  <td>6.66e+15</td>  \n",
       "</tr>\n",
       "</table>"
      ],
      "text/plain": [
       "<class 'statsmodels.iolib.summary.Summary'>\n",
       "\"\"\"\n",
       "                            OLS Regression Results                            \n",
       "==============================================================================\n",
       "Dep. Variable:                  price   R-squared:                       0.209\n",
       "Model:                            OLS   Adj. R-squared:                  0.209\n",
       "Method:                 Least Squares   F-statistic:                     635.0\n",
       "Date:                Mon, 25 Dec 2017   Prob (F-statistic):               0.00\n",
       "Time:                        14:49:35   Log-Likelihood:            -3.1750e+05\n",
       "No. Observations:               21612   AIC:                         6.350e+05\n",
       "Df Residuals:                   21603   BIC:                         6.351e+05\n",
       "Df Model:                           9                                         \n",
       "Covariance Type:            nonrobust                                         \n",
       "=================================================================================\n",
       "                    coef    std err          t      P>|t|      [0.025      0.975]\n",
       "---------------------------------------------------------------------------------\n",
       "sqft_living    9.121e+04   3760.469     24.255      0.000    8.38e+04    9.86e+04\n",
       "grade          9.841e+04   6684.146     14.724      0.000    8.53e+04    1.12e+05\n",
       "sqft_above     7.943e+04   4154.368     19.118      0.000    7.13e+04    8.76e+04\n",
       "view           4.993e+04   4607.012     10.839      0.000    4.09e+04     5.9e+04\n",
       "sqft_basement  4.067e+04   4165.146      9.765      0.000    3.25e+04    4.88e+04\n",
       "bedrooms      -2.584e+04   5012.251     -5.156      0.000   -3.57e+04    -1.6e+04\n",
       "lat            9.257e+04   4037.740     22.927      0.000    8.47e+04       1e+05\n",
       "waterfront     5.052e+04   4331.412     11.662      0.000     4.2e+04     5.9e+04\n",
       "floors        -1.744e+04   4923.018     -3.542      0.000   -2.71e+04   -7787.846\n",
       "yr_renovated   2.322e+04   3989.164      5.820      0.000    1.54e+04     3.1e+04\n",
       "==============================================================================\n",
       "Omnibus:                    17901.693   Durbin-Watson:                   0.270\n",
       "Prob(Omnibus):                  0.000   Jarque-Bera (JB):          1500425.586\n",
       "Skew:                           3.477   Prob(JB):                         0.00\n",
       "Kurtosis:                      43.223   Cond. No.                     6.66e+15\n",
       "==============================================================================\n",
       "\n",
       "Warnings:\n",
       "[1] Standard Errors assume that the covariance matrix of the errors is correctly specified.\n",
       "[2] The smallest eigenvalue is 1.65e-27. This might indicate that there are\n",
       "strong multicollinearity problems or that the design matrix is singular.\n",
       "\"\"\""
      ]
     },
     "execution_count": 53,
     "metadata": {},
     "output_type": "execute_result"
    }
   ],
   "source": [
    "est.summary()"
   ]
  },
  {
   "cell_type": "markdown",
   "metadata": {},
   "source": [
    "This is the coef we end up with, it turns out we look the coef values the 'sqft_living15' turn out to be the most important predictor"
   ]
  },
  {
   "cell_type": "code",
   "execution_count": 54,
   "metadata": {
    "ExecuteTime": {
     "end_time": "2017-12-25T19:49:44.485252Z",
     "start_time": "2017-12-25T19:49:44.479248Z"
    }
   },
   "outputs": [
    {
     "data": {
      "text/plain": [
       "540084"
      ]
     },
     "execution_count": 54,
     "metadata": {},
     "output_type": "execute_result"
    }
   ],
   "source": [
    "round(y_ols.mean())"
   ]
  },
  {
   "cell_type": "code",
   "execution_count": 55,
   "metadata": {
    "ExecuteTime": {
     "end_time": "2017-12-25T19:49:46.905794Z",
     "start_time": "2017-12-25T19:49:46.899291Z"
    }
   },
   "outputs": [],
   "source": [
    "y_int = round(y_ols).astype(int)\n",
    "x_int = round(data.bedrooms).astype(int)"
   ]
  },
  {
   "cell_type": "code",
   "execution_count": 56,
   "metadata": {
    "ExecuteTime": {
     "end_time": "2017-12-25T19:49:48.915029Z",
     "start_time": "2017-12-25T19:49:48.905519Z"
    }
   },
   "outputs": [
    {
     "data": {
      "text/plain": [
       "0        3\n",
       "1        3\n",
       "2        2\n",
       "3        4\n",
       "4        3\n",
       "5        4\n",
       "6        3\n",
       "7        3\n",
       "8        3\n",
       "9        3\n",
       "10       3\n",
       "11       2\n",
       "12       3\n",
       "13       3\n",
       "14       5\n",
       "15       4\n",
       "16       3\n",
       "17       4\n",
       "18       2\n",
       "19       3\n",
       "20       4\n",
       "21       3\n",
       "22       5\n",
       "23       2\n",
       "24       3\n",
       "25       3\n",
       "26       3\n",
       "27       3\n",
       "28       3\n",
       "29       4\n",
       "        ..\n",
       "21583    2\n",
       "21584    3\n",
       "21585    3\n",
       "21586    2\n",
       "21587    3\n",
       "21588    2\n",
       "21589    3\n",
       "21590    4\n",
       "21591    4\n",
       "21592    3\n",
       "21593    5\n",
       "21594    4\n",
       "21595    2\n",
       "21596    5\n",
       "21597    4\n",
       "21598    4\n",
       "21599    4\n",
       "21600    5\n",
       "21601    3\n",
       "21602    3\n",
       "21603    3\n",
       "21604    3\n",
       "21605    4\n",
       "21606    4\n",
       "21607    3\n",
       "21608    3\n",
       "21609    4\n",
       "21610    2\n",
       "21611    3\n",
       "21612    2\n",
       "Name: bedrooms, Length: 21612, dtype: int32"
      ]
     },
     "execution_count": 56,
     "metadata": {},
     "output_type": "execute_result"
    }
   ],
   "source": [
    "x_int"
   ]
  },
  {
   "cell_type": "code",
   "execution_count": 66,
   "metadata": {
    "ExecuteTime": {
     "end_time": "2017-12-25T19:53:14.874907Z",
     "start_time": "2017-12-25T19:53:14.856394Z"
    }
   },
   "outputs": [
    {
     "name": "stdout",
     "output_type": "stream",
     "text": [
      "<class 'pandas.core.frame.DataFrame'>\n",
      "Int64Index: 21612 entries, 0 to 21612\n",
      "Data columns (total 21 columns):\n",
      "id               21612 non-null int64\n",
      "date             21612 non-null datetime64[ns]\n",
      "price            21612 non-null float64\n",
      "bedrooms         21612 non-null int64\n",
      "bathrooms        21612 non-null float64\n",
      "sqft_living      21612 non-null int64\n",
      "sqft_lot         21612 non-null int64\n",
      "floors           21612 non-null float64\n",
      "waterfront       21612 non-null int64\n",
      "view             21612 non-null int64\n",
      "condition        21612 non-null int64\n",
      "grade            21612 non-null int64\n",
      "sqft_above       21612 non-null int64\n",
      "sqft_basement    21612 non-null int64\n",
      "yr_built         21612 non-null int64\n",
      "yr_renovated     21612 non-null int64\n",
      "zipcode          21612 non-null int64\n",
      "lat              21612 non-null float64\n",
      "long             21612 non-null float64\n",
      "sqft_living15    21612 non-null int64\n",
      "sqft_lot15       21612 non-null int64\n",
      "dtypes: datetime64[ns](1), float64(5), int64(15)\n",
      "memory usage: 4.3 MB\n"
     ]
    }
   ],
   "source": [
    "data.info()"
   ]
  },
  {
   "cell_type": "code",
   "execution_count": 74,
   "metadata": {
    "ExecuteTime": {
     "end_time": "2017-12-25T19:57:11.054786Z",
     "start_time": "2017-12-25T19:57:10.920190Z"
    }
   },
   "outputs": [
    {
     "data": {
      "text/plain": [
       "[]"
      ]
     },
     "execution_count": 74,
     "metadata": {},
     "output_type": "execute_result"
    },
    {
     "data": {
      "image/png": "[encoded data removed]",
      "text/plain": [
       "<matplotlib.figure.Figure at 0x20d84319c50>"
      ]
     },
     "metadata": {},
     "output_type": "display_data"
    }
   ],
   "source": [
    "#price = round(y_ols.groupby(data.bedrooms).mean()).astype(int)\n",
    "#plt.plot(y_int, x_int)\n",
    "#sns.pointplot(y_int, x_int)\n",
    "y_log = np.log(data['price']).astype(int)\n",
    "#sns.lmplot(x='bedrooms', y=y_log, data = data)\n",
    "plt.plot(x=data['price'], y=y_log)"
   ]
  },
  {
   "cell_type": "code",
   "execution_count": 85,
   "metadata": {
    "ExecuteTime": {
     "end_time": "2017-12-25T20:06:15.880886Z",
     "start_time": "2017-12-25T20:06:15.474599Z"
    }
   },
   "outputs": [
    {
     "data": {
      "image/png": "[encoded data removed]",
      "text/plain": [
       "<matplotlib.figure.Figure at 0x20d8117e400>"
      ]
     },
     "metadata": {},
     "output_type": "display_data"
    }
   ],
   "source": [
    "import matplotlib.pyplot as plt \n",
    "plt.style.use('seaborn-dark')\n",
    "import numpy as np \n",
    "n = 50 \n",
    "x = data['view'] \n",
    "y = np.log(data['price']) \n",
    "fig, ax = plt.subplots() \n",
    "fit = np.polyfit(x, y, deg=1) \n",
    "ax.plot(x, fit[0] * x + fit[1], color='red') \n",
    "ax.scatter(x, y) \n",
    "fig.show()\n",
    "\n"
   ]
  },
  {
   "cell_type": "code",
   "execution_count": null,
   "metadata": {
    "collapsed": true
   },
   "outputs": [],
   "source": []
  },
  {
   "cell_type": "code",
   "execution_count": null,
   "metadata": {
    "collapsed": true
   },
   "outputs": [],
   "source": []
  },
  {
   "cell_type": "code",
   "execution_count": 64,
   "metadata": {
    "ExecuteTime": {
     "end_time": "2017-12-25T19:51:45.418755Z",
     "start_time": "2017-12-25T19:51:45.412752Z"
    }
   },
   "outputs": [
    {
     "data": {
      "text/plain": [
       "(21612,)"
      ]
     },
     "execution_count": 64,
     "metadata": {},
     "output_type": "execute_result"
    }
   ],
   "source": [
    "y_log.shape"
   ]
  },
  {
   "cell_type": "code",
   "execution_count": null,
   "metadata": {
    "ExecuteTime": {
     "end_time": "2017-12-25T18:48:13.144627Z",
     "start_time": "2017-12-25T18:48:12.954992Z"
    }
   },
   "outputs": [],
   "source": [
    "y_ols.groupby(data.bedrooms).mean().astype(int).plot()"
   ]
  },
  {
   "cell_type": "code",
   "execution_count": null,
   "metadata": {
    "ExecuteTime": {
     "end_time": "2017-12-25T19:30:04.441426Z",
     "start_time": "2017-12-25T19:30:04.432922Z"
    }
   },
   "outputs": [],
   "source": [
    "find_index = data[\"id\"][(data['bedrooms']==33)]\n",
    "find_index"
   ]
  },
  {
   "cell_type": "code",
   "execution_count": null,
   "metadata": {
    "ExecuteTime": {
     "end_time": "2017-12-25T19:35:17.567169Z",
     "start_time": "2017-12-25T19:35:17.557164Z"
    }
   },
   "outputs": [],
   "source": [
    "data['bedrooms'] == np.NaN"
   ]
  },
  {
   "cell_type": "code",
   "execution_count": null,
   "metadata": {
    "ExecuteTime": {
     "end_time": "2017-12-25T19:32:57.747818Z",
     "start_time": "2017-12-25T19:32:57.730307Z"
    }
   },
   "outputs": [],
   "source": [
    "data[data['bedrooms'] == np.nan]"
   ]
  },
  {
   "cell_type": "code",
   "execution_count": null,
   "metadata": {
    "collapsed": true
   },
   "outputs": [],
   "source": []
  },
  {
   "cell_type": "code",
   "execution_count": null,
   "metadata": {
    "ExecuteTime": {
     "end_time": "2017-12-25T19:26:53.248683Z",
     "start_time": "2017-12-25T19:26:53.230169Z"
    }
   },
   "outputs": [],
   "source": [
    "copy_data.info()"
   ]
  },
  {
   "cell_type": "code",
   "execution_count": null,
   "metadata": {
    "ExecuteTime": {
     "end_time": "2017-12-25T19:23:37.267472Z",
     "start_time": "2017-12-25T19:23:37.260468Z"
    }
   },
   "outputs": [],
   "source": [
    "copy_data = data.copy()"
   ]
  },
  {
   "cell_type": "code",
   "execution_count": null,
   "metadata": {
    "ExecuteTime": {
     "end_time": "2017-12-25T19:24:50.828617Z",
     "start_time": "2017-12-25T19:24:50.817592Z"
    }
   },
   "outputs": [],
   "source": [
    "mask = copy_data['bedrooms'][(copy_data['bedrooms'] == 33)]\n",
    "copy_data['bedrooms'] = data.drop('bedrooms')"
   ]
  },
  {
   "cell_type": "code",
   "execution_count": null,
   "metadata": {
    "ExecuteTime": {
     "end_time": "2017-12-25T19:21:36.164013Z",
     "start_time": "2017-12-25T19:21:36.043942Z"
    }
   },
   "outputs": [],
   "source": [
    "copy_data.info()"
   ]
  },
  {
   "cell_type": "code",
   "execution_count": null,
   "metadata": {
    "ExecuteTime": {
     "end_time": "2017-12-25T19:21:07.673941Z",
     "start_time": "2017-12-25T19:21:07.628411Z"
    }
   },
   "outputs": [],
   "source": [
    "X_red = copy_data[['sqft_living', 'grade', 'sqft_above', \n",
    "              'view', 'sqft_basement', 'bedrooms', 'lat',\n",
    "              'waterfront', 'floors', 'yr_renovated']]\n",
    "\n",
    "y_red = copy_data['price']\n",
    "\n",
    "#normalize\n",
    "X_red[['sqft_living', 'grade', 'sqft_above', \n",
    "              'view', 'sqft_basement', 'bedrooms', 'lat',\n",
    "              'waterfront', 'floors', 'yr_renovated']] =\\\n",
    "scale.fit_transform(X_red[['sqft_living', 'grade', 'sqft_above', \n",
    "              'view', 'sqft_basement', 'bedrooms', 'lat',\n",
    "              'waterfront', 'floors', 'yr_renovated']].as_matrix())"
   ]
  },
  {
   "cell_type": "code",
   "execution_count": null,
   "metadata": {
    "collapsed": true
   },
   "outputs": [],
   "source": []
  },
  {
   "cell_type": "code",
   "execution_count": null,
   "metadata": {
    "collapsed": true
   },
   "outputs": [],
   "source": []
  },
  {
   "cell_type": "code",
   "execution_count": null,
   "metadata": {
    "ExecuteTime": {
     "end_time": "2017-12-25T18:59:29.358953Z",
     "start_time": "2017-12-25T18:59:29.179324Z"
    }
   },
   "outputs": [],
   "source": [
    "y_ols.groupby(copy_data.bedrooms).mean().astype(int).plot()"
   ]
  },
  {
   "cell_type": "code",
   "execution_count": null,
   "metadata": {
    "collapsed": true
   },
   "outputs": [],
   "source": []
  },
  {
   "cell_type": "code",
   "execution_count": null,
   "metadata": {
    "collapsed": true
   },
   "outputs": [],
   "source": []
  }
 ],
 "metadata": {
  "kernelspec": {
   "display_name": "Python 3",
   "language": "python",
   "name": "python3"
  },
  "language_info": {
   "codemirror_mode": {
    "name": "ipython",
    "version": 3
   },
   "file_extension": ".py",
   "mimetype": "text/x-python",
   "name": "python",
   "nbconvert_exporter": "python",
   "pygments_lexer": "ipython3",
   "version": "3.6.3"
  },
  "latex_envs": {
   "LaTeX_envs_menu_present": true,
   "autoclose": false,
   "autocomplete": true,
   "bibliofile": "biblio.bib",
   "cite_by": "apalike",
   "current_citInitial": 1,
   "eqLabelWithNumbers": true,
   "eqNumInitial": 1,
   "hotkeys": {
    "equation": "Ctrl-E",
    "itemize": "Ctrl-I"
   },
   "labels_anchors": false,
   "latex_user_defs": false,
   "report_style_numbering": false,
   "user_envs_cfg": false
  },
  "nbTranslate": {
   "displayLangs": [
    "*"
   ],
   "hotkey": "alt-t",
   "langInMainMenu": true,
   "sourceLang": "en",
   "targetLang": "fr",
   "useGoogleTranslate": true
  },
  "toc": {
   "nav_menu": {},
   "number_sections": true,
   "sideBar": true,
   "skip_h1_title": false,
   "toc_cell": false,
   "toc_position": {},
   "toc_section_display": "block",
   "toc_window_display": false
  },
  "varInspector": {
   "cols": {
    "lenName": 16,
    "lenType": 16,
    "lenVar": 40
   },
   "kernels_config": {
    "python": {
     "delete_cmd_postfix": "",
     "delete_cmd_prefix": "del ",
     "library": "var_list.py",
     "varRefreshCmd": "print(var_dic_list())"
    },
    "r": {
     "delete_cmd_postfix": ") ",
     "delete_cmd_prefix": "rm(",
     "library": "var_list.r",
     "varRefreshCmd": "cat(var_dic_list()) "
    }
   },
   "types_to_exclude": [
    "module",
    "function",
    "builtin_function_or_method",
    "instance",
    "_Feature"
   ],
   "window_display": false
  }
 },
 "nbformat": 4,
 "nbformat_minor": 2
}
